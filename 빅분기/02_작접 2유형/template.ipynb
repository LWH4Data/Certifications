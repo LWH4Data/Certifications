{
 "cells": [
  {
   "cell_type": "markdown",
   "id": "860c2054",
   "metadata": {},
   "source": [
    "# 빅분기 코드 템플릿 모음"
   ]
  },
  {
   "cell_type": "markdown",
   "id": "611ab47d",
   "metadata": {},
   "source": [
    "#"
   ]
  },
  {
   "cell_type": "code",
   "execution_count": 1,
   "id": "d2a27893",
   "metadata": {},
   "outputs": [],
   "source": [
    "import pandas as pd"
   ]
  },
  {
   "cell_type": "markdown",
   "id": "4cfdd765",
   "metadata": {},
   "source": [
    "## 파일 제출"
   ]
  },
  {
   "cell_type": "code",
   "execution_count": null,
   "id": "0aaf1f3d",
   "metadata": {},
   "outputs": [
    {
     "ename": "NameError",
     "evalue": "name 'test' is not defined",
     "output_type": "error",
     "traceback": [
      "\u001b[31m---------------------------------------------------------------------------\u001b[39m",
      "\u001b[31mNameError\u001b[39m                                 Traceback (most recent call last)",
      "\u001b[36mCell\u001b[39m\u001b[36m \u001b[39m\u001b[32mIn[4]\u001b[39m\u001b[32m, line 3\u001b[39m\n\u001b[32m      1\u001b[39m pd.DataFrame({}).to_csv(\u001b[33m'\u001b[39m\u001b[33mtitle.csv\u001b[39m\u001b[33m'\u001b[39m, index=\u001b[38;5;28;01mFalse\u001b[39;00m)\n\u001b[32m----> \u001b[39m\u001b[32m3\u001b[39m pd.DataFrame({\u001b[33m'\u001b[39m\u001b[33mID\u001b[39m\u001b[33m'\u001b[39m: \u001b[43mtest\u001b[49m.ID, \u001b[33m'\u001b[39m\u001b[33msegmentation\u001b[39m\u001b[33m'\u001b[39m: pred}).to_csv(\u001b[33m'\u001b[39m\u001b[33m수험번호.csv\u001b[39m\u001b[33m'\u001b[39m, index=\u001b[38;5;28;01mFalse\u001b[39;00m)\n\u001b[32m      4\u001b[39m \u001b[38;5;66;03m# 제출 결과 요구형태가 확률값인지, label(정수)인지 확인\u001b[39;00m\n\u001b[32m      5\u001b[39m \u001b[38;5;66;03m# 보통 index 제외하라고 하니 index 제외되었는지 확인\u001b[39;00m\n\u001b[32m      6\u001b[39m \u001b[38;5;66;03m# 제출해야하는 칼럼명 확인\u001b[39;00m\n\u001b[32m      7\u001b[39m \u001b[38;5;66;03m#    -> 제출파일은 직접 눈으로 확인!\u001b[39;00m\n",
      "\u001b[31mNameError\u001b[39m: name 'test' is not defined"
     ]
    }
   ],
   "source": [
    "pd.DataFrame({}).to_csv('title.csv', index=False)\n",
    "pd.DataFrame({'ID': test.ID, 'segmentation': pred}).to_csv('수험번호.csv', index=False)\n",
    "\n",
    "# 제출 결과 요구형태가 확률값인지, label(정수)인지 확인\n",
    "# 보통 index 제외하라고 하니 index 제외되었는지 확인\n",
    "# 제출해야하는 칼럼명 확인\n",
    "#    -> 제출파일은 직접 눈으로 확인!"
   ]
  }
 ],
 "metadata": {
  "kernelspec": {
   "display_name": "venv",
   "language": "python",
   "name": "python3"
  },
  "language_info": {
   "codemirror_mode": {
    "name": "ipython",
    "version": 3
   },
   "file_extension": ".py",
   "mimetype": "text/x-python",
   "name": "python",
   "nbconvert_exporter": "python",
   "pygments_lexer": "ipython3",
   "version": "3.12.10"
  }
 },
 "nbformat": 4,
 "nbformat_minor": 5
}
