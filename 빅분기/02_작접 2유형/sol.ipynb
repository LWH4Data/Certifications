{
 "cells": [
  {
   "cell_type": "markdown",
   "id": "fd8e2376",
   "metadata": {},
   "source": [
    "# 패키지들은 연습 문제를 풀며 연습하기 위해 별도 로드 X"
   ]
  },
  {
   "cell_type": "markdown",
   "id": "4fb863e7",
   "metadata": {},
   "source": [
    "# Question 1.\n",
    "- 서비스 이탈예측 데이터.\n",
    "- 2 유형 환경과 일치시키기 위해 y_train과 x_train을 하나의 train 데이터 셋으로 병합하여 진행."
   ]
  },
  {
   "cell_type": "markdown",
   "id": "90552883",
   "metadata": {},
   "source": [
    "## 1. 패키지들 로드"
   ]
  },
  {
   "cell_type": "code",
   "execution_count": 1,
   "id": "7eb2bd13",
   "metadata": {},
   "outputs": [],
   "source": [
    "import pandas as pd"
   ]
  },
  {
   "cell_type": "markdown",
   "id": "d9eee74d",
   "metadata": {},
   "source": [
    "## 1. 데이터 병합 및 확인 단계"
   ]
  },
  {
   "cell_type": "code",
   "execution_count": 23,
   "id": "6bdb94e0",
   "metadata": {},
   "outputs": [
    {
     "name": "stdout",
     "output_type": "stream",
     "text": [
      "<class 'pandas.core.frame.DataFrame'>\n",
      "RangeIndex: 6499 entries, 0 to 6498\n",
      "Data columns (total 13 columns):\n",
      " #   Column           Non-Null Count  Dtype  \n",
      "---  ------           --------------  -----  \n",
      " 0   CustomerId       6499 non-null   int64  \n",
      " 1   Surname          6499 non-null   object \n",
      " 2   CreditScore      6499 non-null   int64  \n",
      " 3   Geography        6499 non-null   object \n",
      " 4   Gender           6499 non-null   object \n",
      " 5   Age              6499 non-null   int64  \n",
      " 6   Tenure           6499 non-null   int64  \n",
      " 7   Balance          6499 non-null   float64\n",
      " 8   NumOfProducts    6499 non-null   int64  \n",
      " 9   HasCrCard        6499 non-null   int64  \n",
      " 10  IsActiveMember   6499 non-null   int64  \n",
      " 11  EstimatedSalary  6499 non-null   float64\n",
      " 12  Exited           6499 non-null   int64  \n",
      "dtypes: float64(2), int64(8), object(3)\n",
      "memory usage: 660.2+ KB\n"
     ]
    },
    {
     "data": {
      "text/plain": [
       "None"
      ]
     },
     "metadata": {},
     "output_type": "display_data"
    },
    {
     "name": "stdout",
     "output_type": "stream",
     "text": [
      "<class 'pandas.core.frame.DataFrame'>\n",
      "RangeIndex: 3501 entries, 0 to 3500\n",
      "Data columns (total 12 columns):\n",
      " #   Column           Non-Null Count  Dtype  \n",
      "---  ------           --------------  -----  \n",
      " 0   CustomerId       3501 non-null   int64  \n",
      " 1   Surname          3501 non-null   object \n",
      " 2   CreditScore      3501 non-null   int64  \n",
      " 3   Geography        3501 non-null   object \n",
      " 4   Gender           3501 non-null   object \n",
      " 5   Age              3501 non-null   int64  \n",
      " 6   Tenure           3501 non-null   int64  \n",
      " 7   Balance          3501 non-null   float64\n",
      " 8   NumOfProducts    3501 non-null   int64  \n",
      " 9   HasCrCard        3501 non-null   int64  \n",
      " 10  IsActiveMember   3501 non-null   int64  \n",
      " 11  EstimatedSalary  3501 non-null   float64\n",
      "dtypes: float64(2), int64(7), object(3)\n",
      "memory usage: 328.3+ KB\n"
     ]
    },
    {
     "data": {
      "text/plain": [
       "None"
      ]
     },
     "metadata": {},
     "output_type": "display_data"
    }
   ],
   "source": [
    "x_train = pd.read_csv('https://raw.githubusercontent.com/Datamanim/datarepo/main/churnk/X_train.csv')\n",
    "y_train = pd.read_csv('https://raw.githubusercontent.com/Datamanim/datarepo/main/churnk/y_train.csv')\n",
    "x_test = pd.read_csv('https://raw.githubusercontent.com/Datamanim/datarepo/main/churnk/X_test.csv')\n",
    "\n",
    "train = pd.concat([x_train, y_train['Exited']], axis = 1)\n",
    "display(train.info())\n",
    "display(x_test.info())"
   ]
  },
  {
   "cell_type": "code",
   "execution_count": null,
   "id": "f13377f3",
   "metadata": {},
   "outputs": [
    {
     "data": {
      "text/html": [
       "<div>\n",
       "<style scoped>\n",
       "    .dataframe tbody tr th:only-of-type {\n",
       "        vertical-align: middle;\n",
       "    }\n",
       "\n",
       "    .dataframe tbody tr th {\n",
       "        vertical-align: top;\n",
       "    }\n",
       "\n",
       "    .dataframe thead th {\n",
       "        text-align: right;\n",
       "    }\n",
       "</style>\n",
       "<table border=\"1\" class=\"dataframe\">\n",
       "  <thead>\n",
       "    <tr style=\"text-align: right;\">\n",
       "      <th></th>\n",
       "      <th>Surname</th>\n",
       "      <th>Geography</th>\n",
       "      <th>Gender</th>\n",
       "    </tr>\n",
       "  </thead>\n",
       "  <tbody>\n",
       "    <tr>\n",
       "      <th>count</th>\n",
       "      <td>6499</td>\n",
       "      <td>6499</td>\n",
       "      <td>6499</td>\n",
       "    </tr>\n",
       "    <tr>\n",
       "      <th>unique</th>\n",
       "      <td>2289</td>\n",
       "      <td>3</td>\n",
       "      <td>4</td>\n",
       "    </tr>\n",
       "    <tr>\n",
       "      <th>top</th>\n",
       "      <td>Brown</td>\n",
       "      <td>France</td>\n",
       "      <td>Male</td>\n",
       "    </tr>\n",
       "    <tr>\n",
       "      <th>freq</th>\n",
       "      <td>21</td>\n",
       "      <td>3227</td>\n",
       "      <td>3485</td>\n",
       "    </tr>\n",
       "  </tbody>\n",
       "</table>\n",
       "</div>"
      ],
      "text/plain": [
       "       Surname Geography Gender\n",
       "count     6499      6499   6499\n",
       "unique    2289         3      4\n",
       "top      Brown    France   Male\n",
       "freq        21      3227   3485"
      ]
     },
     "metadata": {},
     "output_type": "display_data"
    },
    {
     "data": {
      "text/html": [
       "<div>\n",
       "<style scoped>\n",
       "    .dataframe tbody tr th:only-of-type {\n",
       "        vertical-align: middle;\n",
       "    }\n",
       "\n",
       "    .dataframe tbody tr th {\n",
       "        vertical-align: top;\n",
       "    }\n",
       "\n",
       "    .dataframe thead th {\n",
       "        text-align: right;\n",
       "    }\n",
       "</style>\n",
       "<table border=\"1\" class=\"dataframe\">\n",
       "  <thead>\n",
       "    <tr style=\"text-align: right;\">\n",
       "      <th></th>\n",
       "      <th>CustomerId</th>\n",
       "      <th>CreditScore</th>\n",
       "      <th>Age</th>\n",
       "      <th>Tenure</th>\n",
       "      <th>Balance</th>\n",
       "      <th>NumOfProducts</th>\n",
       "      <th>HasCrCard</th>\n",
       "      <th>IsActiveMember</th>\n",
       "      <th>EstimatedSalary</th>\n",
       "      <th>Exited</th>\n",
       "    </tr>\n",
       "  </thead>\n",
       "  <tbody>\n",
       "    <tr>\n",
       "      <th>count</th>\n",
       "      <td>6.499000e+03</td>\n",
       "      <td>6499.000000</td>\n",
       "      <td>6499.000000</td>\n",
       "      <td>6499.000000</td>\n",
       "      <td>6499.000000</td>\n",
       "      <td>6499.000000</td>\n",
       "      <td>6499.000000</td>\n",
       "      <td>6499.000000</td>\n",
       "      <td>6499.000000</td>\n",
       "      <td>6499.000000</td>\n",
       "    </tr>\n",
       "    <tr>\n",
       "      <th>mean</th>\n",
       "      <td>1.569157e+07</td>\n",
       "      <td>650.396830</td>\n",
       "      <td>38.957070</td>\n",
       "      <td>5.041545</td>\n",
       "      <td>76836.581068</td>\n",
       "      <td>1.519772</td>\n",
       "      <td>0.708878</td>\n",
       "      <td>0.514387</td>\n",
       "      <td>100346.564524</td>\n",
       "      <td>0.203724</td>\n",
       "    </tr>\n",
       "    <tr>\n",
       "      <th>std</th>\n",
       "      <td>7.187584e+04</td>\n",
       "      <td>96.618957</td>\n",
       "      <td>10.502803</td>\n",
       "      <td>2.891779</td>\n",
       "      <td>62407.570894</td>\n",
       "      <td>0.578975</td>\n",
       "      <td>0.454314</td>\n",
       "      <td>0.499831</td>\n",
       "      <td>57944.655305</td>\n",
       "      <td>0.402797</td>\n",
       "    </tr>\n",
       "    <tr>\n",
       "      <th>min</th>\n",
       "      <td>1.556570e+07</td>\n",
       "      <td>350.000000</td>\n",
       "      <td>18.000000</td>\n",
       "      <td>0.000000</td>\n",
       "      <td>0.000000</td>\n",
       "      <td>1.000000</td>\n",
       "      <td>0.000000</td>\n",
       "      <td>0.000000</td>\n",
       "      <td>11.580000</td>\n",
       "      <td>0.000000</td>\n",
       "    </tr>\n",
       "    <tr>\n",
       "      <th>25%</th>\n",
       "      <td>1.562949e+07</td>\n",
       "      <td>584.000000</td>\n",
       "      <td>32.000000</td>\n",
       "      <td>3.000000</td>\n",
       "      <td>0.000000</td>\n",
       "      <td>1.000000</td>\n",
       "      <td>0.000000</td>\n",
       "      <td>0.000000</td>\n",
       "      <td>50907.565000</td>\n",
       "      <td>0.000000</td>\n",
       "    </tr>\n",
       "    <tr>\n",
       "      <th>50%</th>\n",
       "      <td>1.569181e+07</td>\n",
       "      <td>651.000000</td>\n",
       "      <td>37.000000</td>\n",
       "      <td>5.000000</td>\n",
       "      <td>97560.160000</td>\n",
       "      <td>1.000000</td>\n",
       "      <td>1.000000</td>\n",
       "      <td>1.000000</td>\n",
       "      <td>100496.840000</td>\n",
       "      <td>0.000000</td>\n",
       "    </tr>\n",
       "    <tr>\n",
       "      <th>75%</th>\n",
       "      <td>1.575358e+07</td>\n",
       "      <td>718.000000</td>\n",
       "      <td>44.000000</td>\n",
       "      <td>8.000000</td>\n",
       "      <td>127844.690000</td>\n",
       "      <td>2.000000</td>\n",
       "      <td>1.000000</td>\n",
       "      <td>1.000000</td>\n",
       "      <td>150480.155000</td>\n",
       "      <td>0.000000</td>\n",
       "    </tr>\n",
       "    <tr>\n",
       "      <th>max</th>\n",
       "      <td>1.581566e+07</td>\n",
       "      <td>850.000000</td>\n",
       "      <td>92.000000</td>\n",
       "      <td>10.000000</td>\n",
       "      <td>238387.560000</td>\n",
       "      <td>4.000000</td>\n",
       "      <td>1.000000</td>\n",
       "      <td>1.000000</td>\n",
       "      <td>199970.740000</td>\n",
       "      <td>1.000000</td>\n",
       "    </tr>\n",
       "  </tbody>\n",
       "</table>\n",
       "</div>"
      ],
      "text/plain": [
       "         CustomerId  CreditScore          Age       Tenure        Balance  \\\n",
       "count  6.499000e+03  6499.000000  6499.000000  6499.000000    6499.000000   \n",
       "mean   1.569157e+07   650.396830    38.957070     5.041545   76836.581068   \n",
       "std    7.187584e+04    96.618957    10.502803     2.891779   62407.570894   \n",
       "min    1.556570e+07   350.000000    18.000000     0.000000       0.000000   \n",
       "25%    1.562949e+07   584.000000    32.000000     3.000000       0.000000   \n",
       "50%    1.569181e+07   651.000000    37.000000     5.000000   97560.160000   \n",
       "75%    1.575358e+07   718.000000    44.000000     8.000000  127844.690000   \n",
       "max    1.581566e+07   850.000000    92.000000    10.000000  238387.560000   \n",
       "\n",
       "       NumOfProducts    HasCrCard  IsActiveMember  EstimatedSalary  \\\n",
       "count    6499.000000  6499.000000     6499.000000      6499.000000   \n",
       "mean        1.519772     0.708878        0.514387    100346.564524   \n",
       "std         0.578975     0.454314        0.499831     57944.655305   \n",
       "min         1.000000     0.000000        0.000000        11.580000   \n",
       "25%         1.000000     0.000000        0.000000     50907.565000   \n",
       "50%         1.000000     1.000000        1.000000    100496.840000   \n",
       "75%         2.000000     1.000000        1.000000    150480.155000   \n",
       "max         4.000000     1.000000        1.000000    199970.740000   \n",
       "\n",
       "            Exited  \n",
       "count  6499.000000  \n",
       "mean      0.203724  \n",
       "std       0.402797  \n",
       "min       0.000000  \n",
       "25%       0.000000  \n",
       "50%       0.000000  \n",
       "75%       0.000000  \n",
       "max       1.000000  "
      ]
     },
     "metadata": {},
     "output_type": "display_data"
    }
   ],
   "source": [
    "# 1. 데이터의 통계량 확인\n",
    "display(train.describe(include = ['object', 'category']))\n",
    "display(train.describe())\n",
    "\n",
    "# 결과 변수\n",
    "#   - count: 결측치를 제외한 전체 데이터의 수 (행의 수와 일치).\n",
    "#   - unique: 서로 다른 범주의 수 (범주 종류의 수).\n",
    "#   - top: 최빈 범주\n",
    "#   - freq: 최빈 범주의 개수."
   ]
  },
  {
   "cell_type": "markdown",
   "id": "92d7685f",
   "metadata": {},
   "source": [
    "## 변수 선택 단계"
   ]
  },
  {
   "cell_type": "code",
   "execution_count": 49,
   "id": "376716fc",
   "metadata": {},
   "outputs": [],
   "source": [
    "# Surname과 CustomerId는 제외\n",
    "#   - Surname: 범주의 종류가 2289개로 의미없는 정보임.\n",
    "#   - CustomerId: Id 컬럼이기에 제외\n",
    "train_df = train.drop(columns = ['Surname', 'CustomerId'])\n",
    "x_test_df = x_test.drop(columns = ['Surname', 'CustomerId'])"
   ]
  },
  {
   "cell_type": "markdown",
   "id": "4f13c08c",
   "metadata": {},
   "source": [
    "## Encoding 단계"
   ]
  },
  {
   "cell_type": "code",
   "execution_count": 58,
   "id": "438ac46a",
   "metadata": {},
   "outputs": [],
   "source": [
    "# 범주형 변수만 따로 추출\n",
    "target = train.drop(columns = 'Exited')\n",
    "cat_lst = target.select_dtypes(exclude = 'number').columns.tolist()\n",
    "cat_lst\n",
    "\n",
    "# 원-핫 인코딩 적용\n",
    "#   - drop_first = False\n",
    "#       - False: 기준 범주 없이 모든 범주를 0과 1로 encoding 할 때 사용한다. 이는 기준 범주 없이 개별 범주로 처리하기 때문.\n",
    "#       - True: 통계모델에서 기준 범주를 설정할 때 사용한다. 통계에서는 기준 범주를 기준으로하여 변화량을 측정하기 때문. (이 경우 기준범주가 0이 된다).\n",
    "train_encoded = pd.get_dummies(train, columns = cat_lst, drop_first = False)\n",
    "x_test_encoded = pd.get_dummies(x_test, columns = cat_lst, drop_first = False)"
   ]
  },
  {
   "cell_type": "code",
   "execution_count": null,
   "id": "584be3c7",
   "metadata": {},
   "outputs": [],
   "source": [
    "display(train_encoded)"
   ]
  },
  {
   "cell_type": "code",
   "execution_count": 14,
   "id": "cccdd93c",
   "metadata": {},
   "outputs": [
    {
     "name": "stdout",
     "output_type": "stream",
     "text": [
      "Index(['Exited'], dtype='object')\n"
     ]
    }
   ],
   "source": [
    "# 1. 결과변수가 무엇인지 확인\n",
    "temp = train.columns[~train.columns.isin(test.columns)]\n",
    "print(temp)"
   ]
  }
 ],
 "metadata": {
  "kernelspec": {
   "display_name": "venv",
   "language": "python",
   "name": "python3"
  },
  "language_info": {
   "codemirror_mode": {
    "name": "ipython",
    "version": 3
   },
   "file_extension": ".py",
   "mimetype": "text/x-python",
   "name": "python",
   "nbconvert_exporter": "python",
   "pygments_lexer": "ipython3",
   "version": "3.12.10"
  }
 },
 "nbformat": 4,
 "nbformat_minor": 5
}
