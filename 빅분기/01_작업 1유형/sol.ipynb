{
 "cells": [
  {
   "cell_type": "markdown",
   "id": "17dc4710",
   "metadata": {},
   "source": [
    "# 필요한 패키지 로드"
   ]
  },
  {
   "cell_type": "code",
   "execution_count": 1,
   "id": "5eb19fc9",
   "metadata": {},
   "outputs": [],
   "source": [
    "import pandas as pd"
   ]
  },
  {
   "cell_type": "markdown",
   "id": "bf15b709",
   "metadata": {},
   "source": [
    "# Question 1.\n",
    "- 데이터를 로드하라."
   ]
  },
  {
   "cell_type": "code",
   "execution_count": 10,
   "id": "dd3e42cf",
   "metadata": {},
   "outputs": [
    {
     "data": {
      "text/html": [
       "<div>\n",
       "<style scoped>\n",
       "    .dataframe tbody tr th:only-of-type {\n",
       "        vertical-align: middle;\n",
       "    }\n",
       "\n",
       "    .dataframe tbody tr th {\n",
       "        vertical-align: top;\n",
       "    }\n",
       "\n",
       "    .dataframe thead th {\n",
       "        text-align: right;\n",
       "    }\n",
       "</style>\n",
       "<table border=\"1\" class=\"dataframe\">\n",
       "  <thead>\n",
       "    <tr style=\"text-align: right;\">\n",
       "      <th></th>\n",
       "      <th>title</th>\n",
       "      <th>channelTitle</th>\n",
       "      <th>categoryId</th>\n",
       "      <th>view_count</th>\n",
       "      <th>likes</th>\n",
       "      <th>dislikes</th>\n",
       "      <th>comment_count</th>\n",
       "      <th>channelId</th>\n",
       "      <th>trending_date2</th>\n",
       "    </tr>\n",
       "  </thead>\n",
       "  <tbody>\n",
       "    <tr>\n",
       "      <th>0</th>\n",
       "      <td>[신병] 물자창고</td>\n",
       "      <td>장삐쭈</td>\n",
       "      <td>23</td>\n",
       "      <td>1893473</td>\n",
       "      <td>38249</td>\n",
       "      <td>730</td>\n",
       "      <td>8595</td>\n",
       "      <td>UChbE5OZQ6dRHECsX0tEPEZQ</td>\n",
       "      <td>2021-01-01</td>\n",
       "    </tr>\n",
       "    <tr>\n",
       "      <th>1</th>\n",
       "      <td>RAIN(비) - 나로 바꾸자 Switch to me (duet with JYP) MV</td>\n",
       "      <td>RAIN's Official Channel</td>\n",
       "      <td>10</td>\n",
       "      <td>2600864</td>\n",
       "      <td>0</td>\n",
       "      <td>0</td>\n",
       "      <td>20129</td>\n",
       "      <td>UCxXgIeE5hxWxHG6dz9Scg2w</td>\n",
       "      <td>2021-01-01</td>\n",
       "    </tr>\n",
       "    <tr>\n",
       "      <th>2</th>\n",
       "      <td>2020년 제야의 종 온라인 타종행사 | 보신각 현장 행사는 진행하지 않습니다.</td>\n",
       "      <td>서울시 · Seoul</td>\n",
       "      <td>29</td>\n",
       "      <td>347049</td>\n",
       "      <td>3564</td>\n",
       "      <td>120</td>\n",
       "      <td>178</td>\n",
       "      <td>UCZUPZW5idAxYp-Asj__lVAA</td>\n",
       "      <td>2021-01-01</td>\n",
       "    </tr>\n",
       "    <tr>\n",
       "      <th>3</th>\n",
       "      <td>고기남자의 칠면조 파티</td>\n",
       "      <td>고기남자 MeatMan</td>\n",
       "      <td>26</td>\n",
       "      <td>528458</td>\n",
       "      <td>15372</td>\n",
       "      <td>280</td>\n",
       "      <td>3470</td>\n",
       "      <td>UCT3CumbFIJiW33uq0UI3zlg</td>\n",
       "      <td>2021-01-01</td>\n",
       "    </tr>\n",
       "    <tr>\n",
       "      <th>4</th>\n",
       "      <td>골목 3mc를 분노하게 만든 마음고생이 심했을 공릉 백반집 사장님의 푸념?! [예능...</td>\n",
       "      <td>스브스밥집</td>\n",
       "      <td>24</td>\n",
       "      <td>494904</td>\n",
       "      <td>3918</td>\n",
       "      <td>111</td>\n",
       "      <td>3142</td>\n",
       "      <td>UCdWgRSfttvDucq4ApcCg5Mw</td>\n",
       "      <td>2021-01-01</td>\n",
       "    </tr>\n",
       "    <tr>\n",
       "      <th>5</th>\n",
       "      <td>(EN/CN/ID) 월드스타 한 분 더 모셨습니다. 비x박진영 &amp; 싸이, 비주얼 가...</td>\n",
       "      <td>시즌비시즌 Season B Season</td>\n",
       "      <td>24</td>\n",
       "      <td>1274464</td>\n",
       "      <td>26660</td>\n",
       "      <td>368</td>\n",
       "      <td>2701</td>\n",
       "      <td>UCZf4ZESHAIuRtZ-eoMSL97A</td>\n",
       "      <td>2021-01-01</td>\n",
       "    </tr>\n",
       "    <tr>\n",
       "      <th>6</th>\n",
       "      <td>[미스트롯2] 많은 참가자가 라이벌로 뽑은 명실상부 트롯 천재! 전유진이 부르는 '...</td>\n",
       "      <td>TV CHOSUN JOY</td>\n",
       "      <td>24</td>\n",
       "      <td>682608</td>\n",
       "      <td>7435</td>\n",
       "      <td>434</td>\n",
       "      <td>1943</td>\n",
       "      <td>UCYeeEwH_s9yD9HQe4e2JuBw</td>\n",
       "      <td>2021-01-01</td>\n",
       "    </tr>\n",
       "    <tr>\n",
       "      <th>7</th>\n",
       "      <td>[아이유의 팔레트] 팔레트에 '있지' (With ITZY) Ep.4</td>\n",
       "      <td>이지금 [IU Official]</td>\n",
       "      <td>24</td>\n",
       "      <td>2420537</td>\n",
       "      <td>200301</td>\n",
       "      <td>956</td>\n",
       "      <td>14641</td>\n",
       "      <td>UC3SyT4_WLHzN7JmHQwKQZww</td>\n",
       "      <td>2021-01-01</td>\n",
       "    </tr>\n",
       "    <tr>\n",
       "      <th>8</th>\n",
       "      <td>답답한 집콕.. 2020년은 예능으로 존버(존중하며 버팀)했다 MBC 연예대상 하이...</td>\n",
       "      <td>14F 일사에프</td>\n",
       "      <td>26</td>\n",
       "      <td>1001581</td>\n",
       "      <td>9462</td>\n",
       "      <td>337</td>\n",
       "      <td>1684</td>\n",
       "      <td>UCLKuglhGlMmDteQKoniENIQ</td>\n",
       "      <td>2021-01-01</td>\n",
       "    </tr>\n",
       "    <tr>\n",
       "      <th>9</th>\n",
       "      <td>나 숙취 있어! 알딸딸해! 필름 끊겼어를 영어로 어떻게 할까요?</td>\n",
       "      <td>Sarah Kim</td>\n",
       "      <td>27</td>\n",
       "      <td>1358098</td>\n",
       "      <td>8224</td>\n",
       "      <td>820</td>\n",
       "      <td>1406</td>\n",
       "      <td>UCMXFwld5hCpMc2-49cndljA</td>\n",
       "      <td>2021-01-01</td>\n",
       "    </tr>\n",
       "  </tbody>\n",
       "</table>\n",
       "</div>"
      ],
      "text/plain": [
       "                                               title             channelTitle  \\\n",
       "0                                          [신병] 물자창고                      장삐쭈   \n",
       "1   RAIN(비) - 나로 바꾸자 Switch to me (duet with JYP) MV  RAIN's Official Channel   \n",
       "2       2020년 제야의 종 온라인 타종행사 | 보신각 현장 행사는 진행하지 않습니다.              서울시 · Seoul   \n",
       "3                                       고기남자의 칠면조 파티             고기남자 MeatMan   \n",
       "4  골목 3mc를 분노하게 만든 마음고생이 심했을 공릉 백반집 사장님의 푸념?! [예능...                    스브스밥집   \n",
       "5  (EN/CN/ID) 월드스타 한 분 더 모셨습니다. 비x박진영 & 싸이, 비주얼 가...    시즌비시즌 Season B Season   \n",
       "6  [미스트롯2] 많은 참가자가 라이벌로 뽑은 명실상부 트롯 천재! 전유진이 부르는 '...            TV CHOSUN JOY   \n",
       "7              [아이유의 팔레트] 팔레트에 '있지' (With ITZY) Ep.4        이지금 [IU Official]   \n",
       "8  답답한 집콕.. 2020년은 예능으로 존버(존중하며 버팀)했다 MBC 연예대상 하이...                 14F 일사에프   \n",
       "9                나 숙취 있어! 알딸딸해! 필름 끊겼어를 영어로 어떻게 할까요?                Sarah Kim   \n",
       "\n",
       "   categoryId  view_count   likes  dislikes  comment_count  \\\n",
       "0          23     1893473   38249       730           8595   \n",
       "1          10     2600864       0         0          20129   \n",
       "2          29      347049    3564       120            178   \n",
       "3          26      528458   15372       280           3470   \n",
       "4          24      494904    3918       111           3142   \n",
       "5          24     1274464   26660       368           2701   \n",
       "6          24      682608    7435       434           1943   \n",
       "7          24     2420537  200301       956          14641   \n",
       "8          26     1001581    9462       337           1684   \n",
       "9          27     1358098    8224       820           1406   \n",
       "\n",
       "                  channelId trending_date2  \n",
       "0  UChbE5OZQ6dRHECsX0tEPEZQ     2021-01-01  \n",
       "1  UCxXgIeE5hxWxHG6dz9Scg2w     2021-01-01  \n",
       "2  UCZUPZW5idAxYp-Asj__lVAA     2021-01-01  \n",
       "3  UCT3CumbFIJiW33uq0UI3zlg     2021-01-01  \n",
       "4  UCdWgRSfttvDucq4ApcCg5Mw     2021-01-01  \n",
       "5  UCZf4ZESHAIuRtZ-eoMSL97A     2021-01-01  \n",
       "6  UCYeeEwH_s9yD9HQe4e2JuBw     2021-01-01  \n",
       "7  UC3SyT4_WLHzN7JmHQwKQZww     2021-01-01  \n",
       "8  UCLKuglhGlMmDteQKoniENIQ     2021-01-01  \n",
       "9  UCMXFwld5hCpMc2-49cndljA     2021-01-01  "
      ]
     },
     "metadata": {},
     "output_type": "display_data"
    },
    {
     "name": "stdout",
     "output_type": "stream",
     "text": [
      "<class 'pandas.core.frame.DataFrame'>\n",
      "Index: 60399 entries, 0 to 60398\n",
      "Data columns (total 9 columns):\n",
      " #   Column          Non-Null Count  Dtype \n",
      "---  ------          --------------  ----- \n",
      " 0   title           60399 non-null  object\n",
      " 1   channelTitle    60399 non-null  object\n",
      " 2   categoryId      60399 non-null  int64 \n",
      " 3   view_count      60399 non-null  int64 \n",
      " 4   likes           60399 non-null  int64 \n",
      " 5   dislikes        60399 non-null  int64 \n",
      " 6   comment_count   60399 non-null  int64 \n",
      " 7   channelId       60399 non-null  object\n",
      " 8   trending_date2  60399 non-null  object\n",
      "dtypes: int64(5), object(4)\n",
      "memory usage: 4.6+ MB\n"
     ]
    },
    {
     "data": {
      "text/plain": [
       "None"
      ]
     },
     "metadata": {},
     "output_type": "display_data"
    }
   ],
   "source": [
    "data = 'https://raw.githubusercontent.com/Datamanim/datarepo/main/youtube/youtube.csv'\n",
    "df = pd.read_csv(data, index_col = 0)\n",
    "display(df.head(10))\n",
    "display(df.info())"
   ]
  },
  {
   "cell_type": "markdown",
   "id": "0cd3fe04",
   "metadata": {},
   "source": [
    "# Question 2.\n",
    "- 인기동영상 제작횟수가 많은 채널 상위 10개명을 출력하라."
   ]
  },
  {
   "cell_type": "code",
   "execution_count": null,
   "id": "6a1c4e9e",
   "metadata": {},
   "outputs": [
    {
     "data": {
      "text/plain": [
       "['UCszFjh7CEfwDb7UUGb4RzCQ',\n",
       " 'UCtm_QoN2SIxwCE-59shX7Qg',\n",
       " 'UClzB2iZ5jPoTNz0S-QU6Wiw',\n",
       " 'UCaKod3X1Tn4c7Ci0iUKcvzQ',\n",
       " 'UCiwQRG2sCcfjKkgxMEdJGPg',\n",
       " 'UChbE5OZQ6dRHECsX0tEPEZQ',\n",
       " 'UCLkAepWjdylmXSltofFvsYQ',\n",
       " 'UCQ2O-iftmnlfrBuNsUUTofQ',\n",
       " 'UCtfriFvIe5gIe8wRWb8UTMg',\n",
       " 'UCRuSxVu4iqTK5kCh90ntAgA']"
      ]
     },
     "execution_count": 14,
     "metadata": {},
     "output_type": "execute_result"
    }
   ],
   "source": [
    "# 1. channelId를 기준으로 빈도수를 계산, 상위 10개의 channelId를 가져온다. (후에 채널명에 매핑하기 위해).\n",
    "#   - value_counts() 함수는 내림차순 정렬을 해주기에 바로 head()를 통해 상위 10개를 추출할 수 있다.\n",
    "#   - index: value_counts() 함수를 사용하면 'index = channelId', 'value = 빈도수' 가 되기에 상위 10개의 Id를 가져오기위해 사용한다.\n",
    "#   - tolist(): index를 사용하면 index 자료형으로 결과가 출력되기에 list type으로 변환한다.s\n",
    "top10_channel_ids = df['channelId'].value_counts().head(10).index.tolist()\n",
    "top10_channel_ids"
   ]
  },
  {
   "cell_type": "code",
   "execution_count": 20,
   "id": "d780afe6",
   "metadata": {},
   "outputs": [
    {
     "data": {
      "text/plain": [
       "channelId\n",
       "UChbE5OZQ6dRHECsX0tEPEZQ                        장삐쭈\n",
       "UCxXgIeE5hxWxHG6dz9Scg2w    RAIN's Official Channel\n",
       "UCZUPZW5idAxYp-Asj__lVAA                서울시 · Seoul\n",
       "UCT3CumbFIJiW33uq0UI3zlg               고기남자 MeatMan\n",
       "UCdWgRSfttvDucq4ApcCg5Mw                      스브스밥집\n",
       "                                     ...           \n",
       "UCsiuN8Jco3LbbuTyGuqRgKg                        멸치형\n",
       "UCRnEWJKVc5FpC-9Z3CBt2ZQ            키키TV, 전지적 예능 시점\n",
       "UCkMN06eC97XL1qR1bExdwWg                      기용이tv\n",
       "UCp9G3sWsE42Qo9jgnB1ta2Q         INSSAOPPA G [인싸오빠]\n",
       "UCRCK5FCJtomQT3b88jXI_DA                한국닌텐도 공식 채널\n",
       "Name: channelTitle, Length: 1770, dtype: object"
      ]
     },
     "execution_count": 20,
     "metadata": {},
     "output_type": "execute_result"
    }
   ],
   "source": [
    "# 2. channelID에 channelTitle을 매핑\n",
    "#   -> channelId에서 중복되는 범주를 제거한다.\n",
    "#   -> set_index('channelId')\n",
    "#       - channelId를 새로운 index로 하여 데이터프레임을 반환한다.\n",
    "#       - * 주의 *: set_index() 함수는 기존 데이터프레임을 변환하는 것이 아니라 변환된 데이터프레임을 return 한다.\n",
    "#   -> ['channelTitle']\n",
    "#       - channelId가 index가 된 새로운 데이터프레임에서 channelTitle 컬럼만을 필터링한다.\n",
    "#   -> 결과적으로 channelId와 channelTitle 두 컬럼을 갖는 데이터프레임 `id_to_title` 객체를 초기화한다.\n",
    "id_to_title = df.drop_duplicates('channelId').set_index('channelId')['channelTitle']\n",
    "id_to_title"
   ]
  },
  {
   "cell_type": "code",
   "execution_count": 21,
   "id": "b1fa0c76",
   "metadata": {},
   "outputs": [
    {
     "data": {
      "text/plain": [
       "['짤툰',\n",
       " 'SPOTV',\n",
       " '파뿌리',\n",
       " '런닝맨 - 스브스 공식 채널',\n",
       " '엠뚜루마뚜루 : MBC 공식 종합 채널',\n",
       " '장삐쭈',\n",
       " 'BANGTANTV',\n",
       " '채널 십오야',\n",
       " '이과장',\n",
       " '총몇명']"
      ]
     },
     "execution_count": 21,
     "metadata": {},
     "output_type": "execute_result"
    }
   ],
   "source": [
    "# 3. id_to_title 이전에 추출한 상위 10 개의 목록인 top10_channel_ids의 각 요소를 순회하며 매칭되는 값을 결과로 받는다.\n",
    "Ans = [id_to_title[ch_id] for ch_id in top10_channel_ids]\n",
    "Ans"
   ]
  },
  {
   "cell_type": "markdown",
   "id": "4bb4f78c",
   "metadata": {},
   "source": [
    "# Question 3.\n",
    "- 논란으로 인기동영상이 된 케이스를 확인하고 싶다. dislikes 수가 likes 수보다 높은 동영상을 제작한 채널을 모두 출력하라."
   ]
  },
  {
   "cell_type": "code",
   "execution_count": null,
   "id": "8014f346",
   "metadata": {},
   "outputs": [
    {
     "data": {
      "text/plain": [
       "['핫도그TV',\n",
       " 'ASMR 애정TV',\n",
       " '하얀트리HayanTree',\n",
       " '양팡 YangPang',\n",
       " '철구형 (CHULTUBE)',\n",
       " '왜냐맨하우스',\n",
       " '(MUTUBE)와꾸대장봉준',\n",
       " '오메킴TV',\n",
       " '육지담',\n",
       " 'MapleStory_KR',\n",
       " 'ROAD FIGHTING CHAMPIONSHIP',\n",
       " '사나이 김기훈',\n",
       " '나혼자산다 STUDIO',\n",
       " 'Gen.G esports']"
      ]
     },
     "execution_count": 24,
     "metadata": {},
     "output_type": "execute_result"
    }
   ],
   "source": [
    "# loc을 통한 행 조건 필터링.\n",
    "target = list(df.loc[df.dislikes > df.likes].channelTitle.unique())\n",
    "target"
   ]
  },
  {
   "cell_type": "markdown",
   "id": "e62bbfe4",
   "metadata": {},
   "source": [
    "# Question 4.\n",
    "- 채널명을 바꾼 케이스가 있는지 확인하고 싶다. channelId의 경우 고유값이므로 이를 통해 채널명을 한 번이라도 바꾼 채널의 갯수를 구하여라."
   ]
  },
  {
   "cell_type": "code",
   "execution_count": null,
   "id": "29f6630a",
   "metadata": {},
   "outputs": [
    {
     "data": {
      "text/plain": [
       "71"
      ]
     },
     "execution_count": 37,
     "metadata": {},
     "output_type": "execute_result"
    }
   ],
   "source": [
    "# 1. channelId를 기준으로 groupby한 뒤 chnnelTItle 컬럼만을 추출한다.\n",
    "#   -> nunique(): 고유한 범주의 종류의 수를 추출한다. (현재는 channelId 별 channelTitle의 수를 반환).\n",
    "'''\n",
    "< nunique() >\n",
    "- pandas의 함수로 몇 개의 서로 다른 범주(범주의 종류)가 있는지 출력한다.\n",
    "- 현재 문제에서는 channelId 별로 몇 개의 서로다른 channelTitle이 있는지 출력한다.\n",
    "- 사용 예\n",
    "    - Series.nunique()\n",
    "    - DataFrame.nunique()\n",
    "''' \n",
    "title_counts = df.groupby('channelId')['channelTitle'].nunique() # title_counts는 Series이다.\n",
    "title_counts\n",
    "\n",
    "# 2. 고유한 범주 종류의 수(title_counts)가 2 이상인 경우만 필터링 한다.\n",
    "#   - title_counts는 Series이기에 조건에 맞는 경우를 필터링하면 `index(channelId)`와 `channelId별 해당되는 channelTitle의 수'를 출력한다.\n",
    "#   - len()을 통해 총 개수를 반환.\n",
    "Ans = title_counts[title_counts > 1]\n",
    "len(Ans)"
   ]
  },
  {
   "cell_type": "markdown",
   "id": "fda84fa1",
   "metadata": {},
   "source": [
    "# Question 5.\n",
    "- 일요일에 인기있었던 영상들 중 가장 많은 종류(categoryId)는 무엇인가?"
   ]
  },
  {
   "cell_type": "code",
   "execution_count": null,
   "id": "3391fc96",
   "metadata": {},
   "outputs": [
    {
     "name": "stdout",
     "output_type": "stream",
     "text": [
      "24\n"
     ]
    }
   ],
   "source": [
    "# 1. 요일을 다루기 위해 trending_date2를 datetime 형으로 변환\n",
    "df['trending_date2'] = pd.to_datetime(df['trending_date2'])\n",
    "\n",
    "# 2. datetime으로 형변환된 trending_date2컬럼을 dt.day_name()함수를 통해 요일로 변환하고, Sunday와 일치하는 행만을 필터링.\n",
    "#   -> categoryId의 빈도수를 계산.\n",
    "#   -> index[0]을 통해 첫 번째 행 값을 반환 (value_counts()로 인해 index가 categoryId기이 때문).\n",
    "Ans = df.loc[df['trending_date2'].dt.day_name() =='Sunday'].categoryId.value_counts().index[0]\n",
    "print(Ans)"
   ]
  },
  {
   "cell_type": "markdown",
   "id": "14d464f4",
   "metadata": {},
   "source": [
    "# Question 6.\n",
    "- 각 요일별 인기 영상들의 categoryId는 각각 몇 개씩인지 하나의 데이터프레임으로 표현하라."
   ]
  },
  {
   "cell_type": "code",
   "execution_count": 52,
   "id": "46b65e92",
   "metadata": {},
   "outputs": [
    {
     "name": "stdout",
     "output_type": "stream",
     "text": [
      "weekday     Friday  Monday  Saturday  Sunday  Thursday  Tuesday  Wednesday\n",
      "categoryId                                                                \n",
      "1              243     263       255     274       246      257        234\n",
      "2              120     105       119      99       128      119        129\n",
      "10             833     837       776     830       890      894        917\n",
      "15             187     215       198     217       207      208        207\n",
      "17             633     668       592     636       682      708        706\n",
      "19              90      92        87      91        92       89         85\n",
      "20             283     298       296     289       282      285        291\n",
      "22            1288    1373      1289    1337      1341     1375       1333\n",
      "23             568     594       570     556       560      569        566\n",
      "24            2976    3148      3066    3096      2954     3084       3090\n",
      "25             444     453       422     437       470      452        468\n",
      "26             369     378       364     363       375      394        385\n",
      "27             183     205       183     199       194      194        212\n",
      "28             171     160       173     167       166      161        165\n",
      "29              12      10        10       9        13       11         12\n"
     ]
    }
   ],
   "source": [
    "# 1. 요일별 집계이기에 일단 날짜를 요일별로 매핑한 컬럼을 생성한다.\n",
    "df['weekday'] = pd.to_datetime(df['trending_date2']).dt.day_name()\n",
    "\n",
    "# 2. categoryId 별로 weekday을 매핑하고, 각 요일의 빈도수를 측정함.\n",
    "#   -> unstack(): 요일을 unstack하여 컬럼으로 사용함.\n",
    "Ans = df.groupby(['categoryId', 'weekday']).size().unstack()\n",
    "print(Ans)"
   ]
  },
  {
   "cell_type": "markdown",
   "id": "666cc1db",
   "metadata": {},
   "source": [
    "# Question 7. \n",
    "- 댓글의 수(comment_count)로 영상 반응에 대한 판단을 할 수 있다. view_count 대비 댓글 수가 가장 높은 영상을 확인하라. (view_count 값이 0인 경우는 제외)."
   ]
  },
  {
   "cell_type": "code",
   "execution_count": 110,
   "id": "05e3f28b",
   "metadata": {},
   "outputs": [
    {
     "data": {
      "text/plain": [
       "'60분 동안 댓글이 달리지 않으면, 영상이 삭제됩니다. (챌린지)'"
      ]
     },
     "execution_count": 110,
     "metadata": {},
     "output_type": "execute_result"
    }
   ],
   "source": [
    "# 1. view_count != 0인 데이터 필터링\n",
    "#   - copy()를 써주는 것이 옳다. 원본 데이터프레임을 유지하기 위해서이다.\n",
    "target = df.loc[df.view_count != 0 ].copy()\n",
    "target\n",
    "\n",
    "# 2. 추출한 데이터 프레임 target을 기준으로 view_count대비 댓글 수 컬럼 생성\n",
    "target['view_vs_comment'] = target['comment_count'] / target['view_count']\n",
    "target['view_vs_comment']\n",
    "\n",
    "# 3. 정렬 후 영상 이름 출력.\n",
    "Ans = target.sort_values('view_vs_comment', ascending = False)['title'].iloc[0]\n",
    "Ans"
   ]
  },
  {
   "cell_type": "markdown",
   "id": "942d0065",
   "metadata": {},
   "source": [
    "# Question 8.\n",
    "- `댓글의 수(comment_count)`로 영상 반응에 대한 판단을 할 수 있다. `view_count` 대비 댓글 수가 가장 적은 영상을 확인하라 (단, `view_count`와 `ratio`(`comment_count`와 `view_count`의 비율 계산 결과) 값이 0인 경우는 제외한다)."
   ]
  },
  {
   "cell_type": "code",
   "execution_count": 113,
   "id": "03eb613a",
   "metadata": {},
   "outputs": [
    {
     "data": {
      "text/plain": [
       "'Join the BTS #PermissiontoDance Challenge only on YouTube #Shorts'"
      ]
     },
     "execution_count": 113,
     "metadata": {},
     "output_type": "execute_result"
    }
   ],
   "source": [
    "# 1. view_count 대비 comment_count 계산 (이전 문제의 `target`데이터 프레임과 `view_vs_comment` 컬럼 활용).\n",
    "# view_vs_comment이 0인 경우 제외\n",
    "target = target.loc[target['view_vs_comment'] != 0]\n",
    "target.head()\n",
    "\n",
    "# 2. view_vs_comment를 오름차순 정렬.\n",
    "target = target.sort_values('view_vs_comment')\n",
    "\n",
    "# 3. 첫 번째 행의 title을 출력\n",
    "Ans = target['title'].iloc[0]\n",
    "Ans\n"
   ]
  },
  {
   "cell_type": "markdown",
   "id": "74c0a72c",
   "metadata": {},
   "source": [
    "# Question 9.\n",
    "- `likes` 대비 `dislikes`의 수가 가장 적은 영상은 무엇인가? (단, `likes`, `dislikes` 값 0인 경우는 제외한다)."
   ]
  },
  {
   "cell_type": "code",
   "execution_count": 67,
   "id": "049e6713",
   "metadata": {},
   "outputs": [
    {
     "data": {
      "text/plain": [
       "'[줌터뷰] *최초공개* 사부작즈🐰🐶의 비공식 이름은 아이라인즈? 꿀조합 티키타카 가득한 NCT 127 도영&정우의 줌터뷰'"
      ]
     },
     "execution_count": 67,
     "metadata": {},
     "output_type": "execute_result"
    }
   ],
   "source": [
    "# 1. like와 dislike의 값이 0인 경우 제외\n",
    "target = df.loc[(df['likes'] != 0) & (df['dislikes'] != 0)].copy()\n",
    "target.head()\n",
    "\n",
    "# 2. likes 대비 dislikes 컬럼 생성\n",
    "target['likes_vs_dislikes'] = target['dislikes'] / target['likes']\n",
    "\n",
    "# 3. 오름차순 정렬 후 가장 적은 영상의 title 추출.\n",
    "Ans = target.sort_values('likes_vs_dislikes').title.iloc[0]\n",
    "Ans"
   ]
  },
  {
   "cell_type": "markdown",
   "id": "bbecc1de",
   "metadata": {},
   "source": [
    "# Question 10.\n",
    "- 가장 많은 트렌드 영상을 제작한 채널의 이름은 무엇인가? (날짜기준, 중복포함)."
   ]
  },
  {
   "cell_type": "code",
   "execution_count": null,
   "id": "67b343a0",
   "metadata": {},
   "outputs": [
    {
     "data": {
      "text/plain": [
       "'짤툰'"
      ]
     },
     "execution_count": 75,
     "metadata": {},
     "output_type": "execute_result"
    }
   ],
   "source": [
    "# 1. channelId를 index로하고 channelTitle를 대상으로 value_counts()를 한다.\n",
    "target = df.groupby('channelId').size()\n",
    "target = target.sort_values(ascending = False)\n",
    "temp = target.index[0]\n",
    "\n",
    "# 2. 정렬을 적용하고 값을 출력한다.\n",
    "Ans = df.loc[df['channelId'] == temp, 'channelTitle'].iloc[0]\n",
    "Ans\n",
    "\n",
    "# groupby().size(): 여러 컬럼을 다룰 때 유용\n",
    "#   - 현재 문제는 channelId로 group한 후 관련된 channelTitle까지 참조해야 하기에 groupby().size()가 적합.\n",
    "# value_counts(): 단일 Series를 대상으로 한다."
   ]
  },
  {
   "cell_type": "markdown",
   "id": "22e4baa7",
   "metadata": {},
   "source": [
    "# Question 11.\n",
    "- 20회(20일)이상 인기동영상 리스트에 포함된 동영상의 수는?"
   ]
  },
  {
   "cell_type": "code",
   "execution_count": null,
   "id": "ba2df5d5",
   "metadata": {},
   "outputs": [
    {
     "data": {
      "text/plain": [
       "41"
      ]
     },
     "execution_count": 107,
     "metadata": {},
     "output_type": "execute_result"
    }
   ],
   "source": [
    "# 1. title을 기준으로 빈도수를 계산하여 target Series를 생성.\n",
    "# ** 주의 **\n",
    "#   - 마님은 channelId와 title로 필터링하였으나 문제 조건이 '동영상'만을 대상으로 하기에 channelId를 제외한 title만을 사용하였다.\n",
    "#   - channelId를 포함하는 경우 `groupby(['channelId', 'title'])`로 코드를 변경해주면 같은 답을 얻을 수 있다.\n",
    "target = df.groupby('title').size()\n",
    "target\n",
    "\n",
    "# 2. 생성해 둔 target Series를 기준으로 20이상인 행들만 필터링.\n",
    "#   - loc은 Series에도 사용할 수 있다.\n",
    "Ans = target.loc[target >= 20]\n",
    "len(Ans)"
   ]
  },
  {
   "cell_type": "markdown",
   "id": "630c1e80",
   "metadata": {},
   "source": [
    "# Question 12.\n",
    "- 데이터를 로드하라."
   ]
  },
  {
   "cell_type": "code",
   "execution_count": 4,
   "id": "3f0a109b",
   "metadata": {},
   "outputs": [
    {
     "name": "stdout",
     "output_type": "stream",
     "text": [
      "channel\n"
     ]
    },
    {
     "data": {
      "text/html": [
       "<div>\n",
       "<style scoped>\n",
       "    .dataframe tbody tr th:only-of-type {\n",
       "        vertical-align: middle;\n",
       "    }\n",
       "\n",
       "    .dataframe tbody tr th {\n",
       "        vertical-align: top;\n",
       "    }\n",
       "\n",
       "    .dataframe thead th {\n",
       "        text-align: right;\n",
       "    }\n",
       "</style>\n",
       "<table border=\"1\" class=\"dataframe\">\n",
       "  <thead>\n",
       "    <tr style=\"text-align: right;\">\n",
       "      <th></th>\n",
       "      <th>channelid</th>\n",
       "      <th>subcnt</th>\n",
       "      <th>viewcnt</th>\n",
       "      <th>videocnt</th>\n",
       "      <th>ct</th>\n",
       "      <th>channelname</th>\n",
       "    </tr>\n",
       "  </thead>\n",
       "  <tbody>\n",
       "    <tr>\n",
       "      <th>0</th>\n",
       "      <td>UCkQCwnkQfgSuPTTnw_Y7v7w</td>\n",
       "      <td>1310000</td>\n",
       "      <td>410238653</td>\n",
       "      <td>736</td>\n",
       "      <td>2021-09-30 03:01:03</td>\n",
       "      <td>꽈뚜룹</td>\n",
       "    </tr>\n",
       "    <tr>\n",
       "      <th>1</th>\n",
       "      <td>UCkQCwnkQfgSuPTTnw_Y7v7w</td>\n",
       "      <td>1310000</td>\n",
       "      <td>412531322</td>\n",
       "      <td>736</td>\n",
       "      <td>2021-09-30 09:01:03</td>\n",
       "      <td>꽈뚜룹</td>\n",
       "    </tr>\n",
       "    <tr>\n",
       "      <th>2</th>\n",
       "      <td>UCkQCwnkQfgSuPTTnw_Y7v7w</td>\n",
       "      <td>1310000</td>\n",
       "      <td>412531322</td>\n",
       "      <td>735</td>\n",
       "      <td>2021-09-30 15:01:03</td>\n",
       "      <td>꽈뚜룹</td>\n",
       "    </tr>\n",
       "    <tr>\n",
       "      <th>3</th>\n",
       "      <td>UCkQCwnkQfgSuPTTnw_Y7v7w</td>\n",
       "      <td>1310000</td>\n",
       "      <td>412531322</td>\n",
       "      <td>737</td>\n",
       "      <td>2021-09-30 21:01:03</td>\n",
       "      <td>꽈뚜룹</td>\n",
       "    </tr>\n",
       "    <tr>\n",
       "      <th>4</th>\n",
       "      <td>UCkQCwnkQfgSuPTTnw_Y7v7w</td>\n",
       "      <td>1320000</td>\n",
       "      <td>412531322</td>\n",
       "      <td>737</td>\n",
       "      <td>2021-10-01 03:01:04</td>\n",
       "      <td>꽈뚜룹</td>\n",
       "    </tr>\n",
       "  </tbody>\n",
       "</table>\n",
       "</div>"
      ],
      "text/plain": [
       "                  channelid   subcnt    viewcnt  videocnt  \\\n",
       "0  UCkQCwnkQfgSuPTTnw_Y7v7w  1310000  410238653       736   \n",
       "1  UCkQCwnkQfgSuPTTnw_Y7v7w  1310000  412531322       736   \n",
       "2  UCkQCwnkQfgSuPTTnw_Y7v7w  1310000  412531322       735   \n",
       "3  UCkQCwnkQfgSuPTTnw_Y7v7w  1310000  412531322       737   \n",
       "4  UCkQCwnkQfgSuPTTnw_Y7v7w  1320000  412531322       737   \n",
       "\n",
       "                    ct channelname  \n",
       "0  2021-09-30 03:01:03         꽈뚜룹  \n",
       "1  2021-09-30 09:01:03         꽈뚜룹  \n",
       "2  2021-09-30 15:01:03         꽈뚜룹  \n",
       "3  2021-09-30 21:01:03         꽈뚜룹  \n",
       "4  2021-10-01 03:01:04         꽈뚜룹  "
      ]
     },
     "metadata": {},
     "output_type": "display_data"
    },
    {
     "name": "stdout",
     "output_type": "stream",
     "text": [
      "video\n"
     ]
    },
    {
     "data": {
      "text/html": [
       "<div>\n",
       "<style scoped>\n",
       "    .dataframe tbody tr th:only-of-type {\n",
       "        vertical-align: middle;\n",
       "    }\n",
       "\n",
       "    .dataframe tbody tr th {\n",
       "        vertical-align: top;\n",
       "    }\n",
       "\n",
       "    .dataframe thead th {\n",
       "        text-align: right;\n",
       "    }\n",
       "</style>\n",
       "<table border=\"1\" class=\"dataframe\">\n",
       "  <thead>\n",
       "    <tr style=\"text-align: right;\">\n",
       "      <th></th>\n",
       "      <th>videopk</th>\n",
       "      <th>viewcnt</th>\n",
       "      <th>likecnt</th>\n",
       "      <th>dislikecnt</th>\n",
       "      <th>favoritecnt</th>\n",
       "      <th>cmcnt</th>\n",
       "      <th>ct</th>\n",
       "      <th>videoname</th>\n",
       "    </tr>\n",
       "  </thead>\n",
       "  <tbody>\n",
       "    <tr>\n",
       "      <th>0</th>\n",
       "      <td>c5JQp6xafqc</td>\n",
       "      <td>1667010</td>\n",
       "      <td>30474</td>\n",
       "      <td>706</td>\n",
       "      <td>0</td>\n",
       "      <td>6587</td>\n",
       "      <td>2021-10-10 15:20:03</td>\n",
       "      <td>공범 EP1</td>\n",
       "    </tr>\n",
       "    <tr>\n",
       "      <th>1</th>\n",
       "      <td>c5JQp6xafqc</td>\n",
       "      <td>1669089</td>\n",
       "      <td>30495</td>\n",
       "      <td>707</td>\n",
       "      <td>0</td>\n",
       "      <td>6589</td>\n",
       "      <td>2021-10-10 15:30:03</td>\n",
       "      <td>공범 EP1</td>\n",
       "    </tr>\n",
       "    <tr>\n",
       "      <th>2</th>\n",
       "      <td>c5JQp6xafqc</td>\n",
       "      <td>1674759</td>\n",
       "      <td>30522</td>\n",
       "      <td>711</td>\n",
       "      <td>0</td>\n",
       "      <td>6596</td>\n",
       "      <td>2021-10-10 15:40:02</td>\n",
       "      <td>공범 EP1</td>\n",
       "    </tr>\n",
       "    <tr>\n",
       "      <th>3</th>\n",
       "      <td>c5JQp6xafqc</td>\n",
       "      <td>1677026</td>\n",
       "      <td>30555</td>\n",
       "      <td>712</td>\n",
       "      <td>0</td>\n",
       "      <td>6604</td>\n",
       "      <td>2021-10-10 15:50:03</td>\n",
       "      <td>공범 EP1</td>\n",
       "    </tr>\n",
       "    <tr>\n",
       "      <th>4</th>\n",
       "      <td>c5JQp6xafqc</td>\n",
       "      <td>1681824</td>\n",
       "      <td>30585</td>\n",
       "      <td>713</td>\n",
       "      <td>0</td>\n",
       "      <td>6600</td>\n",
       "      <td>2021-10-10 16:00:03</td>\n",
       "      <td>공범 EP1</td>\n",
       "    </tr>\n",
       "  </tbody>\n",
       "</table>\n",
       "</div>"
      ],
      "text/plain": [
       "       videopk  viewcnt  likecnt  dislikecnt  favoritecnt  cmcnt  \\\n",
       "0  c5JQp6xafqc  1667010    30474         706            0   6587   \n",
       "1  c5JQp6xafqc  1669089    30495         707            0   6589   \n",
       "2  c5JQp6xafqc  1674759    30522         711            0   6596   \n",
       "3  c5JQp6xafqc  1677026    30555         712            0   6604   \n",
       "4  c5JQp6xafqc  1681824    30585         713            0   6600   \n",
       "\n",
       "                    ct videoname  \n",
       "0  2021-10-10 15:20:03    공범 EP1  \n",
       "1  2021-10-10 15:30:03    공범 EP1  \n",
       "2  2021-10-10 15:40:02    공범 EP1  \n",
       "3  2021-10-10 15:50:03    공범 EP1  \n",
       "4  2021-10-10 16:00:03    공범 EP1  "
      ]
     },
     "metadata": {},
     "output_type": "display_data"
    }
   ],
   "source": [
    "channel_data = 'https://raw.githubusercontent.com/Datamanim/datarepo/main/youtube/channelInfo.csv'\n",
    "video_data = 'https://raw.githubusercontent.com/Datamanim/datarepo/main/youtube/videoInfo.csv'\n",
    "\n",
    "channel = pd.read_csv(channel_data)\n",
    "video = pd.read_csv(video_data)\n",
    "\n",
    "print('channel')\n",
    "display(channel.head())\n",
    "print('video')\n",
    "display(video.head())"
   ]
  },
  {
   "cell_type": "markdown",
   "id": "0430f18a",
   "metadata": {},
   "source": [
    "# Question 13.\n",
    "- 각 데이터의 `ct`컬럼을 시간으로 인식할 수 있게 datatype을 변경하고, `video` 데이터프레임의 `videoname`의 각 범주마다 몇 개의 데이터씩을 갖고 있는지 확인하라."
   ]
  },
  {
   "cell_type": "code",
   "execution_count": 5,
   "id": "7d0acc21",
   "metadata": {},
   "outputs": [
    {
     "name": "stdout",
     "output_type": "stream",
     "text": [
      "videoname\n",
      "공범 EP1    3492\n",
      "공범 EP2    3204\n",
      "공범 EP3    2568\n",
      "공범 EP4    2280\n",
      "공범 EP5    1562\n",
      "공범 EP6    1274\n",
      "공범 EP7     555\n",
      "공범 EP8     266\n",
      "dtype: int64\n"
     ]
    }
   ],
   "source": [
    "# 1. 두 데이터프레임의 ct 컬럼을 datetime으로 변환\n",
    "channel['ct'] = pd.to_datetime(channel['ct'])\n",
    "video['ct'] = pd.to_datetime(video['ct'])\n",
    "# print(channel['ct'].dtype)\n",
    "# print(video['ct'].dtype)\n",
    "\n",
    "# 2. video 데이터프레임의 videoname 컬럼의 범주별 빈도 확인.\n",
    "Ans = video.groupby('videoname').size()\n",
    "print(Ans)"
   ]
  },
  {
   "cell_type": "markdown",
   "id": "3b695ba8",
   "metadata": {},
   "source": [
    "# Question 14.\n",
    "- `video` 데이터프레임의 `videoname`의 각범주별로 `최신 날짜(ct)`의 `viewcnt`를 출력하라."
   ]
  },
  {
   "cell_type": "code",
   "execution_count": 6,
   "id": "94d88d12",
   "metadata": {},
   "outputs": [
    {
     "data": {
      "text/html": [
       "<div>\n",
       "<style scoped>\n",
       "    .dataframe tbody tr th:only-of-type {\n",
       "        vertical-align: middle;\n",
       "    }\n",
       "\n",
       "    .dataframe tbody tr th {\n",
       "        vertical-align: top;\n",
       "    }\n",
       "\n",
       "    .dataframe thead th {\n",
       "        text-align: right;\n",
       "    }\n",
       "</style>\n",
       "<table border=\"1\" class=\"dataframe\">\n",
       "  <thead>\n",
       "    <tr style=\"text-align: right;\">\n",
       "      <th></th>\n",
       "      <th>viewcnt</th>\n",
       "      <th>videoname</th>\n",
       "      <th>ct</th>\n",
       "    </tr>\n",
       "  </thead>\n",
       "  <tbody>\n",
       "    <tr>\n",
       "      <th>0</th>\n",
       "      <td>3180532</td>\n",
       "      <td>공범 EP1</td>\n",
       "      <td>2021-11-01 15:30:03</td>\n",
       "    </tr>\n",
       "    <tr>\n",
       "      <th>1</th>\n",
       "      <td>2199328</td>\n",
       "      <td>공범 EP2</td>\n",
       "      <td>2021-11-01 15:30:03</td>\n",
       "    </tr>\n",
       "    <tr>\n",
       "      <th>2</th>\n",
       "      <td>1671294</td>\n",
       "      <td>공범 EP3</td>\n",
       "      <td>2021-11-01 15:30:03</td>\n",
       "    </tr>\n",
       "    <tr>\n",
       "      <th>3</th>\n",
       "      <td>1818493</td>\n",
       "      <td>공범 EP4</td>\n",
       "      <td>2021-11-01 15:30:03</td>\n",
       "    </tr>\n",
       "    <tr>\n",
       "      <th>4</th>\n",
       "      <td>1503435</td>\n",
       "      <td>공범 EP5</td>\n",
       "      <td>2021-11-01 15:30:04</td>\n",
       "    </tr>\n",
       "    <tr>\n",
       "      <th>5</th>\n",
       "      <td>1750222</td>\n",
       "      <td>공범 EP6</td>\n",
       "      <td>2021-11-01 15:30:04</td>\n",
       "    </tr>\n",
       "    <tr>\n",
       "      <th>6</th>\n",
       "      <td>1630200</td>\n",
       "      <td>공범 EP7</td>\n",
       "      <td>2021-11-01 15:30:05</td>\n",
       "    </tr>\n",
       "    <tr>\n",
       "      <th>7</th>\n",
       "      <td>1289088</td>\n",
       "      <td>공범 EP8</td>\n",
       "      <td>2021-11-01 15:30:05</td>\n",
       "    </tr>\n",
       "  </tbody>\n",
       "</table>\n",
       "</div>"
      ],
      "text/plain": [
       "   viewcnt videoname                  ct\n",
       "0  3180532    공범 EP1 2021-11-01 15:30:03\n",
       "1  2199328    공범 EP2 2021-11-01 15:30:03\n",
       "2  1671294    공범 EP3 2021-11-01 15:30:03\n",
       "3  1818493    공범 EP4 2021-11-01 15:30:03\n",
       "4  1503435    공범 EP5 2021-11-01 15:30:04\n",
       "5  1750222    공범 EP6 2021-11-01 15:30:04\n",
       "6  1630200    공범 EP7 2021-11-01 15:30:05\n",
       "7  1289088    공범 EP8 2021-11-01 15:30:05"
      ]
     },
     "execution_count": 6,
     "metadata": {},
     "output_type": "execute_result"
    }
   ],
   "source": [
    "# 1. ct(날짜)를 최신 날짜로 하기 위해 우선 정렬(내림차순)\n",
    "#   -> videoname 별로 viewcnt를 출력해야하기에 groupby('videoname')\n",
    "#   -> first(): groupby()함수의 집계함수이다. 집계 후의 `첫 번째 행`을 반환한다.\n",
    "#   -> reset_index(): 사용하지 않아도 되는데 이번 문제에서 groupby()에 사용된 videoname 컬럼을 index로 사용하지 않는 것을 테스트하기 위해 사용.\n",
    "target = video.sort_values('ct', ascending = False).groupby(['videoname']).first().reset_index()\n",
    "\n",
    "# 2. 필요한 컬럼만 추출해서 출력.\n",
    "target[['viewcnt', 'videoname', 'ct']]"
   ]
  },
  {
   "cell_type": "markdown",
   "id": "0285a916",
   "metadata": {},
   "source": [
    "# Question 15.\n",
    "- `channel` 데이터프레임의 2021-10-03일 이후 각 채널의 처음 기록 됐던 `구독자 수(subcnt)`를 출력하라."
   ]
  },
  {
   "cell_type": "code",
   "execution_count": 7,
   "id": "c21bc2e4",
   "metadata": {},
   "outputs": [
    {
     "data": {
      "text/html": [
       "<div>\n",
       "<style scoped>\n",
       "    .dataframe tbody tr th:only-of-type {\n",
       "        vertical-align: middle;\n",
       "    }\n",
       "\n",
       "    .dataframe tbody tr th {\n",
       "        vertical-align: top;\n",
       "    }\n",
       "\n",
       "    .dataframe thead th {\n",
       "        text-align: right;\n",
       "    }\n",
       "</style>\n",
       "<table border=\"1\" class=\"dataframe\">\n",
       "  <thead>\n",
       "    <tr style=\"text-align: right;\">\n",
       "      <th></th>\n",
       "      <th>channelname</th>\n",
       "      <th>subcnt</th>\n",
       "    </tr>\n",
       "  </thead>\n",
       "  <tbody>\n",
       "    <tr>\n",
       "      <th>0</th>\n",
       "      <td>논리왕 전기</td>\n",
       "      <td>922000</td>\n",
       "    </tr>\n",
       "    <tr>\n",
       "      <th>1</th>\n",
       "      <td>야전삽짱재</td>\n",
       "      <td>257000</td>\n",
       "    </tr>\n",
       "    <tr>\n",
       "      <th>2</th>\n",
       "      <td>형사!탐정되다</td>\n",
       "      <td>14900</td>\n",
       "    </tr>\n",
       "    <tr>\n",
       "      <th>3</th>\n",
       "      <td>릴펄 Lilpearl</td>\n",
       "      <td>10100</td>\n",
       "    </tr>\n",
       "    <tr>\n",
       "      <th>4</th>\n",
       "      <td>조나단</td>\n",
       "      <td>215000</td>\n",
       "    </tr>\n",
       "    <tr>\n",
       "      <th>5</th>\n",
       "      <td>김농밀의 농밀한 삶</td>\n",
       "      <td>7520</td>\n",
       "    </tr>\n",
       "    <tr>\n",
       "      <th>6</th>\n",
       "      <td>Balming Tiger</td>\n",
       "      <td>54300</td>\n",
       "    </tr>\n",
       "    <tr>\n",
       "      <th>7</th>\n",
       "      <td>꽈뚜룹</td>\n",
       "      <td>1330000</td>\n",
       "    </tr>\n",
       "    <tr>\n",
       "      <th>8</th>\n",
       "      <td>와글와글 WagleWagle</td>\n",
       "      <td>55000</td>\n",
       "    </tr>\n",
       "    <tr>\n",
       "      <th>9</th>\n",
       "      <td>츄정ChuJeong</td>\n",
       "      <td>322000</td>\n",
       "    </tr>\n",
       "    <tr>\n",
       "      <th>10</th>\n",
       "      <td>곽토리 kwak tori</td>\n",
       "      <td>471000</td>\n",
       "    </tr>\n",
       "  </tbody>\n",
       "</table>\n",
       "</div>"
      ],
      "text/plain": [
       "        channelname   subcnt\n",
       "0            논리왕 전기   922000\n",
       "1             야전삽짱재   257000\n",
       "2           형사!탐정되다    14900\n",
       "3       릴펄 Lilpearl    10100\n",
       "4               조나단   215000\n",
       "5        김농밀의 농밀한 삶     7520\n",
       "6     Balming Tiger    54300\n",
       "7               꽈뚜룹  1330000\n",
       "8   와글와글 WagleWagle    55000\n",
       "9        츄정ChuJeong   322000\n",
       "10    곽토리 kwak tori   471000"
      ]
     },
     "execution_count": 7,
     "metadata": {},
     "output_type": "execute_result"
    }
   ],
   "source": [
    "# 1. 날짜 기준 필터링하여 새로운 데이터프레임을 생성.\n",
    "target = channel.loc[channel['ct'] >= '2021-10-03'].copy()\n",
    "target\n",
    "\n",
    "# 2. 처음 기록된 날짜이기에 sort_values()함수의 ascending = True로 설정한다.\n",
    "#   - ascending = True: 오름차순으로 과거 날짜를 시작으로 정렬되기에 first()로 가져오면 첫 번째 행이 `처음 기록된 구독자 수`가 된다.\n",
    "Ans = target.sort_values('ct').groupby(['channelid']).first().reset_index()\n",
    "Ans[['channelname', 'subcnt']]\n"
   ]
  },
  {
   "cell_type": "markdown",
   "id": "6028490a",
   "metadata": {},
   "source": [
    "# Question 16.\n",
    "- channel 데이터프레임의 각 채널의 2021년 10월 03일 3시에 해당하는 데이터부터 2021년 11월 01일 15시에 해당하는 데이터까지의 구독자 수(subcnt)의 차이를 구하여라."
   ]
  },
  {
   "cell_type": "code",
   "execution_count": 8,
   "id": "5075caea",
   "metadata": {},
   "outputs": [
    {
     "data": {
      "text/html": [
       "<div>\n",
       "<style scoped>\n",
       "    .dataframe tbody tr th:only-of-type {\n",
       "        vertical-align: middle;\n",
       "    }\n",
       "\n",
       "    .dataframe tbody tr th {\n",
       "        vertical-align: top;\n",
       "    }\n",
       "\n",
       "    .dataframe thead th {\n",
       "        text-align: right;\n",
       "    }\n",
       "</style>\n",
       "<table border=\"1\" class=\"dataframe\">\n",
       "  <thead>\n",
       "    <tr style=\"text-align: right;\">\n",
       "      <th></th>\n",
       "      <th>channelname</th>\n",
       "      <th>growth_ratio</th>\n",
       "    </tr>\n",
       "  </thead>\n",
       "  <tbody>\n",
       "    <tr>\n",
       "      <th>0</th>\n",
       "      <td>꽈뚜룹</td>\n",
       "      <td>70000</td>\n",
       "    </tr>\n",
       "    <tr>\n",
       "      <th>1</th>\n",
       "      <td>야전삽짱재</td>\n",
       "      <td>11000</td>\n",
       "    </tr>\n",
       "    <tr>\n",
       "      <th>2</th>\n",
       "      <td>츄정ChuJeong</td>\n",
       "      <td>1000</td>\n",
       "    </tr>\n",
       "    <tr>\n",
       "      <th>3</th>\n",
       "      <td>논리왕 전기</td>\n",
       "      <td>-11000</td>\n",
       "    </tr>\n",
       "    <tr>\n",
       "      <th>4</th>\n",
       "      <td>와글와글 WagleWagle</td>\n",
       "      <td>0</td>\n",
       "    </tr>\n",
       "    <tr>\n",
       "      <th>5</th>\n",
       "      <td>조나단</td>\n",
       "      <td>12000</td>\n",
       "    </tr>\n",
       "    <tr>\n",
       "      <th>6</th>\n",
       "      <td>형사!탐정되다</td>\n",
       "      <td>10300</td>\n",
       "    </tr>\n",
       "    <tr>\n",
       "      <th>7</th>\n",
       "      <td>김농밀의 농밀한 삶</td>\n",
       "      <td>1540</td>\n",
       "    </tr>\n",
       "    <tr>\n",
       "      <th>8</th>\n",
       "      <td>릴펄 Lilpearl</td>\n",
       "      <td>11000</td>\n",
       "    </tr>\n",
       "    <tr>\n",
       "      <th>9</th>\n",
       "      <td>곽토리 kwak tori</td>\n",
       "      <td>-2000</td>\n",
       "    </tr>\n",
       "    <tr>\n",
       "      <th>10</th>\n",
       "      <td>Balming Tiger</td>\n",
       "      <td>2500</td>\n",
       "    </tr>\n",
       "  </tbody>\n",
       "</table>\n",
       "</div>"
      ],
      "text/plain": [
       "        channelname  growth_ratio\n",
       "0               꽈뚜룹         70000\n",
       "1             야전삽짱재         11000\n",
       "2        츄정ChuJeong          1000\n",
       "3            논리왕 전기        -11000\n",
       "4   와글와글 WagleWagle             0\n",
       "5               조나단         12000\n",
       "6           형사!탐정되다         10300\n",
       "7        김농밀의 농밀한 삶          1540\n",
       "8       릴펄 Lilpearl         11000\n",
       "9     곽토리 kwak tori         -2000\n",
       "10    Balming Tiger          2500"
      ]
     },
     "metadata": {},
     "output_type": "display_data"
    }
   ],
   "source": [
    "# 1. 필터링을 위한 기준 생성\n",
    "oct_time = '2021-10-03 03'\n",
    "nov_time = '2021-11-01 15'\n",
    "\n",
    "# 2. 데이터프레임 생성\n",
    "# dt.strftime(): 날짜형을 str 형으로 형변환하는 함수.\n",
    "#   - 날짜형을 str 형으로 형변환하여 oct_time 그리고 nov_time과 비교하는 것.\n",
    "oct_df = channel.loc[channel['ct'].dt.strftime('%Y-%m-%d %H') == oct_time]\n",
    "nov_df = channel.loc[channel['ct'].dt.strftime('%Y-%m-%d %H') == nov_time]\n",
    "\n",
    "# 3. 데이터프레임을 합치기 전 subcnt의 명칭을 변경(증가율을 계산할 때 중복된 명칭이면 안되기 때문).\n",
    "oct_df = oct_df.rename(columns = {'subcnt' : 'subcnt_oct'})\n",
    "nov_df = nov_df.rename(columns = {'subcnt' : 'subcnt_nov'})\n",
    "\n",
    "# 4. 필터링한 두 데이터프레임을 channelId를 기준으로 merge. \n",
    "# (각 채널에 대한 빈도수를 구하기 때문에 channelId를 기준으로 한다.)\n",
    "# on = 'channelname': 채널 별 구독자 수(subcnt)를 구하기에 channelname으로 병합한다. (그렇지 않으면 channelname_x와 channelname_y로 두 개의 컬럼이 생성된다).\n",
    "merged_df = pd.merge(oct_df, nov_df, on = 'channelname', how = 'inner')\n",
    "\n",
    "# 5. 병합된 데이터프레임(merged_df)에서 증가율을 새로운 컬럼으로 생성\n",
    "merged_df['growth_ratio'] = (merged_df['subcnt_nov'] - merged_df['subcnt_oct'])\n",
    "\n",
    "# 6. 결과 출력\n",
    "Ans = merged_df[['channelname', 'growth_ratio']]\n",
    "display(Ans)"
   ]
  },
  {
   "cell_type": "markdown",
   "id": "80d9de85",
   "metadata": {},
   "source": [
    "# Question 17.\n",
    "- 각 비디오는 10분 간격으로 구독자 수, 좋아요, 싫어요 수, 댓글 수가 수집되었다. `videoname`컬럼의 `공범 EP1`값의 비디오 정보 데이터 중 수집 간격이 5분 이하, 20분 이상인 데이터 구간 (해당 시점 전과 후)의 시각을 모두 출력하라."
   ]
  },
  {
   "cell_type": "code",
   "execution_count": 9,
   "id": "85cb6236",
   "metadata": {},
   "outputs": [
    {
     "data": {
      "text/plain": [
       "'< idx 필터링 결과 >'"
      ]
     },
     "metadata": {},
     "output_type": "display_data"
    },
    {
     "data": {
      "text/plain": [
       "Index([721, 722, 1636], dtype='int64')"
      ]
     },
     "metadata": {},
     "output_type": "display_data"
    },
    {
     "data": {
      "text/plain": [
       "'< target_idx 필터링 결과 >'"
      ]
     },
     "metadata": {},
     "output_type": "display_data"
    },
    {
     "data": {
      "text/plain": [
       "Index([720, 721, 722, 723, 1635, 1636, 1637], dtype='int64')"
      ]
     },
     "metadata": {},
     "output_type": "display_data"
    },
    {
     "data": {
      "text/html": [
       "<div>\n",
       "<style scoped>\n",
       "    .dataframe tbody tr th:only-of-type {\n",
       "        vertical-align: middle;\n",
       "    }\n",
       "\n",
       "    .dataframe tbody tr th {\n",
       "        vertical-align: top;\n",
       "    }\n",
       "\n",
       "    .dataframe thead th {\n",
       "        text-align: right;\n",
       "    }\n",
       "</style>\n",
       "<table border=\"1\" class=\"dataframe\">\n",
       "  <thead>\n",
       "    <tr style=\"text-align: right;\">\n",
       "      <th></th>\n",
       "      <th>videopk</th>\n",
       "      <th>viewcnt</th>\n",
       "      <th>likecnt</th>\n",
       "      <th>dislikecnt</th>\n",
       "      <th>favoritecnt</th>\n",
       "      <th>cmcnt</th>\n",
       "      <th>ct</th>\n",
       "      <th>videoname</th>\n",
       "      <th>time_diff</th>\n",
       "    </tr>\n",
       "  </thead>\n",
       "  <tbody>\n",
       "    <tr>\n",
       "      <th>720</th>\n",
       "      <td>c5JQp6xafqc</td>\n",
       "      <td>2153676</td>\n",
       "      <td>34104</td>\n",
       "      <td>830</td>\n",
       "      <td>0</td>\n",
       "      <td>7120</td>\n",
       "      <td>2021-10-12 19:20:03</td>\n",
       "      <td>공범 EP1</td>\n",
       "      <td>10.016667</td>\n",
       "    </tr>\n",
       "    <tr>\n",
       "      <th>721</th>\n",
       "      <td>c5JQp6xafqc</td>\n",
       "      <td>2228250</td>\n",
       "      <td>34559</td>\n",
       "      <td>849</td>\n",
       "      <td>0</td>\n",
       "      <td>7191</td>\n",
       "      <td>2021-10-13 09:41:37</td>\n",
       "      <td>공범 EP1</td>\n",
       "      <td>861.566667</td>\n",
       "    </tr>\n",
       "    <tr>\n",
       "      <th>722</th>\n",
       "      <td>c5JQp6xafqc</td>\n",
       "      <td>2228250</td>\n",
       "      <td>34559</td>\n",
       "      <td>849</td>\n",
       "      <td>0</td>\n",
       "      <td>7191</td>\n",
       "      <td>2021-10-13 09:41:37</td>\n",
       "      <td>공범 EP1</td>\n",
       "      <td>0.000000</td>\n",
       "    </tr>\n",
       "    <tr>\n",
       "      <th>723</th>\n",
       "      <td>c5JQp6xafqc</td>\n",
       "      <td>2228669</td>\n",
       "      <td>34566</td>\n",
       "      <td>849</td>\n",
       "      <td>0</td>\n",
       "      <td>7194</td>\n",
       "      <td>2021-10-13 09:50:03</td>\n",
       "      <td>공범 EP1</td>\n",
       "      <td>8.433333</td>\n",
       "    </tr>\n",
       "    <tr>\n",
       "      <th>1635</th>\n",
       "      <td>c5JQp6xafqc</td>\n",
       "      <td>2706691</td>\n",
       "      <td>37893</td>\n",
       "      <td>987</td>\n",
       "      <td>0</td>\n",
       "      <td>7410</td>\n",
       "      <td>2021-10-19 17:50:02</td>\n",
       "      <td>공범 EP1</td>\n",
       "      <td>10.000000</td>\n",
       "    </tr>\n",
       "    <tr>\n",
       "      <th>1636</th>\n",
       "      <td>c5JQp6xafqc</td>\n",
       "      <td>2707933</td>\n",
       "      <td>37901</td>\n",
       "      <td>988</td>\n",
       "      <td>0</td>\n",
       "      <td>7410</td>\n",
       "      <td>2021-10-19 18:20:03</td>\n",
       "      <td>공범 EP1</td>\n",
       "      <td>30.016667</td>\n",
       "    </tr>\n",
       "    <tr>\n",
       "      <th>1637</th>\n",
       "      <td>c5JQp6xafqc</td>\n",
       "      <td>2708448</td>\n",
       "      <td>37903</td>\n",
       "      <td>988</td>\n",
       "      <td>0</td>\n",
       "      <td>7410</td>\n",
       "      <td>2021-10-19 18:30:03</td>\n",
       "      <td>공범 EP1</td>\n",
       "      <td>10.000000</td>\n",
       "    </tr>\n",
       "  </tbody>\n",
       "</table>\n",
       "</div>"
      ],
      "text/plain": [
       "          videopk  viewcnt  likecnt  dislikecnt  favoritecnt  cmcnt  \\\n",
       "720   c5JQp6xafqc  2153676    34104         830            0   7120   \n",
       "721   c5JQp6xafqc  2228250    34559         849            0   7191   \n",
       "722   c5JQp6xafqc  2228250    34559         849            0   7191   \n",
       "723   c5JQp6xafqc  2228669    34566         849            0   7194   \n",
       "1635  c5JQp6xafqc  2706691    37893         987            0   7410   \n",
       "1636  c5JQp6xafqc  2707933    37901         988            0   7410   \n",
       "1637  c5JQp6xafqc  2708448    37903         988            0   7410   \n",
       "\n",
       "                      ct videoname   time_diff  \n",
       "720  2021-10-12 19:20:03    공범 EP1   10.016667  \n",
       "721  2021-10-13 09:41:37    공범 EP1  861.566667  \n",
       "722  2021-10-13 09:41:37    공범 EP1    0.000000  \n",
       "723  2021-10-13 09:50:03    공범 EP1    8.433333  \n",
       "1635 2021-10-19 17:50:02    공범 EP1   10.000000  \n",
       "1636 2021-10-19 18:20:03    공범 EP1   30.016667  \n",
       "1637 2021-10-19 18:30:03    공범 EP1   10.000000  "
      ]
     },
     "execution_count": 9,
     "metadata": {},
     "output_type": "execute_result"
    }
   ],
   "source": [
    "# 1. videoname이 공범 EP1인 데이터만을 필터링\n",
    "# 놀랍게도 ' 공범 EP1'로 필터링해야 한다. (따라서 str.strip()을 통해 깔끔하게 필터링한다).\n",
    "target = video.loc[video['videoname'].str.strip() == '공범 EP1'].copy()\n",
    "\n",
    "# 2. 날짜 기준으로 차이를 계산해야 하기 때문에 날짜 기준 정렬.\n",
    "#   - reset_index(): 현재기준 전과 후의 행도 필터링해야하기 때문에 index를 사용하는 경우 발생\n",
    "#       -> 따라서 현재 문제에서는 sort 후 index를 재정리 해 둘 필요가 있음.\n",
    "target = target.sort_values('ct').reset_index(drop = True)\n",
    "\n",
    "# 3. 추출한 데이터프레임 target에서 시간 차이를 계산하여 새로운 컬럼 생성.\n",
    "#   - dt.total_seconds(): datetime의 차이를 초 단위로 변환해 준다.\n",
    "'''\n",
    "< datetime의 자료형 >\n",
    "1. 일반 datetime\n",
    "    - 일반 datetime의 자료형은 datetime.datetime이다.\n",
    "2. datetime 끼리의 차이\n",
    "    - datetime으로 계산한 datetime의 차이는 자료형이 datetime.timedelta이다.\n",
    "\n",
    "** 결론 **\n",
    "- dt.total_seconds()는 정확히는 datetime의 차이를 초단위로 변환해 주기에 datetime.timedelta에 적용되는 함수이다.\n",
    "'''\n",
    "target['time_diff'] = target['ct'].diff().dt.total_seconds() / 60\n",
    "\n",
    "# 4. 5분 이하, 20분 이상에 속하는 데이터의 index를 필터링하여 idx 추출\n",
    "#   - index를 필터링하는 이유는 전과 후의 데이터도 추출해야하기 때문에 위치기반 추출(iloc)을 해야한다.\n",
    "#   - (정확히는 정수형 필터링은 loc도 가능하지만 index를 사용하니 iloc을 사용하는 것이 형식상 맞다 이해하면 된다.)\n",
    "#   - 이때 idx는 `.index`로 필터링된 index 객체이다. (Series 아님).\n",
    "idx = target.loc[(target['time_diff'] <= 5) | (target['time_diff'] >= 20)].index\n",
    "display('< idx 필터링 결과 >', idx)\n",
    "\n",
    "# 5. 추출한 index를 기반으로 전과 후의 index를 필터링\n",
    "#   - target_idx 또한 idx를 기반으로 추출된 index 객체이다. (Series 아님).\n",
    "target_idx = idx.union(idx - 1).union(idx + 1)\n",
    "display('< target_idx 필터링 결과 >', target_idx)\n",
    "\n",
    "# 6. 추출한 index 중 범위 기준(0과 len(target) 사이)을 만족하는 index만 필터링\n",
    "target_idx = target_idx[(target_idx >= 0) & (target_idx < len(target))]\n",
    "\n",
    "# 7. 결과 출력\n",
    "#   - 굳이 target_idx를 정렬해 줄 필요는 없다. 그럼에도 한 이유는 날짜(ct)로 정렬되어 보기에 하기 위함이다.\n",
    "Ans = target.iloc[target_idx.sort_values()]\n",
    "Ans"
   ]
  },
  {
   "cell_type": "markdown",
   "id": "f1892081",
   "metadata": {},
   "source": [
    "# Question 18.\n",
    "- video 데이터프레임의 각 videoname의 시작날짜(년-월-일)를 에피소드 이름과 묶어 데이터프레임으로 만들고 출력하라."
   ]
  },
  {
   "cell_type": "code",
   "execution_count": 25,
   "id": "1471196d",
   "metadata": {},
   "outputs": [
    {
     "data": {
      "text/html": [
       "<div>\n",
       "<style scoped>\n",
       "    .dataframe tbody tr th:only-of-type {\n",
       "        vertical-align: middle;\n",
       "    }\n",
       "\n",
       "    .dataframe tbody tr th {\n",
       "        vertical-align: top;\n",
       "    }\n",
       "\n",
       "    .dataframe thead th {\n",
       "        text-align: right;\n",
       "    }\n",
       "</style>\n",
       "<table border=\"1\" class=\"dataframe\">\n",
       "  <thead>\n",
       "    <tr style=\"text-align: right;\">\n",
       "      <th></th>\n",
       "      <th>videoname</th>\n",
       "      <th>date</th>\n",
       "    </tr>\n",
       "  </thead>\n",
       "  <tbody>\n",
       "    <tr>\n",
       "      <th>0</th>\n",
       "      <td>공범 EP1</td>\n",
       "      <td>2021-10-07</td>\n",
       "    </tr>\n",
       "    <tr>\n",
       "      <th>1</th>\n",
       "      <td>공범 EP2</td>\n",
       "      <td>2021-10-09</td>\n",
       "    </tr>\n",
       "    <tr>\n",
       "      <th>2</th>\n",
       "      <td>공범 EP3</td>\n",
       "      <td>2021-10-14</td>\n",
       "    </tr>\n",
       "    <tr>\n",
       "      <th>3</th>\n",
       "      <td>공범 EP4</td>\n",
       "      <td>2021-10-16</td>\n",
       "    </tr>\n",
       "    <tr>\n",
       "      <th>4</th>\n",
       "      <td>공범 EP5</td>\n",
       "      <td>2021-10-21</td>\n",
       "    </tr>\n",
       "    <tr>\n",
       "      <th>5</th>\n",
       "      <td>공범 EP6</td>\n",
       "      <td>2021-10-23</td>\n",
       "    </tr>\n",
       "    <tr>\n",
       "      <th>6</th>\n",
       "      <td>공범 EP7</td>\n",
       "      <td>2021-10-28</td>\n",
       "    </tr>\n",
       "    <tr>\n",
       "      <th>7</th>\n",
       "      <td>공범 EP8</td>\n",
       "      <td>2021-10-30</td>\n",
       "    </tr>\n",
       "  </tbody>\n",
       "</table>\n",
       "</div>"
      ],
      "text/plain": [
       "  videoname        date\n",
       "0    공범 EP1  2021-10-07\n",
       "1    공범 EP2  2021-10-09\n",
       "2    공범 EP3  2021-10-14\n",
       "3    공범 EP4  2021-10-16\n",
       "4    공범 EP5  2021-10-21\n",
       "5    공범 EP6  2021-10-23\n",
       "6    공범 EP7  2021-10-28\n",
       "7    공범 EP8  2021-10-30"
      ]
     },
     "execution_count": 25,
     "metadata": {},
     "output_type": "execute_result"
    }
   ],
   "source": [
    "# 1. video 데이터프레임의 ct 컬럼에서 날짜만 추출. `년-월-일`` 형식을 맞추기 위해.\n",
    "video['date'] = video['ct'].dt.date\n",
    "\n",
    "# 2. videoname으로 그룹화\n",
    "#   -> 'date'컬럼만을 필터링\n",
    "#   -> min(): 가장 최신 날짜를 가져오기 위함.\n",
    "#   -> reset_index(): DataFrame 형태로 보기 편하게 하기 위해 사용. \n",
    "Ans = video.groupby('videoname')['date'].min().reset_index()\n",
    "Ans\n"
   ]
  },
  {
   "cell_type": "markdown",
   "id": "2a5af5ca",
   "metadata": {},
   "source": [
    "# Question 19.\n",
    "- video 데이터프레임의 `공범` 컨텐츠의 경우 19:00시에 공개 되는 것으로 알려져 있다. 공범 컨텐츠(videoname 컬럼)별로 공개된 날의 21시의 viewcnt, ct, 그리고 videoname으로 구성된 데이터프레임을 viewcnt를 내림차순으로 정렬하고, viewcnt가 가장 큰 데이터를 출력하라."
   ]
  },
  {
   "cell_type": "code",
   "execution_count": 48,
   "id": "86a42e23",
   "metadata": {},
   "outputs": [
    {
     "data": {
      "text/html": [
       "<div>\n",
       "<style scoped>\n",
       "    .dataframe tbody tr th:only-of-type {\n",
       "        vertical-align: middle;\n",
       "    }\n",
       "\n",
       "    .dataframe tbody tr th {\n",
       "        vertical-align: top;\n",
       "    }\n",
       "\n",
       "    .dataframe thead th {\n",
       "        text-align: right;\n",
       "    }\n",
       "</style>\n",
       "<table border=\"1\" class=\"dataframe\">\n",
       "  <thead>\n",
       "    <tr style=\"text-align: right;\">\n",
       "      <th></th>\n",
       "      <th>videoname</th>\n",
       "      <th>viewcnt</th>\n",
       "      <th>ct</th>\n",
       "    </tr>\n",
       "  </thead>\n",
       "  <tbody>\n",
       "    <tr>\n",
       "      <th>0</th>\n",
       "      <td>공범 EP1</td>\n",
       "      <td>3161641</td>\n",
       "      <td>2021-10-31 21:50:02</td>\n",
       "    </tr>\n",
       "    <tr>\n",
       "      <th>1</th>\n",
       "      <td>공범 EP2</td>\n",
       "      <td>2185062</td>\n",
       "      <td>2021-10-31 21:50:02</td>\n",
       "    </tr>\n",
       "    <tr>\n",
       "      <th>2</th>\n",
       "      <td>공범 EP3</td>\n",
       "      <td>1658039</td>\n",
       "      <td>2021-10-31 21:50:03</td>\n",
       "    </tr>\n",
       "    <tr>\n",
       "      <th>3</th>\n",
       "      <td>공범 EP4</td>\n",
       "      <td>1804957</td>\n",
       "      <td>2021-10-31 21:50:03</td>\n",
       "    </tr>\n",
       "    <tr>\n",
       "      <th>4</th>\n",
       "      <td>공범 EP5</td>\n",
       "      <td>1488913</td>\n",
       "      <td>2021-10-31 21:50:03</td>\n",
       "    </tr>\n",
       "    <tr>\n",
       "      <th>5</th>\n",
       "      <td>공범 EP6</td>\n",
       "      <td>1730661</td>\n",
       "      <td>2021-10-31 21:50:04</td>\n",
       "    </tr>\n",
       "    <tr>\n",
       "      <th>6</th>\n",
       "      <td>공범 EP7</td>\n",
       "      <td>1594029</td>\n",
       "      <td>2021-10-31 21:50:04</td>\n",
       "    </tr>\n",
       "    <tr>\n",
       "      <th>7</th>\n",
       "      <td>공범 EP8</td>\n",
       "      <td>1170183</td>\n",
       "      <td>2021-10-31 21:50:04</td>\n",
       "    </tr>\n",
       "  </tbody>\n",
       "</table>\n",
       "</div>"
      ],
      "text/plain": [
       "  videoname  viewcnt                  ct\n",
       "0    공범 EP1  3161641 2021-10-31 21:50:02\n",
       "1    공범 EP2  2185062 2021-10-31 21:50:02\n",
       "2    공범 EP3  1658039 2021-10-31 21:50:03\n",
       "3    공범 EP4  1804957 2021-10-31 21:50:03\n",
       "4    공범 EP5  1488913 2021-10-31 21:50:03\n",
       "5    공범 EP6  1730661 2021-10-31 21:50:04\n",
       "6    공범 EP7  1594029 2021-10-31 21:50:04\n",
       "7    공범 EP8  1170183 2021-10-31 21:50:04"
      ]
     },
     "execution_count": 48,
     "metadata": {},
     "output_type": "execute_result"
    }
   ],
   "source": [
    "# 1.19:00 시와 21 시 등 시간을 처리와 날짜를 출력하기 위해 파생변수를 생성한다.\n",
    "# 시간\n",
    "video['hour'] = video['ct'].dt.hour\n",
    "# 날짜\n",
    "video['date'] = video['ct'].dt.date\n",
    "\n",
    "# 2. 19:00 시를 기준으로 공개된 날짜 필터링\n",
    "#   - 분단위 이하를 생략하는 이유는 초단위 비교연산에서는 에러가 생길 수 있기 때문이다. (부동소수점과 유사).\n",
    "#   - unique(): 날짜만 추출하면 되기에 필요없는 중복을 제거한다.\n",
    "release_dates = video.loc[video['hour'] == 19, 'date'].unique()\n",
    "\n",
    "# 3. video 데이터프레임에서 release_dates와 21시에 해당하는 행만을 필터링.\n",
    "target = video.loc[(video['date'].isin(release_dates)) & (video['hour'] == 21)]\n",
    "\n",
    "# 4. 정답\n",
    "#   - sort_values(): viewcnt를 기준으로 내림차순 정렬 조건을 만족하기 위해 설정.\n",
    "#   - groupby(): 공범 컨텐츠별로 출력하기 위해 설정.\n",
    "#   - first(): viewcnt가 가장 큰 데이터를 출력하기 위해 사용.\n",
    "Ans = target[['viewcnt', 'ct', 'videoname']].sort_values(by = 'viewcnt', ascending = False).groupby('videoname', as_index = False).first()\n",
    "Ans"
   ]
  },
  {
   "cell_type": "markdown",
   "id": "0122095a",
   "metadata": {},
   "source": [
    "# Question 20.\n",
    "- video 데이터프레임에서 videoname 별로 가장 최근 데이터를 필터링하고, 각 에피소드의 `싫어요의 수/좋아요의 수` 비율을 ratio 컬럼으로 만들어라. 그 후 videoname, ratio로 구성된 데이터프레임을 ratio를 기준으로 오름차순으로 정렬하라."
   ]
  },
  {
   "cell_type": "code",
   "execution_count": 57,
   "id": "dfdfada3",
   "metadata": {},
   "outputs": [
    {
     "data": {
      "text/html": [
       "<div>\n",
       "<style scoped>\n",
       "    .dataframe tbody tr th:only-of-type {\n",
       "        vertical-align: middle;\n",
       "    }\n",
       "\n",
       "    .dataframe tbody tr th {\n",
       "        vertical-align: top;\n",
       "    }\n",
       "\n",
       "    .dataframe thead th {\n",
       "        text-align: right;\n",
       "    }\n",
       "</style>\n",
       "<table border=\"1\" class=\"dataframe\">\n",
       "  <thead>\n",
       "    <tr style=\"text-align: right;\">\n",
       "      <th></th>\n",
       "      <th>videoname</th>\n",
       "      <th>ratio</th>\n",
       "    </tr>\n",
       "  </thead>\n",
       "  <tbody>\n",
       "    <tr>\n",
       "      <th>6</th>\n",
       "      <td>공범 EP7</td>\n",
       "      <td>0.013636</td>\n",
       "    </tr>\n",
       "    <tr>\n",
       "      <th>5</th>\n",
       "      <td>공범 EP6</td>\n",
       "      <td>0.015881</td>\n",
       "    </tr>\n",
       "    <tr>\n",
       "      <th>3</th>\n",
       "      <td>공범 EP4</td>\n",
       "      <td>0.017971</td>\n",
       "    </tr>\n",
       "    <tr>\n",
       "      <th>4</th>\n",
       "      <td>공범 EP5</td>\n",
       "      <td>0.021128</td>\n",
       "    </tr>\n",
       "    <tr>\n",
       "      <th>2</th>\n",
       "      <td>공범 EP3</td>\n",
       "      <td>0.022360</td>\n",
       "    </tr>\n",
       "    <tr>\n",
       "      <th>0</th>\n",
       "      <td>공범 EP1</td>\n",
       "      <td>0.027118</td>\n",
       "    </tr>\n",
       "    <tr>\n",
       "      <th>1</th>\n",
       "      <td>공범 EP2</td>\n",
       "      <td>0.029844</td>\n",
       "    </tr>\n",
       "    <tr>\n",
       "      <th>7</th>\n",
       "      <td>공범 EP8</td>\n",
       "      <td>0.141357</td>\n",
       "    </tr>\n",
       "  </tbody>\n",
       "</table>\n",
       "</div>"
      ],
      "text/plain": [
       "  videoname     ratio\n",
       "6    공범 EP7  0.013636\n",
       "5    공범 EP6  0.015881\n",
       "3    공범 EP4  0.017971\n",
       "4    공범 EP5  0.021128\n",
       "2    공범 EP3  0.022360\n",
       "0    공범 EP1  0.027118\n",
       "1    공범 EP2  0.029844\n",
       "7    공범 EP8  0.141357"
      ]
     },
     "execution_count": 57,
     "metadata": {},
     "output_type": "execute_result"
    }
   ],
   "source": [
    "# 1. 우선 최근 데이터를 필터링하기 위해 내림차순 정렬.\n",
    "target = video.sort_values('ct', ascending = False)\n",
    "target\n",
    "\n",
    "# 2. 가장 최근 데이터를 필터링하기 위해 groupby() 사용.\n",
    "target = target.groupby('videoname').first().reset_index()\n",
    "target\n",
    "\n",
    "# 3. ratio 컬럼 생성\n",
    "target['ratio'] = target['dislikecnt'] / target['likecnt']\n",
    "\n",
    "# 4. videoname과 ratio컬럼만을 필터링\n",
    "Ans = target[['videoname', 'ratio']]\n",
    "\n",
    "# 5. ratio 컬럼을 기준으로 오름차순 정렬\n",
    "Ans = Ans.sort_values('ratio', ascending = True)\n",
    "Ans"
   ]
  },
  {
   "cell_type": "markdown",
   "id": "8e4ab1c1",
   "metadata": {},
   "source": [
    "# Question 21.\n",
    "- video 데이터프레임의 2021-11-01 00:00:00 ~ 15:00:00 사이의 각 에피소드(videoname)별 viewcnt의 증가량을 데이터프레임으로 만드시오."
   ]
  },
  {
   "cell_type": "code",
   "execution_count": 94,
   "id": "0a94dc81",
   "metadata": {},
   "outputs": [
    {
     "data": {
      "text/html": [
       "<div>\n",
       "<style scoped>\n",
       "    .dataframe tbody tr th:only-of-type {\n",
       "        vertical-align: middle;\n",
       "    }\n",
       "\n",
       "    .dataframe tbody tr th {\n",
       "        vertical-align: top;\n",
       "    }\n",
       "\n",
       "    .dataframe thead th {\n",
       "        text-align: right;\n",
       "    }\n",
       "</style>\n",
       "<table border=\"1\" class=\"dataframe\">\n",
       "  <thead>\n",
       "    <tr style=\"text-align: right;\">\n",
       "      <th></th>\n",
       "      <th>viewcnt</th>\n",
       "    </tr>\n",
       "    <tr>\n",
       "      <th>videoname</th>\n",
       "      <th></th>\n",
       "    </tr>\n",
       "  </thead>\n",
       "  <tbody>\n",
       "    <tr>\n",
       "      <th>공범 EP1</th>\n",
       "      <td>13298</td>\n",
       "    </tr>\n",
       "    <tr>\n",
       "      <th>공범 EP2</th>\n",
       "      <td>10300</td>\n",
       "    </tr>\n",
       "    <tr>\n",
       "      <th>공범 EP3</th>\n",
       "      <td>9927</td>\n",
       "    </tr>\n",
       "    <tr>\n",
       "      <th>공범 EP4</th>\n",
       "      <td>9824</td>\n",
       "    </tr>\n",
       "    <tr>\n",
       "      <th>공범 EP5</th>\n",
       "      <td>10824</td>\n",
       "    </tr>\n",
       "    <tr>\n",
       "      <th>공범 EP6</th>\n",
       "      <td>14141</td>\n",
       "    </tr>\n",
       "    <tr>\n",
       "      <th>공범 EP7</th>\n",
       "      <td>26949</td>\n",
       "    </tr>\n",
       "    <tr>\n",
       "      <th>공범 EP8</th>\n",
       "      <td>89147</td>\n",
       "    </tr>\n",
       "  </tbody>\n",
       "</table>\n",
       "</div>"
      ],
      "text/plain": [
       "           viewcnt\n",
       "videoname         \n",
       "공범 EP1       13298\n",
       "공범 EP2       10300\n",
       "공범 EP3        9927\n",
       "공범 EP4        9824\n",
       "공범 EP5       10824\n",
       "공범 EP6       14141\n",
       "공범 EP7       26949\n",
       "공범 EP8       89147"
      ]
     },
     "execution_count": 94,
     "metadata": {},
     "output_type": "execute_result"
    }
   ],
   "source": [
    "# 1. 2021-11-01 00:00:00 ~ 15:00:00의 데이터를 필터링\n",
    "#   - 범위로 필터링: `==` 연산자를 통한 비교는 `초단위` 비교에서 문제가 발생하기에 범위로 필터링하여 처리하는 것이 좋다.\n",
    "start = pd.to_datetime('2021-11-01 00:00:00')\n",
    "end = pd.to_datetime('2021-11-01 15:00:00')\n",
    "\n",
    "# 기간 필터링\n",
    "target = video.loc[(video['ct'] >= start) & (video['ct'] <= end)].reset_index(drop = True)\n",
    "\n",
    "# 2. 마지막 날짜와 첫 날짜를 추출하기 위해 날짜를 기준으로 정렬\n",
    "target = target.sort_values(['videoname', 'ct'], ascending= True)\n",
    "\n",
    "# 3. 시작 시간대의 viewcnt와 끝 시간대의 viewcnr를 출력\n",
    "#   - 오름차순: 가장 과거 데이터가 첫 번째로 온다.\n",
    "start_view = target.groupby('videoname').first()\n",
    "end_view = target.groupby('videoname').last()\n",
    "\n",
    "# 4. 차이를 계산한 시리즈 생성\n",
    "Ans = end_view['viewcnt'] - start_view['viewcnt']\n",
    "\n",
    "# 5. index(viewname)를 기준으로 데이터프레임을 생성. (답의 형식을 맞추기 위해).\n",
    "#   - to_frame(name = ): 데이터프레임으로 만들기 때문에 컬럼명을 주어야 한다.\n",
    "Ans = Ans.to_frame(name = 'viewcnt')\n",
    "Ans\n"
   ]
  },
  {
   "cell_type": "markdown",
   "id": "3fb411cd",
   "metadata": {},
   "source": [
    "# Question 22.\n",
    "- video 데이터프레임에는 중복되는 데이터가 존재한다. 날짜(ct)와 에피소드(videoname)를 기준으로 중복된 행을 출력하되 중복행중 가장 마지막 행을 출력하라."
   ]
  },
  {
   "cell_type": "code",
   "execution_count": null,
   "id": "19586378",
   "metadata": {},
   "outputs": [
    {
     "data": {
      "text/html": [
       "<div>\n",
       "<style scoped>\n",
       "    .dataframe tbody tr th:only-of-type {\n",
       "        vertical-align: middle;\n",
       "    }\n",
       "\n",
       "    .dataframe tbody tr th {\n",
       "        vertical-align: top;\n",
       "    }\n",
       "\n",
       "    .dataframe thead th {\n",
       "        text-align: right;\n",
       "    }\n",
       "</style>\n",
       "<table border=\"1\" class=\"dataframe\">\n",
       "  <thead>\n",
       "    <tr style=\"text-align: right;\">\n",
       "      <th></th>\n",
       "      <th>videopk</th>\n",
       "      <th>viewcnt</th>\n",
       "      <th>likecnt</th>\n",
       "      <th>dislikecnt</th>\n",
       "      <th>favoritecnt</th>\n",
       "      <th>cmcnt</th>\n",
       "      <th>ct</th>\n",
       "      <th>videoname</th>\n",
       "      <th>date</th>\n",
       "      <th>hour</th>\n",
       "    </tr>\n",
       "  </thead>\n",
       "  <tbody>\n",
       "    <tr>\n",
       "      <th>722</th>\n",
       "      <td>c5JQp6xafqc</td>\n",
       "      <td>2228250</td>\n",
       "      <td>34559</td>\n",
       "      <td>849</td>\n",
       "      <td>0</td>\n",
       "      <td>7191</td>\n",
       "      <td>2021-10-13 09:41:37</td>\n",
       "      <td>공범 EP1</td>\n",
       "      <td>2021-10-13</td>\n",
       "      <td>9</td>\n",
       "    </tr>\n",
       "    <tr>\n",
       "      <th>3927</th>\n",
       "      <td>23QQ1ru9YQg</td>\n",
       "      <td>1408005</td>\n",
       "      <td>20484</td>\n",
       "      <td>554</td>\n",
       "      <td>0</td>\n",
       "      <td>8567</td>\n",
       "      <td>2021-10-13 09:41:37</td>\n",
       "      <td>공범 EP2</td>\n",
       "      <td>2021-10-13</td>\n",
       "      <td>9</td>\n",
       "    </tr>\n",
       "  </tbody>\n",
       "</table>\n",
       "</div>"
      ],
      "text/plain": [
       "          videopk  viewcnt  likecnt  dislikecnt  favoritecnt  cmcnt  \\\n",
       "722   c5JQp6xafqc  2228250    34559         849            0   7191   \n",
       "3927  23QQ1ru9YQg  1408005    20484         554            0   8567   \n",
       "\n",
       "                      ct videoname        date  hour  \n",
       "722  2021-10-13 09:41:37    공범 EP1  2021-10-13     9  \n",
       "3927 2021-10-13 09:41:37    공범 EP2  2021-10-13     9  "
      ]
     },
     "execution_count": 152,
     "metadata": {},
     "output_type": "execute_result"
    }
   ],
   "source": [
    "'''\n",
    "< dublicated() 함수 인자 >\n",
    "1. subset\n",
    "    - 중복 기준이 되는 컬럼들을 지정한다.\n",
    "    - 예: ['ct', 'videoname']은 'ct'와 'videoname'이 중복인 행들만 필터링한다.\n",
    "    \n",
    "2. keep\n",
    "    - False: 중복되는 모든 행을 True로 한다.\n",
    "    - first: 각 중복되는 행 중 첫 번째 중복 행만을 False로 한다. (나머지 중복 행은 모두 True).\n",
    "    - last: 각 중복되는 행 중 마지막 중복 행만을 False로 한다. (나머지 중복 행은 모두 True).\n",
    "'''\n",
    "\n",
    "# 1. 우선 모든 중복 행을 필터링.\n",
    "all_dup = video.loc[video.duplicated(subset=['ct', 'videoname'], keep = False)].copy()\n",
    "\n",
    "# 2. all_dup에서 `keep = 'last'`를 통해 마지막 중복 행만을 False로 만들고 loc을 통해 False인 행만 추출.\n",
    "Ans = all_dup.loc[all_dup.duplicated(subset = ['ct', 'videoname'], keep = 'last') == False]\n",
    "Ans"
   ]
  },
  {
   "cell_type": "markdown",
   "id": "e95cfd7a",
   "metadata": {},
   "source": [
    "# Question 23.\n",
    "- 데이터를 로드하라."
   ]
  },
  {
   "cell_type": "code",
   "execution_count": 3,
   "id": "ff32d46f",
   "metadata": {},
   "outputs": [
    {
     "data": {
      "text/html": [
       "<div>\n",
       "<style scoped>\n",
       "    .dataframe tbody tr th:only-of-type {\n",
       "        vertical-align: middle;\n",
       "    }\n",
       "\n",
       "    .dataframe tbody tr th {\n",
       "        vertical-align: top;\n",
       "    }\n",
       "\n",
       "    .dataframe thead th {\n",
       "        text-align: right;\n",
       "    }\n",
       "</style>\n",
       "<table border=\"1\" class=\"dataframe\">\n",
       "  <thead>\n",
       "    <tr style=\"text-align: right;\">\n",
       "      <th></th>\n",
       "      <th>Player</th>\n",
       "      <th>Goals</th>\n",
       "      <th>Years</th>\n",
       "      <th>Country</th>\n",
       "    </tr>\n",
       "  </thead>\n",
       "  <tbody>\n",
       "    <tr>\n",
       "      <th>0</th>\n",
       "      <td>Miroslav Klose</td>\n",
       "      <td>16</td>\n",
       "      <td>2002-2006-2010-2014</td>\n",
       "      <td>Germany</td>\n",
       "    </tr>\n",
       "    <tr>\n",
       "      <th>1</th>\n",
       "      <td>Ronaldo</td>\n",
       "      <td>15</td>\n",
       "      <td>1998-2002-2006</td>\n",
       "      <td>Brazil</td>\n",
       "    </tr>\n",
       "    <tr>\n",
       "      <th>2</th>\n",
       "      <td>Gerd Muller</td>\n",
       "      <td>14</td>\n",
       "      <td>1970-1974</td>\n",
       "      <td>Germany</td>\n",
       "    </tr>\n",
       "    <tr>\n",
       "      <th>3</th>\n",
       "      <td>Just Fontaine</td>\n",
       "      <td>13</td>\n",
       "      <td>1958</td>\n",
       "      <td>France</td>\n",
       "    </tr>\n",
       "    <tr>\n",
       "      <th>4</th>\n",
       "      <td>Pele</td>\n",
       "      <td>12</td>\n",
       "      <td>1958-1962-1966-1970</td>\n",
       "      <td>Brazil</td>\n",
       "    </tr>\n",
       "  </tbody>\n",
       "</table>\n",
       "</div>"
      ],
      "text/plain": [
       "           Player  Goals                Years  Country\n",
       "0  Miroslav Klose     16  2002-2006-2010-2014  Germany\n",
       "1         Ronaldo     15       1998-2002-2006   Brazil\n",
       "2     Gerd Muller     14            1970-1974  Germany\n",
       "3   Just Fontaine     13                 1958   France\n",
       "4            Pele     12  1958-1962-1966-1970   Brazil"
      ]
     },
     "execution_count": 3,
     "metadata": {},
     "output_type": "execute_result"
    }
   ],
   "source": [
    "data = 'https://raw.githubusercontent.com/Datamanim/datarepo/main/worldcup/worldcupgoals.csv'\n",
    "df = pd.read_csv(data)\n",
    "\n",
    "df.head()"
   ]
  },
  {
   "cell_type": "code",
   "execution_count": null,
   "id": "f16640a5",
   "metadata": {},
   "outputs": [
    {
     "data": {
      "text/html": [
       "<div>\n",
       "<style scoped>\n",
       "    .dataframe tbody tr th:only-of-type {\n",
       "        vertical-align: middle;\n",
       "    }\n",
       "\n",
       "    .dataframe tbody tr th {\n",
       "        vertical-align: top;\n",
       "    }\n",
       "\n",
       "    .dataframe thead th {\n",
       "        text-align: right;\n",
       "    }\n",
       "</style>\n",
       "<table border=\"1\" class=\"dataframe\">\n",
       "  <thead>\n",
       "    <tr style=\"text-align: right;\">\n",
       "      <th></th>\n",
       "      <th>Player</th>\n",
       "      <th>Goals</th>\n",
       "      <th>Years</th>\n",
       "      <th>Country</th>\n",
       "    </tr>\n",
       "  </thead>\n",
       "  <tbody>\n",
       "    <tr>\n",
       "      <th>460</th>\n",
       "      <td>Goikoetxea</td>\n",
       "      <td>2</td>\n",
       "      <td>1994</td>\n",
       "      <td>Spain</td>\n",
       "    </tr>\n",
       "    <tr>\n",
       "      <th>1132</th>\n",
       "      <td>Goikoetxea</td>\n",
       "      <td>1</td>\n",
       "      <td>1986</td>\n",
       "      <td>Spain</td>\n",
       "    </tr>\n",
       "    <tr>\n",
       "      <th>839</th>\n",
       "      <td>Jozsef Toth</td>\n",
       "      <td>1</td>\n",
       "      <td>1954</td>\n",
       "      <td>Hungary</td>\n",
       "    </tr>\n",
       "    <tr>\n",
       "      <th>840</th>\n",
       "      <td>Jozsef Toth</td>\n",
       "      <td>1</td>\n",
       "      <td>1978-1982</td>\n",
       "      <td>Hungary</td>\n",
       "    </tr>\n",
       "    <tr>\n",
       "      <th>1137</th>\n",
       "      <td>Juanito</td>\n",
       "      <td>1</td>\n",
       "      <td>1978-1982</td>\n",
       "      <td>Spain</td>\n",
       "    </tr>\n",
       "    <tr>\n",
       "      <th>1138</th>\n",
       "      <td>Juanito</td>\n",
       "      <td>1</td>\n",
       "      <td>2006</td>\n",
       "      <td>Spain</td>\n",
       "    </tr>\n",
       "    <tr>\n",
       "      <th>599</th>\n",
       "      <td>Junior</td>\n",
       "      <td>1</td>\n",
       "      <td>1982-1986</td>\n",
       "      <td>Brazil</td>\n",
       "    </tr>\n",
       "    <tr>\n",
       "      <th>600</th>\n",
       "      <td>Junior</td>\n",
       "      <td>1</td>\n",
       "      <td>2002</td>\n",
       "      <td>Brazil</td>\n",
       "    </tr>\n",
       "  </tbody>\n",
       "</table>\n",
       "</div>"
      ],
      "text/plain": [
       "           Player  Goals      Years  Country\n",
       "460    Goikoetxea      2       1994    Spain\n",
       "1132   Goikoetxea      1       1986    Spain\n",
       "839   Jozsef Toth      1       1954  Hungary\n",
       "840   Jozsef Toth      1  1978-1982  Hungary\n",
       "1137      Juanito      1  1978-1982    Spain\n",
       "1138      Juanito      1       2006    Spain\n",
       "599        Junior      1  1982-1986   Brazil\n",
       "600        Junior      1       2002   Brazil"
      ]
     },
     "execution_count": 16,
     "metadata": {},
     "output_type": "execute_result"
    }
   ],
   "source": [
    "Ans = df.loc[df.duplicated('Player', keep = False)].sort_values('Player')\n",
    "Ans"
   ]
  },
  {
   "cell_type": "markdown",
   "id": "ec478978",
   "metadata": {},
   "source": [
    "# Question 24.\n",
    "- 주어진 전체 기간의 각 나라별 골득점수 상위 5개 국가와 그 득점수를 데이터프레임으로 출력하라."
   ]
  },
  {
   "cell_type": "code",
   "execution_count": 4,
   "id": "db615ddb",
   "metadata": {},
   "outputs": [
    {
     "data": {
      "text/html": [
       "<div>\n",
       "<style scoped>\n",
       "    .dataframe tbody tr th:only-of-type {\n",
       "        vertical-align: middle;\n",
       "    }\n",
       "\n",
       "    .dataframe tbody tr th {\n",
       "        vertical-align: top;\n",
       "    }\n",
       "\n",
       "    .dataframe thead th {\n",
       "        text-align: right;\n",
       "    }\n",
       "</style>\n",
       "<table border=\"1\" class=\"dataframe\">\n",
       "  <thead>\n",
       "    <tr style=\"text-align: right;\">\n",
       "      <th></th>\n",
       "      <th>Country</th>\n",
       "      <th>Goals</th>\n",
       "    </tr>\n",
       "  </thead>\n",
       "  <tbody>\n",
       "    <tr>\n",
       "      <th>0</th>\n",
       "      <td>Brazil</td>\n",
       "      <td>228</td>\n",
       "    </tr>\n",
       "    <tr>\n",
       "      <th>1</th>\n",
       "      <td>Germany</td>\n",
       "      <td>226</td>\n",
       "    </tr>\n",
       "    <tr>\n",
       "      <th>2</th>\n",
       "      <td>Argentina</td>\n",
       "      <td>135</td>\n",
       "    </tr>\n",
       "    <tr>\n",
       "      <th>3</th>\n",
       "      <td>Italy</td>\n",
       "      <td>123</td>\n",
       "    </tr>\n",
       "    <tr>\n",
       "      <th>4</th>\n",
       "      <td>France</td>\n",
       "      <td>115</td>\n",
       "    </tr>\n",
       "  </tbody>\n",
       "</table>\n",
       "</div>"
      ],
      "text/plain": [
       "     Country  Goals\n",
       "0     Brazil    228\n",
       "1    Germany    226\n",
       "2  Argentina    135\n",
       "3      Italy    123\n",
       "4     France    115"
      ]
     },
     "execution_count": 4,
     "metadata": {},
     "output_type": "execute_result"
    }
   ],
   "source": [
    "# 1. 나라별(groupby) 골 수를 합계(sum)로 하여 집계 후 골 수대로 내림차순 정렬(sort_values())\n",
    "Ans = df.groupby('Country').sum('Goals').sort_values('Goals', ascending = False).reset_index()\n",
    "\n",
    "# 2. 상위 다섯 개의 행만을 필터링.\n",
    "Ans.head(5)"
   ]
  },
  {
   "cell_type": "markdown",
   "id": "d3c2755f",
   "metadata": {},
   "source": [
    "# Question 25.\n",
    "- 주어진 전체 기간동안 골득점을 한 선수가 가장 많은 나라 상위 5개 국가와 그 선수의 수를 데이터프레임 형식으로 출력하라.\n",
    "- (마님 풀이의 경우 groupby().size()를 사용하셨는데 중복된 선수명이 있는 경우가 포함되어 현재 풀이와 결과가 조금 다르다)."
   ]
  },
  {
   "cell_type": "code",
   "execution_count": 17,
   "id": "d309c963",
   "metadata": {},
   "outputs": [
    {
     "data": {
      "text/plain": [
       "Country\n",
       "Brazil       80\n",
       "Germany      78\n",
       "Italy        60\n",
       "Argentina    59\n",
       "France       58\n",
       "Name: Player, dtype: int64"
      ]
     },
     "execution_count": 17,
     "metadata": {},
     "output_type": "execute_result"
    }
   ],
   "source": [
    "# 1. Country로 groupby하고, 선수들에 대해 nunique()로 총 범주의 종류를 count\n",
    "#   - nunique()는 범주의 종류의 수를 카운트하며 중복을 포함하지 않는다. 따라서 마님의 정답과는 조금 다른 답이 출력된다.\n",
    "#       -> 현재 고유하게 선수를 식별할 수 있는 컬럼이 없다 생각하기에 nunique()를 그대로 사용.\n",
    "Ans = df.groupby('Country').nunique('Player')\n",
    "\n",
    "# 2. 상위 다섯 갱의 국가를 출력하기 위해 Player를 기준으로 내림차순 정렬.\n",
    "Ans = Ans.sort_values('Player', ascending = False)\n",
    "Ans\n",
    "\n",
    "# 3. 정답 출력\n",
    "Ans['Player'].head()\n"
   ]
  },
  {
   "cell_type": "markdown",
   "id": "d9e13deb",
   "metadata": {},
   "source": [
    "# Quesetion 26.\n",
    "- Years 컬럼은 `년도-년도` 형식으로 구성되어 있고, 각 년도는 4자리 수이다. 년도 표기가 4자리 수가 아닌 경우가 존재하며 해당 케이스는 몇 건인지 출력하라."
   ]
  },
  {
   "cell_type": "code",
   "execution_count": null,
   "id": "c7983877",
   "metadata": {},
   "outputs": [
    {
     "name": "stdout",
     "output_type": "stream",
     "text": [
      "45\n"
     ]
    }
   ],
   "source": [
    "# 1. '-'을 기준으로 Years 컬럼을 분리하여 새로운 데이터프레임을 반환한다.\n",
    "#   - expand = True: 문자열 분리 결과를 컬럼으로 나눈 새로운 DataFrame을 반환한다.\n",
    "year_split = df['Years'].str.split('-', expand = True)\n",
    "# display(year_split)\n",
    "\n",
    "# 2. 각 셀별로 길이가 1) NULL이 아니고, 2) 문자열의 길이가 4가 아니라면 `True를 할당한다`.\n",
    "mask = year_split.apply(\n",
    "    lambda col : col.map( # 첫 번째 lambda 식은 year_split의 각 컬럼별로 적용된다. (DataFrame이기 때문).\n",
    "        lambda x : len(str(x)) != 4 # 두 번째 lambda 식은 col(즉, Serise)에 적용되기에 각 셀을 대상으로 적용된다.\n",
    "            if pd.notnull(x) # NULL이 아닌 경우에만 `x : len(str(x)) != 4`가 수행되며 `길이가 4가 아니라면 True`를 반환한다. (길이가 4인경우가 False임을 주의).\n",
    "            else False) # NULL이라면 False를 반환한다.\n",
    "    ) # 즉, NULL인 경우와 길이가 4인 경우만 False가 되고, 길이가 4가 아닌 경우만 True가 된다.\n",
    "# display(mask)\n",
    "\n",
    "# 3. 생성된 mask를 행단위로 적어도 하나의 길이가 4가 아닌 셀(True인 셀)이 있나 확인하고 합산\n",
    "#   - any: 적어도 하나가 True라면 True를 반환\n",
    "#   - any.(axis = 1): 각 행별로 적어도 하나의 셀이 True라면 True를 반환.\n",
    "#   - sum(): 각 행별로 True 혹은 False가 반환 됐으니 모두 더하면(True를 모두 더함 = 4가 아닌 셀을 모두 더함) 길이가 4가 아닌 행들의 수를 반환받을 수 있다.\n",
    "Ans = mask.any(axis = 1).sum()\n",
    "print(Ans)"
   ]
  },
  {
   "cell_type": "code",
   "execution_count": null,
   "id": "b47a34a8",
   "metadata": {},
   "outputs": [
    {
     "name": "stdout",
     "output_type": "stream",
     "text": [
      "45\n"
     ]
    }
   ],
   "source": [
    "# 1. 하이픈 기준 분리\n",
    "year_split = df['Years'].str.split('-', expand=True)\n",
    "\n",
    "# 2. 각 셀의 길이가 4가 아닌지 체크 (권장 방식)\n",
    "invalid_mask = year_split.apply(lambda col: col.map(lambda x: len(str(x)) != 4 if pd.notnull(x) else False))\n",
    "\n",
    "# 3. 하나라도 4자리가 아닌 값이 있는 행 찾기\n",
    "rows_with_invalid_year = invalid_mask.any(axis=1)\n",
    "\n",
    "# 4. 개수 출력\n",
    "invalid_count = rows_with_invalid_year.sum()\n",
    "print(invalid_count)\n"
   ]
  }
 ],
 "metadata": {
  "kernelspec": {
   "display_name": "venv",
   "language": "python",
   "name": "python3"
  },
  "language_info": {
   "codemirror_mode": {
    "name": "ipython",
    "version": 3
   },
   "file_extension": ".py",
   "mimetype": "text/x-python",
   "name": "python",
   "nbconvert_exporter": "python",
   "pygments_lexer": "ipython3",
   "version": "3.12.10"
  }
 },
 "nbformat": 4,
 "nbformat_minor": 5
}
