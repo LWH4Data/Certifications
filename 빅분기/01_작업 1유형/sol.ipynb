{
 "cells": [
  {
   "cell_type": "markdown",
   "id": "17dc4710",
   "metadata": {},
   "source": [
    "# 필요한 패키지 로드"
   ]
  },
  {
   "cell_type": "code",
   "execution_count": 1,
   "id": "5eb19fc9",
   "metadata": {},
   "outputs": [],
   "source": [
    "import pandas as pd"
   ]
  },
  {
   "cell_type": "markdown",
   "id": "bf15b709",
   "metadata": {},
   "source": [
    "# Question 1.\n",
    "- 데이터를 로드하라."
   ]
  },
  {
   "cell_type": "code",
   "execution_count": 10,
   "id": "dd3e42cf",
   "metadata": {},
   "outputs": [
    {
     "data": {
      "text/html": [
       "<div>\n",
       "<style scoped>\n",
       "    .dataframe tbody tr th:only-of-type {\n",
       "        vertical-align: middle;\n",
       "    }\n",
       "\n",
       "    .dataframe tbody tr th {\n",
       "        vertical-align: top;\n",
       "    }\n",
       "\n",
       "    .dataframe thead th {\n",
       "        text-align: right;\n",
       "    }\n",
       "</style>\n",
       "<table border=\"1\" class=\"dataframe\">\n",
       "  <thead>\n",
       "    <tr style=\"text-align: right;\">\n",
       "      <th></th>\n",
       "      <th>title</th>\n",
       "      <th>channelTitle</th>\n",
       "      <th>categoryId</th>\n",
       "      <th>view_count</th>\n",
       "      <th>likes</th>\n",
       "      <th>dislikes</th>\n",
       "      <th>comment_count</th>\n",
       "      <th>channelId</th>\n",
       "      <th>trending_date2</th>\n",
       "    </tr>\n",
       "  </thead>\n",
       "  <tbody>\n",
       "    <tr>\n",
       "      <th>0</th>\n",
       "      <td>[신병] 물자창고</td>\n",
       "      <td>장삐쭈</td>\n",
       "      <td>23</td>\n",
       "      <td>1893473</td>\n",
       "      <td>38249</td>\n",
       "      <td>730</td>\n",
       "      <td>8595</td>\n",
       "      <td>UChbE5OZQ6dRHECsX0tEPEZQ</td>\n",
       "      <td>2021-01-01</td>\n",
       "    </tr>\n",
       "    <tr>\n",
       "      <th>1</th>\n",
       "      <td>RAIN(비) - 나로 바꾸자 Switch to me (duet with JYP) MV</td>\n",
       "      <td>RAIN's Official Channel</td>\n",
       "      <td>10</td>\n",
       "      <td>2600864</td>\n",
       "      <td>0</td>\n",
       "      <td>0</td>\n",
       "      <td>20129</td>\n",
       "      <td>UCxXgIeE5hxWxHG6dz9Scg2w</td>\n",
       "      <td>2021-01-01</td>\n",
       "    </tr>\n",
       "    <tr>\n",
       "      <th>2</th>\n",
       "      <td>2020년 제야의 종 온라인 타종행사 | 보신각 현장 행사는 진행하지 않습니다.</td>\n",
       "      <td>서울시 · Seoul</td>\n",
       "      <td>29</td>\n",
       "      <td>347049</td>\n",
       "      <td>3564</td>\n",
       "      <td>120</td>\n",
       "      <td>178</td>\n",
       "      <td>UCZUPZW5idAxYp-Asj__lVAA</td>\n",
       "      <td>2021-01-01</td>\n",
       "    </tr>\n",
       "    <tr>\n",
       "      <th>3</th>\n",
       "      <td>고기남자의 칠면조 파티</td>\n",
       "      <td>고기남자 MeatMan</td>\n",
       "      <td>26</td>\n",
       "      <td>528458</td>\n",
       "      <td>15372</td>\n",
       "      <td>280</td>\n",
       "      <td>3470</td>\n",
       "      <td>UCT3CumbFIJiW33uq0UI3zlg</td>\n",
       "      <td>2021-01-01</td>\n",
       "    </tr>\n",
       "    <tr>\n",
       "      <th>4</th>\n",
       "      <td>골목 3mc를 분노하게 만든 마음고생이 심했을 공릉 백반집 사장님의 푸념?! [예능...</td>\n",
       "      <td>스브스밥집</td>\n",
       "      <td>24</td>\n",
       "      <td>494904</td>\n",
       "      <td>3918</td>\n",
       "      <td>111</td>\n",
       "      <td>3142</td>\n",
       "      <td>UCdWgRSfttvDucq4ApcCg5Mw</td>\n",
       "      <td>2021-01-01</td>\n",
       "    </tr>\n",
       "    <tr>\n",
       "      <th>5</th>\n",
       "      <td>(EN/CN/ID) 월드스타 한 분 더 모셨습니다. 비x박진영 &amp; 싸이, 비주얼 가...</td>\n",
       "      <td>시즌비시즌 Season B Season</td>\n",
       "      <td>24</td>\n",
       "      <td>1274464</td>\n",
       "      <td>26660</td>\n",
       "      <td>368</td>\n",
       "      <td>2701</td>\n",
       "      <td>UCZf4ZESHAIuRtZ-eoMSL97A</td>\n",
       "      <td>2021-01-01</td>\n",
       "    </tr>\n",
       "    <tr>\n",
       "      <th>6</th>\n",
       "      <td>[미스트롯2] 많은 참가자가 라이벌로 뽑은 명실상부 트롯 천재! 전유진이 부르는 '...</td>\n",
       "      <td>TV CHOSUN JOY</td>\n",
       "      <td>24</td>\n",
       "      <td>682608</td>\n",
       "      <td>7435</td>\n",
       "      <td>434</td>\n",
       "      <td>1943</td>\n",
       "      <td>UCYeeEwH_s9yD9HQe4e2JuBw</td>\n",
       "      <td>2021-01-01</td>\n",
       "    </tr>\n",
       "    <tr>\n",
       "      <th>7</th>\n",
       "      <td>[아이유의 팔레트] 팔레트에 '있지' (With ITZY) Ep.4</td>\n",
       "      <td>이지금 [IU Official]</td>\n",
       "      <td>24</td>\n",
       "      <td>2420537</td>\n",
       "      <td>200301</td>\n",
       "      <td>956</td>\n",
       "      <td>14641</td>\n",
       "      <td>UC3SyT4_WLHzN7JmHQwKQZww</td>\n",
       "      <td>2021-01-01</td>\n",
       "    </tr>\n",
       "    <tr>\n",
       "      <th>8</th>\n",
       "      <td>답답한 집콕.. 2020년은 예능으로 존버(존중하며 버팀)했다 MBC 연예대상 하이...</td>\n",
       "      <td>14F 일사에프</td>\n",
       "      <td>26</td>\n",
       "      <td>1001581</td>\n",
       "      <td>9462</td>\n",
       "      <td>337</td>\n",
       "      <td>1684</td>\n",
       "      <td>UCLKuglhGlMmDteQKoniENIQ</td>\n",
       "      <td>2021-01-01</td>\n",
       "    </tr>\n",
       "    <tr>\n",
       "      <th>9</th>\n",
       "      <td>나 숙취 있어! 알딸딸해! 필름 끊겼어를 영어로 어떻게 할까요?</td>\n",
       "      <td>Sarah Kim</td>\n",
       "      <td>27</td>\n",
       "      <td>1358098</td>\n",
       "      <td>8224</td>\n",
       "      <td>820</td>\n",
       "      <td>1406</td>\n",
       "      <td>UCMXFwld5hCpMc2-49cndljA</td>\n",
       "      <td>2021-01-01</td>\n",
       "    </tr>\n",
       "  </tbody>\n",
       "</table>\n",
       "</div>"
      ],
      "text/plain": [
       "                                               title             channelTitle  \\\n",
       "0                                          [신병] 물자창고                      장삐쭈   \n",
       "1   RAIN(비) - 나로 바꾸자 Switch to me (duet with JYP) MV  RAIN's Official Channel   \n",
       "2       2020년 제야의 종 온라인 타종행사 | 보신각 현장 행사는 진행하지 않습니다.              서울시 · Seoul   \n",
       "3                                       고기남자의 칠면조 파티             고기남자 MeatMan   \n",
       "4  골목 3mc를 분노하게 만든 마음고생이 심했을 공릉 백반집 사장님의 푸념?! [예능...                    스브스밥집   \n",
       "5  (EN/CN/ID) 월드스타 한 분 더 모셨습니다. 비x박진영 & 싸이, 비주얼 가...    시즌비시즌 Season B Season   \n",
       "6  [미스트롯2] 많은 참가자가 라이벌로 뽑은 명실상부 트롯 천재! 전유진이 부르는 '...            TV CHOSUN JOY   \n",
       "7              [아이유의 팔레트] 팔레트에 '있지' (With ITZY) Ep.4        이지금 [IU Official]   \n",
       "8  답답한 집콕.. 2020년은 예능으로 존버(존중하며 버팀)했다 MBC 연예대상 하이...                 14F 일사에프   \n",
       "9                나 숙취 있어! 알딸딸해! 필름 끊겼어를 영어로 어떻게 할까요?                Sarah Kim   \n",
       "\n",
       "   categoryId  view_count   likes  dislikes  comment_count  \\\n",
       "0          23     1893473   38249       730           8595   \n",
       "1          10     2600864       0         0          20129   \n",
       "2          29      347049    3564       120            178   \n",
       "3          26      528458   15372       280           3470   \n",
       "4          24      494904    3918       111           3142   \n",
       "5          24     1274464   26660       368           2701   \n",
       "6          24      682608    7435       434           1943   \n",
       "7          24     2420537  200301       956          14641   \n",
       "8          26     1001581    9462       337           1684   \n",
       "9          27     1358098    8224       820           1406   \n",
       "\n",
       "                  channelId trending_date2  \n",
       "0  UChbE5OZQ6dRHECsX0tEPEZQ     2021-01-01  \n",
       "1  UCxXgIeE5hxWxHG6dz9Scg2w     2021-01-01  \n",
       "2  UCZUPZW5idAxYp-Asj__lVAA     2021-01-01  \n",
       "3  UCT3CumbFIJiW33uq0UI3zlg     2021-01-01  \n",
       "4  UCdWgRSfttvDucq4ApcCg5Mw     2021-01-01  \n",
       "5  UCZf4ZESHAIuRtZ-eoMSL97A     2021-01-01  \n",
       "6  UCYeeEwH_s9yD9HQe4e2JuBw     2021-01-01  \n",
       "7  UC3SyT4_WLHzN7JmHQwKQZww     2021-01-01  \n",
       "8  UCLKuglhGlMmDteQKoniENIQ     2021-01-01  \n",
       "9  UCMXFwld5hCpMc2-49cndljA     2021-01-01  "
      ]
     },
     "metadata": {},
     "output_type": "display_data"
    },
    {
     "name": "stdout",
     "output_type": "stream",
     "text": [
      "<class 'pandas.core.frame.DataFrame'>\n",
      "Index: 60399 entries, 0 to 60398\n",
      "Data columns (total 9 columns):\n",
      " #   Column          Non-Null Count  Dtype \n",
      "---  ------          --------------  ----- \n",
      " 0   title           60399 non-null  object\n",
      " 1   channelTitle    60399 non-null  object\n",
      " 2   categoryId      60399 non-null  int64 \n",
      " 3   view_count      60399 non-null  int64 \n",
      " 4   likes           60399 non-null  int64 \n",
      " 5   dislikes        60399 non-null  int64 \n",
      " 6   comment_count   60399 non-null  int64 \n",
      " 7   channelId       60399 non-null  object\n",
      " 8   trending_date2  60399 non-null  object\n",
      "dtypes: int64(5), object(4)\n",
      "memory usage: 4.6+ MB\n"
     ]
    },
    {
     "data": {
      "text/plain": [
       "None"
      ]
     },
     "metadata": {},
     "output_type": "display_data"
    }
   ],
   "source": [
    "data = 'https://raw.githubusercontent.com/Datamanim/datarepo/main/youtube/youtube.csv'\n",
    "df = pd.read_csv(data, index_col = 0)\n",
    "display(df.head(10))\n",
    "display(df.info())"
   ]
  },
  {
   "cell_type": "markdown",
   "id": "0cd3fe04",
   "metadata": {},
   "source": [
    "# Question 2.\n",
    "- 인기동영상 제작횟수가 많은 채널 상위 10개명을 출력하라."
   ]
  },
  {
   "cell_type": "code",
   "execution_count": null,
   "id": "6a1c4e9e",
   "metadata": {},
   "outputs": [
    {
     "data": {
      "text/plain": [
       "['UCszFjh7CEfwDb7UUGb4RzCQ',\n",
       " 'UCtm_QoN2SIxwCE-59shX7Qg',\n",
       " 'UClzB2iZ5jPoTNz0S-QU6Wiw',\n",
       " 'UCaKod3X1Tn4c7Ci0iUKcvzQ',\n",
       " 'UCiwQRG2sCcfjKkgxMEdJGPg',\n",
       " 'UChbE5OZQ6dRHECsX0tEPEZQ',\n",
       " 'UCLkAepWjdylmXSltofFvsYQ',\n",
       " 'UCQ2O-iftmnlfrBuNsUUTofQ',\n",
       " 'UCtfriFvIe5gIe8wRWb8UTMg',\n",
       " 'UCRuSxVu4iqTK5kCh90ntAgA']"
      ]
     },
     "execution_count": 14,
     "metadata": {},
     "output_type": "execute_result"
    }
   ],
   "source": [
    "# 1. channelId를 기준으로 빈도수를 계산, 상위 10개의 channelId를 가져온다. (후에 채널명에 매핑하기 위해).\n",
    "#   - value_counts() 함수는 내림차순 정렬을 해주기에 바로 head()를 통해 상위 10개를 추출할 수 있다.\n",
    "#   - index: value_counts() 함수를 사용하면 'index = channelId', 'value = 빈도수' 가 되기에 상위 10개의 Id를 가져오기위해 사용한다.\n",
    "#   - tolist(): index를 사용하면 index 자료형으로 결과가 출력되기에 list type으로 변환한다.s\n",
    "top10_channel_ids = df['channelId'].value_counts().head(10).index.tolist()\n",
    "top10_channel_ids"
   ]
  },
  {
   "cell_type": "code",
   "execution_count": 20,
   "id": "d780afe6",
   "metadata": {},
   "outputs": [
    {
     "data": {
      "text/plain": [
       "channelId\n",
       "UChbE5OZQ6dRHECsX0tEPEZQ                        장삐쭈\n",
       "UCxXgIeE5hxWxHG6dz9Scg2w    RAIN's Official Channel\n",
       "UCZUPZW5idAxYp-Asj__lVAA                서울시 · Seoul\n",
       "UCT3CumbFIJiW33uq0UI3zlg               고기남자 MeatMan\n",
       "UCdWgRSfttvDucq4ApcCg5Mw                      스브스밥집\n",
       "                                     ...           \n",
       "UCsiuN8Jco3LbbuTyGuqRgKg                        멸치형\n",
       "UCRnEWJKVc5FpC-9Z3CBt2ZQ            키키TV, 전지적 예능 시점\n",
       "UCkMN06eC97XL1qR1bExdwWg                      기용이tv\n",
       "UCp9G3sWsE42Qo9jgnB1ta2Q         INSSAOPPA G [인싸오빠]\n",
       "UCRCK5FCJtomQT3b88jXI_DA                한국닌텐도 공식 채널\n",
       "Name: channelTitle, Length: 1770, dtype: object"
      ]
     },
     "execution_count": 20,
     "metadata": {},
     "output_type": "execute_result"
    }
   ],
   "source": [
    "# 2. channelID에 channelTitle을 매핑\n",
    "#   -> channelId에서 중복되는 범주를 제거한다.\n",
    "#   -> set_index('channelId')\n",
    "#       - channelId를 새로운 index로 하여 데이터프레임을 반환한다.\n",
    "#       - * 주의 *: set_index() 함수는 기존 데이터프레임을 변환하는 것이 아니라 변환된 데이터프레임을 return 한다.\n",
    "#   -> ['channelTitle']\n",
    "#       - channelId가 index가 된 새로운 데이터프레임에서 channelTitle 컬럼만을 필터링한다.\n",
    "#   -> 결과적으로 channelId와 channelTitle 두 컬럼을 갖는 데이터프레임 `id_to_title` 객체를 초기화한다.\n",
    "id_to_title = df.drop_duplicates('channelId').set_index('channelId')['channelTitle']\n",
    "id_to_title"
   ]
  },
  {
   "cell_type": "code",
   "execution_count": 21,
   "id": "b1fa0c76",
   "metadata": {},
   "outputs": [
    {
     "data": {
      "text/plain": [
       "['짤툰',\n",
       " 'SPOTV',\n",
       " '파뿌리',\n",
       " '런닝맨 - 스브스 공식 채널',\n",
       " '엠뚜루마뚜루 : MBC 공식 종합 채널',\n",
       " '장삐쭈',\n",
       " 'BANGTANTV',\n",
       " '채널 십오야',\n",
       " '이과장',\n",
       " '총몇명']"
      ]
     },
     "execution_count": 21,
     "metadata": {},
     "output_type": "execute_result"
    }
   ],
   "source": [
    "# 3. id_to_title 이전에 추출한 상위 10 개의 목록인 top10_channel_ids의 각 요소를 순회하며 매칭되는 값을 결과로 받는다.\n",
    "Ans = [id_to_title[ch_id] for ch_id in top10_channel_ids]\n",
    "Ans"
   ]
  },
  {
   "cell_type": "markdown",
   "id": "4bb4f78c",
   "metadata": {},
   "source": [
    "# Question 3.\n",
    "- 논란으로 인기동영상이 된 케이스를 확인하고 싶다. dislikes 수가 likes 수보다 높은 동영상을 제작한 채널을 모두 출력하라."
   ]
  },
  {
   "cell_type": "code",
   "execution_count": null,
   "id": "8014f346",
   "metadata": {},
   "outputs": [
    {
     "data": {
      "text/plain": [
       "['핫도그TV',\n",
       " 'ASMR 애정TV',\n",
       " '하얀트리HayanTree',\n",
       " '양팡 YangPang',\n",
       " '철구형 (CHULTUBE)',\n",
       " '왜냐맨하우스',\n",
       " '(MUTUBE)와꾸대장봉준',\n",
       " '오메킴TV',\n",
       " '육지담',\n",
       " 'MapleStory_KR',\n",
       " 'ROAD FIGHTING CHAMPIONSHIP',\n",
       " '사나이 김기훈',\n",
       " '나혼자산다 STUDIO',\n",
       " 'Gen.G esports']"
      ]
     },
     "execution_count": 24,
     "metadata": {},
     "output_type": "execute_result"
    }
   ],
   "source": [
    "# loc을 통한 행 조건 필터링.\n",
    "target = list(df.loc[df.dislikes > df.likes].channelTitle.unique())\n",
    "target"
   ]
  },
  {
   "cell_type": "markdown",
   "id": "e62bbfe4",
   "metadata": {},
   "source": [
    "# Question 4.\n",
    "- 채널명을 바꾼 케이스가 있는지 확인하고 싶다. channelId의 경우 고유값이므로 이를 통해 채널명을 한 번이라도 바꾼 채널의 갯수를 구하여라."
   ]
  },
  {
   "cell_type": "code",
   "execution_count": null,
   "id": "29f6630a",
   "metadata": {},
   "outputs": [
    {
     "data": {
      "text/plain": [
       "71"
      ]
     },
     "execution_count": 37,
     "metadata": {},
     "output_type": "execute_result"
    }
   ],
   "source": [
    "# 1. channelId를 기준으로 groupby한 뒤 chnnelTItle 컬럼만을 추출한다.\n",
    "#   -> nunique(): 고유한 범주의 종류의 수를 추출한다. (현재는 channelId 별 channelTitle의 수를 반환).\n",
    "'''\n",
    "< nunique() >\n",
    "- pandas의 함수로 몇 개의 서로 다른 범주(범주의 종류)가 있는지 출력한다.\n",
    "- 현재 문제에서는 channelId 별로 몇 개의 서로다른 channelTitle이 있는지 출력한다.\n",
    "- 사용 예\n",
    "    - Series.nunique()\n",
    "    - DataFrame.nunique()\n",
    "''' \n",
    "title_counts = df.groupby('channelId')['channelTitle'].nunique() # title_counts는 Series이다.\n",
    "title_counts\n",
    "\n",
    "# 2. 고유한 범주 종류의 수(title_counts)가 2 이상인 경우만 필터링 한다.\n",
    "#   - title_counts는 Series이기에 조건에 맞는 경우를 필터링하면 `index(channelId)`와 `channelId별 해당되는 channelTitle의 수'를 출력한다.\n",
    "#   - len()을 통해 총 개수를 반환.\n",
    "Ans = title_counts[title_counts > 1]\n",
    "len(Ans)"
   ]
  },
  {
   "cell_type": "markdown",
   "id": "fda84fa1",
   "metadata": {},
   "source": [
    "# Question 5.\n",
    "- 일요일에 인기있었던 영상들 중 가장 많은 종류(categoryId)는 무엇인가?"
   ]
  },
  {
   "cell_type": "code",
   "execution_count": null,
   "id": "3391fc96",
   "metadata": {},
   "outputs": [
    {
     "name": "stdout",
     "output_type": "stream",
     "text": [
      "24\n"
     ]
    }
   ],
   "source": [
    "# 1. 요일을 다루기 위해 trending_date2를 datetime 형으로 변환\n",
    "df['trending_date2'] = pd.to_datetime(df['trending_date2'])\n",
    "\n",
    "# 2. datetime으로 형변환된 trending_date2컬럼을 dt.day_name()함수를 통해 요일로 변환하고, Sunday와 일치하는 행만을 필터링.\n",
    "#   -> categoryId의 빈도수를 계산.\n",
    "#   -> index[0]을 통해 첫 번째 행 값을 반환 (value_counts()로 인해 index가 categoryId기이 때문).\n",
    "Ans = df.loc[df['trending_date2'].dt.day_name() =='Sunday'].categoryId.value_counts().index[0]\n",
    "print(Ans)"
   ]
  },
  {
   "cell_type": "markdown",
   "id": "14d464f4",
   "metadata": {},
   "source": [
    "# Question 6.\n",
    "- 각 요일별 인기 영상들의 categoryId는 각각 몇 개씩인지 하나의 데이터프레임으로 표현하라."
   ]
  },
  {
   "cell_type": "code",
   "execution_count": 52,
   "id": "46b65e92",
   "metadata": {},
   "outputs": [
    {
     "name": "stdout",
     "output_type": "stream",
     "text": [
      "weekday     Friday  Monday  Saturday  Sunday  Thursday  Tuesday  Wednesday\n",
      "categoryId                                                                \n",
      "1              243     263       255     274       246      257        234\n",
      "2              120     105       119      99       128      119        129\n",
      "10             833     837       776     830       890      894        917\n",
      "15             187     215       198     217       207      208        207\n",
      "17             633     668       592     636       682      708        706\n",
      "19              90      92        87      91        92       89         85\n",
      "20             283     298       296     289       282      285        291\n",
      "22            1288    1373      1289    1337      1341     1375       1333\n",
      "23             568     594       570     556       560      569        566\n",
      "24            2976    3148      3066    3096      2954     3084       3090\n",
      "25             444     453       422     437       470      452        468\n",
      "26             369     378       364     363       375      394        385\n",
      "27             183     205       183     199       194      194        212\n",
      "28             171     160       173     167       166      161        165\n",
      "29              12      10        10       9        13       11         12\n"
     ]
    }
   ],
   "source": [
    "# 1. 요일별 집계이기에 일단 날짜를 요일별로 매핑한 컬럼을 생성한다.\n",
    "df['weekday'] = pd.to_datetime(df['trending_date2']).dt.day_name()\n",
    "\n",
    "# 2. categoryId 별로 weekday을 매핑하고, 각 요일의 빈도수를 측정함.\n",
    "#   -> unstack(): 요일을 unstack하여 컬럼으로 사용함.\n",
    "Ans = df.groupby(['categoryId', 'weekday']).size().unstack()\n",
    "print(Ans)"
   ]
  },
  {
   "cell_type": "markdown",
   "id": "666cc1db",
   "metadata": {},
   "source": [
    "# Question 7. \n",
    "- 댓글의 수(comment_count)로 영상 반응에 대한 판단을 할 수 있다. view_count 대비 댓글 수가 가장 높은 영상을 확인하라. (view_count 값이 0인 경우는 제외)."
   ]
  },
  {
   "cell_type": "code",
   "execution_count": 65,
   "id": "05e3f28b",
   "metadata": {},
   "outputs": [
    {
     "data": {
      "text/plain": [
       "'60분 동안 댓글이 달리지 않으면, 영상이 삭제됩니다. (챌린지)'"
      ]
     },
     "execution_count": 65,
     "metadata": {},
     "output_type": "execute_result"
    }
   ],
   "source": [
    "# 1. view_count != 0인 데이터 필터링\n",
    "#   - copy()를 써주는 것이 옳다. 원본 데이터프레임을 유지하기 위해서이다.\n",
    "target = df.loc[df.view_count != 0 ].copy()\n",
    "target\n",
    "\n",
    "# 2. 추출한 데이터 프레임 target을 기준으로 view_count대비 댓글 수 컬럼 생성\n",
    "target['view_vs_comment'] = target['comment_count'] / target['view_count']\n",
    "target['view_vs_comment']\n",
    "\n",
    "# 3. 정렬 후 영상 이름 출력.\n",
    "Ans = target.sort_values('view_vs_comment', ascending = False)['title'].iloc[0]\n",
    "Ans"
   ]
  },
  {
   "cell_type": "markdown",
   "id": "74c0a72c",
   "metadata": {},
   "source": [
    "# Question 8.\n",
    "- likes 대비 dislikes의 수가 가장 적은 영상은 무엇인가? (단, likes, dislikes 값 0인 경우는 제외한다)."
   ]
  },
  {
   "cell_type": "code",
   "execution_count": 67,
   "id": "049e6713",
   "metadata": {},
   "outputs": [
    {
     "data": {
      "text/plain": [
       "'[줌터뷰] *최초공개* 사부작즈🐰🐶의 비공식 이름은 아이라인즈? 꿀조합 티키타카 가득한 NCT 127 도영&정우의 줌터뷰'"
      ]
     },
     "execution_count": 67,
     "metadata": {},
     "output_type": "execute_result"
    }
   ],
   "source": [
    "# 1. like와 dislike의 값이 0인 경우 제외\n",
    "target = df.loc[(df['likes'] != 0) & (df['dislikes'] != 0)].copy()\n",
    "target.head()\n",
    "\n",
    "# 2. likes 대비 dislikes 컬럼 생성\n",
    "target['likes_vs_dislikes'] = target['dislikes'] / target['likes']\n",
    "\n",
    "# 3. 오름차순 정렬 후 가장 적은 영상의 title 추출.\n",
    "Ans = target.sort_values('likes_vs_dislikes').title.iloc[0]\n",
    "Ans"
   ]
  },
  {
   "cell_type": "markdown",
   "id": "bbecc1de",
   "metadata": {},
   "source": [
    "# Question 9.\n",
    "- 가장 많은 트렌드 영상을 제작한 채널의 이름은 무엇인가? (날짜기준, 중복포함)."
   ]
  },
  {
   "cell_type": "code",
   "execution_count": null,
   "id": "67b343a0",
   "metadata": {},
   "outputs": [
    {
     "data": {
      "text/plain": [
       "'짤툰'"
      ]
     },
     "execution_count": 75,
     "metadata": {},
     "output_type": "execute_result"
    }
   ],
   "source": [
    "# 1. channelId를 index로하고 channelTitle를 대상으로 value_counts()를 한다.\n",
    "target = df.groupby('channelId').size()\n",
    "target = target.sort_values(ascending = False)\n",
    "temp = target.index[0]\n",
    "\n",
    "# 2. 정렬을 적용하고 값을 출력한다.\n",
    "Ans = df.loc[df['channelId'] == temp, 'channelTitle'].iloc[0]\n",
    "Ans\n",
    "\n",
    "# groupby().size(): 여러 컬럼을 다룰 때 유용\n",
    "#   - 현재 문제는 channelId로 group한 후 관련된 channelTitle까지 참조해야 하기에 groupby().size()가 적합.\n",
    "# value_counts(): 단일 Series를 대상으로 한다."
   ]
  },
  {
   "cell_type": "markdown",
   "id": "22e4baa7",
   "metadata": {},
   "source": [
    "# Question 10.\n",
    "- 20회(20일)이상 인기동영상 리스트에 포함된 동영상의 수는?"
   ]
  },
  {
   "cell_type": "code",
   "execution_count": null,
   "id": "ba2df5d5",
   "metadata": {},
   "outputs": [
    {
     "data": {
      "text/plain": [
       "41"
      ]
     },
     "execution_count": 107,
     "metadata": {},
     "output_type": "execute_result"
    }
   ],
   "source": [
    "# 1. title을 기준으로 빈도수를 계산하여 target Series를 생성.\n",
    "# ** 주의 **\n",
    "#   - 마님은 channelId와 title로 필터링하였으나 문제 조건이 '동영상'만을 대상으로 하기에 channelId를 제외한 title만을 사용하였다.\n",
    "#   - channelId를 포함하는 경우 `groupby(['channelId', 'title'])`로 코드를 변경해주면 같은 답을 얻을 수 있다.\n",
    "target = df.groupby('title').size()\n",
    "target\n",
    "\n",
    "# 2. 생성해 둔 target Series를 기준으로 20이상인 행들만 필터링.\n",
    "#   - loc은 Series에도 사용할 수 있다.\n",
    "Ans = target.loc[target >= 20]\n",
    "len(Ans)"
   ]
  }
 ],
 "metadata": {
  "kernelspec": {
   "display_name": "venv",
   "language": "python",
   "name": "python3"
  },
  "language_info": {
   "codemirror_mode": {
    "name": "ipython",
    "version": 3
   },
   "file_extension": ".py",
   "mimetype": "text/x-python",
   "name": "python",
   "nbconvert_exporter": "python",
   "pygments_lexer": "ipython3",
   "version": "3.12.10"
  }
 },
 "nbformat": 4,
 "nbformat_minor": 5
}
