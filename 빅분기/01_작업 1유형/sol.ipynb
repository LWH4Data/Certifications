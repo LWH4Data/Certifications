{
 "cells": [
  {
   "cell_type": "markdown",
   "id": "17dc4710",
   "metadata": {},
   "source": [
    "# 필요한 패키지 로드"
   ]
  },
  {
   "cell_type": "code",
   "execution_count": 2,
   "id": "5eb19fc9",
   "metadata": {},
   "outputs": [],
   "source": [
    "import pandas as pd"
   ]
  },
  {
   "cell_type": "markdown",
   "id": "bf15b709",
   "metadata": {},
   "source": [
    "# Question 1.\n",
    "- 데이터를 로드하라."
   ]
  },
  {
   "cell_type": "code",
   "execution_count": 10,
   "id": "dd3e42cf",
   "metadata": {},
   "outputs": [
    {
     "data": {
      "text/html": [
       "<div>\n",
       "<style scoped>\n",
       "    .dataframe tbody tr th:only-of-type {\n",
       "        vertical-align: middle;\n",
       "    }\n",
       "\n",
       "    .dataframe tbody tr th {\n",
       "        vertical-align: top;\n",
       "    }\n",
       "\n",
       "    .dataframe thead th {\n",
       "        text-align: right;\n",
       "    }\n",
       "</style>\n",
       "<table border=\"1\" class=\"dataframe\">\n",
       "  <thead>\n",
       "    <tr style=\"text-align: right;\">\n",
       "      <th></th>\n",
       "      <th>title</th>\n",
       "      <th>channelTitle</th>\n",
       "      <th>categoryId</th>\n",
       "      <th>view_count</th>\n",
       "      <th>likes</th>\n",
       "      <th>dislikes</th>\n",
       "      <th>comment_count</th>\n",
       "      <th>channelId</th>\n",
       "      <th>trending_date2</th>\n",
       "    </tr>\n",
       "  </thead>\n",
       "  <tbody>\n",
       "    <tr>\n",
       "      <th>0</th>\n",
       "      <td>[신병] 물자창고</td>\n",
       "      <td>장삐쭈</td>\n",
       "      <td>23</td>\n",
       "      <td>1893473</td>\n",
       "      <td>38249</td>\n",
       "      <td>730</td>\n",
       "      <td>8595</td>\n",
       "      <td>UChbE5OZQ6dRHECsX0tEPEZQ</td>\n",
       "      <td>2021-01-01</td>\n",
       "    </tr>\n",
       "    <tr>\n",
       "      <th>1</th>\n",
       "      <td>RAIN(비) - 나로 바꾸자 Switch to me (duet with JYP) MV</td>\n",
       "      <td>RAIN's Official Channel</td>\n",
       "      <td>10</td>\n",
       "      <td>2600864</td>\n",
       "      <td>0</td>\n",
       "      <td>0</td>\n",
       "      <td>20129</td>\n",
       "      <td>UCxXgIeE5hxWxHG6dz9Scg2w</td>\n",
       "      <td>2021-01-01</td>\n",
       "    </tr>\n",
       "    <tr>\n",
       "      <th>2</th>\n",
       "      <td>2020년 제야의 종 온라인 타종행사 | 보신각 현장 행사는 진행하지 않습니다.</td>\n",
       "      <td>서울시 · Seoul</td>\n",
       "      <td>29</td>\n",
       "      <td>347049</td>\n",
       "      <td>3564</td>\n",
       "      <td>120</td>\n",
       "      <td>178</td>\n",
       "      <td>UCZUPZW5idAxYp-Asj__lVAA</td>\n",
       "      <td>2021-01-01</td>\n",
       "    </tr>\n",
       "    <tr>\n",
       "      <th>3</th>\n",
       "      <td>고기남자의 칠면조 파티</td>\n",
       "      <td>고기남자 MeatMan</td>\n",
       "      <td>26</td>\n",
       "      <td>528458</td>\n",
       "      <td>15372</td>\n",
       "      <td>280</td>\n",
       "      <td>3470</td>\n",
       "      <td>UCT3CumbFIJiW33uq0UI3zlg</td>\n",
       "      <td>2021-01-01</td>\n",
       "    </tr>\n",
       "    <tr>\n",
       "      <th>4</th>\n",
       "      <td>골목 3mc를 분노하게 만든 마음고생이 심했을 공릉 백반집 사장님의 푸념?! [예능...</td>\n",
       "      <td>스브스밥집</td>\n",
       "      <td>24</td>\n",
       "      <td>494904</td>\n",
       "      <td>3918</td>\n",
       "      <td>111</td>\n",
       "      <td>3142</td>\n",
       "      <td>UCdWgRSfttvDucq4ApcCg5Mw</td>\n",
       "      <td>2021-01-01</td>\n",
       "    </tr>\n",
       "    <tr>\n",
       "      <th>5</th>\n",
       "      <td>(EN/CN/ID) 월드스타 한 분 더 모셨습니다. 비x박진영 &amp; 싸이, 비주얼 가...</td>\n",
       "      <td>시즌비시즌 Season B Season</td>\n",
       "      <td>24</td>\n",
       "      <td>1274464</td>\n",
       "      <td>26660</td>\n",
       "      <td>368</td>\n",
       "      <td>2701</td>\n",
       "      <td>UCZf4ZESHAIuRtZ-eoMSL97A</td>\n",
       "      <td>2021-01-01</td>\n",
       "    </tr>\n",
       "    <tr>\n",
       "      <th>6</th>\n",
       "      <td>[미스트롯2] 많은 참가자가 라이벌로 뽑은 명실상부 트롯 천재! 전유진이 부르는 '...</td>\n",
       "      <td>TV CHOSUN JOY</td>\n",
       "      <td>24</td>\n",
       "      <td>682608</td>\n",
       "      <td>7435</td>\n",
       "      <td>434</td>\n",
       "      <td>1943</td>\n",
       "      <td>UCYeeEwH_s9yD9HQe4e2JuBw</td>\n",
       "      <td>2021-01-01</td>\n",
       "    </tr>\n",
       "    <tr>\n",
       "      <th>7</th>\n",
       "      <td>[아이유의 팔레트] 팔레트에 '있지' (With ITZY) Ep.4</td>\n",
       "      <td>이지금 [IU Official]</td>\n",
       "      <td>24</td>\n",
       "      <td>2420537</td>\n",
       "      <td>200301</td>\n",
       "      <td>956</td>\n",
       "      <td>14641</td>\n",
       "      <td>UC3SyT4_WLHzN7JmHQwKQZww</td>\n",
       "      <td>2021-01-01</td>\n",
       "    </tr>\n",
       "    <tr>\n",
       "      <th>8</th>\n",
       "      <td>답답한 집콕.. 2020년은 예능으로 존버(존중하며 버팀)했다 MBC 연예대상 하이...</td>\n",
       "      <td>14F 일사에프</td>\n",
       "      <td>26</td>\n",
       "      <td>1001581</td>\n",
       "      <td>9462</td>\n",
       "      <td>337</td>\n",
       "      <td>1684</td>\n",
       "      <td>UCLKuglhGlMmDteQKoniENIQ</td>\n",
       "      <td>2021-01-01</td>\n",
       "    </tr>\n",
       "    <tr>\n",
       "      <th>9</th>\n",
       "      <td>나 숙취 있어! 알딸딸해! 필름 끊겼어를 영어로 어떻게 할까요?</td>\n",
       "      <td>Sarah Kim</td>\n",
       "      <td>27</td>\n",
       "      <td>1358098</td>\n",
       "      <td>8224</td>\n",
       "      <td>820</td>\n",
       "      <td>1406</td>\n",
       "      <td>UCMXFwld5hCpMc2-49cndljA</td>\n",
       "      <td>2021-01-01</td>\n",
       "    </tr>\n",
       "  </tbody>\n",
       "</table>\n",
       "</div>"
      ],
      "text/plain": [
       "                                               title             channelTitle  \\\n",
       "0                                          [신병] 물자창고                      장삐쭈   \n",
       "1   RAIN(비) - 나로 바꾸자 Switch to me (duet with JYP) MV  RAIN's Official Channel   \n",
       "2       2020년 제야의 종 온라인 타종행사 | 보신각 현장 행사는 진행하지 않습니다.              서울시 · Seoul   \n",
       "3                                       고기남자의 칠면조 파티             고기남자 MeatMan   \n",
       "4  골목 3mc를 분노하게 만든 마음고생이 심했을 공릉 백반집 사장님의 푸념?! [예능...                    스브스밥집   \n",
       "5  (EN/CN/ID) 월드스타 한 분 더 모셨습니다. 비x박진영 & 싸이, 비주얼 가...    시즌비시즌 Season B Season   \n",
       "6  [미스트롯2] 많은 참가자가 라이벌로 뽑은 명실상부 트롯 천재! 전유진이 부르는 '...            TV CHOSUN JOY   \n",
       "7              [아이유의 팔레트] 팔레트에 '있지' (With ITZY) Ep.4        이지금 [IU Official]   \n",
       "8  답답한 집콕.. 2020년은 예능으로 존버(존중하며 버팀)했다 MBC 연예대상 하이...                 14F 일사에프   \n",
       "9                나 숙취 있어! 알딸딸해! 필름 끊겼어를 영어로 어떻게 할까요?                Sarah Kim   \n",
       "\n",
       "   categoryId  view_count   likes  dislikes  comment_count  \\\n",
       "0          23     1893473   38249       730           8595   \n",
       "1          10     2600864       0         0          20129   \n",
       "2          29      347049    3564       120            178   \n",
       "3          26      528458   15372       280           3470   \n",
       "4          24      494904    3918       111           3142   \n",
       "5          24     1274464   26660       368           2701   \n",
       "6          24      682608    7435       434           1943   \n",
       "7          24     2420537  200301       956          14641   \n",
       "8          26     1001581    9462       337           1684   \n",
       "9          27     1358098    8224       820           1406   \n",
       "\n",
       "                  channelId trending_date2  \n",
       "0  UChbE5OZQ6dRHECsX0tEPEZQ     2021-01-01  \n",
       "1  UCxXgIeE5hxWxHG6dz9Scg2w     2021-01-01  \n",
       "2  UCZUPZW5idAxYp-Asj__lVAA     2021-01-01  \n",
       "3  UCT3CumbFIJiW33uq0UI3zlg     2021-01-01  \n",
       "4  UCdWgRSfttvDucq4ApcCg5Mw     2021-01-01  \n",
       "5  UCZf4ZESHAIuRtZ-eoMSL97A     2021-01-01  \n",
       "6  UCYeeEwH_s9yD9HQe4e2JuBw     2021-01-01  \n",
       "7  UC3SyT4_WLHzN7JmHQwKQZww     2021-01-01  \n",
       "8  UCLKuglhGlMmDteQKoniENIQ     2021-01-01  \n",
       "9  UCMXFwld5hCpMc2-49cndljA     2021-01-01  "
      ]
     },
     "metadata": {},
     "output_type": "display_data"
    },
    {
     "name": "stdout",
     "output_type": "stream",
     "text": [
      "<class 'pandas.core.frame.DataFrame'>\n",
      "Index: 60399 entries, 0 to 60398\n",
      "Data columns (total 9 columns):\n",
      " #   Column          Non-Null Count  Dtype \n",
      "---  ------          --------------  ----- \n",
      " 0   title           60399 non-null  object\n",
      " 1   channelTitle    60399 non-null  object\n",
      " 2   categoryId      60399 non-null  int64 \n",
      " 3   view_count      60399 non-null  int64 \n",
      " 4   likes           60399 non-null  int64 \n",
      " 5   dislikes        60399 non-null  int64 \n",
      " 6   comment_count   60399 non-null  int64 \n",
      " 7   channelId       60399 non-null  object\n",
      " 8   trending_date2  60399 non-null  object\n",
      "dtypes: int64(5), object(4)\n",
      "memory usage: 4.6+ MB\n"
     ]
    },
    {
     "data": {
      "text/plain": [
       "None"
      ]
     },
     "metadata": {},
     "output_type": "display_data"
    }
   ],
   "source": [
    "data = 'https://raw.githubusercontent.com/Datamanim/datarepo/main/youtube/youtube.csv'\n",
    "df = pd.read_csv(data, index_col = 0)\n",
    "display(df.head(10))\n",
    "display(df.info())"
   ]
  },
  {
   "cell_type": "markdown",
   "id": "0cd3fe04",
   "metadata": {},
   "source": [
    "# Question 2.\n",
    "- 인기동영상 제작횟수가 많은 채널 상위 10개명을 출력하라."
   ]
  },
  {
   "cell_type": "code",
   "execution_count": null,
   "id": "6a1c4e9e",
   "metadata": {},
   "outputs": [
    {
     "data": {
      "text/plain": [
       "['UCszFjh7CEfwDb7UUGb4RzCQ',\n",
       " 'UCtm_QoN2SIxwCE-59shX7Qg',\n",
       " 'UClzB2iZ5jPoTNz0S-QU6Wiw',\n",
       " 'UCaKod3X1Tn4c7Ci0iUKcvzQ',\n",
       " 'UCiwQRG2sCcfjKkgxMEdJGPg',\n",
       " 'UChbE5OZQ6dRHECsX0tEPEZQ',\n",
       " 'UCLkAepWjdylmXSltofFvsYQ',\n",
       " 'UCQ2O-iftmnlfrBuNsUUTofQ',\n",
       " 'UCtfriFvIe5gIe8wRWb8UTMg',\n",
       " 'UCRuSxVu4iqTK5kCh90ntAgA']"
      ]
     },
     "execution_count": 14,
     "metadata": {},
     "output_type": "execute_result"
    }
   ],
   "source": [
    "# 1. channelId를 기준으로 빈도수를 계산, 상위 10개의 channelId를 가져온다. (후에 채널명에 매핑하기 위해).\n",
    "#   - value_counts() 함수는 내림차순 정렬을 해주기에 바로 head()를 통해 상위 10개를 추출할 수 있다.\n",
    "#   - index: value_counts() 함수를 사용하면 'index = channelId', 'value = 빈도수' 가 되기에 상위 10개의 Id를 가져오기위해 사용한다.\n",
    "#   - tolist(): index를 사용하면 index 자료형으로 결과가 출력되기에 list type으로 변환한다.s\n",
    "top10_channel_ids = df['channelId'].value_counts().head(10).index.tolist()\n",
    "top10_channel_ids"
   ]
  },
  {
   "cell_type": "code",
   "execution_count": 20,
   "id": "d780afe6",
   "metadata": {},
   "outputs": [
    {
     "data": {
      "text/plain": [
       "channelId\n",
       "UChbE5OZQ6dRHECsX0tEPEZQ                        장삐쭈\n",
       "UCxXgIeE5hxWxHG6dz9Scg2w    RAIN's Official Channel\n",
       "UCZUPZW5idAxYp-Asj__lVAA                서울시 · Seoul\n",
       "UCT3CumbFIJiW33uq0UI3zlg               고기남자 MeatMan\n",
       "UCdWgRSfttvDucq4ApcCg5Mw                      스브스밥집\n",
       "                                     ...           \n",
       "UCsiuN8Jco3LbbuTyGuqRgKg                        멸치형\n",
       "UCRnEWJKVc5FpC-9Z3CBt2ZQ            키키TV, 전지적 예능 시점\n",
       "UCkMN06eC97XL1qR1bExdwWg                      기용이tv\n",
       "UCp9G3sWsE42Qo9jgnB1ta2Q         INSSAOPPA G [인싸오빠]\n",
       "UCRCK5FCJtomQT3b88jXI_DA                한국닌텐도 공식 채널\n",
       "Name: channelTitle, Length: 1770, dtype: object"
      ]
     },
     "execution_count": 20,
     "metadata": {},
     "output_type": "execute_result"
    }
   ],
   "source": [
    "# 2. channelID에 channelTitle을 매핑\n",
    "#   -> channelId에서 중복되는 범주를 제거한다.\n",
    "#   -> set_index('channelId')\n",
    "#       - channelId를 새로운 index로 하여 데이터프레임을 반환한다.\n",
    "#       - * 주의 *: set_index() 함수는 기존 데이터프레임을 변환하는 것이 아니라 변환된 데이터프레임을 return 한다.\n",
    "#   -> ['channelTitle']\n",
    "#       - channelId가 index가 된 새로운 데이터프레임에서 channelTitle 컬럼만을 필터링한다.\n",
    "#   -> 결과적으로 channelId와 channelTitle 두 컬럼을 갖는 데이터프레임 `id_to_title` 객체를 초기화한다.\n",
    "id_to_title = df.drop_duplicates('channelId').set_index('channelId')['channelTitle']\n",
    "id_to_title"
   ]
  },
  {
   "cell_type": "code",
   "execution_count": 21,
   "id": "b1fa0c76",
   "metadata": {},
   "outputs": [
    {
     "data": {
      "text/plain": [
       "['짤툰',\n",
       " 'SPOTV',\n",
       " '파뿌리',\n",
       " '런닝맨 - 스브스 공식 채널',\n",
       " '엠뚜루마뚜루 : MBC 공식 종합 채널',\n",
       " '장삐쭈',\n",
       " 'BANGTANTV',\n",
       " '채널 십오야',\n",
       " '이과장',\n",
       " '총몇명']"
      ]
     },
     "execution_count": 21,
     "metadata": {},
     "output_type": "execute_result"
    }
   ],
   "source": [
    "# 3. id_to_title 이전에 추출한 상위 10 개의 목록인 top10_channel_ids의 각 요소를 순회하며 매칭되는 값을 결과로 받는다.\n",
    "Ans = [id_to_title[ch_id] for ch_id in top10_channel_ids]\n",
    "Ans"
   ]
  },
  {
   "cell_type": "markdown",
   "id": "4bb4f78c",
   "metadata": {},
   "source": [
    "# Question 3.\n",
    "- 논란으로 인기동영상이 된 케이스를 확인하고 싶다. dislikes 수가 likes 수보다 높은 동영상을 제작한 채널을 모두 출력하라."
   ]
  },
  {
   "cell_type": "code",
   "execution_count": null,
   "id": "8014f346",
   "metadata": {},
   "outputs": [
    {
     "data": {
      "text/plain": [
       "['핫도그TV',\n",
       " 'ASMR 애정TV',\n",
       " '하얀트리HayanTree',\n",
       " '양팡 YangPang',\n",
       " '철구형 (CHULTUBE)',\n",
       " '왜냐맨하우스',\n",
       " '(MUTUBE)와꾸대장봉준',\n",
       " '오메킴TV',\n",
       " '육지담',\n",
       " 'MapleStory_KR',\n",
       " 'ROAD FIGHTING CHAMPIONSHIP',\n",
       " '사나이 김기훈',\n",
       " '나혼자산다 STUDIO',\n",
       " 'Gen.G esports']"
      ]
     },
     "execution_count": 24,
     "metadata": {},
     "output_type": "execute_result"
    }
   ],
   "source": [
    "# loc을 통한 행 조건 필터링.\n",
    "target = list(df.loc[df.dislikes > df.likes].channelTitle.unique())\n",
    "target"
   ]
  },
  {
   "cell_type": "markdown",
   "id": "e62bbfe4",
   "metadata": {},
   "source": [
    "# Question 4.\n",
    "- 채널명을 바꾼 케이스가 있는지 확인하고 싶다. channelId의 경우 고유값이므로 이를 통해 채널명을 한 번이라도 바꾼 채널의 갯수를 구하여라."
   ]
  },
  {
   "cell_type": "code",
   "execution_count": null,
   "id": "29f6630a",
   "metadata": {},
   "outputs": [
    {
     "data": {
      "text/plain": [
       "71"
      ]
     },
     "execution_count": 37,
     "metadata": {},
     "output_type": "execute_result"
    }
   ],
   "source": [
    "# 1. channelId를 기준으로 groupby한 뒤 chnnelTItle 컬럼만을 추출한다.\n",
    "#   -> nunique(): 고유한 범주의 종류의 수를 추출한다. (현재는 channelId 별 channelTitle의 수를 반환).\n",
    "'''\n",
    "< nunique() >\n",
    "- pandas의 함수로 몇 개의 서로 다른 범주(범주의 종류)가 있는지 출력한다.\n",
    "- 현재 문제에서는 channelId 별로 몇 개의 서로다른 channelTitle이 있는지 출력한다.\n",
    "- 사용 예\n",
    "    - Series.nunique()\n",
    "    - DataFrame.nunique()\n",
    "''' \n",
    "title_counts = df.groupby('channelId')['channelTitle'].nunique() # title_counts는 Series이다.\n",
    "title_counts\n",
    "\n",
    "# 2. 고유한 범주 종류의 수(title_counts)가 2 이상인 경우만 필터링 한다.\n",
    "#   - title_counts는 Series이기에 조건에 맞는 경우를 필터링하면 `index(channelId)`와 `channelId별 해당되는 channelTitle의 수'를 출력한다.\n",
    "#   - len()을 통해 총 개수를 반환.\n",
    "Ans = title_counts[title_counts > 1]\n",
    "len(Ans)"
   ]
  },
  {
   "cell_type": "markdown",
   "id": "fda84fa1",
   "metadata": {},
   "source": [
    "# Question 5.\n",
    "- 일요일에 인기있었던 영상들 중 가장 많은 종류(categoryId)는 무엇인가?"
   ]
  },
  {
   "cell_type": "code",
   "execution_count": null,
   "id": "3391fc96",
   "metadata": {},
   "outputs": [
    {
     "name": "stdout",
     "output_type": "stream",
     "text": [
      "24\n"
     ]
    }
   ],
   "source": [
    "# 1. 요일을 다루기 위해 trending_date2를 datetime 형으로 변환\n",
    "df['trending_date2'] = pd.to_datetime(df['trending_date2'])\n",
    "\n",
    "# 2. datetime으로 형변환된 trending_date2컬럼을 dt.day_name()함수를 통해 요일로 변환하고, Sunday와 일치하는 행만을 필터링.\n",
    "#   -> categoryId의 빈도수를 계산.\n",
    "#   -> index[0]을 통해 첫 번째 행 값을 반환 (value_counts()로 인해 index가 categoryId기이 때문).\n",
    "Ans = df.loc[df['trending_date2'].dt.day_name() =='Sunday'].categoryId.value_counts().index[0]\n",
    "print(Ans)"
   ]
  },
  {
   "cell_type": "markdown",
   "id": "14d464f4",
   "metadata": {},
   "source": [
    "# Question 6.\n",
    "- 각 요일별 인기 영상들의 categoryId는 각각 몇 개씩인지 하나의 데이터프레임으로 표현하라."
   ]
  },
  {
   "cell_type": "code",
   "execution_count": 52,
   "id": "46b65e92",
   "metadata": {},
   "outputs": [
    {
     "name": "stdout",
     "output_type": "stream",
     "text": [
      "weekday     Friday  Monday  Saturday  Sunday  Thursday  Tuesday  Wednesday\n",
      "categoryId                                                                \n",
      "1              243     263       255     274       246      257        234\n",
      "2              120     105       119      99       128      119        129\n",
      "10             833     837       776     830       890      894        917\n",
      "15             187     215       198     217       207      208        207\n",
      "17             633     668       592     636       682      708        706\n",
      "19              90      92        87      91        92       89         85\n",
      "20             283     298       296     289       282      285        291\n",
      "22            1288    1373      1289    1337      1341     1375       1333\n",
      "23             568     594       570     556       560      569        566\n",
      "24            2976    3148      3066    3096      2954     3084       3090\n",
      "25             444     453       422     437       470      452        468\n",
      "26             369     378       364     363       375      394        385\n",
      "27             183     205       183     199       194      194        212\n",
      "28             171     160       173     167       166      161        165\n",
      "29              12      10        10       9        13       11         12\n"
     ]
    }
   ],
   "source": [
    "# 1. 요일별 집계이기에 일단 날짜를 요일별로 매핑한 컬럼을 생성한다.\n",
    "df['weekday'] = pd.to_datetime(df['trending_date2']).dt.day_name()\n",
    "\n",
    "# 2. categoryId 별로 weekday을 매핑하고, 각 요일의 빈도수를 측정함.\n",
    "#   -> unstack(): 요일을 unstack하여 컬럼으로 사용함.\n",
    "Ans = df.groupby(['categoryId', 'weekday']).size().unstack()\n",
    "print(Ans)"
   ]
  },
  {
   "cell_type": "markdown",
   "id": "666cc1db",
   "metadata": {},
   "source": [
    "# Question 7. \n",
    "- 댓글의 수(comment_count)로 영상 반응에 대한 판단을 할 수 있다. view_count 대비 댓글 수가 가장 높은 영상을 확인하라. (view_count 값이 0인 경우는 제외)."
   ]
  },
  {
   "cell_type": "code",
   "execution_count": 110,
   "id": "05e3f28b",
   "metadata": {},
   "outputs": [
    {
     "data": {
      "text/plain": [
       "'60분 동안 댓글이 달리지 않으면, 영상이 삭제됩니다. (챌린지)'"
      ]
     },
     "execution_count": 110,
     "metadata": {},
     "output_type": "execute_result"
    }
   ],
   "source": [
    "# 1. view_count != 0인 데이터 필터링\n",
    "#   - copy()를 써주는 것이 옳다. 원본 데이터프레임을 유지하기 위해서이다.\n",
    "target = df.loc[df.view_count != 0 ].copy()\n",
    "target\n",
    "\n",
    "# 2. 추출한 데이터 프레임 target을 기준으로 view_count대비 댓글 수 컬럼 생성\n",
    "target['view_vs_comment'] = target['comment_count'] / target['view_count']\n",
    "target['view_vs_comment']\n",
    "\n",
    "# 3. 정렬 후 영상 이름 출력.\n",
    "Ans = target.sort_values('view_vs_comment', ascending = False)['title'].iloc[0]\n",
    "Ans"
   ]
  },
  {
   "cell_type": "markdown",
   "id": "942d0065",
   "metadata": {},
   "source": [
    "# Question 8.\n",
    "- `댓글의 수(comment_count)`로 영상 반응에 대한 판단을 할 수 있다. `view_count` 대비 댓글 수가 가장 적은 영상을 확인하라 (단, `view_count`와 `ratio`(`comment_count`와 `view_count`의 비율 계산 결과) 값이 0인 경우는 제외한다)."
   ]
  },
  {
   "cell_type": "code",
   "execution_count": 113,
   "id": "03eb613a",
   "metadata": {},
   "outputs": [
    {
     "data": {
      "text/plain": [
       "'Join the BTS #PermissiontoDance Challenge only on YouTube #Shorts'"
      ]
     },
     "execution_count": 113,
     "metadata": {},
     "output_type": "execute_result"
    }
   ],
   "source": [
    "# 1. view_count 대비 comment_count 계산 (이전 문제의 `target`데이터 프레임과 `view_vs_comment` 컬럼 활용).\n",
    "# view_vs_comment이 0인 경우 제외\n",
    "target = target.loc[target['view_vs_comment'] != 0]\n",
    "target.head()\n",
    "\n",
    "# 2. view_vs_comment를 오름차순 정렬.\n",
    "target = target.sort_values('view_vs_comment')\n",
    "\n",
    "# 3. 첫 번째 행의 title을 출력\n",
    "Ans = target['title'].iloc[0]\n",
    "Ans\n"
   ]
  },
  {
   "cell_type": "markdown",
   "id": "74c0a72c",
   "metadata": {},
   "source": [
    "# Question 9.\n",
    "- `likes` 대비 `dislikes`의 수가 가장 적은 영상은 무엇인가? (단, `likes`, `dislikes` 값 0인 경우는 제외한다)."
   ]
  },
  {
   "cell_type": "code",
   "execution_count": 67,
   "id": "049e6713",
   "metadata": {},
   "outputs": [
    {
     "data": {
      "text/plain": [
       "'[줌터뷰] *최초공개* 사부작즈🐰🐶의 비공식 이름은 아이라인즈? 꿀조합 티키타카 가득한 NCT 127 도영&정우의 줌터뷰'"
      ]
     },
     "execution_count": 67,
     "metadata": {},
     "output_type": "execute_result"
    }
   ],
   "source": [
    "# 1. like와 dislike의 값이 0인 경우 제외\n",
    "target = df.loc[(df['likes'] != 0) & (df['dislikes'] != 0)].copy()\n",
    "target.head()\n",
    "\n",
    "# 2. likes 대비 dislikes 컬럼 생성\n",
    "target['likes_vs_dislikes'] = target['dislikes'] / target['likes']\n",
    "\n",
    "# 3. 오름차순 정렬 후 가장 적은 영상의 title 추출.\n",
    "Ans = target.sort_values('likes_vs_dislikes').title.iloc[0]\n",
    "Ans"
   ]
  },
  {
   "cell_type": "markdown",
   "id": "bbecc1de",
   "metadata": {},
   "source": [
    "# Question 10.\n",
    "- 가장 많은 트렌드 영상을 제작한 채널의 이름은 무엇인가? (날짜기준, 중복포함)."
   ]
  },
  {
   "cell_type": "code",
   "execution_count": null,
   "id": "67b343a0",
   "metadata": {},
   "outputs": [
    {
     "data": {
      "text/plain": [
       "'짤툰'"
      ]
     },
     "execution_count": 75,
     "metadata": {},
     "output_type": "execute_result"
    }
   ],
   "source": [
    "# 1. channelId를 index로하고 channelTitle를 대상으로 value_counts()를 한다.\n",
    "target = df.groupby('channelId').size()\n",
    "target = target.sort_values(ascending = False)\n",
    "temp = target.index[0]\n",
    "\n",
    "# 2. 정렬을 적용하고 값을 출력한다.\n",
    "Ans = df.loc[df['channelId'] == temp, 'channelTitle'].iloc[0]\n",
    "Ans\n",
    "\n",
    "# groupby().size(): 여러 컬럼을 다룰 때 유용\n",
    "#   - 현재 문제는 channelId로 group한 후 관련된 channelTitle까지 참조해야 하기에 groupby().size()가 적합.\n",
    "# value_counts(): 단일 Series를 대상으로 한다."
   ]
  },
  {
   "cell_type": "markdown",
   "id": "22e4baa7",
   "metadata": {},
   "source": [
    "# Question 11.\n",
    "- 20회(20일)이상 인기동영상 리스트에 포함된 동영상의 수는?"
   ]
  },
  {
   "cell_type": "code",
   "execution_count": null,
   "id": "ba2df5d5",
   "metadata": {},
   "outputs": [
    {
     "data": {
      "text/plain": [
       "41"
      ]
     },
     "execution_count": 107,
     "metadata": {},
     "output_type": "execute_result"
    }
   ],
   "source": [
    "# 1. title을 기준으로 빈도수를 계산하여 target Series를 생성.\n",
    "# ** 주의 **\n",
    "#   - 마님은 channelId와 title로 필터링하였으나 문제 조건이 '동영상'만을 대상으로 하기에 channelId를 제외한 title만을 사용하였다.\n",
    "#   - channelId를 포함하는 경우 `groupby(['channelId', 'title'])`로 코드를 변경해주면 같은 답을 얻을 수 있다.\n",
    "target = df.groupby('title').size()\n",
    "target\n",
    "\n",
    "# 2. 생성해 둔 target Series를 기준으로 20이상인 행들만 필터링.\n",
    "#   - loc은 Series에도 사용할 수 있다.\n",
    "Ans = target.loc[target >= 20]\n",
    "len(Ans)"
   ]
  },
  {
   "cell_type": "markdown",
   "id": "630c1e80",
   "metadata": {},
   "source": [
    "# Question 12.\n",
    "- 데이터를 로드하라."
   ]
  },
  {
   "cell_type": "code",
   "execution_count": 4,
   "id": "3f0a109b",
   "metadata": {},
   "outputs": [
    {
     "name": "stdout",
     "output_type": "stream",
     "text": [
      "channel\n"
     ]
    },
    {
     "data": {
      "text/html": [
       "<div>\n",
       "<style scoped>\n",
       "    .dataframe tbody tr th:only-of-type {\n",
       "        vertical-align: middle;\n",
       "    }\n",
       "\n",
       "    .dataframe tbody tr th {\n",
       "        vertical-align: top;\n",
       "    }\n",
       "\n",
       "    .dataframe thead th {\n",
       "        text-align: right;\n",
       "    }\n",
       "</style>\n",
       "<table border=\"1\" class=\"dataframe\">\n",
       "  <thead>\n",
       "    <tr style=\"text-align: right;\">\n",
       "      <th></th>\n",
       "      <th>channelid</th>\n",
       "      <th>subcnt</th>\n",
       "      <th>viewcnt</th>\n",
       "      <th>videocnt</th>\n",
       "      <th>ct</th>\n",
       "      <th>channelname</th>\n",
       "    </tr>\n",
       "  </thead>\n",
       "  <tbody>\n",
       "    <tr>\n",
       "      <th>0</th>\n",
       "      <td>UCkQCwnkQfgSuPTTnw_Y7v7w</td>\n",
       "      <td>1310000</td>\n",
       "      <td>410238653</td>\n",
       "      <td>736</td>\n",
       "      <td>2021-09-30 03:01:03</td>\n",
       "      <td>꽈뚜룹</td>\n",
       "    </tr>\n",
       "    <tr>\n",
       "      <th>1</th>\n",
       "      <td>UCkQCwnkQfgSuPTTnw_Y7v7w</td>\n",
       "      <td>1310000</td>\n",
       "      <td>412531322</td>\n",
       "      <td>736</td>\n",
       "      <td>2021-09-30 09:01:03</td>\n",
       "      <td>꽈뚜룹</td>\n",
       "    </tr>\n",
       "    <tr>\n",
       "      <th>2</th>\n",
       "      <td>UCkQCwnkQfgSuPTTnw_Y7v7w</td>\n",
       "      <td>1310000</td>\n",
       "      <td>412531322</td>\n",
       "      <td>735</td>\n",
       "      <td>2021-09-30 15:01:03</td>\n",
       "      <td>꽈뚜룹</td>\n",
       "    </tr>\n",
       "    <tr>\n",
       "      <th>3</th>\n",
       "      <td>UCkQCwnkQfgSuPTTnw_Y7v7w</td>\n",
       "      <td>1310000</td>\n",
       "      <td>412531322</td>\n",
       "      <td>737</td>\n",
       "      <td>2021-09-30 21:01:03</td>\n",
       "      <td>꽈뚜룹</td>\n",
       "    </tr>\n",
       "    <tr>\n",
       "      <th>4</th>\n",
       "      <td>UCkQCwnkQfgSuPTTnw_Y7v7w</td>\n",
       "      <td>1320000</td>\n",
       "      <td>412531322</td>\n",
       "      <td>737</td>\n",
       "      <td>2021-10-01 03:01:04</td>\n",
       "      <td>꽈뚜룹</td>\n",
       "    </tr>\n",
       "  </tbody>\n",
       "</table>\n",
       "</div>"
      ],
      "text/plain": [
       "                  channelid   subcnt    viewcnt  videocnt  \\\n",
       "0  UCkQCwnkQfgSuPTTnw_Y7v7w  1310000  410238653       736   \n",
       "1  UCkQCwnkQfgSuPTTnw_Y7v7w  1310000  412531322       736   \n",
       "2  UCkQCwnkQfgSuPTTnw_Y7v7w  1310000  412531322       735   \n",
       "3  UCkQCwnkQfgSuPTTnw_Y7v7w  1310000  412531322       737   \n",
       "4  UCkQCwnkQfgSuPTTnw_Y7v7w  1320000  412531322       737   \n",
       "\n",
       "                    ct channelname  \n",
       "0  2021-09-30 03:01:03         꽈뚜룹  \n",
       "1  2021-09-30 09:01:03         꽈뚜룹  \n",
       "2  2021-09-30 15:01:03         꽈뚜룹  \n",
       "3  2021-09-30 21:01:03         꽈뚜룹  \n",
       "4  2021-10-01 03:01:04         꽈뚜룹  "
      ]
     },
     "metadata": {},
     "output_type": "display_data"
    },
    {
     "name": "stdout",
     "output_type": "stream",
     "text": [
      "video\n"
     ]
    },
    {
     "data": {
      "text/html": [
       "<div>\n",
       "<style scoped>\n",
       "    .dataframe tbody tr th:only-of-type {\n",
       "        vertical-align: middle;\n",
       "    }\n",
       "\n",
       "    .dataframe tbody tr th {\n",
       "        vertical-align: top;\n",
       "    }\n",
       "\n",
       "    .dataframe thead th {\n",
       "        text-align: right;\n",
       "    }\n",
       "</style>\n",
       "<table border=\"1\" class=\"dataframe\">\n",
       "  <thead>\n",
       "    <tr style=\"text-align: right;\">\n",
       "      <th></th>\n",
       "      <th>videopk</th>\n",
       "      <th>viewcnt</th>\n",
       "      <th>likecnt</th>\n",
       "      <th>dislikecnt</th>\n",
       "      <th>favoritecnt</th>\n",
       "      <th>cmcnt</th>\n",
       "      <th>ct</th>\n",
       "      <th>videoname</th>\n",
       "    </tr>\n",
       "  </thead>\n",
       "  <tbody>\n",
       "    <tr>\n",
       "      <th>0</th>\n",
       "      <td>c5JQp6xafqc</td>\n",
       "      <td>1667010</td>\n",
       "      <td>30474</td>\n",
       "      <td>706</td>\n",
       "      <td>0</td>\n",
       "      <td>6587</td>\n",
       "      <td>2021-10-10 15:20:03</td>\n",
       "      <td>공범 EP1</td>\n",
       "    </tr>\n",
       "    <tr>\n",
       "      <th>1</th>\n",
       "      <td>c5JQp6xafqc</td>\n",
       "      <td>1669089</td>\n",
       "      <td>30495</td>\n",
       "      <td>707</td>\n",
       "      <td>0</td>\n",
       "      <td>6589</td>\n",
       "      <td>2021-10-10 15:30:03</td>\n",
       "      <td>공범 EP1</td>\n",
       "    </tr>\n",
       "    <tr>\n",
       "      <th>2</th>\n",
       "      <td>c5JQp6xafqc</td>\n",
       "      <td>1674759</td>\n",
       "      <td>30522</td>\n",
       "      <td>711</td>\n",
       "      <td>0</td>\n",
       "      <td>6596</td>\n",
       "      <td>2021-10-10 15:40:02</td>\n",
       "      <td>공범 EP1</td>\n",
       "    </tr>\n",
       "    <tr>\n",
       "      <th>3</th>\n",
       "      <td>c5JQp6xafqc</td>\n",
       "      <td>1677026</td>\n",
       "      <td>30555</td>\n",
       "      <td>712</td>\n",
       "      <td>0</td>\n",
       "      <td>6604</td>\n",
       "      <td>2021-10-10 15:50:03</td>\n",
       "      <td>공범 EP1</td>\n",
       "    </tr>\n",
       "    <tr>\n",
       "      <th>4</th>\n",
       "      <td>c5JQp6xafqc</td>\n",
       "      <td>1681824</td>\n",
       "      <td>30585</td>\n",
       "      <td>713</td>\n",
       "      <td>0</td>\n",
       "      <td>6600</td>\n",
       "      <td>2021-10-10 16:00:03</td>\n",
       "      <td>공범 EP1</td>\n",
       "    </tr>\n",
       "  </tbody>\n",
       "</table>\n",
       "</div>"
      ],
      "text/plain": [
       "       videopk  viewcnt  likecnt  dislikecnt  favoritecnt  cmcnt  \\\n",
       "0  c5JQp6xafqc  1667010    30474         706            0   6587   \n",
       "1  c5JQp6xafqc  1669089    30495         707            0   6589   \n",
       "2  c5JQp6xafqc  1674759    30522         711            0   6596   \n",
       "3  c5JQp6xafqc  1677026    30555         712            0   6604   \n",
       "4  c5JQp6xafqc  1681824    30585         713            0   6600   \n",
       "\n",
       "                    ct videoname  \n",
       "0  2021-10-10 15:20:03    공범 EP1  \n",
       "1  2021-10-10 15:30:03    공범 EP1  \n",
       "2  2021-10-10 15:40:02    공범 EP1  \n",
       "3  2021-10-10 15:50:03    공범 EP1  \n",
       "4  2021-10-10 16:00:03    공범 EP1  "
      ]
     },
     "metadata": {},
     "output_type": "display_data"
    }
   ],
   "source": [
    "channel_data = 'https://raw.githubusercontent.com/Datamanim/datarepo/main/youtube/channelInfo.csv'\n",
    "video_data = 'https://raw.githubusercontent.com/Datamanim/datarepo/main/youtube/videoInfo.csv'\n",
    "\n",
    "channel = pd.read_csv(channel_data)\n",
    "video = pd.read_csv(video_data)\n",
    "\n",
    "print('channel')\n",
    "display(channel.head())\n",
    "print('video')\n",
    "display(video.head())"
   ]
  },
  {
   "cell_type": "markdown",
   "id": "0430f18a",
   "metadata": {},
   "source": [
    "# Question 13.\n",
    "- 각 데이터의 `ct`컬럼을 시간으로 인식할 수 있게 datatype을 변경하고, `video` 데이터프레임의 `videoname`의 각 범주마다 몇 개의 데이터씩을 갖고 있는지 확인하라."
   ]
  },
  {
   "cell_type": "code",
   "execution_count": 5,
   "id": "7d0acc21",
   "metadata": {},
   "outputs": [
    {
     "name": "stdout",
     "output_type": "stream",
     "text": [
      "videoname\n",
      "공범 EP1    3492\n",
      "공범 EP2    3204\n",
      "공범 EP3    2568\n",
      "공범 EP4    2280\n",
      "공범 EP5    1562\n",
      "공범 EP6    1274\n",
      "공범 EP7     555\n",
      "공범 EP8     266\n",
      "dtype: int64\n"
     ]
    }
   ],
   "source": [
    "# 1. 두 데이터프레임의 ct 컬럼을 datetime으로 변환\n",
    "channel['ct'] = pd.to_datetime(channel['ct'])\n",
    "video['ct'] = pd.to_datetime(video['ct'])\n",
    "# print(channel['ct'].dtype)\n",
    "# print(video['ct'].dtype)\n",
    "\n",
    "# 2. video 데이터프레임의 videoname 컬럼의 범주별 빈도 확인.\n",
    "Ans = video.groupby('videoname').size()\n",
    "print(Ans)"
   ]
  },
  {
   "cell_type": "markdown",
   "id": "3b695ba8",
   "metadata": {},
   "source": [
    "# Question 14.\n",
    "- `video` 데이터프레임의 `videoname`의 각범주별로 `최신 날짜(ct)`의 `viewcnt`를 출력하라."
   ]
  },
  {
   "cell_type": "code",
   "execution_count": 6,
   "id": "94d88d12",
   "metadata": {},
   "outputs": [
    {
     "data": {
      "text/html": [
       "<div>\n",
       "<style scoped>\n",
       "    .dataframe tbody tr th:only-of-type {\n",
       "        vertical-align: middle;\n",
       "    }\n",
       "\n",
       "    .dataframe tbody tr th {\n",
       "        vertical-align: top;\n",
       "    }\n",
       "\n",
       "    .dataframe thead th {\n",
       "        text-align: right;\n",
       "    }\n",
       "</style>\n",
       "<table border=\"1\" class=\"dataframe\">\n",
       "  <thead>\n",
       "    <tr style=\"text-align: right;\">\n",
       "      <th></th>\n",
       "      <th>viewcnt</th>\n",
       "      <th>videoname</th>\n",
       "      <th>ct</th>\n",
       "    </tr>\n",
       "  </thead>\n",
       "  <tbody>\n",
       "    <tr>\n",
       "      <th>0</th>\n",
       "      <td>3180532</td>\n",
       "      <td>공범 EP1</td>\n",
       "      <td>2021-11-01 15:30:03</td>\n",
       "    </tr>\n",
       "    <tr>\n",
       "      <th>1</th>\n",
       "      <td>2199328</td>\n",
       "      <td>공범 EP2</td>\n",
       "      <td>2021-11-01 15:30:03</td>\n",
       "    </tr>\n",
       "    <tr>\n",
       "      <th>2</th>\n",
       "      <td>1671294</td>\n",
       "      <td>공범 EP3</td>\n",
       "      <td>2021-11-01 15:30:03</td>\n",
       "    </tr>\n",
       "    <tr>\n",
       "      <th>3</th>\n",
       "      <td>1818493</td>\n",
       "      <td>공범 EP4</td>\n",
       "      <td>2021-11-01 15:30:03</td>\n",
       "    </tr>\n",
       "    <tr>\n",
       "      <th>4</th>\n",
       "      <td>1503435</td>\n",
       "      <td>공범 EP5</td>\n",
       "      <td>2021-11-01 15:30:04</td>\n",
       "    </tr>\n",
       "    <tr>\n",
       "      <th>5</th>\n",
       "      <td>1750222</td>\n",
       "      <td>공범 EP6</td>\n",
       "      <td>2021-11-01 15:30:04</td>\n",
       "    </tr>\n",
       "    <tr>\n",
       "      <th>6</th>\n",
       "      <td>1630200</td>\n",
       "      <td>공범 EP7</td>\n",
       "      <td>2021-11-01 15:30:05</td>\n",
       "    </tr>\n",
       "    <tr>\n",
       "      <th>7</th>\n",
       "      <td>1289088</td>\n",
       "      <td>공범 EP8</td>\n",
       "      <td>2021-11-01 15:30:05</td>\n",
       "    </tr>\n",
       "  </tbody>\n",
       "</table>\n",
       "</div>"
      ],
      "text/plain": [
       "   viewcnt videoname                  ct\n",
       "0  3180532    공범 EP1 2021-11-01 15:30:03\n",
       "1  2199328    공범 EP2 2021-11-01 15:30:03\n",
       "2  1671294    공범 EP3 2021-11-01 15:30:03\n",
       "3  1818493    공범 EP4 2021-11-01 15:30:03\n",
       "4  1503435    공범 EP5 2021-11-01 15:30:04\n",
       "5  1750222    공범 EP6 2021-11-01 15:30:04\n",
       "6  1630200    공범 EP7 2021-11-01 15:30:05\n",
       "7  1289088    공범 EP8 2021-11-01 15:30:05"
      ]
     },
     "execution_count": 6,
     "metadata": {},
     "output_type": "execute_result"
    }
   ],
   "source": [
    "# 1. ct(날짜)를 최신 날짜로 하기 위해 우선 정렬(내림차순)\n",
    "#   -> videoname 별로 viewcnt를 출력해야하기에 groupby('videoname')\n",
    "#   -> first(): groupby()함수의 집계함수이다. 집계 후의 `첫 번째 행`을 반환한다.\n",
    "#   -> reset_index(): 사용하지 않아도 되는데 이번 문제에서 groupby()에 사용된 videoname 컬럼을 index로 사용하지 않는 것을 테스트하기 위해 사용.\n",
    "target = video.sort_values('ct', ascending = False).groupby(['videoname']).first().reset_index()\n",
    "\n",
    "# 2. 필요한 컬럼만 추출해서 출력.\n",
    "target[['viewcnt', 'videoname', 'ct']]"
   ]
  },
  {
   "cell_type": "markdown",
   "id": "0285a916",
   "metadata": {},
   "source": [
    "# Question 15.\n",
    "- `channel` 데이터프레임의 2021-10-03일 이후 각 채널의 처음 기록 됐던 `구독자 수(subcnt)`를 출력하라."
   ]
  },
  {
   "cell_type": "code",
   "execution_count": 7,
   "id": "c21bc2e4",
   "metadata": {},
   "outputs": [
    {
     "data": {
      "text/html": [
       "<div>\n",
       "<style scoped>\n",
       "    .dataframe tbody tr th:only-of-type {\n",
       "        vertical-align: middle;\n",
       "    }\n",
       "\n",
       "    .dataframe tbody tr th {\n",
       "        vertical-align: top;\n",
       "    }\n",
       "\n",
       "    .dataframe thead th {\n",
       "        text-align: right;\n",
       "    }\n",
       "</style>\n",
       "<table border=\"1\" class=\"dataframe\">\n",
       "  <thead>\n",
       "    <tr style=\"text-align: right;\">\n",
       "      <th></th>\n",
       "      <th>channelname</th>\n",
       "      <th>subcnt</th>\n",
       "    </tr>\n",
       "  </thead>\n",
       "  <tbody>\n",
       "    <tr>\n",
       "      <th>0</th>\n",
       "      <td>논리왕 전기</td>\n",
       "      <td>922000</td>\n",
       "    </tr>\n",
       "    <tr>\n",
       "      <th>1</th>\n",
       "      <td>야전삽짱재</td>\n",
       "      <td>257000</td>\n",
       "    </tr>\n",
       "    <tr>\n",
       "      <th>2</th>\n",
       "      <td>형사!탐정되다</td>\n",
       "      <td>14900</td>\n",
       "    </tr>\n",
       "    <tr>\n",
       "      <th>3</th>\n",
       "      <td>릴펄 Lilpearl</td>\n",
       "      <td>10100</td>\n",
       "    </tr>\n",
       "    <tr>\n",
       "      <th>4</th>\n",
       "      <td>조나단</td>\n",
       "      <td>215000</td>\n",
       "    </tr>\n",
       "    <tr>\n",
       "      <th>5</th>\n",
       "      <td>김농밀의 농밀한 삶</td>\n",
       "      <td>7520</td>\n",
       "    </tr>\n",
       "    <tr>\n",
       "      <th>6</th>\n",
       "      <td>Balming Tiger</td>\n",
       "      <td>54300</td>\n",
       "    </tr>\n",
       "    <tr>\n",
       "      <th>7</th>\n",
       "      <td>꽈뚜룹</td>\n",
       "      <td>1330000</td>\n",
       "    </tr>\n",
       "    <tr>\n",
       "      <th>8</th>\n",
       "      <td>와글와글 WagleWagle</td>\n",
       "      <td>55000</td>\n",
       "    </tr>\n",
       "    <tr>\n",
       "      <th>9</th>\n",
       "      <td>츄정ChuJeong</td>\n",
       "      <td>322000</td>\n",
       "    </tr>\n",
       "    <tr>\n",
       "      <th>10</th>\n",
       "      <td>곽토리 kwak tori</td>\n",
       "      <td>471000</td>\n",
       "    </tr>\n",
       "  </tbody>\n",
       "</table>\n",
       "</div>"
      ],
      "text/plain": [
       "        channelname   subcnt\n",
       "0            논리왕 전기   922000\n",
       "1             야전삽짱재   257000\n",
       "2           형사!탐정되다    14900\n",
       "3       릴펄 Lilpearl    10100\n",
       "4               조나단   215000\n",
       "5        김농밀의 농밀한 삶     7520\n",
       "6     Balming Tiger    54300\n",
       "7               꽈뚜룹  1330000\n",
       "8   와글와글 WagleWagle    55000\n",
       "9        츄정ChuJeong   322000\n",
       "10    곽토리 kwak tori   471000"
      ]
     },
     "execution_count": 7,
     "metadata": {},
     "output_type": "execute_result"
    }
   ],
   "source": [
    "# 1. 날짜 기준 필터링하여 새로운 데이터프레임을 생성.\n",
    "target = channel.loc[channel['ct'] >= '2021-10-03'].copy()\n",
    "target\n",
    "\n",
    "# 2. 처음 기록된 날짜이기에 sort_values()함수의 ascending = True로 설정한다.\n",
    "#   - ascending = True: 오름차순으로 과거 날짜를 시작으로 정렬되기에 first()로 가져오면 첫 번째 행이 `처음 기록된 구독자 수`가 된다.\n",
    "Ans = target.sort_values('ct').groupby(['channelid']).first().reset_index()\n",
    "Ans[['channelname', 'subcnt']]\n"
   ]
  },
  {
   "cell_type": "markdown",
   "id": "6028490a",
   "metadata": {},
   "source": [
    "# Question 16.\n",
    "- channel 데이터프레임의 각 채널의 2021년 10월 03일 3시에 해당하는 데이터부터 2021년 11월 01일 15시에 해당하는 데이터까지의 구독자 수(subcnt)의 차이를 구하여라."
   ]
  },
  {
   "cell_type": "code",
   "execution_count": 8,
   "id": "5075caea",
   "metadata": {},
   "outputs": [
    {
     "data": {
      "text/html": [
       "<div>\n",
       "<style scoped>\n",
       "    .dataframe tbody tr th:only-of-type {\n",
       "        vertical-align: middle;\n",
       "    }\n",
       "\n",
       "    .dataframe tbody tr th {\n",
       "        vertical-align: top;\n",
       "    }\n",
       "\n",
       "    .dataframe thead th {\n",
       "        text-align: right;\n",
       "    }\n",
       "</style>\n",
       "<table border=\"1\" class=\"dataframe\">\n",
       "  <thead>\n",
       "    <tr style=\"text-align: right;\">\n",
       "      <th></th>\n",
       "      <th>channelname</th>\n",
       "      <th>growth_ratio</th>\n",
       "    </tr>\n",
       "  </thead>\n",
       "  <tbody>\n",
       "    <tr>\n",
       "      <th>0</th>\n",
       "      <td>꽈뚜룹</td>\n",
       "      <td>70000</td>\n",
       "    </tr>\n",
       "    <tr>\n",
       "      <th>1</th>\n",
       "      <td>야전삽짱재</td>\n",
       "      <td>11000</td>\n",
       "    </tr>\n",
       "    <tr>\n",
       "      <th>2</th>\n",
       "      <td>츄정ChuJeong</td>\n",
       "      <td>1000</td>\n",
       "    </tr>\n",
       "    <tr>\n",
       "      <th>3</th>\n",
       "      <td>논리왕 전기</td>\n",
       "      <td>-11000</td>\n",
       "    </tr>\n",
       "    <tr>\n",
       "      <th>4</th>\n",
       "      <td>와글와글 WagleWagle</td>\n",
       "      <td>0</td>\n",
       "    </tr>\n",
       "    <tr>\n",
       "      <th>5</th>\n",
       "      <td>조나단</td>\n",
       "      <td>12000</td>\n",
       "    </tr>\n",
       "    <tr>\n",
       "      <th>6</th>\n",
       "      <td>형사!탐정되다</td>\n",
       "      <td>10300</td>\n",
       "    </tr>\n",
       "    <tr>\n",
       "      <th>7</th>\n",
       "      <td>김농밀의 농밀한 삶</td>\n",
       "      <td>1540</td>\n",
       "    </tr>\n",
       "    <tr>\n",
       "      <th>8</th>\n",
       "      <td>릴펄 Lilpearl</td>\n",
       "      <td>11000</td>\n",
       "    </tr>\n",
       "    <tr>\n",
       "      <th>9</th>\n",
       "      <td>곽토리 kwak tori</td>\n",
       "      <td>-2000</td>\n",
       "    </tr>\n",
       "    <tr>\n",
       "      <th>10</th>\n",
       "      <td>Balming Tiger</td>\n",
       "      <td>2500</td>\n",
       "    </tr>\n",
       "  </tbody>\n",
       "</table>\n",
       "</div>"
      ],
      "text/plain": [
       "        channelname  growth_ratio\n",
       "0               꽈뚜룹         70000\n",
       "1             야전삽짱재         11000\n",
       "2        츄정ChuJeong          1000\n",
       "3            논리왕 전기        -11000\n",
       "4   와글와글 WagleWagle             0\n",
       "5               조나단         12000\n",
       "6           형사!탐정되다         10300\n",
       "7        김농밀의 농밀한 삶          1540\n",
       "8       릴펄 Lilpearl         11000\n",
       "9     곽토리 kwak tori         -2000\n",
       "10    Balming Tiger          2500"
      ]
     },
     "metadata": {},
     "output_type": "display_data"
    }
   ],
   "source": [
    "# 1. 필터링을 위한 기준 생성\n",
    "oct_time = '2021-10-03 03'\n",
    "nov_time = '2021-11-01 15'\n",
    "\n",
    "# 2. 데이터프레임 생성\n",
    "# dt.strftime(): 날짜형을 str 형으로 형변환하는 함수.\n",
    "#   - 날짜형을 str 형으로 형변환하여 oct_time 그리고 nov_time과 비교하는 것.\n",
    "oct_df = channel.loc[channel['ct'].dt.strftime('%Y-%m-%d %H') == oct_time]\n",
    "nov_df = channel.loc[channel['ct'].dt.strftime('%Y-%m-%d %H') == nov_time]\n",
    "\n",
    "# 3. 데이터프레임을 합치기 전 subcnt의 명칭을 변경(증가율을 계산할 때 중복된 명칭이면 안되기 때문).\n",
    "oct_df = oct_df.rename(columns = {'subcnt' : 'subcnt_oct'})\n",
    "nov_df = nov_df.rename(columns = {'subcnt' : 'subcnt_nov'})\n",
    "\n",
    "# 4. 필터링한 두 데이터프레임을 channelId를 기준으로 merge. \n",
    "# (각 채널에 대한 빈도수를 구하기 때문에 channelId를 기준으로 한다.)\n",
    "# on = 'channelname': 채널 별 구독자 수(subcnt)를 구하기에 channelname으로 병합한다. (그렇지 않으면 channelname_x와 channelname_y로 두 개의 컬럼이 생성된다).\n",
    "merged_df = pd.merge(oct_df, nov_df, on = 'channelname', how = 'inner')\n",
    "\n",
    "# 5. 병합된 데이터프레임(merged_df)에서 증가율을 새로운 컬럼으로 생성\n",
    "merged_df['growth_ratio'] = (merged_df['subcnt_nov'] - merged_df['subcnt_oct'])\n",
    "\n",
    "# 6. 결과 출력\n",
    "Ans = merged_df[['channelname', 'growth_ratio']]\n",
    "display(Ans)"
   ]
  },
  {
   "cell_type": "markdown",
   "id": "80d9de85",
   "metadata": {},
   "source": [
    "# Question 17.\n",
    "- 각 비디오는 10분 간격으로 구독자 수, 좋아요, 싫어요 수, 댓글 수가 수집되었다. `videoname`컬럼의 `공범 EP1`값의 비디오 정보 데이터 중 수집 간격이 5분 이하, 20분 이상인 데이터 구간 (해당 시점 전과 후)의 시각을 모두 출력하라."
   ]
  },
  {
   "cell_type": "code",
   "execution_count": 9,
   "id": "85cb6236",
   "metadata": {},
   "outputs": [
    {
     "data": {
      "text/plain": [
       "'< idx 필터링 결과 >'"
      ]
     },
     "metadata": {},
     "output_type": "display_data"
    },
    {
     "data": {
      "text/plain": [
       "Index([721, 722, 1636], dtype='int64')"
      ]
     },
     "metadata": {},
     "output_type": "display_data"
    },
    {
     "data": {
      "text/plain": [
       "'< target_idx 필터링 결과 >'"
      ]
     },
     "metadata": {},
     "output_type": "display_data"
    },
    {
     "data": {
      "text/plain": [
       "Index([720, 721, 722, 723, 1635, 1636, 1637], dtype='int64')"
      ]
     },
     "metadata": {},
     "output_type": "display_data"
    },
    {
     "data": {
      "text/html": [
       "<div>\n",
       "<style scoped>\n",
       "    .dataframe tbody tr th:only-of-type {\n",
       "        vertical-align: middle;\n",
       "    }\n",
       "\n",
       "    .dataframe tbody tr th {\n",
       "        vertical-align: top;\n",
       "    }\n",
       "\n",
       "    .dataframe thead th {\n",
       "        text-align: right;\n",
       "    }\n",
       "</style>\n",
       "<table border=\"1\" class=\"dataframe\">\n",
       "  <thead>\n",
       "    <tr style=\"text-align: right;\">\n",
       "      <th></th>\n",
       "      <th>videopk</th>\n",
       "      <th>viewcnt</th>\n",
       "      <th>likecnt</th>\n",
       "      <th>dislikecnt</th>\n",
       "      <th>favoritecnt</th>\n",
       "      <th>cmcnt</th>\n",
       "      <th>ct</th>\n",
       "      <th>videoname</th>\n",
       "      <th>time_diff</th>\n",
       "    </tr>\n",
       "  </thead>\n",
       "  <tbody>\n",
       "    <tr>\n",
       "      <th>720</th>\n",
       "      <td>c5JQp6xafqc</td>\n",
       "      <td>2153676</td>\n",
       "      <td>34104</td>\n",
       "      <td>830</td>\n",
       "      <td>0</td>\n",
       "      <td>7120</td>\n",
       "      <td>2021-10-12 19:20:03</td>\n",
       "      <td>공범 EP1</td>\n",
       "      <td>10.016667</td>\n",
       "    </tr>\n",
       "    <tr>\n",
       "      <th>721</th>\n",
       "      <td>c5JQp6xafqc</td>\n",
       "      <td>2228250</td>\n",
       "      <td>34559</td>\n",
       "      <td>849</td>\n",
       "      <td>0</td>\n",
       "      <td>7191</td>\n",
       "      <td>2021-10-13 09:41:37</td>\n",
       "      <td>공범 EP1</td>\n",
       "      <td>861.566667</td>\n",
       "    </tr>\n",
       "    <tr>\n",
       "      <th>722</th>\n",
       "      <td>c5JQp6xafqc</td>\n",
       "      <td>2228250</td>\n",
       "      <td>34559</td>\n",
       "      <td>849</td>\n",
       "      <td>0</td>\n",
       "      <td>7191</td>\n",
       "      <td>2021-10-13 09:41:37</td>\n",
       "      <td>공범 EP1</td>\n",
       "      <td>0.000000</td>\n",
       "    </tr>\n",
       "    <tr>\n",
       "      <th>723</th>\n",
       "      <td>c5JQp6xafqc</td>\n",
       "      <td>2228669</td>\n",
       "      <td>34566</td>\n",
       "      <td>849</td>\n",
       "      <td>0</td>\n",
       "      <td>7194</td>\n",
       "      <td>2021-10-13 09:50:03</td>\n",
       "      <td>공범 EP1</td>\n",
       "      <td>8.433333</td>\n",
       "    </tr>\n",
       "    <tr>\n",
       "      <th>1635</th>\n",
       "      <td>c5JQp6xafqc</td>\n",
       "      <td>2706691</td>\n",
       "      <td>37893</td>\n",
       "      <td>987</td>\n",
       "      <td>0</td>\n",
       "      <td>7410</td>\n",
       "      <td>2021-10-19 17:50:02</td>\n",
       "      <td>공범 EP1</td>\n",
       "      <td>10.000000</td>\n",
       "    </tr>\n",
       "    <tr>\n",
       "      <th>1636</th>\n",
       "      <td>c5JQp6xafqc</td>\n",
       "      <td>2707933</td>\n",
       "      <td>37901</td>\n",
       "      <td>988</td>\n",
       "      <td>0</td>\n",
       "      <td>7410</td>\n",
       "      <td>2021-10-19 18:20:03</td>\n",
       "      <td>공범 EP1</td>\n",
       "      <td>30.016667</td>\n",
       "    </tr>\n",
       "    <tr>\n",
       "      <th>1637</th>\n",
       "      <td>c5JQp6xafqc</td>\n",
       "      <td>2708448</td>\n",
       "      <td>37903</td>\n",
       "      <td>988</td>\n",
       "      <td>0</td>\n",
       "      <td>7410</td>\n",
       "      <td>2021-10-19 18:30:03</td>\n",
       "      <td>공범 EP1</td>\n",
       "      <td>10.000000</td>\n",
       "    </tr>\n",
       "  </tbody>\n",
       "</table>\n",
       "</div>"
      ],
      "text/plain": [
       "          videopk  viewcnt  likecnt  dislikecnt  favoritecnt  cmcnt  \\\n",
       "720   c5JQp6xafqc  2153676    34104         830            0   7120   \n",
       "721   c5JQp6xafqc  2228250    34559         849            0   7191   \n",
       "722   c5JQp6xafqc  2228250    34559         849            0   7191   \n",
       "723   c5JQp6xafqc  2228669    34566         849            0   7194   \n",
       "1635  c5JQp6xafqc  2706691    37893         987            0   7410   \n",
       "1636  c5JQp6xafqc  2707933    37901         988            0   7410   \n",
       "1637  c5JQp6xafqc  2708448    37903         988            0   7410   \n",
       "\n",
       "                      ct videoname   time_diff  \n",
       "720  2021-10-12 19:20:03    공범 EP1   10.016667  \n",
       "721  2021-10-13 09:41:37    공범 EP1  861.566667  \n",
       "722  2021-10-13 09:41:37    공범 EP1    0.000000  \n",
       "723  2021-10-13 09:50:03    공범 EP1    8.433333  \n",
       "1635 2021-10-19 17:50:02    공범 EP1   10.000000  \n",
       "1636 2021-10-19 18:20:03    공범 EP1   30.016667  \n",
       "1637 2021-10-19 18:30:03    공범 EP1   10.000000  "
      ]
     },
     "execution_count": 9,
     "metadata": {},
     "output_type": "execute_result"
    }
   ],
   "source": [
    "# 1. videoname이 공범 EP1인 데이터만을 필터링\n",
    "# 놀랍게도 ' 공범 EP1'로 필터링해야 한다. (따라서 str.strip()을 통해 깔끔하게 필터링한다).\n",
    "target = video.loc[video['videoname'].str.strip() == '공범 EP1'].copy()\n",
    "\n",
    "# 2. 날짜 기준으로 차이를 계산해야 하기 때문에 날짜 기준 정렬.\n",
    "#   - reset_index(): 현재기준 전과 후의 행도 필터링해야하기 때문에 index를 사용하는 경우 발생\n",
    "#       -> 따라서 현재 문제에서는 sort 후 index를 재정리 해 둘 필요가 있음.\n",
    "target = target.sort_values('ct').reset_index(drop = True)\n",
    "\n",
    "# 3. 추출한 데이터프레임 target에서 시간 차이를 계산하여 새로운 컬럼 생성.\n",
    "#   - dt.total_seconds(): datetime의 차이를 초 단위로 변환해 준다.\n",
    "'''\n",
    "< datetime의 자료형 >\n",
    "1. 일반 datetime\n",
    "    - 일반 datetime의 자료형은 datetime.datetime이다.\n",
    "2. datetime 끼리의 차이\n",
    "    - datetime으로 계산한 datetime의 차이는 자료형이 datetime.timedelta이다.\n",
    "\n",
    "** 결론 **\n",
    "- dt.total_seconds()는 정확히는 datetime의 차이를 초단위로 변환해 주기에 datetime.timedelta에 적용되는 함수이다.\n",
    "'''\n",
    "target['time_diff'] = target['ct'].diff().dt.total_seconds() / 60\n",
    "\n",
    "# 4. 5분 이하, 20분 이상에 속하는 데이터의 index를 필터링하여 idx 추출\n",
    "#   - index를 필터링하는 이유는 전과 후의 데이터도 추출해야하기 때문에 위치기반 추출(iloc)을 해야한다.\n",
    "#   - (정확히는 정수형 필터링은 loc도 가능하지만 index를 사용하니 iloc을 사용하는 것이 형식상 맞다 이해하면 된다.)\n",
    "#   - 이때 idx는 `.index`로 필터링된 index 객체이다. (Series 아님).\n",
    "idx = target.loc[(target['time_diff'] <= 5) | (target['time_diff'] >= 20)].index\n",
    "display('< idx 필터링 결과 >', idx)\n",
    "\n",
    "# 5. 추출한 index를 기반으로 전과 후의 index를 필터링\n",
    "#   - target_idx 또한 idx를 기반으로 추출된 index 객체이다. (Series 아님).\n",
    "target_idx = idx.union(idx - 1).union(idx + 1)\n",
    "display('< target_idx 필터링 결과 >', target_idx)\n",
    "\n",
    "# 6. 추출한 index 중 범위 기준(0과 len(target) 사이)을 만족하는 index만 필터링\n",
    "target_idx = target_idx[(target_idx >= 0) & (target_idx < len(target))]\n",
    "\n",
    "# 7. 결과 출력\n",
    "#   - 굳이 target_idx를 정렬해 줄 필요는 없다. 그럼에도 한 이유는 날짜(ct)로 정렬되어 보기에 하기 위함이다.\n",
    "Ans = target.iloc[target_idx.sort_values()]\n",
    "Ans"
   ]
  },
  {
   "cell_type": "markdown",
   "id": "f1892081",
   "metadata": {},
   "source": [
    "# Question 18.\n",
    "- video 데이터프레임의 각 videoname의 시작날짜(년-월-일)를 에피소드 이름과 묶어 데이터프레임으로 만들고 출력하라."
   ]
  },
  {
   "cell_type": "code",
   "execution_count": 25,
   "id": "1471196d",
   "metadata": {},
   "outputs": [
    {
     "data": {
      "text/html": [
       "<div>\n",
       "<style scoped>\n",
       "    .dataframe tbody tr th:only-of-type {\n",
       "        vertical-align: middle;\n",
       "    }\n",
       "\n",
       "    .dataframe tbody tr th {\n",
       "        vertical-align: top;\n",
       "    }\n",
       "\n",
       "    .dataframe thead th {\n",
       "        text-align: right;\n",
       "    }\n",
       "</style>\n",
       "<table border=\"1\" class=\"dataframe\">\n",
       "  <thead>\n",
       "    <tr style=\"text-align: right;\">\n",
       "      <th></th>\n",
       "      <th>videoname</th>\n",
       "      <th>date</th>\n",
       "    </tr>\n",
       "  </thead>\n",
       "  <tbody>\n",
       "    <tr>\n",
       "      <th>0</th>\n",
       "      <td>공범 EP1</td>\n",
       "      <td>2021-10-07</td>\n",
       "    </tr>\n",
       "    <tr>\n",
       "      <th>1</th>\n",
       "      <td>공범 EP2</td>\n",
       "      <td>2021-10-09</td>\n",
       "    </tr>\n",
       "    <tr>\n",
       "      <th>2</th>\n",
       "      <td>공범 EP3</td>\n",
       "      <td>2021-10-14</td>\n",
       "    </tr>\n",
       "    <tr>\n",
       "      <th>3</th>\n",
       "      <td>공범 EP4</td>\n",
       "      <td>2021-10-16</td>\n",
       "    </tr>\n",
       "    <tr>\n",
       "      <th>4</th>\n",
       "      <td>공범 EP5</td>\n",
       "      <td>2021-10-21</td>\n",
       "    </tr>\n",
       "    <tr>\n",
       "      <th>5</th>\n",
       "      <td>공범 EP6</td>\n",
       "      <td>2021-10-23</td>\n",
       "    </tr>\n",
       "    <tr>\n",
       "      <th>6</th>\n",
       "      <td>공범 EP7</td>\n",
       "      <td>2021-10-28</td>\n",
       "    </tr>\n",
       "    <tr>\n",
       "      <th>7</th>\n",
       "      <td>공범 EP8</td>\n",
       "      <td>2021-10-30</td>\n",
       "    </tr>\n",
       "  </tbody>\n",
       "</table>\n",
       "</div>"
      ],
      "text/plain": [
       "  videoname        date\n",
       "0    공범 EP1  2021-10-07\n",
       "1    공범 EP2  2021-10-09\n",
       "2    공범 EP3  2021-10-14\n",
       "3    공범 EP4  2021-10-16\n",
       "4    공범 EP5  2021-10-21\n",
       "5    공범 EP6  2021-10-23\n",
       "6    공범 EP7  2021-10-28\n",
       "7    공범 EP8  2021-10-30"
      ]
     },
     "execution_count": 25,
     "metadata": {},
     "output_type": "execute_result"
    }
   ],
   "source": [
    "# 1. video 데이터프레임의 ct 컬럼에서 날짜만 추출. `년-월-일`` 형식을 맞추기 위해.\n",
    "video['date'] = video['ct'].dt.date\n",
    "\n",
    "# 2. videoname으로 그룹화\n",
    "#   -> 'date'컬럼만을 필터링\n",
    "#   -> min(): 가장 최신 날짜를 가져오기 위함.\n",
    "#   -> reset_index(): DataFrame 형태로 보기 편하게 하기 위해 사용. \n",
    "Ans = video.groupby('videoname')['date'].min().reset_index()\n",
    "Ans\n"
   ]
  },
  {
   "cell_type": "markdown",
   "id": "2a5af5ca",
   "metadata": {},
   "source": [
    "# Question 19.\n",
    "- video 데이터프레임의 `공범` 컨텐츠의 경우 19:00시에 공개 되는 것으로 알려져 있다. 공범 컨텐츠(videoname 컬럼)별로 공개된 날의 21시의 viewcnt, ct, 그리고 videoname으로 구성된 데이터프레임을 viewcnt를 내림차순으로 정렬하고, viewcnt가 가장 큰 데이터를 출력하라."
   ]
  },
  {
   "cell_type": "code",
   "execution_count": 48,
   "id": "86a42e23",
   "metadata": {},
   "outputs": [
    {
     "data": {
      "text/html": [
       "<div>\n",
       "<style scoped>\n",
       "    .dataframe tbody tr th:only-of-type {\n",
       "        vertical-align: middle;\n",
       "    }\n",
       "\n",
       "    .dataframe tbody tr th {\n",
       "        vertical-align: top;\n",
       "    }\n",
       "\n",
       "    .dataframe thead th {\n",
       "        text-align: right;\n",
       "    }\n",
       "</style>\n",
       "<table border=\"1\" class=\"dataframe\">\n",
       "  <thead>\n",
       "    <tr style=\"text-align: right;\">\n",
       "      <th></th>\n",
       "      <th>videoname</th>\n",
       "      <th>viewcnt</th>\n",
       "      <th>ct</th>\n",
       "    </tr>\n",
       "  </thead>\n",
       "  <tbody>\n",
       "    <tr>\n",
       "      <th>0</th>\n",
       "      <td>공범 EP1</td>\n",
       "      <td>3161641</td>\n",
       "      <td>2021-10-31 21:50:02</td>\n",
       "    </tr>\n",
       "    <tr>\n",
       "      <th>1</th>\n",
       "      <td>공범 EP2</td>\n",
       "      <td>2185062</td>\n",
       "      <td>2021-10-31 21:50:02</td>\n",
       "    </tr>\n",
       "    <tr>\n",
       "      <th>2</th>\n",
       "      <td>공범 EP3</td>\n",
       "      <td>1658039</td>\n",
       "      <td>2021-10-31 21:50:03</td>\n",
       "    </tr>\n",
       "    <tr>\n",
       "      <th>3</th>\n",
       "      <td>공범 EP4</td>\n",
       "      <td>1804957</td>\n",
       "      <td>2021-10-31 21:50:03</td>\n",
       "    </tr>\n",
       "    <tr>\n",
       "      <th>4</th>\n",
       "      <td>공범 EP5</td>\n",
       "      <td>1488913</td>\n",
       "      <td>2021-10-31 21:50:03</td>\n",
       "    </tr>\n",
       "    <tr>\n",
       "      <th>5</th>\n",
       "      <td>공범 EP6</td>\n",
       "      <td>1730661</td>\n",
       "      <td>2021-10-31 21:50:04</td>\n",
       "    </tr>\n",
       "    <tr>\n",
       "      <th>6</th>\n",
       "      <td>공범 EP7</td>\n",
       "      <td>1594029</td>\n",
       "      <td>2021-10-31 21:50:04</td>\n",
       "    </tr>\n",
       "    <tr>\n",
       "      <th>7</th>\n",
       "      <td>공범 EP8</td>\n",
       "      <td>1170183</td>\n",
       "      <td>2021-10-31 21:50:04</td>\n",
       "    </tr>\n",
       "  </tbody>\n",
       "</table>\n",
       "</div>"
      ],
      "text/plain": [
       "  videoname  viewcnt                  ct\n",
       "0    공범 EP1  3161641 2021-10-31 21:50:02\n",
       "1    공범 EP2  2185062 2021-10-31 21:50:02\n",
       "2    공범 EP3  1658039 2021-10-31 21:50:03\n",
       "3    공범 EP4  1804957 2021-10-31 21:50:03\n",
       "4    공범 EP5  1488913 2021-10-31 21:50:03\n",
       "5    공범 EP6  1730661 2021-10-31 21:50:04\n",
       "6    공범 EP7  1594029 2021-10-31 21:50:04\n",
       "7    공범 EP8  1170183 2021-10-31 21:50:04"
      ]
     },
     "execution_count": 48,
     "metadata": {},
     "output_type": "execute_result"
    }
   ],
   "source": [
    "# 1.19:00 시와 21 시 등 시간을 처리와 날짜를 출력하기 위해 파생변수를 생성한다.\n",
    "# 시간\n",
    "video['hour'] = video['ct'].dt.hour\n",
    "# 날짜\n",
    "video['date'] = video['ct'].dt.date\n",
    "\n",
    "# 2. 19:00 시를 기준으로 공개된 날짜 필터링\n",
    "#   - 분단위 이하를 생략하는 이유는 초단위 비교연산에서는 에러가 생길 수 있기 때문이다. (부동소수점과 유사).\n",
    "#   - unique(): 날짜만 추출하면 되기에 필요없는 중복을 제거한다.\n",
    "release_dates = video.loc[video['hour'] == 19, 'date'].unique()\n",
    "\n",
    "# 3. video 데이터프레임에서 release_dates와 21시에 해당하는 행만을 필터링.\n",
    "target = video.loc[(video['date'].isin(release_dates)) & (video['hour'] == 21)]\n",
    "\n",
    "# 4. 정답\n",
    "#   - sort_values(): viewcnt를 기준으로 내림차순 정렬 조건을 만족하기 위해 설정.\n",
    "#   - groupby(): 공범 컨텐츠별로 출력하기 위해 설정.\n",
    "#   - first(): viewcnt가 가장 큰 데이터를 출력하기 위해 사용.\n",
    "Ans = target[['viewcnt', 'ct', 'videoname']].sort_values(by = 'viewcnt', ascending = False).groupby('videoname', as_index = False).first()\n",
    "Ans"
   ]
  },
  {
   "cell_type": "markdown",
   "id": "0122095a",
   "metadata": {},
   "source": [
    "# Question 20.\n",
    "- video 데이터프레임에서 videoname 별로 가장 최근 데이터를 필터링하고, 각 에피소드의 `싫어요의 수/좋아요의 수` 비율을 ratio 컬럼으로 만들어라. 그 후 videoname, ratio로 구성된 데이터프레임을 ratio를 기준으로 오름차순으로 정렬하라."
   ]
  },
  {
   "cell_type": "code",
   "execution_count": 57,
   "id": "dfdfada3",
   "metadata": {},
   "outputs": [
    {
     "data": {
      "text/html": [
       "<div>\n",
       "<style scoped>\n",
       "    .dataframe tbody tr th:only-of-type {\n",
       "        vertical-align: middle;\n",
       "    }\n",
       "\n",
       "    .dataframe tbody tr th {\n",
       "        vertical-align: top;\n",
       "    }\n",
       "\n",
       "    .dataframe thead th {\n",
       "        text-align: right;\n",
       "    }\n",
       "</style>\n",
       "<table border=\"1\" class=\"dataframe\">\n",
       "  <thead>\n",
       "    <tr style=\"text-align: right;\">\n",
       "      <th></th>\n",
       "      <th>videoname</th>\n",
       "      <th>ratio</th>\n",
       "    </tr>\n",
       "  </thead>\n",
       "  <tbody>\n",
       "    <tr>\n",
       "      <th>6</th>\n",
       "      <td>공범 EP7</td>\n",
       "      <td>0.013636</td>\n",
       "    </tr>\n",
       "    <tr>\n",
       "      <th>5</th>\n",
       "      <td>공범 EP6</td>\n",
       "      <td>0.015881</td>\n",
       "    </tr>\n",
       "    <tr>\n",
       "      <th>3</th>\n",
       "      <td>공범 EP4</td>\n",
       "      <td>0.017971</td>\n",
       "    </tr>\n",
       "    <tr>\n",
       "      <th>4</th>\n",
       "      <td>공범 EP5</td>\n",
       "      <td>0.021128</td>\n",
       "    </tr>\n",
       "    <tr>\n",
       "      <th>2</th>\n",
       "      <td>공범 EP3</td>\n",
       "      <td>0.022360</td>\n",
       "    </tr>\n",
       "    <tr>\n",
       "      <th>0</th>\n",
       "      <td>공범 EP1</td>\n",
       "      <td>0.027118</td>\n",
       "    </tr>\n",
       "    <tr>\n",
       "      <th>1</th>\n",
       "      <td>공범 EP2</td>\n",
       "      <td>0.029844</td>\n",
       "    </tr>\n",
       "    <tr>\n",
       "      <th>7</th>\n",
       "      <td>공범 EP8</td>\n",
       "      <td>0.141357</td>\n",
       "    </tr>\n",
       "  </tbody>\n",
       "</table>\n",
       "</div>"
      ],
      "text/plain": [
       "  videoname     ratio\n",
       "6    공범 EP7  0.013636\n",
       "5    공범 EP6  0.015881\n",
       "3    공범 EP4  0.017971\n",
       "4    공범 EP5  0.021128\n",
       "2    공범 EP3  0.022360\n",
       "0    공범 EP1  0.027118\n",
       "1    공범 EP2  0.029844\n",
       "7    공범 EP8  0.141357"
      ]
     },
     "execution_count": 57,
     "metadata": {},
     "output_type": "execute_result"
    }
   ],
   "source": [
    "# 1. 우선 최근 데이터를 필터링하기 위해 내림차순 정렬.\n",
    "target = video.sort_values('ct', ascending = False)\n",
    "target\n",
    "\n",
    "# 2. 가장 최근 데이터를 필터링하기 위해 groupby() 사용.\n",
    "target = target.groupby('videoname').first().reset_index()\n",
    "target\n",
    "\n",
    "# 3. ratio 컬럼 생성\n",
    "target['ratio'] = target['dislikecnt'] / target['likecnt']\n",
    "\n",
    "# 4. videoname과 ratio컬럼만을 필터링\n",
    "Ans = target[['videoname', 'ratio']]\n",
    "\n",
    "# 5. ratio 컬럼을 기준으로 오름차순 정렬\n",
    "Ans = Ans.sort_values('ratio', ascending = True)\n",
    "Ans"
   ]
  },
  {
   "cell_type": "markdown",
   "id": "8e4ab1c1",
   "metadata": {},
   "source": [
    "# Question 21.\n",
    "- video 데이터프레임의 2021-11-01 00:00:00 ~ 15:00:00 사이의 각 에피소드(videoname)별 viewcnt의 증가량을 데이터프레임으로 만드시오."
   ]
  },
  {
   "cell_type": "code",
   "execution_count": 94,
   "id": "0a94dc81",
   "metadata": {},
   "outputs": [
    {
     "data": {
      "text/html": [
       "<div>\n",
       "<style scoped>\n",
       "    .dataframe tbody tr th:only-of-type {\n",
       "        vertical-align: middle;\n",
       "    }\n",
       "\n",
       "    .dataframe tbody tr th {\n",
       "        vertical-align: top;\n",
       "    }\n",
       "\n",
       "    .dataframe thead th {\n",
       "        text-align: right;\n",
       "    }\n",
       "</style>\n",
       "<table border=\"1\" class=\"dataframe\">\n",
       "  <thead>\n",
       "    <tr style=\"text-align: right;\">\n",
       "      <th></th>\n",
       "      <th>viewcnt</th>\n",
       "    </tr>\n",
       "    <tr>\n",
       "      <th>videoname</th>\n",
       "      <th></th>\n",
       "    </tr>\n",
       "  </thead>\n",
       "  <tbody>\n",
       "    <tr>\n",
       "      <th>공범 EP1</th>\n",
       "      <td>13298</td>\n",
       "    </tr>\n",
       "    <tr>\n",
       "      <th>공범 EP2</th>\n",
       "      <td>10300</td>\n",
       "    </tr>\n",
       "    <tr>\n",
       "      <th>공범 EP3</th>\n",
       "      <td>9927</td>\n",
       "    </tr>\n",
       "    <tr>\n",
       "      <th>공범 EP4</th>\n",
       "      <td>9824</td>\n",
       "    </tr>\n",
       "    <tr>\n",
       "      <th>공범 EP5</th>\n",
       "      <td>10824</td>\n",
       "    </tr>\n",
       "    <tr>\n",
       "      <th>공범 EP6</th>\n",
       "      <td>14141</td>\n",
       "    </tr>\n",
       "    <tr>\n",
       "      <th>공범 EP7</th>\n",
       "      <td>26949</td>\n",
       "    </tr>\n",
       "    <tr>\n",
       "      <th>공범 EP8</th>\n",
       "      <td>89147</td>\n",
       "    </tr>\n",
       "  </tbody>\n",
       "</table>\n",
       "</div>"
      ],
      "text/plain": [
       "           viewcnt\n",
       "videoname         \n",
       "공범 EP1       13298\n",
       "공범 EP2       10300\n",
       "공범 EP3        9927\n",
       "공범 EP4        9824\n",
       "공범 EP5       10824\n",
       "공범 EP6       14141\n",
       "공범 EP7       26949\n",
       "공범 EP8       89147"
      ]
     },
     "execution_count": 94,
     "metadata": {},
     "output_type": "execute_result"
    }
   ],
   "source": [
    "# 1. 2021-11-01 00:00:00 ~ 15:00:00의 데이터를 필터링\n",
    "#   - 범위로 필터링: `==` 연산자를 통한 비교는 `초단위` 비교에서 문제가 발생하기에 범위로 필터링하여 처리하는 것이 좋다.\n",
    "start = pd.to_datetime('2021-11-01 00:00:00')\n",
    "end = pd.to_datetime('2021-11-01 15:00:00')\n",
    "\n",
    "# 기간 필터링\n",
    "target = video.loc[(video['ct'] >= start) & (video['ct'] <= end)].reset_index(drop = True)\n",
    "\n",
    "# 2. 마지막 날짜와 첫 날짜를 추출하기 위해 날짜를 기준으로 정렬\n",
    "target = target.sort_values(['videoname', 'ct'], ascending= True)\n",
    "\n",
    "# 3. 시작 시간대의 viewcnt와 끝 시간대의 viewcnr를 출력\n",
    "#   - 오름차순: 가장 과거 데이터가 첫 번째로 온다.\n",
    "start_view = target.groupby('videoname').first()\n",
    "end_view = target.groupby('videoname').last()\n",
    "\n",
    "# 4. 차이를 계산한 시리즈 생성\n",
    "Ans = end_view['viewcnt'] - start_view['viewcnt']\n",
    "\n",
    "# 5. index(viewname)를 기준으로 데이터프레임을 생성. (답의 형식을 맞추기 위해).\n",
    "#   - to_frame(name = ): 데이터프레임으로 만들기 때문에 컬럼명을 주어야 한다.\n",
    "Ans = Ans.to_frame(name = 'viewcnt')\n",
    "Ans\n"
   ]
  },
  {
   "cell_type": "markdown",
   "id": "3fb411cd",
   "metadata": {},
   "source": [
    "# Question 22.\n",
    "- video 데이터프레임에는 중복되는 데이터가 존재한다. 날짜(ct)와 에피소드(videoname)를 기준으로 중복된 행을 출력하되 중복행중 가장 마지막 행을 출력하라."
   ]
  },
  {
   "cell_type": "code",
   "execution_count": null,
   "id": "19586378",
   "metadata": {},
   "outputs": [
    {
     "data": {
      "text/html": [
       "<div>\n",
       "<style scoped>\n",
       "    .dataframe tbody tr th:only-of-type {\n",
       "        vertical-align: middle;\n",
       "    }\n",
       "\n",
       "    .dataframe tbody tr th {\n",
       "        vertical-align: top;\n",
       "    }\n",
       "\n",
       "    .dataframe thead th {\n",
       "        text-align: right;\n",
       "    }\n",
       "</style>\n",
       "<table border=\"1\" class=\"dataframe\">\n",
       "  <thead>\n",
       "    <tr style=\"text-align: right;\">\n",
       "      <th></th>\n",
       "      <th>videopk</th>\n",
       "      <th>viewcnt</th>\n",
       "      <th>likecnt</th>\n",
       "      <th>dislikecnt</th>\n",
       "      <th>favoritecnt</th>\n",
       "      <th>cmcnt</th>\n",
       "      <th>ct</th>\n",
       "      <th>videoname</th>\n",
       "      <th>date</th>\n",
       "      <th>hour</th>\n",
       "    </tr>\n",
       "  </thead>\n",
       "  <tbody>\n",
       "    <tr>\n",
       "      <th>722</th>\n",
       "      <td>c5JQp6xafqc</td>\n",
       "      <td>2228250</td>\n",
       "      <td>34559</td>\n",
       "      <td>849</td>\n",
       "      <td>0</td>\n",
       "      <td>7191</td>\n",
       "      <td>2021-10-13 09:41:37</td>\n",
       "      <td>공범 EP1</td>\n",
       "      <td>2021-10-13</td>\n",
       "      <td>9</td>\n",
       "    </tr>\n",
       "    <tr>\n",
       "      <th>3927</th>\n",
       "      <td>23QQ1ru9YQg</td>\n",
       "      <td>1408005</td>\n",
       "      <td>20484</td>\n",
       "      <td>554</td>\n",
       "      <td>0</td>\n",
       "      <td>8567</td>\n",
       "      <td>2021-10-13 09:41:37</td>\n",
       "      <td>공범 EP2</td>\n",
       "      <td>2021-10-13</td>\n",
       "      <td>9</td>\n",
       "    </tr>\n",
       "  </tbody>\n",
       "</table>\n",
       "</div>"
      ],
      "text/plain": [
       "          videopk  viewcnt  likecnt  dislikecnt  favoritecnt  cmcnt  \\\n",
       "722   c5JQp6xafqc  2228250    34559         849            0   7191   \n",
       "3927  23QQ1ru9YQg  1408005    20484         554            0   8567   \n",
       "\n",
       "                      ct videoname        date  hour  \n",
       "722  2021-10-13 09:41:37    공범 EP1  2021-10-13     9  \n",
       "3927 2021-10-13 09:41:37    공범 EP2  2021-10-13     9  "
      ]
     },
     "execution_count": 152,
     "metadata": {},
     "output_type": "execute_result"
    }
   ],
   "source": [
    "'''\n",
    "< dublicated() 함수 인자 >\n",
    "1. subset\n",
    "    - 중복 기준이 되는 컬럼들을 지정한다.\n",
    "    - 예: ['ct', 'videoname']은 'ct'와 'videoname'이 중복인 행들만 필터링한다.\n",
    "    \n",
    "2. keep\n",
    "    - False: 중복되는 모든 행을 True로 한다.\n",
    "    - first: 각 중복되는 행 중 첫 번째 중복 행만을 False로 한다. (나머지 중복 행은 모두 True).\n",
    "    - last: 각 중복되는 행 중 마지막 중복 행만을 False로 한다. (나머지 중복 행은 모두 True).\n",
    "'''\n",
    "\n",
    "# 1. 우선 모든 중복 행을 필터링.\n",
    "all_dup = video.loc[video.duplicated(subset=['ct', 'videoname'], keep = False)].copy()\n",
    "\n",
    "# 2. all_dup에서 `keep = 'last'`를 통해 마지막 중복 행만을 False로 만들고 loc을 통해 False인 행만 추출.\n",
    "Ans = all_dup.loc[all_dup.duplicated(subset = ['ct', 'videoname'], keep = 'last') == False]\n",
    "Ans"
   ]
  },
  {
   "cell_type": "markdown",
   "id": "e95cfd7a",
   "metadata": {},
   "source": [
    "# Question 23.\n",
    "- 데이터를 로드하라."
   ]
  },
  {
   "cell_type": "code",
   "execution_count": 3,
   "id": "ff32d46f",
   "metadata": {},
   "outputs": [
    {
     "data": {
      "text/html": [
       "<div>\n",
       "<style scoped>\n",
       "    .dataframe tbody tr th:only-of-type {\n",
       "        vertical-align: middle;\n",
       "    }\n",
       "\n",
       "    .dataframe tbody tr th {\n",
       "        vertical-align: top;\n",
       "    }\n",
       "\n",
       "    .dataframe thead th {\n",
       "        text-align: right;\n",
       "    }\n",
       "</style>\n",
       "<table border=\"1\" class=\"dataframe\">\n",
       "  <thead>\n",
       "    <tr style=\"text-align: right;\">\n",
       "      <th></th>\n",
       "      <th>Player</th>\n",
       "      <th>Goals</th>\n",
       "      <th>Years</th>\n",
       "      <th>Country</th>\n",
       "    </tr>\n",
       "  </thead>\n",
       "  <tbody>\n",
       "    <tr>\n",
       "      <th>0</th>\n",
       "      <td>Miroslav Klose</td>\n",
       "      <td>16</td>\n",
       "      <td>2002-2006-2010-2014</td>\n",
       "      <td>Germany</td>\n",
       "    </tr>\n",
       "    <tr>\n",
       "      <th>1</th>\n",
       "      <td>Ronaldo</td>\n",
       "      <td>15</td>\n",
       "      <td>1998-2002-2006</td>\n",
       "      <td>Brazil</td>\n",
       "    </tr>\n",
       "    <tr>\n",
       "      <th>2</th>\n",
       "      <td>Gerd Muller</td>\n",
       "      <td>14</td>\n",
       "      <td>1970-1974</td>\n",
       "      <td>Germany</td>\n",
       "    </tr>\n",
       "    <tr>\n",
       "      <th>3</th>\n",
       "      <td>Just Fontaine</td>\n",
       "      <td>13</td>\n",
       "      <td>1958</td>\n",
       "      <td>France</td>\n",
       "    </tr>\n",
       "    <tr>\n",
       "      <th>4</th>\n",
       "      <td>Pele</td>\n",
       "      <td>12</td>\n",
       "      <td>1958-1962-1966-1970</td>\n",
       "      <td>Brazil</td>\n",
       "    </tr>\n",
       "  </tbody>\n",
       "</table>\n",
       "</div>"
      ],
      "text/plain": [
       "           Player  Goals                Years  Country\n",
       "0  Miroslav Klose     16  2002-2006-2010-2014  Germany\n",
       "1         Ronaldo     15       1998-2002-2006   Brazil\n",
       "2     Gerd Muller     14            1970-1974  Germany\n",
       "3   Just Fontaine     13                 1958   France\n",
       "4            Pele     12  1958-1962-1966-1970   Brazil"
      ]
     },
     "execution_count": 3,
     "metadata": {},
     "output_type": "execute_result"
    }
   ],
   "source": [
    "data = 'https://raw.githubusercontent.com/Datamanim/datarepo/main/worldcup/worldcupgoals.csv'\n",
    "df = pd.read_csv(data)\n",
    "\n",
    "df.head()"
   ]
  },
  {
   "cell_type": "code",
   "execution_count": null,
   "id": "f16640a5",
   "metadata": {},
   "outputs": [
    {
     "data": {
      "text/html": [
       "<div>\n",
       "<style scoped>\n",
       "    .dataframe tbody tr th:only-of-type {\n",
       "        vertical-align: middle;\n",
       "    }\n",
       "\n",
       "    .dataframe tbody tr th {\n",
       "        vertical-align: top;\n",
       "    }\n",
       "\n",
       "    .dataframe thead th {\n",
       "        text-align: right;\n",
       "    }\n",
       "</style>\n",
       "<table border=\"1\" class=\"dataframe\">\n",
       "  <thead>\n",
       "    <tr style=\"text-align: right;\">\n",
       "      <th></th>\n",
       "      <th>Player</th>\n",
       "      <th>Goals</th>\n",
       "      <th>Years</th>\n",
       "      <th>Country</th>\n",
       "    </tr>\n",
       "  </thead>\n",
       "  <tbody>\n",
       "    <tr>\n",
       "      <th>460</th>\n",
       "      <td>Goikoetxea</td>\n",
       "      <td>2</td>\n",
       "      <td>1994</td>\n",
       "      <td>Spain</td>\n",
       "    </tr>\n",
       "    <tr>\n",
       "      <th>1132</th>\n",
       "      <td>Goikoetxea</td>\n",
       "      <td>1</td>\n",
       "      <td>1986</td>\n",
       "      <td>Spain</td>\n",
       "    </tr>\n",
       "    <tr>\n",
       "      <th>839</th>\n",
       "      <td>Jozsef Toth</td>\n",
       "      <td>1</td>\n",
       "      <td>1954</td>\n",
       "      <td>Hungary</td>\n",
       "    </tr>\n",
       "    <tr>\n",
       "      <th>840</th>\n",
       "      <td>Jozsef Toth</td>\n",
       "      <td>1</td>\n",
       "      <td>1978-1982</td>\n",
       "      <td>Hungary</td>\n",
       "    </tr>\n",
       "    <tr>\n",
       "      <th>1137</th>\n",
       "      <td>Juanito</td>\n",
       "      <td>1</td>\n",
       "      <td>1978-1982</td>\n",
       "      <td>Spain</td>\n",
       "    </tr>\n",
       "    <tr>\n",
       "      <th>1138</th>\n",
       "      <td>Juanito</td>\n",
       "      <td>1</td>\n",
       "      <td>2006</td>\n",
       "      <td>Spain</td>\n",
       "    </tr>\n",
       "    <tr>\n",
       "      <th>599</th>\n",
       "      <td>Junior</td>\n",
       "      <td>1</td>\n",
       "      <td>1982-1986</td>\n",
       "      <td>Brazil</td>\n",
       "    </tr>\n",
       "    <tr>\n",
       "      <th>600</th>\n",
       "      <td>Junior</td>\n",
       "      <td>1</td>\n",
       "      <td>2002</td>\n",
       "      <td>Brazil</td>\n",
       "    </tr>\n",
       "  </tbody>\n",
       "</table>\n",
       "</div>"
      ],
      "text/plain": [
       "           Player  Goals      Years  Country\n",
       "460    Goikoetxea      2       1994    Spain\n",
       "1132   Goikoetxea      1       1986    Spain\n",
       "839   Jozsef Toth      1       1954  Hungary\n",
       "840   Jozsef Toth      1  1978-1982  Hungary\n",
       "1137      Juanito      1  1978-1982    Spain\n",
       "1138      Juanito      1       2006    Spain\n",
       "599        Junior      1  1982-1986   Brazil\n",
       "600        Junior      1       2002   Brazil"
      ]
     },
     "execution_count": 16,
     "metadata": {},
     "output_type": "execute_result"
    }
   ],
   "source": [
    "Ans = df.loc[df.duplicated('Player', keep = False)].sort_values('Player')\n",
    "Ans"
   ]
  },
  {
   "cell_type": "markdown",
   "id": "ec478978",
   "metadata": {},
   "source": [
    "# Question 24.\n",
    "- 주어진 전체 기간의 각 나라별 골득점수 상위 5개 국가와 그 득점수를 데이터프레임으로 출력하라."
   ]
  },
  {
   "cell_type": "code",
   "execution_count": 4,
   "id": "db615ddb",
   "metadata": {},
   "outputs": [
    {
     "data": {
      "text/html": [
       "<div>\n",
       "<style scoped>\n",
       "    .dataframe tbody tr th:only-of-type {\n",
       "        vertical-align: middle;\n",
       "    }\n",
       "\n",
       "    .dataframe tbody tr th {\n",
       "        vertical-align: top;\n",
       "    }\n",
       "\n",
       "    .dataframe thead th {\n",
       "        text-align: right;\n",
       "    }\n",
       "</style>\n",
       "<table border=\"1\" class=\"dataframe\">\n",
       "  <thead>\n",
       "    <tr style=\"text-align: right;\">\n",
       "      <th></th>\n",
       "      <th>Country</th>\n",
       "      <th>Goals</th>\n",
       "    </tr>\n",
       "  </thead>\n",
       "  <tbody>\n",
       "    <tr>\n",
       "      <th>0</th>\n",
       "      <td>Brazil</td>\n",
       "      <td>228</td>\n",
       "    </tr>\n",
       "    <tr>\n",
       "      <th>1</th>\n",
       "      <td>Germany</td>\n",
       "      <td>226</td>\n",
       "    </tr>\n",
       "    <tr>\n",
       "      <th>2</th>\n",
       "      <td>Argentina</td>\n",
       "      <td>135</td>\n",
       "    </tr>\n",
       "    <tr>\n",
       "      <th>3</th>\n",
       "      <td>Italy</td>\n",
       "      <td>123</td>\n",
       "    </tr>\n",
       "    <tr>\n",
       "      <th>4</th>\n",
       "      <td>France</td>\n",
       "      <td>115</td>\n",
       "    </tr>\n",
       "  </tbody>\n",
       "</table>\n",
       "</div>"
      ],
      "text/plain": [
       "     Country  Goals\n",
       "0     Brazil    228\n",
       "1    Germany    226\n",
       "2  Argentina    135\n",
       "3      Italy    123\n",
       "4     France    115"
      ]
     },
     "execution_count": 4,
     "metadata": {},
     "output_type": "execute_result"
    }
   ],
   "source": [
    "# 1. 나라별(groupby) 골 수를 합계(sum)로 하여 집계 후 골 수대로 내림차순 정렬(sort_values())\n",
    "Ans = df.groupby('Country').sum('Goals').sort_values('Goals', ascending = False).reset_index()\n",
    "\n",
    "# 2. 상위 다섯 개의 행만을 필터링.\n",
    "Ans.head(5)"
   ]
  },
  {
   "cell_type": "markdown",
   "id": "d3c2755f",
   "metadata": {},
   "source": [
    "# Question 25.\n",
    "- 주어진 전체 기간동안 골득점을 한 선수가 가장 많은 나라 상위 5개 국가와 그 선수의 수를 데이터프레임 형식으로 출력하라.\n",
    "- (마님 풀이의 경우 groupby().size()를 사용하셨는데 중복된 선수명이 있는 경우가 포함되어 현재 풀이와 결과가 조금 다르다)."
   ]
  },
  {
   "cell_type": "code",
   "execution_count": 17,
   "id": "d309c963",
   "metadata": {},
   "outputs": [
    {
     "data": {
      "text/plain": [
       "Country\n",
       "Brazil       80\n",
       "Germany      78\n",
       "Italy        60\n",
       "Argentina    59\n",
       "France       58\n",
       "Name: Player, dtype: int64"
      ]
     },
     "execution_count": 17,
     "metadata": {},
     "output_type": "execute_result"
    }
   ],
   "source": [
    "# 1. Country로 groupby하고, 선수들에 대해 nunique()로 총 범주의 종류를 count\n",
    "#   - nunique()는 범주의 종류의 수를 카운트하며 중복을 포함하지 않는다. 따라서 마님의 정답과는 조금 다른 답이 출력된다.\n",
    "#       -> 현재 고유하게 선수를 식별할 수 있는 컬럼이 없다 생각하기에 nunique()를 그대로 사용.\n",
    "Ans = df.groupby('Country').nunique('Player')\n",
    "\n",
    "# 2. 상위 다섯 갱의 국가를 출력하기 위해 Player를 기준으로 내림차순 정렬.\n",
    "Ans = Ans.sort_values('Player', ascending = False)\n",
    "Ans\n",
    "\n",
    "# 3. 정답 출력\n",
    "Ans['Player'].head()\n"
   ]
  },
  {
   "cell_type": "markdown",
   "id": "d9e13deb",
   "metadata": {},
   "source": [
    "# Quesetion 26.\n",
    "- Years 컬럼은 `년도-년도` 형식으로 구성되어 있고, 각 년도는 4자리 수이다. 년도 표기가 4자리 수가 아닌 경우가 존재하며 해당 케이스는 몇 건인지 출력하라."
   ]
  },
  {
   "cell_type": "code",
   "execution_count": 33,
   "id": "c7983877",
   "metadata": {},
   "outputs": [
    {
     "name": "stdout",
     "output_type": "stream",
     "text": [
      "45\n"
     ]
    }
   ],
   "source": [
    "# 1. '-'을 기준으로 Years 컬럼을 분리하여 새로운 데이터프레임을 반환한다.\n",
    "#   - expand = True: 문자열 분리 결과를 컬럼으로 나눈 새로운 DataFrame을 반환한다.\n",
    "year_split = df['Years'].str.split('-', expand = True)\n",
    "# display(year_split)\n",
    "\n",
    "# 2. 각 셀별로 길이가 1) NULL이 아니고, 2) 문자열의 길이가 4가 아니라면 `True를 할당한다`.\n",
    "mask = year_split.apply(\n",
    "    lambda col : col.map( # 첫 번째 lambda 식은 year_split의 각 컬럼별로 적용된다. (DataFrame이기 때문).\n",
    "        lambda x : len(str(x)) != 4 # 두 번째 lambda 식은 col(즉, Serise)에 적용되기에 각 셀을 대상으로 적용된다.\n",
    "            if pd.notnull(x) # NULL이 아닌 경우에만 `x : len(str(x)) != 4`가 수행되며 `길이가 4가 아니라면 True`를 반환한다. (길이가 4인경우가 False임을 주의).\n",
    "            else False) # NULL이라면 False를 반환한다.\n",
    "    ) # 즉, NULL인 경우와 길이가 4인 경우만 False가 되고, 길이가 4가 아닌 경우만 True가 된다.\n",
    "# display(mask)\n",
    "\n",
    "# 3. 생성된 mask를 행단위로 적어도 하나의 길이가 4가 아닌 셀(True인 셀)이 있나 확인하고 합산\n",
    "#   - any: 적어도 하나가 True라면 True를 반환\n",
    "#   - any.(axis = 1): 각 행별로 적어도 하나의 셀이 True라면 True를 반환.\n",
    "#   - sum(): 각 행별로 True 혹은 False가 반환 됐으니 모두 더하면(True를 모두 더함 = 4가 아닌 셀을 모두 더함) 길이가 4가 아닌 행들의 수를 반환받을 수 있다.\n",
    "Ans = mask.any(axis = 1).sum()\n",
    "print(Ans)"
   ]
  },
  {
   "cell_type": "markdown",
   "id": "03e06536",
   "metadata": {},
   "source": [
    "# Question 27.\n",
    "- `Question 26`에서 발생한 예외 케이스를 제외한 데이터프레임을 `df2`라고 정의하고, 데이터의 행의 수를 출력하라. (이후부터는 df2를 문제 풀이 대상으로 한다)."
   ]
  },
  {
   "cell_type": "code",
   "execution_count": 42,
   "id": "2df4f5c6",
   "metadata": {},
   "outputs": [
    {
     "data": {
      "text/html": [
       "<div>\n",
       "<style scoped>\n",
       "    .dataframe tbody tr th:only-of-type {\n",
       "        vertical-align: middle;\n",
       "    }\n",
       "\n",
       "    .dataframe tbody tr th {\n",
       "        vertical-align: top;\n",
       "    }\n",
       "\n",
       "    .dataframe thead th {\n",
       "        text-align: right;\n",
       "    }\n",
       "</style>\n",
       "<table border=\"1\" class=\"dataframe\">\n",
       "  <thead>\n",
       "    <tr style=\"text-align: right;\">\n",
       "      <th></th>\n",
       "      <th>Player</th>\n",
       "      <th>Goals</th>\n",
       "      <th>Years</th>\n",
       "      <th>Country</th>\n",
       "      <th>check</th>\n",
       "    </tr>\n",
       "  </thead>\n",
       "  <tbody>\n",
       "    <tr>\n",
       "      <th>0</th>\n",
       "      <td>Miroslav Klose</td>\n",
       "      <td>16</td>\n",
       "      <td>2002-2006-2010-2014</td>\n",
       "      <td>Germany</td>\n",
       "      <td>False</td>\n",
       "    </tr>\n",
       "    <tr>\n",
       "      <th>1</th>\n",
       "      <td>Ronaldo</td>\n",
       "      <td>15</td>\n",
       "      <td>1998-2002-2006</td>\n",
       "      <td>Brazil</td>\n",
       "      <td>False</td>\n",
       "    </tr>\n",
       "    <tr>\n",
       "      <th>2</th>\n",
       "      <td>Gerd Muller</td>\n",
       "      <td>14</td>\n",
       "      <td>1970-1974</td>\n",
       "      <td>Germany</td>\n",
       "      <td>False</td>\n",
       "    </tr>\n",
       "    <tr>\n",
       "      <th>3</th>\n",
       "      <td>Just Fontaine</td>\n",
       "      <td>13</td>\n",
       "      <td>1958</td>\n",
       "      <td>France</td>\n",
       "      <td>False</td>\n",
       "    </tr>\n",
       "    <tr>\n",
       "      <th>4</th>\n",
       "      <td>Pele</td>\n",
       "      <td>12</td>\n",
       "      <td>1958-1962-1966-1970</td>\n",
       "      <td>Brazil</td>\n",
       "      <td>False</td>\n",
       "    </tr>\n",
       "    <tr>\n",
       "      <th>...</th>\n",
       "      <td>...</td>\n",
       "      <td>...</td>\n",
       "      <td>...</td>\n",
       "      <td>...</td>\n",
       "      <td>...</td>\n",
       "    </tr>\n",
       "    <tr>\n",
       "      <th>1245</th>\n",
       "      <td>Josip Skoblar</td>\n",
       "      <td>1</td>\n",
       "      <td>1962</td>\n",
       "      <td>Yugoslavia</td>\n",
       "      <td>False</td>\n",
       "    </tr>\n",
       "    <tr>\n",
       "      <th>1246</th>\n",
       "      <td>Safet Susic</td>\n",
       "      <td>1</td>\n",
       "      <td>1982-1990</td>\n",
       "      <td>Yugoslavia</td>\n",
       "      <td>False</td>\n",
       "    </tr>\n",
       "    <tr>\n",
       "      <th>1247</th>\n",
       "      <td>Aleksandar Tirnanic</td>\n",
       "      <td>1</td>\n",
       "      <td>1930</td>\n",
       "      <td>Yugoslavia</td>\n",
       "      <td>False</td>\n",
       "    </tr>\n",
       "    <tr>\n",
       "      <th>1248</th>\n",
       "      <td>Djordje Vujadinovic</td>\n",
       "      <td>1</td>\n",
       "      <td>1930</td>\n",
       "      <td>Yugoslavia</td>\n",
       "      <td>False</td>\n",
       "    </tr>\n",
       "    <tr>\n",
       "      <th>1249</th>\n",
       "      <td>Branko Zebec</td>\n",
       "      <td>1</td>\n",
       "      <td>1954-1958</td>\n",
       "      <td>Yugoslavia</td>\n",
       "      <td>False</td>\n",
       "    </tr>\n",
       "  </tbody>\n",
       "</table>\n",
       "<p>1250 rows × 5 columns</p>\n",
       "</div>"
      ],
      "text/plain": [
       "                   Player  Goals                Years     Country  check\n",
       "0          Miroslav Klose     16  2002-2006-2010-2014     Germany  False\n",
       "1                 Ronaldo     15       1998-2002-2006      Brazil  False\n",
       "2             Gerd Muller     14            1970-1974     Germany  False\n",
       "3           Just Fontaine     13                 1958      France  False\n",
       "4                    Pele     12  1958-1962-1966-1970      Brazil  False\n",
       "...                   ...    ...                  ...         ...    ...\n",
       "1245        Josip Skoblar      1                 1962  Yugoslavia  False\n",
       "1246          Safet Susic      1            1982-1990  Yugoslavia  False\n",
       "1247  Aleksandar Tirnanic      1                 1930  Yugoslavia  False\n",
       "1248  Djordje Vujadinovic      1                 1930  Yugoslavia  False\n",
       "1249         Branko Zebec      1            1954-1958  Yugoslavia  False\n",
       "\n",
       "[1250 rows x 5 columns]"
      ]
     },
     "metadata": {},
     "output_type": "display_data"
    },
    {
     "data": {
      "text/plain": [
       "1250"
      ]
     },
     "execution_count": 42,
     "metadata": {},
     "output_type": "execute_result"
    }
   ],
   "source": [
    "# 1. Question 26의 결과를 기존 데이터프레임의 check 컬럼으로 추가.\n",
    "df['check'] = mask.any(axis = 1)\n",
    "# display(df['check'])\n",
    "\n",
    "# 2. `df['check'] == False`인 행만 필터링하면 Question 26의 예외를 제외한 행을 필터링할 수 있다.\n",
    "df2 = df.loc[df['check'] == False].reset_index(drop = True)\n",
    "display(df2)\n",
    "\n",
    "# 3. 정답(행의 수) 출력.\n",
    "df2.shape[0]"
   ]
  },
  {
   "cell_type": "markdown",
   "id": "b5aa1289",
   "metadata": {},
   "source": [
    "# Question 28.\n",
    "- 월드컵 출전 횟수를 나타내는 `LenCup`컬럼을 추가하고, 4회 출전한 선수의 수를 구하여라."
   ]
  },
  {
   "cell_type": "code",
   "execution_count": 49,
   "id": "360dc9d2",
   "metadata": {},
   "outputs": [
    {
     "name": "stdout",
     "output_type": "stream",
     "text": [
      "16\n"
     ]
    }
   ],
   "source": [
    "# 1. df2의 Years컬럼을 년도별로 분리한 뒤 리스트형태로 값으로 하여 YearList 컬럼 생성. \n",
    "df2['YearList'] = df2['Years'].str.split('-')\n",
    "# display(df2['YearList'])\n",
    "\n",
    "# 2. 생성된 YearList 컬럼의 길이(월드컵 출전 년도의 수)를 값으로 하여 LenCup 컬럼 생성.\n",
    "df2['LenCup'] = df2['YearList'].apply(len)\n",
    "# display(df2['LenCup'])\n",
    "\n",
    "# 3. LenCup이 4인 경우만 True로 하여 sum()을 하면 4번 월드컵을 출전한 선수의 수를 구할 수 있다.\n",
    "Ans = (df['LenCup'] == 4).sum()\n",
    "print(Ans)\n"
   ]
  },
  {
   "cell_type": "markdown",
   "id": "309b2e46",
   "metadata": {},
   "source": [
    "# Question 29.\n",
    "- Yugoslavia 국가의 월드컵 출전 횟수가 2회인 선수들의 수를 구하여라."
   ]
  },
  {
   "cell_type": "code",
   "execution_count": 56,
   "id": "9d5c29b3",
   "metadata": {},
   "outputs": [
    {
     "name": "stdout",
     "output_type": "stream",
     "text": [
      "7\n"
     ]
    }
   ],
   "source": [
    "# 1. Country가 Yugoslavia이고, LenCup이 2인 행만 필터링.\n",
    "target = df2.loc[(df2['Country'] == 'Yugoslavia') & (df2['LenCup'] == 2)]\n",
    "\n",
    "# 2. 선수들의 수를 count하기 위해 len() 함수를 적용.\n",
    "Ans = len(target)\n",
    "print(Ans)"
   ]
  },
  {
   "cell_type": "markdown",
   "id": "325bdc0d",
   "metadata": {},
   "source": [
    "# Question 30.\n",
    "- 2002년도에 출전한 전체 선수는 몇 명인가?"
   ]
  },
  {
   "cell_type": "code",
   "execution_count": 58,
   "id": "aefb4c84",
   "metadata": {},
   "outputs": [
    {
     "name": "stdout",
     "output_type": "stream",
     "text": [
      "156\n"
     ]
    }
   ],
   "source": [
    "# 1. contains() 함수를 활용하여 2002가 포함된 행을 찾고, 모두 더한다.\n",
    "Ans = df2['Years'].str.contains('2002').sum()\n",
    "print(Ans)"
   ]
  },
  {
   "cell_type": "markdown",
   "id": "49ca3727",
   "metadata": {},
   "source": [
    "# Question 31.\n",
    "- 이름에 `carlos`가 들어가는 선수의 수는 몇 명인가? (대, 소문자 구분 X)."
   ]
  },
  {
   "cell_type": "code",
   "execution_count": null,
   "id": "bc9633e3",
   "metadata": {},
   "outputs": [
    {
     "name": "stdout",
     "output_type": "stream",
     "text": [
      "13\n"
     ]
    }
   ],
   "source": [
    "# 1. 함수 설명\n",
    "#   - str.lower(): 대, 소문자 구분이 없기 때문에 모두 소문자로 변경.\n",
    "#   - str.contains(): 모두 소문자로 변경 되었기에 'carlos'를 포함하는 경우만을 찾아 모두 더한다.\n",
    "Ans = df2['Player'].str.lower().str.contains('carlos').sum()\n",
    "print(Ans)"
   ]
  },
  {
   "cell_type": "markdown",
   "id": "d1b1642f",
   "metadata": {},
   "source": [
    "# Question 32.\n",
    "- 월드컵 출전 횟수가 1회뿐인 선수들 중에서 가장 많은 득점을 올린 선수는 누구인가?"
   ]
  },
  {
   "cell_type": "code",
   "execution_count": 89,
   "id": "5141684a",
   "metadata": {},
   "outputs": [
    {
     "name": "stdout",
     "output_type": "stream",
     "text": [
      "Just Fontaine\n"
     ]
    }
   ],
   "source": [
    "# 1. 월드컵 출전 횟수가 1회인 데이터만 필터링\n",
    "target = df2.loc[df2['LenCup'] == 1].copy()\n",
    "# display(target)\n",
    "\n",
    "# 2. 득점순으로 정렬\n",
    "target = target.sort_values('Goals', ascending = False)\n",
    "# display(target)\n",
    "\n",
    "# 3. 첫 번째 행의 선수 이름을 출력.\n",
    "Ans = target.iloc[0]['Player']\n",
    "print(Ans)"
   ]
  },
  {
   "cell_type": "markdown",
   "id": "94bfcabd",
   "metadata": {},
   "source": [
    "# Question 33.\n",
    "- 월드컵 출전횟수가 1회뿐인 선수들이 가장 많은 국가는 어디인가?"
   ]
  },
  {
   "cell_type": "code",
   "execution_count": 98,
   "id": "b7e96515",
   "metadata": {},
   "outputs": [
    {
     "name": "stdout",
     "output_type": "stream",
     "text": [
      "Brazil\n"
     ]
    }
   ],
   "source": [
    "# 1. 월드컵 출전횟수가 1회뿐인 행들만 필터링.\n",
    "target = df2.loc[df2['LenCup'] == 1].copy()\n",
    "# display(target)\n",
    "\n",
    "# 2. 국가별로 그룹화한 뒤 선수들의 수를 반환.\n",
    "target = target.groupby('Country')['Player'].nunique().reset_index()\n",
    "# display(target)\n",
    "\n",
    "# 3. 선수 수를 기준으로 내림차순 정렬\n",
    "target = target.sort_values('Player', ascending = False)\n",
    "# display(target)\n",
    "\n",
    "# 4. 첫 번째 행의 Country만을 반환\n",
    "Ans = target.iloc[0]['Country']\n",
    "print(Ans)"
   ]
  },
  {
   "cell_type": "markdown",
   "id": "78d61d80",
   "metadata": {},
   "source": [
    "# Question 34.\n",
    "- 데이터를 로드하라."
   ]
  },
  {
   "cell_type": "code",
   "execution_count": 3,
   "id": "de86f1f4",
   "metadata": {},
   "outputs": [
    {
     "data": {
      "text/html": [
       "<div>\n",
       "<style scoped>\n",
       "    .dataframe tbody tr th:only-of-type {\n",
       "        vertical-align: middle;\n",
       "    }\n",
       "\n",
       "    .dataframe tbody tr th {\n",
       "        vertical-align: top;\n",
       "    }\n",
       "\n",
       "    .dataframe thead th {\n",
       "        text-align: right;\n",
       "    }\n",
       "</style>\n",
       "<table border=\"1\" class=\"dataframe\">\n",
       "  <thead>\n",
       "    <tr style=\"text-align: right;\">\n",
       "      <th></th>\n",
       "      <th>대여일자</th>\n",
       "      <th>대여시간</th>\n",
       "      <th>대여소번호</th>\n",
       "      <th>대여구분코드</th>\n",
       "      <th>성별</th>\n",
       "      <th>연령대코드</th>\n",
       "      <th>이용건수</th>\n",
       "      <th>운동량</th>\n",
       "      <th>탄소량</th>\n",
       "      <th>이동거리</th>\n",
       "      <th>사용시간</th>\n",
       "    </tr>\n",
       "  </thead>\n",
       "  <tbody>\n",
       "    <tr>\n",
       "      <th>0</th>\n",
       "      <td>2021-06-01</td>\n",
       "      <td>0</td>\n",
       "      <td>3541</td>\n",
       "      <td>정기권</td>\n",
       "      <td>F</td>\n",
       "      <td>~10대</td>\n",
       "      <td>1</td>\n",
       "      <td>0.00</td>\n",
       "      <td>0.00</td>\n",
       "      <td>0.00</td>\n",
       "      <td>8</td>\n",
       "    </tr>\n",
       "    <tr>\n",
       "      <th>1</th>\n",
       "      <td>2021-06-01</td>\n",
       "      <td>0</td>\n",
       "      <td>765</td>\n",
       "      <td>정기권</td>\n",
       "      <td>F</td>\n",
       "      <td>~10대</td>\n",
       "      <td>1</td>\n",
       "      <td>27.21</td>\n",
       "      <td>0.35</td>\n",
       "      <td>1526.81</td>\n",
       "      <td>19</td>\n",
       "    </tr>\n",
       "    <tr>\n",
       "      <th>2</th>\n",
       "      <td>2021-06-01</td>\n",
       "      <td>0</td>\n",
       "      <td>2637</td>\n",
       "      <td>정기권</td>\n",
       "      <td>F</td>\n",
       "      <td>~10대</td>\n",
       "      <td>1</td>\n",
       "      <td>41.40</td>\n",
       "      <td>0.37</td>\n",
       "      <td>1608.56</td>\n",
       "      <td>18</td>\n",
       "    </tr>\n",
       "    <tr>\n",
       "      <th>3</th>\n",
       "      <td>2021-06-01</td>\n",
       "      <td>0</td>\n",
       "      <td>2919</td>\n",
       "      <td>정기권</td>\n",
       "      <td>F</td>\n",
       "      <td>~10대</td>\n",
       "      <td>1</td>\n",
       "      <td>0.00</td>\n",
       "      <td>0.00</td>\n",
       "      <td>0.00</td>\n",
       "      <td>75</td>\n",
       "    </tr>\n",
       "    <tr>\n",
       "      <th>4</th>\n",
       "      <td>2021-06-01</td>\n",
       "      <td>0</td>\n",
       "      <td>549</td>\n",
       "      <td>정기권</td>\n",
       "      <td>F</td>\n",
       "      <td>~10대</td>\n",
       "      <td>1</td>\n",
       "      <td>13.04</td>\n",
       "      <td>0.17</td>\n",
       "      <td>731.55</td>\n",
       "      <td>6</td>\n",
       "    </tr>\n",
       "    <tr>\n",
       "      <th>...</th>\n",
       "      <td>...</td>\n",
       "      <td>...</td>\n",
       "      <td>...</td>\n",
       "      <td>...</td>\n",
       "      <td>...</td>\n",
       "      <td>...</td>\n",
       "      <td>...</td>\n",
       "      <td>...</td>\n",
       "      <td>...</td>\n",
       "      <td>...</td>\n",
       "      <td>...</td>\n",
       "    </tr>\n",
       "    <tr>\n",
       "      <th>678945</th>\n",
       "      <td>2021-06-14</td>\n",
       "      <td>23</td>\n",
       "      <td>4623</td>\n",
       "      <td>정기권</td>\n",
       "      <td>M</td>\n",
       "      <td>60대</td>\n",
       "      <td>1</td>\n",
       "      <td>32.92</td>\n",
       "      <td>0.30</td>\n",
       "      <td>1279.01</td>\n",
       "      <td>37</td>\n",
       "    </tr>\n",
       "    <tr>\n",
       "      <th>678946</th>\n",
       "      <td>2021-06-14</td>\n",
       "      <td>23</td>\n",
       "      <td>2331</td>\n",
       "      <td>정기권</td>\n",
       "      <td>M</td>\n",
       "      <td>60대</td>\n",
       "      <td>1</td>\n",
       "      <td>11.88</td>\n",
       "      <td>0.09</td>\n",
       "      <td>400.00</td>\n",
       "      <td>4</td>\n",
       "    </tr>\n",
       "    <tr>\n",
       "      <th>678947</th>\n",
       "      <td>2021-06-14</td>\n",
       "      <td>23</td>\n",
       "      <td>722</td>\n",
       "      <td>정기권</td>\n",
       "      <td>M</td>\n",
       "      <td>60대</td>\n",
       "      <td>1</td>\n",
       "      <td>53.28</td>\n",
       "      <td>0.48</td>\n",
       "      <td>2070.00</td>\n",
       "      <td>20</td>\n",
       "    </tr>\n",
       "    <tr>\n",
       "      <th>678948</th>\n",
       "      <td>2021-06-14</td>\n",
       "      <td>23</td>\n",
       "      <td>3787</td>\n",
       "      <td>정기권</td>\n",
       "      <td>M</td>\n",
       "      <td>70대~</td>\n",
       "      <td>1</td>\n",
       "      <td>121.25</td>\n",
       "      <td>1.18</td>\n",
       "      <td>5103.30</td>\n",
       "      <td>86</td>\n",
       "    </tr>\n",
       "    <tr>\n",
       "      <th>678949</th>\n",
       "      <td>2021-06-14</td>\n",
       "      <td>23</td>\n",
       "      <td>1911</td>\n",
       "      <td>정기권</td>\n",
       "      <td>M</td>\n",
       "      <td>70대~</td>\n",
       "      <td>1</td>\n",
       "      <td>42.18</td>\n",
       "      <td>0.38</td>\n",
       "      <td>1638.70</td>\n",
       "      <td>28</td>\n",
       "    </tr>\n",
       "  </tbody>\n",
       "</table>\n",
       "<p>678950 rows × 11 columns</p>\n",
       "</div>"
      ],
      "text/plain": [
       "              대여일자  대여시간  대여소번호 대여구분코드 성별 연령대코드  이용건수     운동량   탄소량     이동거리  \\\n",
       "0       2021-06-01     0   3541    정기권  F  ~10대     1    0.00  0.00     0.00   \n",
       "1       2021-06-01     0    765    정기권  F  ~10대     1   27.21  0.35  1526.81   \n",
       "2       2021-06-01     0   2637    정기권  F  ~10대     1   41.40  0.37  1608.56   \n",
       "3       2021-06-01     0   2919    정기권  F  ~10대     1    0.00  0.00     0.00   \n",
       "4       2021-06-01     0    549    정기권  F  ~10대     1   13.04  0.17   731.55   \n",
       "...            ...   ...    ...    ... ..   ...   ...     ...   ...      ...   \n",
       "678945  2021-06-14    23   4623    정기권  M   60대     1   32.92  0.30  1279.01   \n",
       "678946  2021-06-14    23   2331    정기권  M   60대     1   11.88  0.09   400.00   \n",
       "678947  2021-06-14    23    722    정기권  M   60대     1   53.28  0.48  2070.00   \n",
       "678948  2021-06-14    23   3787    정기권  M  70대~     1  121.25  1.18  5103.30   \n",
       "678949  2021-06-14    23   1911    정기권  M  70대~     1   42.18  0.38  1638.70   \n",
       "\n",
       "        사용시간  \n",
       "0          8  \n",
       "1         19  \n",
       "2         18  \n",
       "3         75  \n",
       "4          6  \n",
       "...      ...  \n",
       "678945    37  \n",
       "678946     4  \n",
       "678947    20  \n",
       "678948    86  \n",
       "678949    28  \n",
       "\n",
       "[678950 rows x 11 columns]"
      ]
     },
     "execution_count": 3,
     "metadata": {},
     "output_type": "execute_result"
    }
   ],
   "source": [
    "data = 'https://raw.githubusercontent.com/Datamanim/datarepo/main/bicycle/seoul_bi.csv'\n",
    "df = pd.read_csv(data)\n",
    "\n",
    "df"
   ]
  },
  {
   "cell_type": "markdown",
   "id": "8bf320b7",
   "metadata": {},
   "source": [
    "# Question 35.\n",
    "- 대여일자별 데이터의 수를 데이터프레임으로 출력하고, 가장 많은 데이터가 있는 날짜를 출력하라."
   ]
  },
  {
   "cell_type": "code",
   "execution_count": 4,
   "id": "6734478d",
   "metadata": {},
   "outputs": [
    {
     "data": {
      "text/html": [
       "<div>\n",
       "<style scoped>\n",
       "    .dataframe tbody tr th:only-of-type {\n",
       "        vertical-align: middle;\n",
       "    }\n",
       "\n",
       "    .dataframe tbody tr th {\n",
       "        vertical-align: top;\n",
       "    }\n",
       "\n",
       "    .dataframe thead th {\n",
       "        text-align: right;\n",
       "    }\n",
       "</style>\n",
       "<table border=\"1\" class=\"dataframe\">\n",
       "  <thead>\n",
       "    <tr style=\"text-align: right;\">\n",
       "      <th></th>\n",
       "      <th>대여일자</th>\n",
       "      <th>데이터 수</th>\n",
       "    </tr>\n",
       "  </thead>\n",
       "  <tbody>\n",
       "    <tr>\n",
       "      <th>0</th>\n",
       "      <td>2021-06-01</td>\n",
       "      <td>48081</td>\n",
       "    </tr>\n",
       "    <tr>\n",
       "      <th>1</th>\n",
       "      <td>2021-06-02</td>\n",
       "      <td>56100</td>\n",
       "    </tr>\n",
       "    <tr>\n",
       "      <th>2</th>\n",
       "      <td>2021-06-03</td>\n",
       "      <td>18985</td>\n",
       "    </tr>\n",
       "    <tr>\n",
       "      <th>3</th>\n",
       "      <td>2021-06-04</td>\n",
       "      <td>56788</td>\n",
       "    </tr>\n",
       "    <tr>\n",
       "      <th>4</th>\n",
       "      <td>2021-06-05</td>\n",
       "      <td>52730</td>\n",
       "    </tr>\n",
       "    <tr>\n",
       "      <th>5</th>\n",
       "      <td>2021-06-06</td>\n",
       "      <td>47787</td>\n",
       "    </tr>\n",
       "    <tr>\n",
       "      <th>6</th>\n",
       "      <td>2021-06-07</td>\n",
       "      <td>52623</td>\n",
       "    </tr>\n",
       "    <tr>\n",
       "      <th>7</th>\n",
       "      <td>2021-06-08</td>\n",
       "      <td>55623</td>\n",
       "    </tr>\n",
       "    <tr>\n",
       "      <th>8</th>\n",
       "      <td>2021-06-09</td>\n",
       "      <td>54507</td>\n",
       "    </tr>\n",
       "    <tr>\n",
       "      <th>9</th>\n",
       "      <td>2021-06-10</td>\n",
       "      <td>36992</td>\n",
       "    </tr>\n",
       "    <tr>\n",
       "      <th>10</th>\n",
       "      <td>2021-06-11</td>\n",
       "      <td>52089</td>\n",
       "    </tr>\n",
       "    <tr>\n",
       "      <th>11</th>\n",
       "      <td>2021-06-12</td>\n",
       "      <td>48569</td>\n",
       "    </tr>\n",
       "    <tr>\n",
       "      <th>12</th>\n",
       "      <td>2021-06-13</td>\n",
       "      <td>43131</td>\n",
       "    </tr>\n",
       "    <tr>\n",
       "      <th>13</th>\n",
       "      <td>2021-06-14</td>\n",
       "      <td>54945</td>\n",
       "    </tr>\n",
       "  </tbody>\n",
       "</table>\n",
       "</div>"
      ],
      "text/plain": [
       "         대여일자  데이터 수\n",
       "0  2021-06-01  48081\n",
       "1  2021-06-02  56100\n",
       "2  2021-06-03  18985\n",
       "3  2021-06-04  56788\n",
       "4  2021-06-05  52730\n",
       "5  2021-06-06  47787\n",
       "6  2021-06-07  52623\n",
       "7  2021-06-08  55623\n",
       "8  2021-06-09  54507\n",
       "9  2021-06-10  36992\n",
       "10 2021-06-11  52089\n",
       "11 2021-06-12  48569\n",
       "12 2021-06-13  43131\n",
       "13 2021-06-14  54945"
      ]
     },
     "metadata": {},
     "output_type": "display_data"
    },
    {
     "name": "stdout",
     "output_type": "stream",
     "text": [
      "2021-06-04\n"
     ]
    }
   ],
   "source": [
    "# 1. 대여일자 컬럼의 타입 확인\n",
    "df['대여일자'].dtype\n",
    "\n",
    "# 2. 대여일자 컬럼의 타입을 datetime으로 변환\n",
    "df['대여일자'] = pd.to_datetime(df['대여일자'])\n",
    "# print(df['대여일자'].dtype)\n",
    "\n",
    "# 3. 일자별로 그룹화 한 뒤 size()를 통해 총 수를 반환\n",
    "#   - reset_index(name = )\n",
    "#       - index를 컬럼으로 옮긴다.\n",
    "#       - name: 원래 값 컬럼의 컬럼명을 지정한다.\n",
    "Ans = df.groupby('대여일자').size().reset_index(name = '데이터 수')\n",
    "display(Ans)\n",
    "\n",
    "# 4. 가장 데이터 수가 많은 일자를 출력하기 위해 `데이터 수`를 기준으로 내림차순 정렬.\n",
    "Ans = Ans.sort_values('데이터 수', ascending = False)\n",
    "# display(Ans)\n",
    "\n",
    "# 5. 첫 행의 대여일자만 필터링\n",
    "Ans = Ans.iloc[0]['대여일자']\n",
    "\n",
    "# 6. 정답을 출력. (정답의 형식을 맞추기 위해 시간을 제외한 날짜만으로 형변환).\n",
    "print(Ans.strftime('%Y-%m-%d'))"
   ]
  },
  {
   "cell_type": "markdown",
   "id": "cb490a72",
   "metadata": {},
   "source": [
    "# Question 36.\n",
    "- 각 일자의 요일을 표기하여('Monday' ~ 'Sunday') `day_name`컬럼을 생성하고, 이를 이용하여 각 요일별 행의 수를 출력하라 (문제는 `이용횟수`인데 `이용건수` 컬럼과 헷갈릴 수 있어 수정)."
   ]
  },
  {
   "cell_type": "code",
   "execution_count": 5,
   "id": "3b645bc4",
   "metadata": {},
   "outputs": [
    {
     "name": "stdout",
     "output_type": "stream",
     "text": [
      "    day_name  데이터의 총 수\n",
      "0     Friday    108877\n",
      "1     Monday    107568\n",
      "2   Saturday    101299\n",
      "3     Sunday     90918\n",
      "4   Thursday     55977\n",
      "5    Tuesday    103704\n",
      "6  Wednesday    110607\n"
     ]
    }
   ],
   "source": [
    "# 1. 요일명으로 된 day_name 컬럼 생성.\n",
    "df['day_name'] = df['대여일자'].dt.day_name()\n",
    "# display(df['day_name'])\n",
    "\n",
    "# 2. 요일별로 그룹화하고 데이터의 수를 출력.\n",
    "Ans = df.groupby('day_name').size().reset_index(name = '데이터의 총 수')\n",
    "Ans\n",
    "\n",
    "# 3. 데이터프레임으로 변환\n",
    "print(Ans)"
   ]
  },
  {
   "cell_type": "markdown",
   "id": "09d64e93",
   "metadata": {},
   "source": [
    "# Question 37.\n",
    "- 각 요일별 가장 많이 이용한 대여소의 이용횟수와 대여소번호를 데이터프레임으로 출력하라.\n",
    "- 마님의 코드는 `행의 수`를 기준으로 한다. 나의 코드는 `이용건수` 컬럼을 기준으로 작성. (답이 다르다)."
   ]
  },
  {
   "cell_type": "code",
   "execution_count": 6,
   "id": "43ae1f99",
   "metadata": {},
   "outputs": [
    {
     "name": "stdout",
     "output_type": "stream",
     "text": [
      "    day_name  대여소번호  이용건수\n",
      "0     Friday   2715   414\n",
      "1     Monday   2715   374\n",
      "2   Saturday    502   616\n",
      "3     Sunday    502   574\n",
      "4   Thursday   2715   188\n",
      "5    Tuesday    502   371\n",
      "6  Wednesday    502   399\n"
     ]
    }
   ],
   "source": [
    "# 1. `요일명-대여소번호`로 그룹화한 뒤, 이용건수를 계산한다.\n",
    "target = df.groupby(['day_name', '대여소번호'])['이용건수'].sum().reset_index()\n",
    "# display(target)\n",
    "\n",
    "# 2. 요일명으로는 오름차순, 이용건수로는 내림차순으로 정렬한다.\n",
    "target = target.sort_values(['day_name', '이용건수'], ascending = [True, False])\n",
    "# display(target)\n",
    "\n",
    "# 3. 요일별로 그룹화 하고 첫 번째 행만 필터링.\n",
    "#   - 요일별로만 필터링하면 알아서 대여소번호는 정해지기 때문.\n",
    "Ans = target.groupby('day_name').first().reset_index()\n",
    "print(Ans)\n"
   ]
  },
  {
   "cell_type": "markdown",
   "id": "2cb2c168",
   "metadata": {},
   "source": [
    "# Question 38.\n",
    "- 나이대별 대여구분 코드의 (일일권/전체횟수) 비율을 구한 후 가장 높은 비율을 갖는 나이대를 확인하라. 일일권의 경우 일일권과 일일권(비회원)을 모두 포함하라."
   ]
  },
  {
   "cell_type": "code",
   "execution_count": 7,
   "id": "3f069c73",
   "metadata": {},
   "outputs": [
    {
     "data": {
      "text/html": [
       "<div>\n",
       "<style scoped>\n",
       "    .dataframe tbody tr th:only-of-type {\n",
       "        vertical-align: middle;\n",
       "    }\n",
       "\n",
       "    .dataframe tbody tr th {\n",
       "        vertical-align: top;\n",
       "    }\n",
       "\n",
       "    .dataframe thead th {\n",
       "        text-align: right;\n",
       "    }\n",
       "</style>\n",
       "<table border=\"1\" class=\"dataframe\">\n",
       "  <thead>\n",
       "    <tr style=\"text-align: right;\">\n",
       "      <th></th>\n",
       "      <th>연령대코드</th>\n",
       "      <th>비율</th>\n",
       "    </tr>\n",
       "  </thead>\n",
       "  <tbody>\n",
       "    <tr>\n",
       "      <th>0</th>\n",
       "      <td>~10대</td>\n",
       "      <td>0.312525</td>\n",
       "    </tr>\n",
       "  </tbody>\n",
       "</table>\n",
       "</div>"
      ],
      "text/plain": [
       "  연령대코드        비율\n",
       "0  ~10대  0.312525"
      ]
     },
     "execution_count": 7,
     "metadata": {},
     "output_type": "execute_result"
    }
   ],
   "source": [
    "# 1. `일일권`과 `일일권(비회원)`만을 True로 필터링하여 새로운 컬럼 생성.\n",
    "df['is_daily'] = df['대여구분코드'].isin(['일일권', '일일권(비회원)'])\n",
    "# display(df['is_daily'])\n",
    "\n",
    "# 2. 연령대별로 전체 행의 수를 계산. (분모로 쓸 값).\n",
    "denominator = df.groupby('연령대코드').size().reset_index(name = '전체수')\n",
    "# display(denominator)\n",
    "\n",
    "# 3. 연령대별 is_daily컬럼을 집계. (분모로 쓸 값).\n",
    "numerator = df[df['is_daily']].groupby('연령대코드').size().reset_index(name = '전체일일권수')\n",
    "# display(numerator)\n",
    "\n",
    "# 4. denominator와 numerator를 하나의 데이터프렘임으로 생성. 비율을 계산하기 위해.\n",
    "total = denominator.merge(\n",
    "    numerator,\n",
    "    # left join: 연령대가 기준이기에 공백이 있으면 안 된다.\n",
    "    #   - 예를 들어 inner join을 하는 경우 denominator와 numerator을 두 값이 모두 없다면 해당 연령대가 비어버리는 문제가 발생한다.\n",
    "    how = 'left',\n",
    "    on = '연령대코드'\n",
    "    ).fillna(0)\n",
    "# display(total)\n",
    "\n",
    "# 5. 비율계산\n",
    "total['비율'] = total['전체일일권수'] / total['전체수']\n",
    "# display(total['비율'])\n",
    "\n",
    "# 6. 가장 높은 비율을 갖는 연령대를 확인하기위해 정렬\n",
    "total = total.sort_values('비율', ascending = False).reset_index()\n",
    "# display(total['비율'])\n",
    "\n",
    "# 7. 정답 출력\n",
    "#   - 필요한 컬럼만 필터링한 다음\n",
    "#   -> 0번째 index를 필터링하여 최대 비율과 연령대만 필터링. \n",
    "Ans = total[['연령대코드', '비율']].iloc[[0]]  # ✅ 더 간단한 방식\n",
    "Ans\n"
   ]
  },
  {
   "cell_type": "markdown",
   "id": "764ffbdd",
   "metadata": {},
   "source": [
    "# Question 39.\n",
    "- 연령대별 평균 이동거리를 구하여라."
   ]
  },
  {
   "cell_type": "code",
   "execution_count": 8,
   "id": "d0b8e265",
   "metadata": {},
   "outputs": [
    {
     "data": {
      "text/plain": [
       "연령대코드\n",
       "20대     3211.890552\n",
       "30대     3341.443859\n",
       "40대     3514.857416\n",
       "50대     3593.668100\n",
       "60대     3538.145737\n",
       "70대~    3085.039641\n",
       "~10대    2634.426279\n",
       "Name: 이동거리, dtype: float64"
      ]
     },
     "execution_count": 8,
     "metadata": {},
     "output_type": "execute_result"
    }
   ],
   "source": [
    "# 1. 연령대별로 그룹화한 뒤, 이동거리에 대해 집계.\n",
    "Ans = df.groupby('연령대코드')['이동거리'].mean()\n",
    "Ans"
   ]
  },
  {
   "cell_type": "markdown",
   "id": "bc25e065",
   "metadata": {},
   "source": [
    "# Question 40.\n",
    "- 연령대코드가 20대인 데이터를 추출하고, 이동거리값이 추출한 데이터의 이동거리값의 평균 이상인 데이터를 추출한다. 최종 추출된 데이터를 대여일자, 대여소번호 순으로 내림차순 정렬 후 1행부터 200행까지의 탄소량의 평균을 소수점 세 번째 자리까지 구하여라."
   ]
  },
  {
   "cell_type": "code",
   "execution_count": 9,
   "id": "de4b7afd",
   "metadata": {},
   "outputs": [
    {
     "name": "stdout",
     "output_type": "stream",
     "text": [
      "1.613\n"
     ]
    }
   ],
   "source": [
    "# 1. 연령대코드가 20대인 데이터 필터링\n",
    "target = df.loc[df['연령대코드'] == '20대'].copy().reset_index(drop = True)\n",
    "# display(target)\n",
    "\n",
    "# 2. 이동거리값이 추출한 데이터의 평균 이상인 데이터들을 필터링.\n",
    "target = target.loc[target['이동거리'] >= target['이동거리'].mean()].reset_index(drop = True)\n",
    "# display(target)\n",
    "\n",
    "# 3. 대여일자, 대여소번호 순으로 내림차순 정렬\n",
    "target = target.sort_values(['대여일자', '대여소번호'], ascending = False).reset_index(drop = True)\n",
    "# display(target)\n",
    "\n",
    "# 4. 1행부터 200행 까지의 탄소량의 평균을 소수점 세 번째 자리까지 계산\n",
    "# 데이터 필터링\n",
    "Ans = target['탄소량'].iloc[0 : 200]\n",
    "# 평균을 구하기 위해 형변환\n",
    "Ans = Ans.astype('float')\n",
    "# 평균 계산. (결측값이 없기에 처리 안함, 있다면 dropna() 혹은 다른 방식으로 결측치를 처리하고 집계).\n",
    "Ans = Ans.mean()\n",
    "# 소수점 세 번째 자리까지 출력.\n",
    "print(round(Ans, 3))"
   ]
  },
  {
   "cell_type": "markdown",
   "id": "debf782a",
   "metadata": {},
   "source": [
    "# Question 41.\n",
    "- `6월 7일`날짜의 `~10대`의 `이용건수`의 중앙값을 출력하라."
   ]
  },
  {
   "cell_type": "code",
   "execution_count": 10,
   "id": "bbc2251f",
   "metadata": {},
   "outputs": [
    {
     "name": "stdout",
     "output_type": "stream",
     "text": [
      "1.0\n"
     ]
    }
   ],
   "source": [
    "# 1. 6월 7일 날짜를 필터링\n",
    "target = df.loc[df['대여일자'].dt.strftime('%m-%d') == '06-07']\n",
    "# display(target)\n",
    "\n",
    "# 2. 이용건수의 중앙값을 출력. (결측값이 없기에 처리 안함, 있다면 dropna() 혹은 다른 방식으로 결측치를 처리하고 집계).\n",
    "Ans = target['이용건수'].median()\n",
    "print(Ans)"
   ]
  },
  {
   "cell_type": "markdown",
   "id": "6fc8cafd",
   "metadata": {},
   "source": [
    "# Question 42.\n",
    "- 평일 (월 ~ 금) 출근 시간대(오전 6, 7, 8 시)의 대여소별 이용건수를 구하여 데이터프레임으로 출력한 후, 각 대여시간별 이용건수의 상위 세 개의 대여소와 이용건수를 출력하라."
   ]
  },
  {
   "cell_type": "code",
   "execution_count": 11,
   "id": "3573620f",
   "metadata": {},
   "outputs": [
    {
     "data": {
      "text/html": [
       "<div>\n",
       "<style scoped>\n",
       "    .dataframe tbody tr th:only-of-type {\n",
       "        vertical-align: middle;\n",
       "    }\n",
       "\n",
       "    .dataframe tbody tr th {\n",
       "        vertical-align: top;\n",
       "    }\n",
       "\n",
       "    .dataframe thead th {\n",
       "        text-align: right;\n",
       "    }\n",
       "</style>\n",
       "<table border=\"1\" class=\"dataframe\">\n",
       "  <thead>\n",
       "    <tr style=\"text-align: right;\">\n",
       "      <th></th>\n",
       "      <th>대여소번호</th>\n",
       "      <th>이용건수총합</th>\n",
       "    </tr>\n",
       "  </thead>\n",
       "  <tbody>\n",
       "    <tr>\n",
       "      <th>0</th>\n",
       "      <td>102</td>\n",
       "      <td>52</td>\n",
       "    </tr>\n",
       "    <tr>\n",
       "      <th>1</th>\n",
       "      <td>103</td>\n",
       "      <td>42</td>\n",
       "    </tr>\n",
       "    <tr>\n",
       "      <th>2</th>\n",
       "      <td>104</td>\n",
       "      <td>32</td>\n",
       "    </tr>\n",
       "    <tr>\n",
       "      <th>3</th>\n",
       "      <td>105</td>\n",
       "      <td>3</td>\n",
       "    </tr>\n",
       "    <tr>\n",
       "      <th>4</th>\n",
       "      <td>106</td>\n",
       "      <td>17</td>\n",
       "    </tr>\n",
       "    <tr>\n",
       "      <th>...</th>\n",
       "      <td>...</td>\n",
       "      <td>...</td>\n",
       "    </tr>\n",
       "    <tr>\n",
       "      <th>2372</th>\n",
       "      <td>4864</td>\n",
       "      <td>12</td>\n",
       "    </tr>\n",
       "    <tr>\n",
       "      <th>2373</th>\n",
       "      <td>4865</td>\n",
       "      <td>27</td>\n",
       "    </tr>\n",
       "    <tr>\n",
       "      <th>2374</th>\n",
       "      <td>4867</td>\n",
       "      <td>9</td>\n",
       "    </tr>\n",
       "    <tr>\n",
       "      <th>2375</th>\n",
       "      <td>4868</td>\n",
       "      <td>10</td>\n",
       "    </tr>\n",
       "    <tr>\n",
       "      <th>2376</th>\n",
       "      <td>9980</td>\n",
       "      <td>1</td>\n",
       "    </tr>\n",
       "  </tbody>\n",
       "</table>\n",
       "<p>2377 rows × 2 columns</p>\n",
       "</div>"
      ],
      "text/plain": [
       "      대여소번호  이용건수총합\n",
       "0       102      52\n",
       "1       103      42\n",
       "2       104      32\n",
       "3       105       3\n",
       "4       106      17\n",
       "...     ...     ...\n",
       "2372   4864      12\n",
       "2373   4865      27\n",
       "2374   4867       9\n",
       "2375   4868      10\n",
       "2376   9980       1\n",
       "\n",
       "[2377 rows x 2 columns]"
      ]
     },
     "metadata": {},
     "output_type": "display_data"
    },
    {
     "data": {
      "text/html": [
       "<div>\n",
       "<style scoped>\n",
       "    .dataframe tbody tr th:only-of-type {\n",
       "        vertical-align: middle;\n",
       "    }\n",
       "\n",
       "    .dataframe tbody tr th {\n",
       "        vertical-align: top;\n",
       "    }\n",
       "\n",
       "    .dataframe thead th {\n",
       "        text-align: right;\n",
       "    }\n",
       "</style>\n",
       "<table border=\"1\" class=\"dataframe\">\n",
       "  <thead>\n",
       "    <tr style=\"text-align: right;\">\n",
       "      <th></th>\n",
       "      <th></th>\n",
       "      <th>이용건수총합</th>\n",
       "    </tr>\n",
       "    <tr>\n",
       "      <th>대여시간</th>\n",
       "      <th>대여소번호</th>\n",
       "      <th></th>\n",
       "    </tr>\n",
       "  </thead>\n",
       "  <tbody>\n",
       "    <tr>\n",
       "      <th rowspan=\"3\" valign=\"top\">6</th>\n",
       "      <th>2744</th>\n",
       "      <td>55</td>\n",
       "    </tr>\n",
       "    <tr>\n",
       "      <th>1028</th>\n",
       "      <td>47</td>\n",
       "    </tr>\n",
       "    <tr>\n",
       "      <th>1125</th>\n",
       "      <td>44</td>\n",
       "    </tr>\n",
       "    <tr>\n",
       "      <th rowspan=\"3\" valign=\"top\">7</th>\n",
       "      <th>259</th>\n",
       "      <td>184</td>\n",
       "    </tr>\n",
       "    <tr>\n",
       "      <th>2744</th>\n",
       "      <td>125</td>\n",
       "    </tr>\n",
       "    <tr>\n",
       "      <th>2733</th>\n",
       "      <td>104</td>\n",
       "    </tr>\n",
       "    <tr>\n",
       "      <th rowspan=\"3\" valign=\"top\">8</th>\n",
       "      <th>2701</th>\n",
       "      <td>360</td>\n",
       "    </tr>\n",
       "    <tr>\n",
       "      <th>2715</th>\n",
       "      <td>155</td>\n",
       "    </tr>\n",
       "    <tr>\n",
       "      <th>646</th>\n",
       "      <td>151</td>\n",
       "    </tr>\n",
       "  </tbody>\n",
       "</table>\n",
       "</div>"
      ],
      "text/plain": [
       "            이용건수총합\n",
       "대여시간 대여소번호        \n",
       "6    2744       55\n",
       "     1028       47\n",
       "     1125       44\n",
       "7    259       184\n",
       "     2744      125\n",
       "     2733      104\n",
       "8    2701      360\n",
       "     2715      155\n",
       "     646       151"
      ]
     },
     "metadata": {},
     "output_type": "display_data"
    }
   ],
   "source": [
    "# 1. 문제를 풀기 전 데이터 구조 다시 확인\n",
    "# display(df)\n",
    "\n",
    "# 2. day_name 컬럼을 기준으로 요일 필터링, 대여시간을 기준으로 시간대 필터링.\n",
    "target = df.loc[(df['day_name'].isin(['Monday', 'Tuesday', 'Wednesday', 'Thursday', 'Friday'])) & (df['대여시간'].isin([6, 7, 8])) ].copy()\n",
    "# display(target['day_name'].unique())\n",
    "# display(target['대여시간'].unique())\n",
    "\n",
    "# 3. target 데이터프레임에서 대여소별 이용건수를 집계 후 데이터프레임으로 출력.\n",
    "Ans1 = target.groupby('대여소번호')['이용건수'].sum().reset_index(name = '이용건수총합')\n",
    "display(Ans1)\n",
    "\n",
    "# 4. `대여소-대여시간`별 이용건수 상위 세 개의 '대여시간', '대여소번호', 그리고 '이용건수'의 합을 출력하라.\n",
    "Ans2 = target.groupby(['대여시간', '대여소번호'])['이용건수'].sum().reset_index(name = '이용건수총합')\n",
    "# display(Ans2)\n",
    "\n",
    "# 5 대여시간별로 상위 세 개의 이용건수총합 필터링\n",
    "#   - 출력 형식을 맞추기 위해 set_index()로 멀티인덱스 설정.\n",
    "Ans2 = Ans2.sort_values(['대여시간', '이용건수총합'], ascending = [True, False]).groupby('대여시간').head(3).set_index(['대여시간', '대여소번호'])\n",
    "display(Ans2)"
   ]
  },
  {
   "cell_type": "markdown",
   "id": "b5577632",
   "metadata": {},
   "source": [
    "# Question 43.\n",
    "- 평균 이상의 이동거리를 갖는 데이터를 필터링하고, 필터링 결과를 통해 이동거리의 표본표준편차를 출력하라."
   ]
  },
  {
   "cell_type": "code",
   "execution_count": 12,
   "id": "1d24428b",
   "metadata": {},
   "outputs": [
    {
     "name": "stdout",
     "output_type": "stream",
     "text": [
      "5092.139707505356\n"
     ]
    }
   ],
   "source": [
    "# 1. 평균 이상의 이동거리를 기준으로 데이터 필터링\n",
    "target = df.loc[df['이동거리'] >= df['이동거리'].mean()]\n",
    "# display(target)\n",
    "\n",
    "# 2. 표본표준편차 출력.\n",
    "Ans = target['이동거리'].std()\n",
    "print(Ans)"
   ]
  },
  {
   "cell_type": "markdown",
   "id": "a9722b32",
   "metadata": {},
   "source": [
    "# Question 44.\n",
    "- 남성('M' 혹은 'm')과 여성('F' 혹은 'f')의 이동거리의 평균을 구하여라."
   ]
  },
  {
   "cell_type": "code",
   "execution_count": null,
   "id": "af6c7d18",
   "metadata": {},
   "outputs": [
    {
     "data": {
      "text/html": [
       "<div>\n",
       "<style scoped>\n",
       "    .dataframe tbody tr th:only-of-type {\n",
       "        vertical-align: middle;\n",
       "    }\n",
       "\n",
       "    .dataframe tbody tr th {\n",
       "        vertical-align: top;\n",
       "    }\n",
       "\n",
       "    .dataframe thead th {\n",
       "        text-align: right;\n",
       "    }\n",
       "</style>\n",
       "<table border=\"1\" class=\"dataframe\">\n",
       "  <thead>\n",
       "    <tr style=\"text-align: right;\">\n",
       "      <th></th>\n",
       "      <th>이동거리평균</th>\n",
       "    </tr>\n",
       "    <tr>\n",
       "      <th>성별</th>\n",
       "      <th></th>\n",
       "    </tr>\n",
       "  </thead>\n",
       "  <tbody>\n",
       "    <tr>\n",
       "      <th>F</th>\n",
       "      <td>3468.575025</td>\n",
       "    </tr>\n",
       "    <tr>\n",
       "      <th>M</th>\n",
       "      <td>3209.110871</td>\n",
       "    </tr>\n",
       "  </tbody>\n",
       "</table>\n",
       "</div>"
      ],
      "text/plain": [
       "         이동거리평균\n",
       "성별             \n",
       "F   3468.575025\n",
       "M   3209.110871"
      ]
     },
     "metadata": {},
     "output_type": "display_data"
    }
   ],
   "source": [
    "# 1. 성별 컬럼의 범주 확인\n",
    "# display(df['성별'].unique())\n",
    "\n",
    "# 2. `성별` 컬럼을 모두 대분자로 통일\n",
    "df['성별'] = df['성별'].str.upper()\n",
    "df['성별'].unique()\n",
    "\n",
    "# 3. 성별로 그룹화 후 평균\n",
    "Ans = df.groupby('성별')['이동거리'].mean()\n",
    "display(Ans.to_frame(name = '이동거리평균'))"
   ]
  },
  {
   "cell_type": "markdown",
   "id": "41274b30",
   "metadata": {},
   "source": [
    "# Question 45.\n",
    "- 데이터를 로드하라."
   ]
  },
  {
   "cell_type": "code",
   "execution_count": 17,
   "id": "64b96afe",
   "metadata": {},
   "outputs": [
    {
     "data": {
      "text/html": [
       "<div>\n",
       "<style scoped>\n",
       "    .dataframe tbody tr th:only-of-type {\n",
       "        vertical-align: middle;\n",
       "    }\n",
       "\n",
       "    .dataframe tbody tr th {\n",
       "        vertical-align: top;\n",
       "    }\n",
       "\n",
       "    .dataframe thead th {\n",
       "        text-align: right;\n",
       "    }\n",
       "</style>\n",
       "<table border=\"1\" class=\"dataframe\">\n",
       "  <thead>\n",
       "    <tr style=\"text-align: right;\">\n",
       "      <th></th>\n",
       "      <th>행복랭킹</th>\n",
       "      <th>나라명</th>\n",
       "      <th>점수</th>\n",
       "      <th>상대GDP</th>\n",
       "      <th>사회적지원</th>\n",
       "      <th>행복기대치</th>\n",
       "      <th>선택의 자유도</th>\n",
       "      <th>관대함</th>\n",
       "      <th>부패에 대한인식</th>\n",
       "      <th>년도</th>\n",
       "    </tr>\n",
       "  </thead>\n",
       "  <tbody>\n",
       "    <tr>\n",
       "      <th>0</th>\n",
       "      <td>1</td>\n",
       "      <td>Finland</td>\n",
       "      <td>7.769</td>\n",
       "      <td>1.340</td>\n",
       "      <td>1.587</td>\n",
       "      <td>0.986</td>\n",
       "      <td>0.596</td>\n",
       "      <td>0.153</td>\n",
       "      <td>0.393</td>\n",
       "      <td>2019</td>\n",
       "    </tr>\n",
       "    <tr>\n",
       "      <th>1</th>\n",
       "      <td>2</td>\n",
       "      <td>Denmark</td>\n",
       "      <td>7.600</td>\n",
       "      <td>1.383</td>\n",
       "      <td>1.573</td>\n",
       "      <td>0.996</td>\n",
       "      <td>0.592</td>\n",
       "      <td>0.252</td>\n",
       "      <td>0.410</td>\n",
       "      <td>2019</td>\n",
       "    </tr>\n",
       "    <tr>\n",
       "      <th>2</th>\n",
       "      <td>3</td>\n",
       "      <td>Norway</td>\n",
       "      <td>7.554</td>\n",
       "      <td>1.488</td>\n",
       "      <td>1.582</td>\n",
       "      <td>1.028</td>\n",
       "      <td>0.603</td>\n",
       "      <td>0.271</td>\n",
       "      <td>0.341</td>\n",
       "      <td>2019</td>\n",
       "    </tr>\n",
       "    <tr>\n",
       "      <th>3</th>\n",
       "      <td>4</td>\n",
       "      <td>Iceland</td>\n",
       "      <td>7.494</td>\n",
       "      <td>1.380</td>\n",
       "      <td>1.624</td>\n",
       "      <td>1.026</td>\n",
       "      <td>0.591</td>\n",
       "      <td>0.354</td>\n",
       "      <td>0.118</td>\n",
       "      <td>2019</td>\n",
       "    </tr>\n",
       "    <tr>\n",
       "      <th>4</th>\n",
       "      <td>5</td>\n",
       "      <td>Netherlands</td>\n",
       "      <td>7.488</td>\n",
       "      <td>1.396</td>\n",
       "      <td>1.522</td>\n",
       "      <td>0.999</td>\n",
       "      <td>0.557</td>\n",
       "      <td>0.322</td>\n",
       "      <td>0.298</td>\n",
       "      <td>2019</td>\n",
       "    </tr>\n",
       "  </tbody>\n",
       "</table>\n",
       "</div>"
      ],
      "text/plain": [
       "   행복랭킹          나라명     점수  상대GDP  사회적지원  행복기대치  선택의 자유도    관대함  부패에 대한인식  \\\n",
       "0     1      Finland  7.769  1.340  1.587  0.986    0.596  0.153     0.393   \n",
       "1     2      Denmark  7.600  1.383  1.573  0.996    0.592  0.252     0.410   \n",
       "2     3       Norway  7.554  1.488  1.582  1.028    0.603  0.271     0.341   \n",
       "3     4      Iceland  7.494  1.380  1.624  1.026    0.591  0.354     0.118   \n",
       "4     5  Netherlands  7.488  1.396  1.522  0.999    0.557  0.322     0.298   \n",
       "\n",
       "     년도  \n",
       "0  2019  \n",
       "1  2019  \n",
       "2  2019  \n",
       "3  2019  \n",
       "4  2019  "
      ]
     },
     "execution_count": 17,
     "metadata": {},
     "output_type": "execute_result"
    }
   ],
   "source": [
    "data = 'https://raw.githubusercontent.com/Datamanim/datarepo/main/happy2/happiness.csv'\n",
    "df = pd.read_csv(data, encoding = 'utf-8')\n",
    "\n",
    "df.head()"
   ]
  },
  {
   "cell_type": "markdown",
   "id": "9d8531b4",
   "metadata": {},
   "source": [
    "# Question 46.\n",
    "- 데이터는 2018년도와 2019년도의 전세계 행복지수를 표현한다. 각 년도의(년도별 아님) 행복랭킹 10위를 차지한 나라의 행복점수 평균을 구하여라."
   ]
  },
  {
   "cell_type": "code",
   "execution_count": 24,
   "id": "fd4b4bfc",
   "metadata": {},
   "outputs": [
    {
     "name": "stdout",
     "output_type": "stream",
     "text": [
      "7.259\n"
     ]
    }
   ],
   "source": [
    "# 1. 행복랭킹 10위인 나라만 필터링\n",
    "target = df.loc[df['행복랭킹'] == 10]\n",
    "# display(target)\n",
    "\n",
    "# 2. 평균을 계산\n",
    "Ans = target['점수'].mean()\n",
    "print(Ans)"
   ]
  },
  {
   "cell_type": "markdown",
   "id": "9dcfee1e",
   "metadata": {},
   "source": [
    "# Question 47.\n",
    "- 각 년도의 행복랭킹 50위 이내의 나라들 각각의 행복점수 평균을 데이터프레임으로 출력하라."
   ]
  },
  {
   "cell_type": "code",
   "execution_count": 38,
   "id": "6779e637",
   "metadata": {},
   "outputs": [
    {
     "data": {
      "text/html": [
       "<div>\n",
       "<style scoped>\n",
       "    .dataframe tbody tr th:only-of-type {\n",
       "        vertical-align: middle;\n",
       "    }\n",
       "\n",
       "    .dataframe tbody tr th {\n",
       "        vertical-align: top;\n",
       "    }\n",
       "\n",
       "    .dataframe thead th {\n",
       "        text-align: right;\n",
       "    }\n",
       "</style>\n",
       "<table border=\"1\" class=\"dataframe\">\n",
       "  <thead>\n",
       "    <tr style=\"text-align: right;\">\n",
       "      <th></th>\n",
       "      <th></th>\n",
       "      <th>점수</th>\n",
       "    </tr>\n",
       "    <tr>\n",
       "      <th>년도</th>\n",
       "      <th>나라명</th>\n",
       "      <th></th>\n",
       "    </tr>\n",
       "  </thead>\n",
       "  <tbody>\n",
       "    <tr>\n",
       "      <th rowspan=\"5\" valign=\"top\">2018</th>\n",
       "      <th>Argentina</th>\n",
       "      <td>6.388</td>\n",
       "    </tr>\n",
       "    <tr>\n",
       "      <th>Australia</th>\n",
       "      <td>7.272</td>\n",
       "    </tr>\n",
       "    <tr>\n",
       "      <th>Austria</th>\n",
       "      <td>7.139</td>\n",
       "    </tr>\n",
       "    <tr>\n",
       "      <th>Bahrain</th>\n",
       "      <td>6.105</td>\n",
       "    </tr>\n",
       "    <tr>\n",
       "      <th>Belgium</th>\n",
       "      <td>6.927</td>\n",
       "    </tr>\n",
       "    <tr>\n",
       "      <th>...</th>\n",
       "      <th>...</th>\n",
       "      <td>...</td>\n",
       "    </tr>\n",
       "    <tr>\n",
       "      <th rowspan=\"5\" valign=\"top\">2019</th>\n",
       "      <th>United Arab Emirates</th>\n",
       "      <td>6.825</td>\n",
       "    </tr>\n",
       "    <tr>\n",
       "      <th>United Kingdom</th>\n",
       "      <td>7.054</td>\n",
       "    </tr>\n",
       "    <tr>\n",
       "      <th>United States</th>\n",
       "      <td>6.892</td>\n",
       "    </tr>\n",
       "    <tr>\n",
       "      <th>Uruguay</th>\n",
       "      <td>6.293</td>\n",
       "    </tr>\n",
       "    <tr>\n",
       "      <th>Uzbekistan</th>\n",
       "      <td>6.174</td>\n",
       "    </tr>\n",
       "  </tbody>\n",
       "</table>\n",
       "<p>100 rows × 1 columns</p>\n",
       "</div>"
      ],
      "text/plain": [
       "                              점수\n",
       "년도   나라명                        \n",
       "2018 Argentina             6.388\n",
       "     Australia             7.272\n",
       "     Austria               7.139\n",
       "     Bahrain               6.105\n",
       "     Belgium               6.927\n",
       "...                          ...\n",
       "2019 United Arab Emirates  6.825\n",
       "     United Kingdom        7.054\n",
       "     United States         6.892\n",
       "     Uruguay               6.293\n",
       "     Uzbekistan            6.174\n",
       "\n",
       "[100 rows x 1 columns]"
      ]
     },
     "execution_count": 38,
     "metadata": {},
     "output_type": "execute_result"
    }
   ],
   "source": [
    "# 1. 50위 이내의 데이터만 필터링\n",
    "target = df.loc[df['행복랭킹'] <= 50]\n",
    "# display(target)\n",
    "\n",
    "# 2. 년도-나라로 그룹화하고 점수의 평균을 계산\n",
    "Ans = target.groupby(['년도', '나라명'])['점수'].mean()\n",
    "Ans = Ans.to_frame()\n",
    "Ans"
   ]
  },
  {
   "cell_type": "markdown",
   "id": "c004ee9e",
   "metadata": {},
   "source": [
    "# Question 48.\n",
    "- 2018년도 데이터들만 추출하여 행복점수와 부패에 대한 상관계수를 출력하라."
   ]
  },
  {
   "cell_type": "code",
   "execution_count": null,
   "id": "833831c5",
   "metadata": {},
   "outputs": [
    {
     "name": "stdout",
     "output_type": "stream",
     "text": [
      "0.40529152271510027\n"
     ]
    }
   ],
   "source": [
    "# 1. 2018년도 데이터만 필터링\n",
    "target = df.loc[df['년도'] == 2018]\n",
    "# display(target)\n",
    "\n",
    "# 2. 상관계수 행렬 생성\n",
    "Ans = target[['점수', '부패에 대한인식']].corr()\n",
    "\n",
    "# 3. 상관계수 행렬에서 정답만 필터링.\n",
    "print(Ans.iloc[0, 1])"
   ]
  },
  {
   "cell_type": "markdown",
   "id": "defc2a2e",
   "metadata": {},
   "source": [
    "# Question 49.\n",
    "- 2018년도와 2019년도의 행복랭킹이 변화하지 않은 나라의 수를 구하여라."
   ]
  },
  {
   "cell_type": "code",
   "execution_count": 55,
   "id": "3297cc9a",
   "metadata": {},
   "outputs": [
    {
     "name": "stdout",
     "output_type": "stream",
     "text": [
      "15\n"
     ]
    }
   ],
   "source": [
    "# 1. 2018년도와 2019년도 각각 국가명과 행복랭킹을 필터링하여 두 개의 데이터프레임 생성.\n",
    "df_18 = df.loc[df['년도'] == 2018][['나라명', '행복랭킹']].copy()\n",
    "df_19 = df.loc[df['년도'] == 2019][['나라명', '행복랭킹']].copy()\n",
    "\n",
    "# 2. 두 데이터프레임을 하나로 병합\n",
    "#   - merge를 할 때 같은 이름의 컬럼이 있으면 suffixes 옵션을 통해 접미사를 설정해 줄 수 있다.\n",
    "total = pd.merge(df_18, df_19, on = '나라명', suffixes = ('_2018', '_2019'))\n",
    "# display(total)\n",
    "\n",
    "# 3. 2018과 2019년도의 행복랭킹이 같은 행만 필터링\n",
    "target = total.loc[total['행복랭킹_2018'] == total['행복랭킹_2019']]\n",
    "# display(target)\n",
    "\n",
    "# 4. nunique()를 통해 나라의 수를 반환.\n",
    "Ans = target['나라명'].nunique()\n",
    "print(Ans)"
   ]
  },
  {
   "cell_type": "markdown",
   "id": "fe3f3ce4",
   "metadata": {},
   "source": [
    "# Question 50.\n",
    "- 2019년도 데이터들만 추출하여 각 변수간의 상관계수를 구하고 내림차순으로 정렬한 뒤 상위 5 개를 데이터프레임으로 출력하라. (단, 컬럼명은 v1, v2, corr로 표기)."
   ]
  },
  {
   "cell_type": "code",
   "execution_count": 94,
   "id": "25534f22",
   "metadata": {},
   "outputs": [
    {
     "data": {
      "text/html": [
       "<div>\n",
       "<style scoped>\n",
       "    .dataframe tbody tr th:only-of-type {\n",
       "        vertical-align: middle;\n",
       "    }\n",
       "\n",
       "    .dataframe tbody tr th {\n",
       "        vertical-align: top;\n",
       "    }\n",
       "\n",
       "    .dataframe thead th {\n",
       "        text-align: right;\n",
       "    }\n",
       "</style>\n",
       "<table border=\"1\" class=\"dataframe\">\n",
       "  <thead>\n",
       "    <tr style=\"text-align: right;\">\n",
       "      <th></th>\n",
       "      <th>v1</th>\n",
       "      <th>v2</th>\n",
       "      <th>corr</th>\n",
       "    </tr>\n",
       "  </thead>\n",
       "  <tbody>\n",
       "    <tr>\n",
       "      <th>22</th>\n",
       "      <td>상대GDP</td>\n",
       "      <td>행복기대치</td>\n",
       "      <td>0.835462</td>\n",
       "    </tr>\n",
       "    <tr>\n",
       "      <th>11</th>\n",
       "      <td>점수</td>\n",
       "      <td>상대GDP</td>\n",
       "      <td>0.793883</td>\n",
       "    </tr>\n",
       "    <tr>\n",
       "      <th>13</th>\n",
       "      <td>점수</td>\n",
       "      <td>행복기대치</td>\n",
       "      <td>0.779883</td>\n",
       "    </tr>\n",
       "    <tr>\n",
       "      <th>12</th>\n",
       "      <td>점수</td>\n",
       "      <td>사회적지원</td>\n",
       "      <td>0.777058</td>\n",
       "    </tr>\n",
       "    <tr>\n",
       "      <th>21</th>\n",
       "      <td>상대GDP</td>\n",
       "      <td>사회적지원</td>\n",
       "      <td>0.754906</td>\n",
       "    </tr>\n",
       "  </tbody>\n",
       "</table>\n",
       "</div>"
      ],
      "text/plain": [
       "       v1     v2      corr\n",
       "22  상대GDP  행복기대치  0.835462\n",
       "11     점수  상대GDP  0.793883\n",
       "13     점수  행복기대치  0.779883\n",
       "12     점수  사회적지원  0.777058\n",
       "21  상대GDP  사회적지원  0.754906"
      ]
     },
     "execution_count": 94,
     "metadata": {},
     "output_type": "execute_result"
    }
   ],
   "source": [
    "# 1. 2019년의 데이터만 필터링\n",
    "target = df.loc[df['년도'] == 2019]\n",
    "# display(target['년도'].unique())\n",
    "\n",
    "# 2. 수치형 변수만 필터링하여 상관관계 행렬 생성\n",
    "corr_mat = target.select_dtypes(include = 'number').corr()\n",
    "# display(corr_mat)\n",
    "\n",
    "# 3. 상관관계 행렬을 unstack()으로 index를 해제하여 긴 형식으로 만듦.\n",
    "corr_df = corr_mat.unstack().reset_index()\n",
    "# display(corr_df)\n",
    "\n",
    "# 4. 컬럼명을 문제에서 제시한 v1, v2, corr로 변경\n",
    "corr_df.columns = ['v1', 'v2', 'corr']\n",
    "# display(corr_df)\n",
    "\n",
    "# 5. 중복행 제거\n",
    "#   - 확인하고자 하는 두 컬럼(v1, v2)을 튜플로 묶고 정렬하면 다음과 같이 중복되는 경우를 만들 수 있다.\n",
    "#       - 예: \n",
    "#           sorted(['GDP', '행복점수']) → ['GDP', '행복점수']\n",
    "#           sorted(['행복점수', 'GDP']) → ['GDP', '행복점수']\n",
    "#   -> 이후 위처럼 생성한 컬럼을 기준으로 중복을 제거.\n",
    "corr_df['dup'] = corr_df.apply(lambda row: tuple(sorted([row['v1'], row['v2']])), axis=1)\n",
    "# display(corr_df['dup'])\n",
    "\n",
    "# 6. 생성된 dup 컬럼을 기준으로 중복을 제거. (중복 체크를 위해 생성한 dup 컬럼을 제거하는 것을 포함).\n",
    "corr_df = corr_df.drop_duplicates('dup').drop(columns = 'dup')\n",
    "# display(corr_df)\n",
    "\n",
    "# 7. 상관계수가 1인 경우(자기자신)를 제외\n",
    "corr_df = corr_df.loc[corr_df['v1'] != corr_df['v2']]\n",
    "# display(corr_df)\n",
    "\n",
    "# 7. 정답 출력을 위해 상관계수로 내림차순 정리 후 상위 다섯 행을 필터링하여 정답 출력.\n",
    "corr_df = corr_df.sort_values('corr', ascending = False)\n",
    "Ans = corr_df.head()\n",
    "Ans\n"
   ]
  },
  {
   "cell_type": "markdown",
   "id": "2408a2fd",
   "metadata": {},
   "source": [
    "# Question 51.\n",
    "- 각 년도별 행복점수가 하위 5개 국가의 행복점수 평균을 출력하라."
   ]
  },
  {
   "cell_type": "code",
   "execution_count": 112,
   "id": "74b99ab3",
   "metadata": {},
   "outputs": [
    {
     "data": {
      "text/html": [
       "<div>\n",
       "<style scoped>\n",
       "    .dataframe tbody tr th:only-of-type {\n",
       "        vertical-align: middle;\n",
       "    }\n",
       "\n",
       "    .dataframe tbody tr th {\n",
       "        vertical-align: top;\n",
       "    }\n",
       "\n",
       "    .dataframe thead th {\n",
       "        text-align: right;\n",
       "    }\n",
       "</style>\n",
       "<table border=\"1\" class=\"dataframe\">\n",
       "  <thead>\n",
       "    <tr style=\"text-align: right;\">\n",
       "      <th></th>\n",
       "      <th>년도</th>\n",
       "      <th>하위 5개국 평균점수</th>\n",
       "    </tr>\n",
       "  </thead>\n",
       "  <tbody>\n",
       "    <tr>\n",
       "      <th>0</th>\n",
       "      <td>2018</td>\n",
       "      <td>3.1800</td>\n",
       "    </tr>\n",
       "    <tr>\n",
       "      <th>1</th>\n",
       "      <td>2019</td>\n",
       "      <td>3.1408</td>\n",
       "    </tr>\n",
       "  </tbody>\n",
       "</table>\n",
       "</div>"
      ],
      "text/plain": [
       "     년도  하위 5개국 평균점수\n",
       "0  2018       3.1800\n",
       "1  2019       3.1408"
      ]
     },
     "metadata": {},
     "output_type": "display_data"
    }
   ],
   "source": [
    "# 1. 년도, 점수 순으로 정렬 후 년도별로 그룹화하여 년도별 하위 5개의 행을 필터링.\n",
    "#   - 년도별로 정렬하고 점수별로 정렬하면 이미 년도별로 정렬이 돼 있기 때문에 년도별 가장 낮은 점수부터 오름차순 정렬된다.\n",
    "#   - 따라서 이때 년도별로 그룹화하고 head()를 활용하면 하위 5 개행을 필터링 할 수 있다.\n",
    "target = df.sort_values(['년도', '점수']).groupby('년도').head()\n",
    "# display(bottom5)\n",
    "\n",
    "# 2. 년도별 평균 계산\n",
    "#   - 필터링된 target 데이터프레임을 다시 년도별로 그룹화하고 점수의 평균을 집계하면 하위 5개국가의 평균을 집계할 수 있다.\n",
    "#   - 만약 국가명이 중복이 존재한다면 df.drop_duplicated(subset = ['년도', '나라명'])을 시도하여 중복을 제거할 수 있다.\n",
    "Ans = target.groupby('년도')['점수'].mean().reset_index(name='하위 5개국 평균점수')\n",
    "\n",
    "# 3. 정답 출력\n",
    "display(Ans)"
   ]
  },
  {
   "cell_type": "markdown",
   "id": "b487218c",
   "metadata": {},
   "source": [
    "# Question 52.\n",
    "- 2019년 데이터를 추출하고 해당 데이터의 상대GDP가 평균 이상인 나라들과 평균 이하인 나라들의 행복점수의 평균을 각각 구하고 차이를 출력하라. \n",
    "<br>\n",
    "**(마님풀이는 2019년을 필터링하지 않아 정답이 다름)**"
   ]
  },
  {
   "cell_type": "code",
   "execution_count": 119,
   "id": "5504f175",
   "metadata": {},
   "outputs": [
    {
     "name": "stdout",
     "output_type": "stream",
     "text": [
      "0.6765307486631016\n"
     ]
    }
   ],
   "source": [
    "# 1. 우선 2019년도 데이터를 필터링\n",
    "target = df.loc[df['년도'] == 2019]\n",
    "# display(target['년도'].unique())\n",
    "\n",
    "# 2. 상대GDP를 기준으로 이상과 이하인 나라의 데이터프레임 생성.\n",
    "mean_gdp = target['상대GDP'].mean()\n",
    "df_upper = target.loc[target['상대GDP'] >= mean_gdp]\n",
    "df_lower = target.loc[target['상대GDP'] <= mean_gdp]\n",
    "\n",
    "# 3. df_upper와 df_lower의 평ㄱ륜을 계산하고 차이를 출력.\n",
    "Ans = df_upper['상대GDP'].mean() - df_lower['상대GDP'].mean()\n",
    "print(Ans)"
   ]
  },
  {
   "cell_type": "markdown",
   "id": "f6e4fd8e",
   "metadata": {},
   "source": [
    "# Question 53.\n",
    "- 각 년도의 부패에 대한인식을 내림차순으로 정렬했을 때 상위 20개 국가의 부패에 대한 인식의 평균을 구하여라."
   ]
  },
  {
   "cell_type": "code",
   "execution_count": null,
   "id": "05609a7d",
   "metadata": {},
   "outputs": [
    {
     "name": "stdout",
     "output_type": "stream",
     "text": [
      "     년도  부패에 대한인식\n",
      "0  2018    0.3267\n",
      "1  2019    0.3201\n"
     ]
    }
   ],
   "source": [
    "# 1. 조건을 전부 넣어서 한 번에 출력.\n",
    "Ans = (\n",
    "    df.sort_values(['년도', '부패에 대한인식'], ascending=False) # 년도와 부패에 대한인식 컬럼을 내림차순 정렬.\n",
    "      .groupby('년도') # 년도로 그룹화하여\n",
    "      .head(20) # 연도별 하위 20개의 행 필터링\n",
    "      .groupby('년도')[['부패에 대한인식']] # 필터링된 결과를 다시 년도별로 그룹화한 뒤 부패에 대한인식을 대상\n",
    "      .mean() # 평균집계\n",
    "      .reset_index() # 인덱스를 정리하여 깔끔하게 데이터프레임으로 출력.\n",
    ")\n",
    "\n",
    "print(Ans)\n"
   ]
  },
  {
   "cell_type": "markdown",
   "id": "f9a99f24",
   "metadata": {},
   "source": [
    "# Question 54.\n",
    "- 2018년도 행복랭킹 50위 이내에 포함됐다가 2019년 50위 밖으로 밀려난 국가의 수를 구하여라."
   ]
  },
  {
   "cell_type": "code",
   "execution_count": 163,
   "id": "7f038323",
   "metadata": {},
   "outputs": [
    {
     "name": "stdout",
     "output_type": "stream",
     "text": [
      "3\n"
     ]
    }
   ],
   "source": [
    "# 1. 2018년도와 2019년도를 나누어 데이터프레임 생성.\n",
    "df_2018 = df.loc[df['년도'] == 2018]\n",
    "# display(df_2018['년도'].unique())\n",
    "df_2019 = df.loc[df['년도'] == 2019]\n",
    "# display(df_2019['년도'].unique())\n",
    "\n",
    "# 2. 2018년 데이터프레임에서 50위 이내의 국가명을 필터링\n",
    "under_50 = df_2018.loc[df_2018['행복랭킹'] <= 50]['나라명'].to_list()\n",
    "# display(under_50)\n",
    "\n",
    "# 3. df_2019에서 2018년에 50위 이내인 under_50의 국가들만 필터링\n",
    "target = df_2019.loc[df_2019['나라명'].isin(under_50)]\n",
    "# display(target)\n",
    "\n",
    "# 4. 필터링된 target 데이터프레임에서 행복랭킹이 50위권 밖인 국가의 수를 출력.\n",
    "Ans = target.loc[target['행복랭킹'] > 50]['나라명'].nunique()\n",
    "print(Ans)\n"
   ]
  },
  {
   "cell_type": "markdown",
   "id": "9da53c57",
   "metadata": {},
   "source": [
    "# Question 55.\n",
    "- 2018년, 2019년 모두 기록이 있는 나라들 중 년도별 행복점수가 가장 증가한 나라와 증가 정도를 출력하라."
   ]
  },
  {
   "cell_type": "code",
   "execution_count": null,
   "id": "146c1371",
   "metadata": {},
   "outputs": [
    {
     "data": {
      "text/html": [
       "<div>\n",
       "<style scoped>\n",
       "    .dataframe tbody tr th:only-of-type {\n",
       "        vertical-align: middle;\n",
       "    }\n",
       "\n",
       "    .dataframe tbody tr th {\n",
       "        vertical-align: top;\n",
       "    }\n",
       "\n",
       "    .dataframe thead th {\n",
       "        text-align: right;\n",
       "    }\n",
       "</style>\n",
       "<table border=\"1\" class=\"dataframe\">\n",
       "  <thead>\n",
       "    <tr style=\"text-align: right;\">\n",
       "      <th></th>\n",
       "      <th>나라명</th>\n",
       "      <th>증가량</th>\n",
       "    </tr>\n",
       "  </thead>\n",
       "  <tbody>\n",
       "    <tr>\n",
       "      <th>151</th>\n",
       "      <td>Burundi</td>\n",
       "      <td>0.87</td>\n",
       "    </tr>\n",
       "  </tbody>\n",
       "</table>\n",
       "</div>"
      ],
      "text/plain": [
       "         나라명   증가량\n",
       "151  Burundi  0.87"
      ]
     },
     "metadata": {},
     "output_type": "display_data"
    }
   ],
   "source": [
    "# 1. 2018과 2019 두 개의 데이터프레임 생성.\n",
    "df_2018 = df.loc[df['년도'] == 2018][['나라명', '점수']].rename(columns = {'점수' : '점수_2018'})\n",
    "# display(df_2018['년도'].unique())\n",
    "df_2019 = df.loc[df['년도'] == 2019][['나라명', '점수']].rename(columns = {'점수' : '점수_2019'})\n",
    "# display(df_2019['년도'].unique())\n",
    "\n",
    "# 2. 두 데이터프레임을 나라명을 기준으로 merge. 즉, inner join을 통해 둘 다 존재하는 나라명만 남기며 병합한다.\n",
    "target = pd.merge(df_2018, df_2019, on = '나라명', how = 'inner')\n",
    "# display(target)\n",
    "\n",
    "# 3. 행복점수 증가량을 계산\n",
    "target['증가량'] = target['점수_2019'] - target['점수_2018']\n",
    "# display(target['증가량'])\n",
    "\n",
    "# 4. 증가량을 기준으로 내림차순 정렬 후 첫 번째 행의 나라명과 증가량을 출력.\n",
    "#   - to_frame.T: 전치를 하여 데이터프레임의 형태를 맞춰줌\n",
    "#       - 시리즈를 출력할 때 index가 컬럼에 위치하는데 이를 전치하여 데이터프레임의 형태를 잡아주는 것.\n",
    "Ans = target.sort_values('증가량', ascending = False)[['나라명', '증가량']].iloc[0].to_frame().T\n",
    "display(Ans)"
   ]
  },
  {
   "cell_type": "markdown",
   "id": "31820e46",
   "metadata": {},
   "source": [
    "# Question 56.\n",
    "- 데이터를 로드하라."
   ]
  },
  {
   "cell_type": "code",
   "execution_count": 174,
   "id": "9f4c22fb",
   "metadata": {},
   "outputs": [
    {
     "data": {
      "text/html": [
       "<div>\n",
       "<style scoped>\n",
       "    .dataframe tbody tr th:only-of-type {\n",
       "        vertical-align: middle;\n",
       "    }\n",
       "\n",
       "    .dataframe tbody tr th {\n",
       "        vertical-align: top;\n",
       "    }\n",
       "\n",
       "    .dataframe thead th {\n",
       "        text-align: right;\n",
       "    }\n",
       "</style>\n",
       "<table border=\"1\" class=\"dataframe\">\n",
       "  <thead>\n",
       "    <tr style=\"text-align: right;\">\n",
       "      <th></th>\n",
       "      <th>DateTime</th>\n",
       "      <th>Temperature</th>\n",
       "      <th>Humidity</th>\n",
       "      <th>Wind Speed</th>\n",
       "      <th>general diffuse flows</th>\n",
       "      <th>diffuse flows</th>\n",
       "      <th>Zone 1 Power Consumption</th>\n",
       "      <th>Zone 2  Power Consumption</th>\n",
       "      <th>Zone 3  Power Consumption</th>\n",
       "    </tr>\n",
       "  </thead>\n",
       "  <tbody>\n",
       "    <tr>\n",
       "      <th>0</th>\n",
       "      <td>1/1/2017 0:00</td>\n",
       "      <td>6.559</td>\n",
       "      <td>73.8</td>\n",
       "      <td>0.083</td>\n",
       "      <td>0.051</td>\n",
       "      <td>0.119</td>\n",
       "      <td>34055.69620</td>\n",
       "      <td>16128.87538</td>\n",
       "      <td>20240.96386</td>\n",
       "    </tr>\n",
       "    <tr>\n",
       "      <th>1</th>\n",
       "      <td>1/1/2017 0:10</td>\n",
       "      <td>6.414</td>\n",
       "      <td>74.5</td>\n",
       "      <td>0.083</td>\n",
       "      <td>0.070</td>\n",
       "      <td>0.085</td>\n",
       "      <td>29814.68354</td>\n",
       "      <td>19375.07599</td>\n",
       "      <td>20131.08434</td>\n",
       "    </tr>\n",
       "    <tr>\n",
       "      <th>2</th>\n",
       "      <td>1/1/2017 0:20</td>\n",
       "      <td>6.313</td>\n",
       "      <td>74.5</td>\n",
       "      <td>0.080</td>\n",
       "      <td>0.062</td>\n",
       "      <td>0.100</td>\n",
       "      <td>29128.10127</td>\n",
       "      <td>19006.68693</td>\n",
       "      <td>19668.43373</td>\n",
       "    </tr>\n",
       "    <tr>\n",
       "      <th>3</th>\n",
       "      <td>1/1/2017 0:30</td>\n",
       "      <td>6.121</td>\n",
       "      <td>75.0</td>\n",
       "      <td>0.083</td>\n",
       "      <td>0.091</td>\n",
       "      <td>0.096</td>\n",
       "      <td>28228.86076</td>\n",
       "      <td>18361.09422</td>\n",
       "      <td>18899.27711</td>\n",
       "    </tr>\n",
       "    <tr>\n",
       "      <th>4</th>\n",
       "      <td>1/1/2017 0:40</td>\n",
       "      <td>5.921</td>\n",
       "      <td>75.7</td>\n",
       "      <td>0.081</td>\n",
       "      <td>0.048</td>\n",
       "      <td>0.085</td>\n",
       "      <td>27335.69620</td>\n",
       "      <td>17872.34043</td>\n",
       "      <td>18442.40964</td>\n",
       "    </tr>\n",
       "  </tbody>\n",
       "</table>\n",
       "</div>"
      ],
      "text/plain": [
       "        DateTime  Temperature  Humidity  Wind Speed  general diffuse flows  \\\n",
       "0  1/1/2017 0:00        6.559      73.8       0.083                  0.051   \n",
       "1  1/1/2017 0:10        6.414      74.5       0.083                  0.070   \n",
       "2  1/1/2017 0:20        6.313      74.5       0.080                  0.062   \n",
       "3  1/1/2017 0:30        6.121      75.0       0.083                  0.091   \n",
       "4  1/1/2017 0:40        5.921      75.7       0.081                  0.048   \n",
       "\n",
       "   diffuse flows  Zone 1 Power Consumption  Zone 2  Power Consumption  \\\n",
       "0          0.119               34055.69620                16128.87538   \n",
       "1          0.085               29814.68354                19375.07599   \n",
       "2          0.100               29128.10127                19006.68693   \n",
       "3          0.096               28228.86076                18361.09422   \n",
       "4          0.085               27335.69620                17872.34043   \n",
       "\n",
       "   Zone 3  Power Consumption  \n",
       "0                20240.96386  \n",
       "1                20131.08434  \n",
       "2                19668.43373  \n",
       "3                18899.27711  \n",
       "4                18442.40964  "
      ]
     },
     "execution_count": 174,
     "metadata": {},
     "output_type": "execute_result"
    }
   ],
   "source": [
    "data = 'https://raw.githubusercontent.com/Datamanim/datarepo/main/consum/Tetuan%20City%20power%20consumption.csv'\n",
    "df = pd.read_csv(data)\n",
    "\n",
    "df.head()"
   ]
  },
  {
   "cell_type": "markdown",
   "id": "c84e476c",
   "metadata": {},
   "source": [
    "# Question 57.\n",
    "- DateTime 컬럼을 통해 각 월별로 몇 개의 데이터가 있는지 데이터프레임을 출력하라."
   ]
  },
  {
   "cell_type": "code",
   "execution_count": 196,
   "id": "74ffaa5b",
   "metadata": {},
   "outputs": [
    {
     "data": {
      "text/html": [
       "<div>\n",
       "<style scoped>\n",
       "    .dataframe tbody tr th:only-of-type {\n",
       "        vertical-align: middle;\n",
       "    }\n",
       "\n",
       "    .dataframe tbody tr th {\n",
       "        vertical-align: top;\n",
       "    }\n",
       "\n",
       "    .dataframe thead th {\n",
       "        text-align: right;\n",
       "    }\n",
       "</style>\n",
       "<table border=\"1\" class=\"dataframe\">\n",
       "  <thead>\n",
       "    <tr style=\"text-align: right;\">\n",
       "      <th></th>\n",
       "      <th>DateTime</th>\n",
       "      <th>월별 데이터의 수</th>\n",
       "    </tr>\n",
       "  </thead>\n",
       "  <tbody>\n",
       "    <tr>\n",
       "      <th>0</th>\n",
       "      <td>01</td>\n",
       "      <td>4464</td>\n",
       "    </tr>\n",
       "    <tr>\n",
       "      <th>1</th>\n",
       "      <td>02</td>\n",
       "      <td>4032</td>\n",
       "    </tr>\n",
       "    <tr>\n",
       "      <th>2</th>\n",
       "      <td>03</td>\n",
       "      <td>4464</td>\n",
       "    </tr>\n",
       "    <tr>\n",
       "      <th>3</th>\n",
       "      <td>04</td>\n",
       "      <td>4320</td>\n",
       "    </tr>\n",
       "    <tr>\n",
       "      <th>4</th>\n",
       "      <td>05</td>\n",
       "      <td>4464</td>\n",
       "    </tr>\n",
       "    <tr>\n",
       "      <th>5</th>\n",
       "      <td>06</td>\n",
       "      <td>4320</td>\n",
       "    </tr>\n",
       "    <tr>\n",
       "      <th>6</th>\n",
       "      <td>07</td>\n",
       "      <td>4464</td>\n",
       "    </tr>\n",
       "    <tr>\n",
       "      <th>7</th>\n",
       "      <td>08</td>\n",
       "      <td>4464</td>\n",
       "    </tr>\n",
       "    <tr>\n",
       "      <th>8</th>\n",
       "      <td>09</td>\n",
       "      <td>4320</td>\n",
       "    </tr>\n",
       "    <tr>\n",
       "      <th>9</th>\n",
       "      <td>10</td>\n",
       "      <td>4464</td>\n",
       "    </tr>\n",
       "    <tr>\n",
       "      <th>10</th>\n",
       "      <td>11</td>\n",
       "      <td>4320</td>\n",
       "    </tr>\n",
       "    <tr>\n",
       "      <th>11</th>\n",
       "      <td>12</td>\n",
       "      <td>4320</td>\n",
       "    </tr>\n",
       "  </tbody>\n",
       "</table>\n",
       "</div>"
      ],
      "text/plain": [
       "   DateTime  월별 데이터의 수\n",
       "0        01       4464\n",
       "1        02       4032\n",
       "2        03       4464\n",
       "3        04       4320\n",
       "4        05       4464\n",
       "5        06       4320\n",
       "6        07       4464\n",
       "7        08       4464\n",
       "8        09       4320\n",
       "9        10       4464\n",
       "10       11       4320\n",
       "11       12       4320"
      ]
     },
     "metadata": {},
     "output_type": "display_data"
    }
   ],
   "source": [
    "# 1. DateTime 컬럼의 데이터 타입을 확인\n",
    "df['DateTime'].dtype\n",
    "\n",
    "# 2. datetime으로 형변환\n",
    "df['DateTime'] = pd.to_datetime(df['DateTime'])\n",
    "# print(df['DateTime'].dtype)\n",
    "\n",
    "# 3. 월별로 그룹화하고 size()를 통해 집계\n",
    "Ans = df.groupby(df['DateTime'].dt.strftime('%m')).size().reset_index(name = '월별 데이터의 수')\n",
    "display(Ans)"
   ]
  },
  {
   "cell_type": "markdown",
   "id": "d5bffe2e",
   "metadata": {},
   "source": [
    "# Question 58.\n",
    "- 3월달의 각 시간대별 온도의 평균들 중 가장 낮은 시간대의 온도를 출력하라."
   ]
  },
  {
   "cell_type": "code",
   "execution_count": null,
   "id": "74533ac4",
   "metadata": {},
   "outputs": [
    {
     "name": "stdout",
     "output_type": "stream",
     "text": [
      "11.506612903225806\n"
     ]
    }
   ],
   "source": [
    "# 1. 3월 데이터만 필터링\n",
    "target = df.loc[df['DateTime'].dt.strftime('%m') == '03']\n",
    "# display(target)\n",
    "\n",
    "# 2. 시간대별로 그룹화하고 온도의 평균을 집계 후 오름차순 정렬하고 첫 행을 필터링.\n",
    "Ans = target.groupby(target['DateTime'].dt.strftime('%H'))['Temperature'].mean().sort_values(ascending = True)\n",
    "print(Ans.iloc[0])"
   ]
  },
  {
   "cell_type": "markdown",
   "id": "db8b61b1",
   "metadata": {},
   "source": [
    "# Question 59.\n",
    "- 3월달의 각 시간대별 온도의 평균들 중 가장 높은 시간대의 온도를 출력하라."
   ]
  },
  {
   "cell_type": "code",
   "execution_count": 212,
   "id": "64bf7b78",
   "metadata": {},
   "outputs": [
    {
     "name": "stdout",
     "output_type": "stream",
     "text": [
      "18.393602150537635\n"
     ]
    }
   ],
   "source": [
    "# 1. 3월의 데이터만을 필터링\n",
    "target = df.loc[df['DateTime'].dt.strftime('%m') == '03']\n",
    "# display(target)\n",
    "\n",
    "# 2. 시간대별로 그롭화하고 온도의 평균을 집계 후 내림차순 정렬하고 첫 행을 필터링\n",
    "Ans = target.groupby(target['DateTime'].dt.strftime('%H'))['Temperature'].mean().sort_values(ascending = False)\n",
    "print(Ans.iloc[0])\n",
    "\n"
   ]
  },
  {
   "cell_type": "markdown",
   "id": "f597dccc",
   "metadata": {},
   "source": [
    "# Question 60.\n",
    "- Zone 1 Power Consumption 컬럼이 Zone 2 Power Consumption 컬럼보다 큰 데이터들의 Humidity의 평균을 구하여라."
   ]
  },
  {
   "cell_type": "code",
   "execution_count": 226,
   "id": "70e4f71b",
   "metadata": {},
   "outputs": [
    {
     "name": "stdout",
     "output_type": "stream",
     "text": [
      "68.23624448055052\n"
     ]
    }
   ],
   "source": [
    "# 1. 컬럼명에 공백이 포함돼 있어 공백을 모두 '_'로 대체\n",
    "#   - r: 문자열의 \\를 특수문자로 해석하지 않도록 함. 즉, 이스케이프문이 아님.\n",
    "#   - '\\s+': s는 공백문자 하나를 의미. s+는 공백문자 하나 이상을 의미.\n",
    "#   - regex = True: 첫 번째 인자를 정규표현식으로 해석하도록 함. 즉, '\\s+'를 문자열로 인식하지 않고 정규표현식을 인식하게 하는 것.\n",
    "df.columns = df.columns.str.lower().str.replace(r'\\s+', '_', regex = True).str.strip()\n",
    "\n",
    "# 1. 조건에 해당하는 데이터만 필터링. (컬러명에 공백이 포함돼 있어 주의).\n",
    "target = df.loc[df['zone_1_power_consumption'] > df['zone_2_power_consumption']]\n",
    "# display(target)\n",
    "\n",
    "# 2. 필터링한 데이터프레임을 기준으로 Humidity의 평균을 계산\n",
    "Ans = target['humidity'].mean()\n",
    "print(Ans)"
   ]
  },
  {
   "cell_type": "markdown",
   "id": "b98c154a",
   "metadata": {},
   "source": [
    "# Question 61.\n",
    "- 각 zone의 에너지 소비량의 상관관계를 구해서 데이터프레임으로 표기하라."
   ]
  },
  {
   "cell_type": "code",
   "execution_count": 229,
   "id": "c317b67b",
   "metadata": {},
   "outputs": [
    {
     "data": {
      "text/html": [
       "<div>\n",
       "<style scoped>\n",
       "    .dataframe tbody tr th:only-of-type {\n",
       "        vertical-align: middle;\n",
       "    }\n",
       "\n",
       "    .dataframe tbody tr th {\n",
       "        vertical-align: top;\n",
       "    }\n",
       "\n",
       "    .dataframe thead th {\n",
       "        text-align: right;\n",
       "    }\n",
       "</style>\n",
       "<table border=\"1\" class=\"dataframe\">\n",
       "  <thead>\n",
       "    <tr style=\"text-align: right;\">\n",
       "      <th></th>\n",
       "      <th>zone_1_power_consumption</th>\n",
       "      <th>zone_2_power_consumption</th>\n",
       "      <th>zone_3_power_consumption</th>\n",
       "    </tr>\n",
       "  </thead>\n",
       "  <tbody>\n",
       "    <tr>\n",
       "      <th>zone_1_power_consumption</th>\n",
       "      <td>1.000000</td>\n",
       "      <td>0.834519</td>\n",
       "      <td>0.750733</td>\n",
       "    </tr>\n",
       "    <tr>\n",
       "      <th>zone_2_power_consumption</th>\n",
       "      <td>0.834519</td>\n",
       "      <td>1.000000</td>\n",
       "      <td>0.570932</td>\n",
       "    </tr>\n",
       "    <tr>\n",
       "      <th>zone_3_power_consumption</th>\n",
       "      <td>0.750733</td>\n",
       "      <td>0.570932</td>\n",
       "      <td>1.000000</td>\n",
       "    </tr>\n",
       "  </tbody>\n",
       "</table>\n",
       "</div>"
      ],
      "text/plain": [
       "                          zone_1_power_consumption  zone_2_power_consumption  \\\n",
       "zone_1_power_consumption                  1.000000                  0.834519   \n",
       "zone_2_power_consumption                  0.834519                  1.000000   \n",
       "zone_3_power_consumption                  0.750733                  0.570932   \n",
       "\n",
       "                          zone_3_power_consumption  \n",
       "zone_1_power_consumption                  0.750733  \n",
       "zone_2_power_consumption                  0.570932  \n",
       "zone_3_power_consumption                  1.000000  "
      ]
     },
     "metadata": {},
     "output_type": "display_data"
    }
   ],
   "source": [
    "# 1. 각 zone의 에너지소비량의 상관관계 행렬을 생성.\n",
    "target = df[['zone_1_power_consumption', 'zone_2_power_consumption', 'zone_3_power_consumption']].corr()\n",
    "display(target)"
   ]
  },
  {
   "cell_type": "markdown",
   "id": "77dab779",
   "metadata": {},
   "source": [
    "# Question 62.\n",
    "- Temperature의 값이 10미만의 경우 A, 10이상 20미만의 경우 B, 20이상 30미만의 경우 C, 그외의 경우 D라할 때 각 단계의 데이터 수를 구하여라."
   ]
  },
  {
   "cell_type": "code",
   "execution_count": 242,
   "id": "b50e32bf",
   "metadata": {},
   "outputs": [
    {
     "data": {
      "text/plain": [
       "단계의 수\n",
       "A     2874\n",
       "B    26993\n",
       "C    21105\n",
       "D     1444\n",
       "dtype: int64"
      ]
     },
     "execution_count": 242,
     "metadata": {},
     "output_type": "execute_result"
    }
   ],
   "source": [
    "# 1. dp.cut()을 통해 각 범위를 매핑\n",
    "df['단계의 수'] = pd.cut(\n",
    "    df['temperature'], # 구간을 나눌 대상 컬럼\n",
    "    bins = [-float('inf'), 10, 20, 30, float('inf')], # 범위는 하단의 right 인자와 관련있다. \n",
    "    labels = ['A', 'B', 'C', 'D'], # 각 구간별 라벨 설정.\n",
    "    right = False # 우측 경계 미포함으로 `음의 무한 <= x < 10, 10 <= x < 20, 20 <= x < 30, ...`로 구간화 된다.\n",
    ")\n",
    "# display(df['단계의 수'].unique())\n",
    "\n",
    "# 2. 각 범주별 데이터의 수 집계\n",
    "#   - observed: True인 경우 집계 값이 존재하는 범주만 반환. False인 경우 모든 범주를 반환. (기본은 False 이다).\n",
    "Ans = df.groupby('단계의 수', observed = False).size()\n",
    "Ans"
   ]
  },
  {
   "cell_type": "markdown",
   "id": "1b4b3dc9",
   "metadata": {},
   "source": [
    "# Question 63.\n",
    "- 6월 데이터 중 12시 Temperature의 표준편차를 구하여라."
   ]
  },
  {
   "cell_type": "code",
   "execution_count": 246,
   "id": "2b4c7294",
   "metadata": {},
   "outputs": [
    {
     "name": "stdout",
     "output_type": "stream",
     "text": [
      "2.0499417827951025\n"
     ]
    }
   ],
   "source": [
    "# 1. 6월 12시 데이터만 필터링\n",
    "target = df.loc[df['datetime'].dt.strftime('%m %H') == '06 12']\n",
    "# display(target['datetime'].unique())\n",
    "\n",
    "# 2. 필터링된 데이터에서 Temperature 컬럼의 표준편차를 출력\n",
    "Ans = target['temperature'].std()\n",
    "print(Ans)"
   ]
  },
  {
   "cell_type": "markdown",
   "id": "32fb122d",
   "metadata": {},
   "source": [
    "# Question 64.\n",
    "- 6월 데이터 중 12시의 Temperature의 분산을 구하여라."
   ]
  },
  {
   "cell_type": "code",
   "execution_count": 249,
   "id": "37e7fc47",
   "metadata": {},
   "outputs": [
    {
     "name": "stdout",
     "output_type": "stream",
     "text": [
      "4.202261312849163\n"
     ]
    }
   ],
   "source": [
    "# 1. 6월 12시 데이터만 필터링\n",
    "target = df.loc[df['datetime'].dt.strftime('%m %H') == '06 12']\n",
    "# display(target['datetime'].unique())\n",
    "\n",
    "# 2. 필터링된 target 데이터프레임의 Temperature 컬럼의 분산을 계산\n",
    "Ans = target['temperature'].var()\n",
    "print(Ans)"
   ]
  },
  {
   "cell_type": "markdown",
   "id": "28367f4d",
   "metadata": {},
   "source": [
    "# Question 65.\n",
    "- Temperature의 평균이상의 Temperature의 값을 갖는 데이터를 Temperature를 기준으로 정렬했을 때 4번째 행의 Humidity 값을 출력하라.\n",
    "- (마님 코드로 해도 답이 다른 걸로 보아 대상으로 사용하는 데이터프레임이 다른 듯)."
   ]
  },
  {
   "cell_type": "code",
   "execution_count": 277,
   "id": "6bdabd0c",
   "metadata": {},
   "outputs": [
    {
     "name": "stdout",
     "output_type": "stream",
     "text": [
      "89.5\n"
     ]
    }
   ],
   "source": [
    "# 1. Temperature 컬럼을 기준으로 평균 이상인 데이터만 필터링\n",
    "target = df.loc[df['temperature'] >= df['temperature'].mean()]\n",
    "# display(target)\n",
    "\n",
    "# 2. Temperature를 기준으로 정렬\n",
    "target = target.sort_values('temperature')\n",
    "# display(target['temperature'])\n",
    "\n",
    "# 3. 네 번째 행의 Humidity를 출력\n",
    "Ans = target['humidity'].iloc[3]\n",
    "print(Ans)"
   ]
  },
  {
   "cell_type": "markdown",
   "id": "9c2479d1",
   "metadata": {},
   "source": [
    "# Question 66.\n",
    "- Temperature 컬럼이 중간값 이상을 갖는 데이터만 필터링하고, Temperature를 기준으로 정렬했을 때 네 번쩨 행의 Humidity를 출력하라.\n",
    "- (마님 코드로 해도 답이 다른 걸로 보아 대상으로 사용하는 데이터프레임이 다른 듯)."
   ]
  },
  {
   "cell_type": "code",
   "execution_count": 278,
   "id": "6e6b4d36",
   "metadata": {},
   "outputs": [
    {
     "name": "stdout",
     "output_type": "stream",
     "text": [
      "62.66\n"
     ]
    }
   ],
   "source": [
    "# 1. Temperature가 중간값 이상인 데이터만 필터링\n",
    "target = df.loc[df['temperature'] >= df['temperature'].median()]\n",
    "# display(target)\n",
    "\n",
    "# 2. Temperature 컬럼을 기준으로 정렬\n",
    "target = target.sort_values('temperature')\n",
    "# display(target['temperature'])\n",
    "\n",
    "# 3. 네 번째 행의 Humidity를 출력.\n",
    "Ans = target['humidity'].iloc[3]\n",
    "print(Ans)"
   ]
  },
  {
   "cell_type": "markdown",
   "id": "f47510b3",
   "metadata": {},
   "source": [
    "# Question 67.\n",
    "- 데이터를 로드하라."
   ]
  },
  {
   "cell_type": "code",
   "execution_count": null,
   "id": "c9ec0109",
   "metadata": {},
   "outputs": [
    {
     "data": {
      "text/html": [
       "<div>\n",
       "<style scoped>\n",
       "    .dataframe tbody tr th:only-of-type {\n",
       "        vertical-align: middle;\n",
       "    }\n",
       "\n",
       "    .dataframe tbody tr th {\n",
       "        vertical-align: top;\n",
       "    }\n",
       "\n",
       "    .dataframe thead th {\n",
       "        text-align: right;\n",
       "    }\n",
       "</style>\n",
       "<table border=\"1\" class=\"dataframe\">\n",
       "  <thead>\n",
       "    <tr style=\"text-align: right;\">\n",
       "      <th></th>\n",
       "      <th>#</th>\n",
       "      <th>Name</th>\n",
       "      <th>Type 1</th>\n",
       "      <th>Type 2</th>\n",
       "      <th>Total</th>\n",
       "      <th>HP</th>\n",
       "      <th>Attack</th>\n",
       "      <th>Defense</th>\n",
       "      <th>Sp. Atk</th>\n",
       "      <th>Sp. Def</th>\n",
       "      <th>Speed</th>\n",
       "      <th>Generation</th>\n",
       "      <th>Legendary</th>\n",
       "    </tr>\n",
       "  </thead>\n",
       "  <tbody>\n",
       "    <tr>\n",
       "      <th>0</th>\n",
       "      <td>1</td>\n",
       "      <td>Bulbasaur</td>\n",
       "      <td>Grass</td>\n",
       "      <td>Poison</td>\n",
       "      <td>318</td>\n",
       "      <td>45</td>\n",
       "      <td>49</td>\n",
       "      <td>49</td>\n",
       "      <td>65</td>\n",
       "      <td>65</td>\n",
       "      <td>45</td>\n",
       "      <td>1</td>\n",
       "      <td>False</td>\n",
       "    </tr>\n",
       "    <tr>\n",
       "      <th>1</th>\n",
       "      <td>2</td>\n",
       "      <td>Ivysaur</td>\n",
       "      <td>Grass</td>\n",
       "      <td>Poison</td>\n",
       "      <td>405</td>\n",
       "      <td>60</td>\n",
       "      <td>62</td>\n",
       "      <td>63</td>\n",
       "      <td>80</td>\n",
       "      <td>80</td>\n",
       "      <td>60</td>\n",
       "      <td>1</td>\n",
       "      <td>False</td>\n",
       "    </tr>\n",
       "    <tr>\n",
       "      <th>2</th>\n",
       "      <td>3</td>\n",
       "      <td>Venusaur</td>\n",
       "      <td>Grass</td>\n",
       "      <td>Poison</td>\n",
       "      <td>525</td>\n",
       "      <td>80</td>\n",
       "      <td>82</td>\n",
       "      <td>83</td>\n",
       "      <td>100</td>\n",
       "      <td>100</td>\n",
       "      <td>80</td>\n",
       "      <td>1</td>\n",
       "      <td>False</td>\n",
       "    </tr>\n",
       "    <tr>\n",
       "      <th>3</th>\n",
       "      <td>3</td>\n",
       "      <td>VenusaurMega Venusaur</td>\n",
       "      <td>Grass</td>\n",
       "      <td>Poison</td>\n",
       "      <td>625</td>\n",
       "      <td>80</td>\n",
       "      <td>100</td>\n",
       "      <td>123</td>\n",
       "      <td>122</td>\n",
       "      <td>120</td>\n",
       "      <td>80</td>\n",
       "      <td>1</td>\n",
       "      <td>False</td>\n",
       "    </tr>\n",
       "    <tr>\n",
       "      <th>4</th>\n",
       "      <td>4</td>\n",
       "      <td>Charmander</td>\n",
       "      <td>Fire</td>\n",
       "      <td>NaN</td>\n",
       "      <td>309</td>\n",
       "      <td>39</td>\n",
       "      <td>52</td>\n",
       "      <td>43</td>\n",
       "      <td>60</td>\n",
       "      <td>50</td>\n",
       "      <td>65</td>\n",
       "      <td>1</td>\n",
       "      <td>False</td>\n",
       "    </tr>\n",
       "    <tr>\n",
       "      <th>...</th>\n",
       "      <td>...</td>\n",
       "      <td>...</td>\n",
       "      <td>...</td>\n",
       "      <td>...</td>\n",
       "      <td>...</td>\n",
       "      <td>...</td>\n",
       "      <td>...</td>\n",
       "      <td>...</td>\n",
       "      <td>...</td>\n",
       "      <td>...</td>\n",
       "      <td>...</td>\n",
       "      <td>...</td>\n",
       "      <td>...</td>\n",
       "    </tr>\n",
       "    <tr>\n",
       "      <th>795</th>\n",
       "      <td>719</td>\n",
       "      <td>Diancie</td>\n",
       "      <td>Rock</td>\n",
       "      <td>Fairy</td>\n",
       "      <td>600</td>\n",
       "      <td>50</td>\n",
       "      <td>100</td>\n",
       "      <td>150</td>\n",
       "      <td>100</td>\n",
       "      <td>150</td>\n",
       "      <td>50</td>\n",
       "      <td>6</td>\n",
       "      <td>True</td>\n",
       "    </tr>\n",
       "    <tr>\n",
       "      <th>796</th>\n",
       "      <td>719</td>\n",
       "      <td>DiancieMega Diancie</td>\n",
       "      <td>Rock</td>\n",
       "      <td>Fairy</td>\n",
       "      <td>700</td>\n",
       "      <td>50</td>\n",
       "      <td>160</td>\n",
       "      <td>110</td>\n",
       "      <td>160</td>\n",
       "      <td>110</td>\n",
       "      <td>110</td>\n",
       "      <td>6</td>\n",
       "      <td>True</td>\n",
       "    </tr>\n",
       "    <tr>\n",
       "      <th>797</th>\n",
       "      <td>720</td>\n",
       "      <td>HoopaHoopa Confined</td>\n",
       "      <td>Psychic</td>\n",
       "      <td>Ghost</td>\n",
       "      <td>600</td>\n",
       "      <td>80</td>\n",
       "      <td>110</td>\n",
       "      <td>60</td>\n",
       "      <td>150</td>\n",
       "      <td>130</td>\n",
       "      <td>70</td>\n",
       "      <td>6</td>\n",
       "      <td>True</td>\n",
       "    </tr>\n",
       "    <tr>\n",
       "      <th>798</th>\n",
       "      <td>720</td>\n",
       "      <td>HoopaHoopa Unbound</td>\n",
       "      <td>Psychic</td>\n",
       "      <td>Dark</td>\n",
       "      <td>680</td>\n",
       "      <td>80</td>\n",
       "      <td>160</td>\n",
       "      <td>60</td>\n",
       "      <td>170</td>\n",
       "      <td>130</td>\n",
       "      <td>80</td>\n",
       "      <td>6</td>\n",
       "      <td>True</td>\n",
       "    </tr>\n",
       "    <tr>\n",
       "      <th>799</th>\n",
       "      <td>721</td>\n",
       "      <td>Volcanion</td>\n",
       "      <td>Fire</td>\n",
       "      <td>Water</td>\n",
       "      <td>600</td>\n",
       "      <td>80</td>\n",
       "      <td>110</td>\n",
       "      <td>120</td>\n",
       "      <td>130</td>\n",
       "      <td>90</td>\n",
       "      <td>70</td>\n",
       "      <td>6</td>\n",
       "      <td>True</td>\n",
       "    </tr>\n",
       "  </tbody>\n",
       "</table>\n",
       "<p>800 rows × 13 columns</p>\n",
       "</div>"
      ],
      "text/plain": [
       "       #                   Name   Type 1  Type 2  Total  HP  Attack  Defense  \\\n",
       "0      1              Bulbasaur    Grass  Poison    318  45      49       49   \n",
       "1      2                Ivysaur    Grass  Poison    405  60      62       63   \n",
       "2      3               Venusaur    Grass  Poison    525  80      82       83   \n",
       "3      3  VenusaurMega Venusaur    Grass  Poison    625  80     100      123   \n",
       "4      4             Charmander     Fire     NaN    309  39      52       43   \n",
       "..   ...                    ...      ...     ...    ...  ..     ...      ...   \n",
       "795  719                Diancie     Rock   Fairy    600  50     100      150   \n",
       "796  719    DiancieMega Diancie     Rock   Fairy    700  50     160      110   \n",
       "797  720    HoopaHoopa Confined  Psychic   Ghost    600  80     110       60   \n",
       "798  720     HoopaHoopa Unbound  Psychic    Dark    680  80     160       60   \n",
       "799  721              Volcanion     Fire   Water    600  80     110      120   \n",
       "\n",
       "     Sp. Atk  Sp. Def  Speed  Generation  Legendary  \n",
       "0         65       65     45           1      False  \n",
       "1         80       80     60           1      False  \n",
       "2        100      100     80           1      False  \n",
       "3        122      120     80           1      False  \n",
       "4         60       50     65           1      False  \n",
       "..       ...      ...    ...         ...        ...  \n",
       "795      100      150     50           6       True  \n",
       "796      160      110    110           6       True  \n",
       "797      150      130     70           6       True  \n",
       "798      170      130     80           6       True  \n",
       "799      130       90     70           6       True  \n",
       "\n",
       "[800 rows x 13 columns]"
      ]
     },
     "execution_count": 284,
     "metadata": {},
     "output_type": "execute_result"
    }
   ],
   "source": [
    "data = 'https://raw.githubusercontent.com/Datamanim/datarepo/main/pok/Pokemon.csv'\n",
    "df = pd.read_csv(data)\n",
    "\n",
    "df"
   ]
  },
  {
   "cell_type": "markdown",
   "id": "2e85032a",
   "metadata": {},
   "source": [
    "# Question 68.\n",
    "- Legendary 컬럼은 전설 포켓몬 유무를 나타낸다. 전설포켓몬과 그렇지 않은 포켓몬들의 HP평균의 차이를 출력하라."
   ]
  },
  {
   "cell_type": "code",
   "execution_count": 286,
   "id": "c9719660",
   "metadata": {},
   "outputs": [
    {
     "name": "stdout",
     "output_type": "stream",
     "text": [
      "25.55614861329147\n"
     ]
    }
   ],
   "source": [
    "# 1. Legendary가 True인 경우와 False인 경우의 평균을 구하고 차이를 계산\n",
    "Ans = df.loc[df['Legendary'] == True]['HP'].mean() - df.loc[df['Legendary'] == False]['HP'].mean()\n",
    "print(Ans)"
   ]
  },
  {
   "cell_type": "markdown",
   "id": "a87a2cb7",
   "metadata": {},
   "source": [
    "# Question 69.\n",
    "- Type1은 주속성, Tpye2는 부속성을 나타낸다. 가장 많은 부속성의 종류는 무엇인가?"
   ]
  },
  {
   "cell_type": "code",
   "execution_count": 301,
   "id": "2f8c7f29",
   "metadata": {},
   "outputs": [
    {
     "name": "stdout",
     "output_type": "stream",
     "text": [
      "Flying\n"
     ]
    }
   ],
   "source": [
    "# 1. 컬럼명에 공백이 있기에 '_'로 먼저 치환 후 확인\n",
    "df.columns = df.columns.str.replace(r'\\s+', '_', regex = True).str.strip()\n",
    "# print(df.columns)\n",
    "\n",
    "# 2. nuique()를 통해 일단 부속성의 개수 확인\n",
    "print(df.groupby('Type_2').size().sort_values(ascending = False).reset_index(name = '부속성의 수')['Type_2'].iloc[0])"
   ]
  },
  {
   "cell_type": "markdown",
   "id": "a4ce51cb",
   "metadata": {},
   "source": [
    "# Question 70.\n",
    "- 가장 많은 Type 1의 종의 평균 Attack 값을 평균 Defense로 나눈 값을 출력하라."
   ]
  },
  {
   "cell_type": "code",
   "execution_count": 308,
   "id": "41656920",
   "metadata": {},
   "outputs": [
    {
     "name": "stdout",
     "output_type": "stream",
     "text": [
      "1.0165238678090576\n"
     ]
    }
   ],
   "source": [
    "# 1. 가장 많은 Type 1의 종을 필터링.\n",
    "most_type_1 = df.groupby('Type_1').size().sort_values(ascending = False).reset_index(name = '주속성의 수')['Type_1'].iloc[0]\n",
    "# print(most_type_1)\n",
    "\n",
    "# 2. most_type_1에 해당하는 데이터만 필터링\n",
    "target = df.loc[df['Type_1'] == most_type_1]\n",
    "# display(target['Type_1'].unique())\n",
    "\n",
    "# 3. 필터링된 target 데이터프레임의 Attack의 평균을 Defense로 나눈다.\n",
    "Ans = target['Attack'].mean() / target['Defense'].mean()\n",
    "print(Ans)"
   ]
  },
  {
   "cell_type": "markdown",
   "id": "733cd4fa",
   "metadata": {},
   "source": [
    "# Question 71.\n",
    "- 포켓몬 세대(Generation) 중 가장 많은 Legendary를 보유한 세대은 몇 세대인가?"
   ]
  },
  {
   "cell_type": "code",
   "execution_count": 319,
   "id": "1734ff15",
   "metadata": {},
   "outputs": [
    {
     "name": "stdout",
     "output_type": "stream",
     "text": [
      "3\n"
     ]
    }
   ],
   "source": [
    "# 1. Legendary가 True인 데이터만 필터링\n",
    "target = df.loc[df['Legendary'] == True].copy()\n",
    "\n",
    "# 2. 필터링 된 target 데이터프[레임을 Generation과 Legendary로 그룹화하고 집계\n",
    "target = target.groupby(['Generation', 'Legendary']).size().reset_index(name = '세대별 전설 수')\n",
    "# display(target)\n",
    "\n",
    "# 3. 집계된 데이터를 기준으로 내림차순 정렬\n",
    "target = target.sort_values('세대별 전설 수', ascending = False)\n",
    "# display(target)\n",
    "\n",
    "# 4. 첫 번째 행의 세대를 정답으로 출력\n",
    "Ans = target['Generation'].iloc[0]\n",
    "print(Ans)"
   ]
  },
  {
   "cell_type": "markdown",
   "id": "fa240d3d",
   "metadata": {},
   "source": [
    "# Question 72.\n",
    "- 'HP', 'Attack', 'Defense', 'Sp. Atk', 'Sp. Def', 'Speed' 간의 상관관계 계수 중 가장 절댓값이 큰 두 변수와 그 값을구하여라. "
   ]
  },
  {
   "cell_type": "code",
   "execution_count": 341,
   "id": "504cee2b",
   "metadata": {},
   "outputs": [
    {
     "data": {
      "text/plain": [
       "value_1     Defense\n",
       "value_2     Sp._Def\n",
       "corr       0.510747\n",
       "Name: 16, dtype: object"
      ]
     },
     "metadata": {},
     "output_type": "display_data"
    }
   ],
   "source": [
    "# 1. 컬럼명을 변환했기에 컬럼명을 우선 확인\n",
    "# print(df.columns)\n",
    "\n",
    "# 2. 필요한 컬럼만 추출하여 새로운 데이터프레임 생성\n",
    "target_lst = ['HP', 'Attack', 'Defense', 'Sp._Atk', 'Sp._Def', 'Speed']\n",
    "target = df[['HP', 'Attack', 'Defense', 'Sp._Atk', 'Sp._Def', 'Speed']]\n",
    "# display(target)\n",
    "\n",
    "# 3. 상관관계 행렬 생성\n",
    "corr_mat = target.corr()\n",
    "\n",
    "# 4. 상관관계 행렬을 긴 형태의 데이터프레임으로 변환\n",
    "corr_mat = corr_mat.unstack().reset_index()\n",
    "# display(corr_mat)\n",
    "\n",
    "# 4. 컬럼명을 직관적으로 변경\n",
    "corr_mat.columns = ['value_1', 'value_2', 'corr']\n",
    "# display(corr_mat)\n",
    "\n",
    "# 5. 중복되는 경우를 판단하기 위해 기준이 되는 컬럼 생성\n",
    "corr_mat['dup'] = corr_mat.apply(lambda row : tuple(sorted([row['value_1'], row['value_2']])), axis = 1)\n",
    "# display(corr_mat['dup'])\n",
    "\n",
    "# 6. 생성한 컬럼을 기준으로 중복제거\n",
    "corr_mat = corr_mat.drop_duplicates('dup').drop(columns = 'dup')\n",
    "# display(corr_mat)\n",
    "\n",
    "# 7. 자기자신과의 상관관계 제거\n",
    "corr_mat = corr_mat.loc[corr_mat['value_1'] != corr_mat['value_2']]\n",
    "# display(corr_mat)\n",
    "\n",
    "# 8. corr 컬럼을 기준으로 내림차순 정렬하고 첫 번째 행을 필터링하여 출력\n",
    "corr_mat = corr_mat.sort_values('corr', ascending = False)\n",
    "Ans = corr_mat.iloc[0]\n",
    "display(Ans)\n"
   ]
  },
  {
   "cell_type": "markdown",
   "id": "95ead735",
   "metadata": {},
   "source": [
    "# Question 73.\n",
    "- 각 Generation별로 Attack을 기준으로 오름차순 정렬시 상위 3개의 데이터(18개)의 Attack의 평균을 출력하라."
   ]
  },
  {
   "cell_type": "code",
   "execution_count": 351,
   "id": "92fca659",
   "metadata": {},
   "outputs": [
    {
     "name": "stdout",
     "output_type": "stream",
     "text": [
      "19.5\n"
     ]
    }
   ],
   "source": [
    "# 1. Generation과 Attack을 기준으로 Generation은 내림차순, Attack은 오름차순 정렬.\n",
    "target = df.sort_values(['Generation', 'Attack'], ascending = [True, True])\n",
    "# display(target)\n",
    "\n",
    "# 2. 정렬된 데이터프레임 target을 Geration으로 그룹화하고 각 상위 3의 Attack을 출력.\n",
    "target = target.groupby('Generation')[['Generation', 'Attack']].head(3).reset_index(drop = True)\n",
    "# display(target)\n",
    "\n",
    "# 3. 생서된 target 데이터프레임의 Attack의 평균을 정답으로 출력.\n",
    "Ans = target['Attack'].mean()\n",
    "print(Ans)"
   ]
  },
  {
   "cell_type": "markdown",
   "id": "88006bb4",
   "metadata": {},
   "source": [
    "# Question 74.\n",
    "- 각 Generation의 Attack으로 내림차순 정렬 후 상위 5개의 데이터들(30개)의 Attack의 평균을 출력하라."
   ]
  },
  {
   "cell_type": "code",
   "execution_count": null,
   "id": "4eddecb8",
   "metadata": {},
   "outputs": [
    {
     "name": "stdout",
     "output_type": "stream",
     "text": [
      "157.23333333333332\n"
     ]
    }
   ],
   "source": [
    "# 1. 바로 이전 문제(Question 73)와 같기에 한 줄로 코딩\n",
    "Ans = df.sort_values(['Generation', 'Attack'], ascending = [True, False]).groupby('Generation')['Attack'].head(5).mean()\n",
    "print(Ans)"
   ]
  },
  {
   "cell_type": "markdown",
   "id": "586a8831",
   "metadata": {},
   "source": [
    "# Question 75.\n",
    "- 가장 흔하게 발견되는 (Type1, Type2)의 쌍은 무엇인가?\n",
    "- (마님의 풀이가 더 직관적이고 효율적이다.)"
   ]
  },
  {
   "cell_type": "code",
   "execution_count": null,
   "id": "79b435b3",
   "metadata": {},
   "outputs": [
    {
     "data": {
      "text/html": [
       "<div>\n",
       "<style scoped>\n",
       "    .dataframe tbody tr th:only-of-type {\n",
       "        vertical-align: middle;\n",
       "    }\n",
       "\n",
       "    .dataframe tbody tr th {\n",
       "        vertical-align: top;\n",
       "    }\n",
       "\n",
       "    .dataframe thead th {\n",
       "        text-align: right;\n",
       "    }\n",
       "</style>\n",
       "<table border=\"1\" class=\"dataframe\">\n",
       "  <thead>\n",
       "    <tr style=\"text-align: right;\">\n",
       "      <th></th>\n",
       "      <th>Type_pairs</th>\n",
       "      <th>쌍별 빈도</th>\n",
       "    </tr>\n",
       "  </thead>\n",
       "  <tbody>\n",
       "    <tr>\n",
       "      <th>0</th>\n",
       "      <td>(Normal, Flying)</td>\n",
       "      <td>24</td>\n",
       "    </tr>\n",
       "  </tbody>\n",
       "</table>\n",
       "</div>"
      ],
      "text/plain": [
       "         Type_pairs 쌍별 빈도\n",
       "0  (Normal, Flying)    24"
      ]
     },
     "metadata": {},
     "output_type": "display_data"
    },
    {
     "name": "stdout",
     "output_type": "stream",
     "text": [
      "Normal, Flying\n"
     ]
    }
   ],
   "source": [
    "# 1. Type2가 nan이 있이게 non이 아닌 값들만 출력.\n",
    "target = df.loc[df['Type_2'].notna()].copy()\n",
    "# display(target.info())\n",
    "\n",
    "# 1. (Type1, Type2) 쌍으로 된 컬럼 생성.\n",
    "#   - zip(): 반복 가능한 객체를 묶어 튜플로 형태로 반환해 주는 함수.\n",
    "#   - list()로 묶어 Series로 컬럼을 생성.\n",
    "target['Type_pairs'] = list(zip(target['Type_1'], target['Type_2']))\n",
    "# display(target['Type_pairs'])\n",
    "\n",
    "# 2. Type_pairs로 그룹화를 한 뒤 각 범주의 빈도수를 출력.\n",
    "target = target.groupby('Type_pairs').size().reset_index(name = '쌍별 빈도')\n",
    "# display(target)\n",
    "\n",
    "# 3. 쌍별 빈도를 중심으로 내림차순 정렬 후 첫 번째 행을 출력.\n",
    "target = target.sort_values('쌍별 빈도', ascending = False).reset_index(drop = True).iloc[0]\n",
    "display(target.to_frame().T)\n",
    "\n",
    "# 4. 번외: 필요하다면 아래와 같이 Type_pairs 컬럼에서 개별 Type을 출력하여 사용.\n",
    "Type_1_value = target['Type_pairs'][0]\n",
    "Type_2_value = target['Type_pairs'][1]\n",
    "\n",
    "'''\n",
    "< 마님 풀이: 비용상으로 더 효율적임 (불필요한 컬럼 생성이 없기 때문) >\n",
    "result = df[['Type 1','Type 2']].value_counts().head(1)\n",
    "print(result)\n",
    "'''"
   ]
  },
  {
   "cell_type": "markdown",
   "id": "f1295374",
   "metadata": {},
   "source": [
    "# Question 76.\n",
    "- 한 번씩만 존재하는 (Type1, Type2)의 쌍의 개수는 몇 개인가?\n",
    "- (마님의 풀이가 더 직관적이고 효율적이다.)"
   ]
  },
  {
   "cell_type": "code",
   "execution_count": null,
   "id": "017ced95",
   "metadata": {},
   "outputs": [
    {
     "name": "stdout",
     "output_type": "stream",
     "text": [
      "39\n"
     ]
    }
   ],
   "source": [
    "# 1. Type2가 존재하는 데이터만 필터링\n",
    "target = df.loc[df['Type_2'].notna()].copy()\n",
    "# display(target.info())\n",
    "\n",
    "# 2. target데이터에 Type_pairs컬럼을 추가\n",
    "target['Type_pairs'] = list(zip(target['Type_1'], target['Type_2']))\n",
    "# display(target['Type_pairs'])\n",
    "\n",
    "# 3. Type_pairs로 그룹화하고 빈도수가 1인 쌍만 리스트로 필터링\n",
    "temp = target.groupby('Type_pairs').size().reset_index(name = '쌍별 빈도수')\n",
    "# display(temp)\n",
    "\n",
    "# 4. 리스트로 빈도수가 1인 쌍들만을 필터링 후 len()을 통해 결과반환\n",
    "pairs_lst = list(temp.loc[temp['쌍별 빈도수'] == 1]['Type_pairs'])\n",
    "Ans = len(pairs_lst)\n",
    "print(Ans)\n",
    "\n",
    "'''\n",
    "< 마님 풀이: 비용상으로 더 효율적임 (불필요한 컬럼 생성이 없기 때문) >\n",
    "target = df[['Type 1','Type 2']].value_counts()\n",
    "result = len(target[target==1])\n",
    "print(result)\n",
    "'''"
   ]
  },
  {
   "cell_type": "markdown",
   "id": "b538218e",
   "metadata": {},
   "source": [
    "# Question 77.\n",
    "- 한 번씩만 존재하는 (Type1, Type2)의 쌍을 각 세대(Generation)은 몇 개씩 갖고 있는가?\n",
    "- 이번에는 컬럼을 생성하는 것이 더 효율적."
   ]
  },
  {
   "cell_type": "code",
   "execution_count": 466,
   "id": "59093d82",
   "metadata": {},
   "outputs": [
    {
     "data": {
      "text/plain": [
       "Generation\n",
       "1     1\n",
       "2     4\n",
       "3     5\n",
       "4    13\n",
       "5     7\n",
       "6     9\n",
       "Name: Type_pairs, dtype: int64"
      ]
     },
     "metadata": {},
     "output_type": "display_data"
    }
   ],
   "source": [
    "# 1. Type2가 존재하는 데이터만 필터링\n",
    "target = df.loc[df['Type_2'].notna()].copy()\n",
    "# display(target.info())\n",
    "\n",
    "# 2. target데이터에 Type_pairs컬럼을 추가\n",
    "target['Type_pairs'] = list(zip(target['Type_1'], target['Type_2']))\n",
    "# display(target['Type_pairs'])\n",
    "\n",
    "# 3. Type_pairs로 그룹화하고 빈도수가 1인 쌍만 리스트로 필터링\n",
    "temp = target.groupby('Type_pairs').size().reset_index(name = '쌍별 빈도수')\n",
    "# display(temp)\n",
    "\n",
    "# 4. 리스트로 빈도수가 1인 쌍들만을 필터링 후 len()을 통해 결과반환\n",
    "pairs_lst = list(temp.loc[temp['쌍별 빈도수'] == 1]['Type_pairs'])\n",
    "# display(pairs_lst)\n",
    "\n",
    "# 5. target에서 pairs_lst에 해당하는 데이터만 필터링\n",
    "target_pair = target.loc[target['Type_pairs'].isin(pairs_lst)]\n",
    "# display(target_pair.groupby('Type_pairs').size())\n",
    "\n",
    "# 6. Generation으로 그룹화한 뒤 Type_pairs의 범주의 종류를 집계\n",
    "Ans = target_pair.groupby(['Generation'])['Type_pairs'].nunique()\n",
    "display(Ans)"
   ]
  },
  {
   "cell_type": "markdown",
   "id": "db336672",
   "metadata": {},
   "source": [
    "# Question 78.\n",
    "- 데이터를 로드하라.\n"
   ]
  },
  {
   "cell_type": "code",
   "execution_count": 468,
   "id": "29a1fea9",
   "metadata": {},
   "outputs": [
    {
     "data": {
      "text/html": [
       "<div>\n",
       "<style scoped>\n",
       "    .dataframe tbody tr th:only-of-type {\n",
       "        vertical-align: middle;\n",
       "    }\n",
       "\n",
       "    .dataframe tbody tr th {\n",
       "        vertical-align: top;\n",
       "    }\n",
       "\n",
       "    .dataframe thead th {\n",
       "        text-align: right;\n",
       "    }\n",
       "</style>\n",
       "<table border=\"1\" class=\"dataframe\">\n",
       "  <thead>\n",
       "    <tr style=\"text-align: right;\">\n",
       "      <th></th>\n",
       "      <th>측정나이</th>\n",
       "      <th>측정회원성별</th>\n",
       "      <th>신장 : cm</th>\n",
       "      <th>체중 : kg</th>\n",
       "      <th>체지방율 : %</th>\n",
       "      <th>이완기혈압(최저) : mmHg</th>\n",
       "      <th>수축기혈압(최고) : mmHg</th>\n",
       "      <th>악력D : kg</th>\n",
       "      <th>앉아윗몸앞으로굽히기 : cm</th>\n",
       "      <th>교차윗몸일으키기 : 회</th>\n",
       "      <th>제자리 멀리뛰기 : cm</th>\n",
       "      <th>등급</th>\n",
       "    </tr>\n",
       "  </thead>\n",
       "  <tbody>\n",
       "    <tr>\n",
       "      <th>0</th>\n",
       "      <td>59.0</td>\n",
       "      <td>M</td>\n",
       "      <td>175.0</td>\n",
       "      <td>70.6</td>\n",
       "      <td>19.2</td>\n",
       "      <td>91.0</td>\n",
       "      <td>150.0</td>\n",
       "      <td>40.6</td>\n",
       "      <td>12.2</td>\n",
       "      <td>30.0</td>\n",
       "      <td>179.0</td>\n",
       "      <td>C</td>\n",
       "    </tr>\n",
       "    <tr>\n",
       "      <th>1</th>\n",
       "      <td>40.0</td>\n",
       "      <td>F</td>\n",
       "      <td>161.4</td>\n",
       "      <td>45.8</td>\n",
       "      <td>21.7</td>\n",
       "      <td>62.0</td>\n",
       "      <td>119.0</td>\n",
       "      <td>22.1</td>\n",
       "      <td>16.0</td>\n",
       "      <td>32.0</td>\n",
       "      <td>165.0</td>\n",
       "      <td>B</td>\n",
       "    </tr>\n",
       "    <tr>\n",
       "      <th>2</th>\n",
       "      <td>27.0</td>\n",
       "      <td>M</td>\n",
       "      <td>176.6</td>\n",
       "      <td>84.8</td>\n",
       "      <td>19.2</td>\n",
       "      <td>87.0</td>\n",
       "      <td>153.0</td>\n",
       "      <td>45.9</td>\n",
       "      <td>13.2</td>\n",
       "      <td>61.0</td>\n",
       "      <td>216.0</td>\n",
       "      <td>B</td>\n",
       "    </tr>\n",
       "    <tr>\n",
       "      <th>3</th>\n",
       "      <td>38.0</td>\n",
       "      <td>M</td>\n",
       "      <td>167.6</td>\n",
       "      <td>76.7</td>\n",
       "      <td>24.7</td>\n",
       "      <td>63.0</td>\n",
       "      <td>132.0</td>\n",
       "      <td>43.6</td>\n",
       "      <td>16.0</td>\n",
       "      <td>45.0</td>\n",
       "      <td>231.0</td>\n",
       "      <td>A</td>\n",
       "    </tr>\n",
       "    <tr>\n",
       "      <th>4</th>\n",
       "      <td>21.0</td>\n",
       "      <td>M</td>\n",
       "      <td>165.2</td>\n",
       "      <td>66.2</td>\n",
       "      <td>21.5</td>\n",
       "      <td>83.0</td>\n",
       "      <td>106.0</td>\n",
       "      <td>33.5</td>\n",
       "      <td>10.6</td>\n",
       "      <td>46.0</td>\n",
       "      <td>198.0</td>\n",
       "      <td>C</td>\n",
       "    </tr>\n",
       "  </tbody>\n",
       "</table>\n",
       "</div>"
      ],
      "text/plain": [
       "   측정나이 측정회원성별  신장 : cm  체중 : kg  체지방율 : %  이완기혈압(최저) : mmHg  \\\n",
       "0  59.0      M    175.0     70.6      19.2              91.0   \n",
       "1  40.0      F    161.4     45.8      21.7              62.0   \n",
       "2  27.0      M    176.6     84.8      19.2              87.0   \n",
       "3  38.0      M    167.6     76.7      24.7              63.0   \n",
       "4  21.0      M    165.2     66.2      21.5              83.0   \n",
       "\n",
       "   수축기혈압(최고) : mmHg  악력D : kg  앉아윗몸앞으로굽히기 : cm  교차윗몸일으키기 : 회  제자리 멀리뛰기 : cm 등급  \n",
       "0             150.0      40.6             12.2          30.0          179.0  C  \n",
       "1             119.0      22.1             16.0          32.0          165.0  B  \n",
       "2             153.0      45.9             13.2          61.0          216.0  B  \n",
       "3             132.0      43.6             16.0          45.0          231.0  A  \n",
       "4             106.0      33.5             10.6          46.0          198.0  C  "
      ]
     },
     "execution_count": 468,
     "metadata": {},
     "output_type": "execute_result"
    }
   ],
   "source": [
    "data = 'https://raw.githubusercontent.com/Datamanim/datarepo/main/body/body.csv'\n",
    "df = pd.read_csv(data)\n",
    "\n",
    "df.head()"
   ]
  },
  {
   "cell_type": "markdown",
   "id": "9d81dc51",
   "metadata": {},
   "source": [
    "# Question 79.\n",
    "- 전체 데이터의 `수축기혈압(최고) - 이완기혈압(최저)`의 평균을 구하여라."
   ]
  },
  {
   "cell_type": "code",
   "execution_count": 487,
   "id": "6b97f33e",
   "metadata": {},
   "outputs": [
    {
     "name": "stdout",
     "output_type": "stream",
     "text": [
      "52.19539414750672\n"
     ]
    }
   ],
   "source": [
    "# 1. 컬럼명들부터 확인\n",
    "# display(df.columns)\n",
    "\n",
    "# 2. 공백이 있어 컬럼명을 출력하기 어려우니 공백제거\n",
    "df.columns = df.columns.str.replace(r'\\s+', '', regex = True).str.strip()\n",
    "# display(df.columns)\n",
    "\n",
    "# 3. `수축기혈압(최고) - 이완기혈압(최저)`를 컬럼으로 생성한다.\n",
    "df['혈압차이'] = df['수축기혈압(최고):mmHg'] - df['이완기혈압(최저):mmHg']\n",
    "# display(df['혈압차이'])\n",
    "\n",
    "# 4. 평균을 계산하고 출력.\n",
    "Ans = df['혈압차이'].mean()\n",
    "print(Ans)"
   ]
  },
  {
   "cell_type": "markdown",
   "id": "975aa32d",
   "metadata": {},
   "source": [
    "# Question 80.\n",
    "- 50 ~ 59세의 평균신장을 구하여라."
   ]
  },
  {
   "cell_type": "code",
   "execution_count": 491,
   "id": "7b19969e",
   "metadata": {},
   "outputs": [
    {
     "name": "stdout",
     "output_type": "stream",
     "text": [
      "164.07490107405314\n"
     ]
    }
   ],
   "source": [
    "# 1. 50대에 속하는 데이터만 필터링\n",
    "target = df.loc[(df['측정나이'] >= 50) & (df['측정나이'] < 60)]\n",
    "# display(target['측정나이'].describe())\n",
    "\n",
    "# 2. 필터링한 target 데이터프레임의 평균신장을 출력.\n",
    "Ans = target['신장:cm'].mean()\n",
    "print(Ans)"
   ]
  },
  {
   "cell_type": "markdown",
   "id": "b31fc2a8",
   "metadata": {},
   "source": [
    "# Question 81.\n",
    "- 연령대 (20 ~ 29: 20대, 30 ~ 39: 30대, ...)인원수를 구하여라."
   ]
  },
  {
   "cell_type": "code",
   "execution_count": 502,
   "id": "b7ae4db9",
   "metadata": {},
   "outputs": [
    {
     "name": "stdout",
     "output_type": "stream",
     "text": [
      "21.0 64.0\n"
     ]
    },
    {
     "name": "stderr",
     "output_type": "stream",
     "text": [
      "C:\\Users\\ashle\\AppData\\Local\\Temp\\ipykernel_33672\\526798433.py:14: FutureWarning: The default of observed=False is deprecated and will be changed to True in a future version of pandas. Pass observed=False to retain current behavior or observed=True to adopt the future default and silence this warning.\n",
      "  Ans = df.groupby('연령대 그룹').size()\n"
     ]
    },
    {
     "data": {
      "text/plain": [
       "연령대 그룹\n",
       "20대    5831\n",
       "30대    2660\n",
       "40대    1801\n",
       "50대    1769\n",
       "60대    1335\n",
       "dtype: int64"
      ]
     },
     "metadata": {},
     "output_type": "display_data"
    }
   ],
   "source": [
    "# 1. 나이 구간 확인\n",
    "print(df['측정나이'].min(), df['측정나이'].max())\n",
    "\n",
    "# 2. pd.cut을 통해 연령대 컬럼을 생성.\n",
    "df['연령대 그룹'] = pd.cut(\n",
    "    df['측정나이'],\n",
    "    bins = [20, 30, 40, 50, 60, 70],\n",
    "    labels = ['20대', '30대', '40대', '50대', '60대'],\n",
    "    right = False\n",
    ")\n",
    "# display(df['연령대 그룹'])\n",
    "\n",
    "# 3. 그룹화 하여 집계\n",
    "Ans = df.groupby('연령대 그룹').size()\n",
    "display(Ans)"
   ]
  },
  {
   "cell_type": "markdown",
   "id": "830acf1d",
   "metadata": {},
   "source": [
    "# Question 82.\n",
    "- 연령대(20 ~ 29: 20대, 30 ~ 39: 30대, ...)별 등급의 빈도수를 데이터프레임으로 출력하라."
   ]
  },
  {
   "cell_type": "code",
   "execution_count": 510,
   "id": "d970d36d",
   "metadata": {},
   "outputs": [
    {
     "data": {
      "text/html": [
       "<div>\n",
       "<style scoped>\n",
       "    .dataframe tbody tr th:only-of-type {\n",
       "        vertical-align: middle;\n",
       "    }\n",
       "\n",
       "    .dataframe tbody tr th {\n",
       "        vertical-align: top;\n",
       "    }\n",
       "\n",
       "    .dataframe thead th {\n",
       "        text-align: right;\n",
       "    }\n",
       "</style>\n",
       "<table border=\"1\" class=\"dataframe\">\n",
       "  <thead>\n",
       "    <tr style=\"text-align: right;\">\n",
       "      <th></th>\n",
       "      <th>연령대 그룹</th>\n",
       "      <th>등급</th>\n",
       "      <th>빈도수</th>\n",
       "    </tr>\n",
       "  </thead>\n",
       "  <tbody>\n",
       "    <tr>\n",
       "      <th>0</th>\n",
       "      <td>20대</td>\n",
       "      <td>A</td>\n",
       "      <td>1585</td>\n",
       "    </tr>\n",
       "    <tr>\n",
       "      <th>1</th>\n",
       "      <td>20대</td>\n",
       "      <td>B</td>\n",
       "      <td>1443</td>\n",
       "    </tr>\n",
       "    <tr>\n",
       "      <th>2</th>\n",
       "      <td>20대</td>\n",
       "      <td>C</td>\n",
       "      <td>1455</td>\n",
       "    </tr>\n",
       "    <tr>\n",
       "      <th>3</th>\n",
       "      <td>20대</td>\n",
       "      <td>D</td>\n",
       "      <td>1348</td>\n",
       "    </tr>\n",
       "    <tr>\n",
       "      <th>4</th>\n",
       "      <td>30대</td>\n",
       "      <td>A</td>\n",
       "      <td>743</td>\n",
       "    </tr>\n",
       "    <tr>\n",
       "      <th>5</th>\n",
       "      <td>30대</td>\n",
       "      <td>B</td>\n",
       "      <td>697</td>\n",
       "    </tr>\n",
       "    <tr>\n",
       "      <th>6</th>\n",
       "      <td>30대</td>\n",
       "      <td>C</td>\n",
       "      <td>626</td>\n",
       "    </tr>\n",
       "    <tr>\n",
       "      <th>7</th>\n",
       "      <td>30대</td>\n",
       "      <td>D</td>\n",
       "      <td>594</td>\n",
       "    </tr>\n",
       "    <tr>\n",
       "      <th>8</th>\n",
       "      <td>40대</td>\n",
       "      <td>A</td>\n",
       "      <td>386</td>\n",
       "    </tr>\n",
       "    <tr>\n",
       "      <th>9</th>\n",
       "      <td>40대</td>\n",
       "      <td>B</td>\n",
       "      <td>428</td>\n",
       "    </tr>\n",
       "    <tr>\n",
       "      <th>10</th>\n",
       "      <td>40대</td>\n",
       "      <td>C</td>\n",
       "      <td>455</td>\n",
       "    </tr>\n",
       "    <tr>\n",
       "      <th>11</th>\n",
       "      <td>40대</td>\n",
       "      <td>D</td>\n",
       "      <td>532</td>\n",
       "    </tr>\n",
       "    <tr>\n",
       "      <th>12</th>\n",
       "      <td>50대</td>\n",
       "      <td>A</td>\n",
       "      <td>321</td>\n",
       "    </tr>\n",
       "    <tr>\n",
       "      <th>13</th>\n",
       "      <td>50대</td>\n",
       "      <td>B</td>\n",
       "      <td>410</td>\n",
       "    </tr>\n",
       "    <tr>\n",
       "      <th>14</th>\n",
       "      <td>50대</td>\n",
       "      <td>C</td>\n",
       "      <td>474</td>\n",
       "    </tr>\n",
       "    <tr>\n",
       "      <th>15</th>\n",
       "      <td>50대</td>\n",
       "      <td>D</td>\n",
       "      <td>564</td>\n",
       "    </tr>\n",
       "    <tr>\n",
       "      <th>16</th>\n",
       "      <td>60대</td>\n",
       "      <td>A</td>\n",
       "      <td>314</td>\n",
       "    </tr>\n",
       "    <tr>\n",
       "      <th>17</th>\n",
       "      <td>60대</td>\n",
       "      <td>B</td>\n",
       "      <td>371</td>\n",
       "    </tr>\n",
       "    <tr>\n",
       "      <th>18</th>\n",
       "      <td>60대</td>\n",
       "      <td>C</td>\n",
       "      <td>339</td>\n",
       "    </tr>\n",
       "    <tr>\n",
       "      <th>19</th>\n",
       "      <td>60대</td>\n",
       "      <td>D</td>\n",
       "      <td>311</td>\n",
       "    </tr>\n",
       "  </tbody>\n",
       "</table>\n",
       "</div>"
      ],
      "text/plain": [
       "   연령대 그룹 등급   빈도수\n",
       "0     20대  A  1585\n",
       "1     20대  B  1443\n",
       "2     20대  C  1455\n",
       "3     20대  D  1348\n",
       "4     30대  A   743\n",
       "5     30대  B   697\n",
       "6     30대  C   626\n",
       "7     30대  D   594\n",
       "8     40대  A   386\n",
       "9     40대  B   428\n",
       "10    40대  C   455\n",
       "11    40대  D   532\n",
       "12    50대  A   321\n",
       "13    50대  B   410\n",
       "14    50대  C   474\n",
       "15    50대  D   564\n",
       "16    60대  A   314\n",
       "17    60대  B   371\n",
       "18    60대  C   339\n",
       "19    60대  D   311"
      ]
     },
     "execution_count": 510,
     "metadata": {},
     "output_type": "execute_result"
    }
   ],
   "source": [
    "# 1. 연령대 컬럼생성\n",
    "df['연령대 그룹'] = pd.cut(\n",
    "    df['측정나이'],\n",
    "    bins = [20, 30, 40, 50, 60, 70],\n",
    "    labels = ['20대', '30대', '40대', '50대', '60대'],\n",
    "    right = False\n",
    ")\n",
    "\n",
    "# 2. `연령대-등급`별로 그룹화한 뒤 집계\n",
    "Ans = df.groupby(['연령대 그룹', '등급'], observed = False).size().reset_index(name = '빈도수')\n",
    "Ans"
   ]
  },
  {
   "cell_type": "markdown",
   "id": "6997bc08",
   "metadata": {},
   "source": [
    "# Question 83.\n",
    "- 남성 중 A 등급과 D 등급의 체지방률 평균의 차이(큰 값에서 작은 값의 차)를 구하여라."
   ]
  },
  {
   "cell_type": "code",
   "execution_count": 521,
   "id": "d36ed3f4",
   "metadata": {},
   "outputs": [
    {
     "name": "stdout",
     "output_type": "stream",
     "text": [
      "7.932086486137521\n"
     ]
    }
   ],
   "source": [
    "# 1. 측정회원성별 확인\n",
    "# df['측정회원성별'].unique()\n",
    "\n",
    "# 2. 남성이면서 A 등급과 D 등급만을 필터링\n",
    "target = df.loc[(df['측정회원성별'] == 'M') & (df['등급'].isin(['A', 'D']))]\n",
    "# target['등급'].unique()\n",
    "\n",
    "# 3. 각 체지방률 평균을 계산\n",
    "target_mean = target.groupby('등급')['체지방율:%'].mean().reset_index(name = '체지방율 평균')\n",
    "target_mean\n",
    "\n",
    "# 4. 더 큰 체지방율 평균에서 더 작은 체지방율 평균을 차감.\n",
    "Ans = target_mean['체지방율 평균'].iloc[1] - target_mean['체지방율 평균'].iloc[0]\n",
    "print(Ans)"
   ]
  },
  {
   "cell_type": "markdown",
   "id": "3de17ebd",
   "metadata": {},
   "source": [
    "# Question 84.\n",
    "- 여성 중 A 등급과 D 등급의 체중의 평균 차이(큰 값에서 작은 값의 차)를 구하여라."
   ]
  },
  {
   "cell_type": "code",
   "execution_count": 526,
   "id": "71aa9ab7",
   "metadata": {},
   "outputs": [
    {
     "name": "stdout",
     "output_type": "stream",
     "text": [
      "5.176211590296504\n"
     ]
    }
   ],
   "source": [
    "# 1. 여성이면서 A 등급과 D 등급인 데이터만 필터링\n",
    "target = df.loc[(df['측정회원성별'] == 'F') & (df['등급'].isin(['A', 'D']))]\n",
    "# display(target['등급'].unique())\n",
    "\n",
    "# 2. 이번에는 한 줄 코딩하고 절대값 사용.\n",
    "Ans = abs(target.loc[target['등급'] == 'A']['체중:kg'].mean() - target.loc[target['등급'] == 'D']['체중:kg'].mean())\n",
    "print(Ans)"
   ]
  },
  {
   "cell_type": "markdown",
   "id": "6472c1ab",
   "metadata": {},
   "source": [
    "# Question 85.\n",
    "- bmi는 자신의 몸무게(kg)를 키의 제곱(m)으로 나눈 값이다. 데이터의 bmi를 구현한 새로운 컬럼을 추가하고, 남성의 bmi 평균을 구하여라."
   ]
  },
  {
   "cell_type": "code",
   "execution_count": 530,
   "id": "d3b8ba6d",
   "metadata": {},
   "outputs": [
    {
     "name": "stdout",
     "output_type": "stream",
     "text": [
      "24.46134409819308\n"
     ]
    }
   ],
   "source": [
    "# 1. bmi 컬럼 생성.\n",
    "df['bmi'] = df['체중:kg'] / (((df['신장:cm']) / 100) ** 2)\n",
    "# display(df['bmi'])\n",
    "\n",
    "# 2. 남성의 평균 bmi를 한 줄 코딩\n",
    "Ans = df.loc[df['측정회원성별'] == 'M']['bmi'].mean()\n",
    "print(Ans)"
   ]
  },
  {
   "cell_type": "markdown",
   "id": "18c65530",
   "metadata": {},
   "source": [
    "# Question 86.\n",
    "- bmi보다 체지방율이 높은 사람들의 체중평균을 구하여라."
   ]
  },
  {
   "cell_type": "code",
   "execution_count": 532,
   "id": "439e6317",
   "metadata": {},
   "outputs": [
    {
     "name": "stdout",
     "output_type": "stream",
     "text": [
      "61.7408806392542\n"
     ]
    }
   ],
   "source": [
    "# 1. 앞서 생성한 bmi 컬럼을 활용하여 한 줄 코딩.\n",
    "Ans = df.loc[df['체지방율:%'] > df['bmi']]['체중:kg'].mean()\n",
    "print(Ans)"
   ]
  },
  {
   "cell_type": "markdown",
   "id": "6e6dd64c",
   "metadata": {},
   "source": [
    "# Question 87.\n",
    "- 남성과 여성의 악력 평균의 차이를 구하여라."
   ]
  },
  {
   "cell_type": "code",
   "execution_count": 534,
   "id": "33a1caca",
   "metadata": {},
   "outputs": [
    {
     "name": "stdout",
     "output_type": "stream",
     "text": [
      "17.55954185047464\n"
     ]
    }
   ],
   "source": [
    "# 1. 필요한 데이터를 필터링하고 평균 차이를 구하는 한 줄 코딩\n",
    "Ans = df.loc[df['측정회원성별'] == 'M']['악력D:kg'].mean() - df.loc[df['측정회원성별'] == 'F']['악력D:kg'].mean()\n",
    "print(Ans)"
   ]
  },
  {
   "cell_type": "markdown",
   "id": "51c57bbd",
   "metadata": {},
   "source": [
    "# Question 88.\n",
    "- 남성과 여성의 교차윗몸일으키기 횟수의 평균의 차이를 구하여라."
   ]
  },
  {
   "cell_type": "code",
   "execution_count": 535,
   "id": "125d809c",
   "metadata": {},
   "outputs": [
    {
     "name": "stdout",
     "output_type": "stream",
     "text": [
      "14.243156833157627\n"
     ]
    }
   ],
   "source": [
    "# 1. 필요한 데이터만 필터링하여 평균 차이를 구하는 한 줄 코딩\n",
    "Ans = df.loc[df['측정회원성별'] == 'M']['교차윗몸일으키기:회'].mean() - df.loc[df['측정회원성별'] == 'F']['교차윗몸일으키기:회'].mean()\n",
    "print(Ans)"
   ]
  }
 ],
 "metadata": {
  "kernelspec": {
   "display_name": "venv",
   "language": "python",
   "name": "python3"
  },
  "language_info": {
   "codemirror_mode": {
    "name": "ipython",
    "version": 3
   },
   "file_extension": ".py",
   "mimetype": "text/x-python",
   "name": "python",
   "nbconvert_exporter": "python",
   "pygments_lexer": "ipython3",
   "version": "3.12.10"
  }
 },
 "nbformat": 4,
 "nbformat_minor": 5
}
