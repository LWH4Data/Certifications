{
 "cells": [
  {
   "cell_type": "markdown",
   "id": "17dc4710",
   "metadata": {},
   "source": [
    "# 필요한 패키지 로드"
   ]
  },
  {
   "cell_type": "code",
   "execution_count": 1,
   "id": "5eb19fc9",
   "metadata": {},
   "outputs": [],
   "source": [
    "import pandas as pd"
   ]
  },
  {
   "cell_type": "markdown",
   "id": "bf15b709",
   "metadata": {},
   "source": [
    "# Question 1.\n",
    "- 데이터를 로드하라."
   ]
  },
  {
   "cell_type": "code",
   "execution_count": 10,
   "id": "dd3e42cf",
   "metadata": {},
   "outputs": [
    {
     "data": {
      "text/html": [
       "<div>\n",
       "<style scoped>\n",
       "    .dataframe tbody tr th:only-of-type {\n",
       "        vertical-align: middle;\n",
       "    }\n",
       "\n",
       "    .dataframe tbody tr th {\n",
       "        vertical-align: top;\n",
       "    }\n",
       "\n",
       "    .dataframe thead th {\n",
       "        text-align: right;\n",
       "    }\n",
       "</style>\n",
       "<table border=\"1\" class=\"dataframe\">\n",
       "  <thead>\n",
       "    <tr style=\"text-align: right;\">\n",
       "      <th></th>\n",
       "      <th>title</th>\n",
       "      <th>channelTitle</th>\n",
       "      <th>categoryId</th>\n",
       "      <th>view_count</th>\n",
       "      <th>likes</th>\n",
       "      <th>dislikes</th>\n",
       "      <th>comment_count</th>\n",
       "      <th>channelId</th>\n",
       "      <th>trending_date2</th>\n",
       "    </tr>\n",
       "  </thead>\n",
       "  <tbody>\n",
       "    <tr>\n",
       "      <th>0</th>\n",
       "      <td>[신병] 물자창고</td>\n",
       "      <td>장삐쭈</td>\n",
       "      <td>23</td>\n",
       "      <td>1893473</td>\n",
       "      <td>38249</td>\n",
       "      <td>730</td>\n",
       "      <td>8595</td>\n",
       "      <td>UChbE5OZQ6dRHECsX0tEPEZQ</td>\n",
       "      <td>2021-01-01</td>\n",
       "    </tr>\n",
       "    <tr>\n",
       "      <th>1</th>\n",
       "      <td>RAIN(비) - 나로 바꾸자 Switch to me (duet with JYP) MV</td>\n",
       "      <td>RAIN's Official Channel</td>\n",
       "      <td>10</td>\n",
       "      <td>2600864</td>\n",
       "      <td>0</td>\n",
       "      <td>0</td>\n",
       "      <td>20129</td>\n",
       "      <td>UCxXgIeE5hxWxHG6dz9Scg2w</td>\n",
       "      <td>2021-01-01</td>\n",
       "    </tr>\n",
       "    <tr>\n",
       "      <th>2</th>\n",
       "      <td>2020년 제야의 종 온라인 타종행사 | 보신각 현장 행사는 진행하지 않습니다.</td>\n",
       "      <td>서울시 · Seoul</td>\n",
       "      <td>29</td>\n",
       "      <td>347049</td>\n",
       "      <td>3564</td>\n",
       "      <td>120</td>\n",
       "      <td>178</td>\n",
       "      <td>UCZUPZW5idAxYp-Asj__lVAA</td>\n",
       "      <td>2021-01-01</td>\n",
       "    </tr>\n",
       "    <tr>\n",
       "      <th>3</th>\n",
       "      <td>고기남자의 칠면조 파티</td>\n",
       "      <td>고기남자 MeatMan</td>\n",
       "      <td>26</td>\n",
       "      <td>528458</td>\n",
       "      <td>15372</td>\n",
       "      <td>280</td>\n",
       "      <td>3470</td>\n",
       "      <td>UCT3CumbFIJiW33uq0UI3zlg</td>\n",
       "      <td>2021-01-01</td>\n",
       "    </tr>\n",
       "    <tr>\n",
       "      <th>4</th>\n",
       "      <td>골목 3mc를 분노하게 만든 마음고생이 심했을 공릉 백반집 사장님의 푸념?! [예능...</td>\n",
       "      <td>스브스밥집</td>\n",
       "      <td>24</td>\n",
       "      <td>494904</td>\n",
       "      <td>3918</td>\n",
       "      <td>111</td>\n",
       "      <td>3142</td>\n",
       "      <td>UCdWgRSfttvDucq4ApcCg5Mw</td>\n",
       "      <td>2021-01-01</td>\n",
       "    </tr>\n",
       "    <tr>\n",
       "      <th>5</th>\n",
       "      <td>(EN/CN/ID) 월드스타 한 분 더 모셨습니다. 비x박진영 &amp; 싸이, 비주얼 가...</td>\n",
       "      <td>시즌비시즌 Season B Season</td>\n",
       "      <td>24</td>\n",
       "      <td>1274464</td>\n",
       "      <td>26660</td>\n",
       "      <td>368</td>\n",
       "      <td>2701</td>\n",
       "      <td>UCZf4ZESHAIuRtZ-eoMSL97A</td>\n",
       "      <td>2021-01-01</td>\n",
       "    </tr>\n",
       "    <tr>\n",
       "      <th>6</th>\n",
       "      <td>[미스트롯2] 많은 참가자가 라이벌로 뽑은 명실상부 트롯 천재! 전유진이 부르는 '...</td>\n",
       "      <td>TV CHOSUN JOY</td>\n",
       "      <td>24</td>\n",
       "      <td>682608</td>\n",
       "      <td>7435</td>\n",
       "      <td>434</td>\n",
       "      <td>1943</td>\n",
       "      <td>UCYeeEwH_s9yD9HQe4e2JuBw</td>\n",
       "      <td>2021-01-01</td>\n",
       "    </tr>\n",
       "    <tr>\n",
       "      <th>7</th>\n",
       "      <td>[아이유의 팔레트] 팔레트에 '있지' (With ITZY) Ep.4</td>\n",
       "      <td>이지금 [IU Official]</td>\n",
       "      <td>24</td>\n",
       "      <td>2420537</td>\n",
       "      <td>200301</td>\n",
       "      <td>956</td>\n",
       "      <td>14641</td>\n",
       "      <td>UC3SyT4_WLHzN7JmHQwKQZww</td>\n",
       "      <td>2021-01-01</td>\n",
       "    </tr>\n",
       "    <tr>\n",
       "      <th>8</th>\n",
       "      <td>답답한 집콕.. 2020년은 예능으로 존버(존중하며 버팀)했다 MBC 연예대상 하이...</td>\n",
       "      <td>14F 일사에프</td>\n",
       "      <td>26</td>\n",
       "      <td>1001581</td>\n",
       "      <td>9462</td>\n",
       "      <td>337</td>\n",
       "      <td>1684</td>\n",
       "      <td>UCLKuglhGlMmDteQKoniENIQ</td>\n",
       "      <td>2021-01-01</td>\n",
       "    </tr>\n",
       "    <tr>\n",
       "      <th>9</th>\n",
       "      <td>나 숙취 있어! 알딸딸해! 필름 끊겼어를 영어로 어떻게 할까요?</td>\n",
       "      <td>Sarah Kim</td>\n",
       "      <td>27</td>\n",
       "      <td>1358098</td>\n",
       "      <td>8224</td>\n",
       "      <td>820</td>\n",
       "      <td>1406</td>\n",
       "      <td>UCMXFwld5hCpMc2-49cndljA</td>\n",
       "      <td>2021-01-01</td>\n",
       "    </tr>\n",
       "  </tbody>\n",
       "</table>\n",
       "</div>"
      ],
      "text/plain": [
       "                                               title             channelTitle  \\\n",
       "0                                          [신병] 물자창고                      장삐쭈   \n",
       "1   RAIN(비) - 나로 바꾸자 Switch to me (duet with JYP) MV  RAIN's Official Channel   \n",
       "2       2020년 제야의 종 온라인 타종행사 | 보신각 현장 행사는 진행하지 않습니다.              서울시 · Seoul   \n",
       "3                                       고기남자의 칠면조 파티             고기남자 MeatMan   \n",
       "4  골목 3mc를 분노하게 만든 마음고생이 심했을 공릉 백반집 사장님의 푸념?! [예능...                    스브스밥집   \n",
       "5  (EN/CN/ID) 월드스타 한 분 더 모셨습니다. 비x박진영 & 싸이, 비주얼 가...    시즌비시즌 Season B Season   \n",
       "6  [미스트롯2] 많은 참가자가 라이벌로 뽑은 명실상부 트롯 천재! 전유진이 부르는 '...            TV CHOSUN JOY   \n",
       "7              [아이유의 팔레트] 팔레트에 '있지' (With ITZY) Ep.4        이지금 [IU Official]   \n",
       "8  답답한 집콕.. 2020년은 예능으로 존버(존중하며 버팀)했다 MBC 연예대상 하이...                 14F 일사에프   \n",
       "9                나 숙취 있어! 알딸딸해! 필름 끊겼어를 영어로 어떻게 할까요?                Sarah Kim   \n",
       "\n",
       "   categoryId  view_count   likes  dislikes  comment_count  \\\n",
       "0          23     1893473   38249       730           8595   \n",
       "1          10     2600864       0         0          20129   \n",
       "2          29      347049    3564       120            178   \n",
       "3          26      528458   15372       280           3470   \n",
       "4          24      494904    3918       111           3142   \n",
       "5          24     1274464   26660       368           2701   \n",
       "6          24      682608    7435       434           1943   \n",
       "7          24     2420537  200301       956          14641   \n",
       "8          26     1001581    9462       337           1684   \n",
       "9          27     1358098    8224       820           1406   \n",
       "\n",
       "                  channelId trending_date2  \n",
       "0  UChbE5OZQ6dRHECsX0tEPEZQ     2021-01-01  \n",
       "1  UCxXgIeE5hxWxHG6dz9Scg2w     2021-01-01  \n",
       "2  UCZUPZW5idAxYp-Asj__lVAA     2021-01-01  \n",
       "3  UCT3CumbFIJiW33uq0UI3zlg     2021-01-01  \n",
       "4  UCdWgRSfttvDucq4ApcCg5Mw     2021-01-01  \n",
       "5  UCZf4ZESHAIuRtZ-eoMSL97A     2021-01-01  \n",
       "6  UCYeeEwH_s9yD9HQe4e2JuBw     2021-01-01  \n",
       "7  UC3SyT4_WLHzN7JmHQwKQZww     2021-01-01  \n",
       "8  UCLKuglhGlMmDteQKoniENIQ     2021-01-01  \n",
       "9  UCMXFwld5hCpMc2-49cndljA     2021-01-01  "
      ]
     },
     "metadata": {},
     "output_type": "display_data"
    },
    {
     "name": "stdout",
     "output_type": "stream",
     "text": [
      "<class 'pandas.core.frame.DataFrame'>\n",
      "Index: 60399 entries, 0 to 60398\n",
      "Data columns (total 9 columns):\n",
      " #   Column          Non-Null Count  Dtype \n",
      "---  ------          --------------  ----- \n",
      " 0   title           60399 non-null  object\n",
      " 1   channelTitle    60399 non-null  object\n",
      " 2   categoryId      60399 non-null  int64 \n",
      " 3   view_count      60399 non-null  int64 \n",
      " 4   likes           60399 non-null  int64 \n",
      " 5   dislikes        60399 non-null  int64 \n",
      " 6   comment_count   60399 non-null  int64 \n",
      " 7   channelId       60399 non-null  object\n",
      " 8   trending_date2  60399 non-null  object\n",
      "dtypes: int64(5), object(4)\n",
      "memory usage: 4.6+ MB\n"
     ]
    },
    {
     "data": {
      "text/plain": [
       "None"
      ]
     },
     "metadata": {},
     "output_type": "display_data"
    }
   ],
   "source": [
    "data = 'https://raw.githubusercontent.com/Datamanim/datarepo/main/youtube/youtube.csv'\n",
    "df = pd.read_csv(data, index_col = 0)\n",
    "display(df.head(10))\n",
    "display(df.info())"
   ]
  },
  {
   "cell_type": "markdown",
   "id": "0cd3fe04",
   "metadata": {},
   "source": [
    "# Question 2.\n",
    "- 인기동영상 제작횟수가 많은 채널 상위 10개명을 출력하라."
   ]
  },
  {
   "cell_type": "code",
   "execution_count": null,
   "id": "6a1c4e9e",
   "metadata": {},
   "outputs": [
    {
     "data": {
      "text/plain": [
       "['UCszFjh7CEfwDb7UUGb4RzCQ',\n",
       " 'UCtm_QoN2SIxwCE-59shX7Qg',\n",
       " 'UClzB2iZ5jPoTNz0S-QU6Wiw',\n",
       " 'UCaKod3X1Tn4c7Ci0iUKcvzQ',\n",
       " 'UCiwQRG2sCcfjKkgxMEdJGPg',\n",
       " 'UChbE5OZQ6dRHECsX0tEPEZQ',\n",
       " 'UCLkAepWjdylmXSltofFvsYQ',\n",
       " 'UCQ2O-iftmnlfrBuNsUUTofQ',\n",
       " 'UCtfriFvIe5gIe8wRWb8UTMg',\n",
       " 'UCRuSxVu4iqTK5kCh90ntAgA']"
      ]
     },
     "execution_count": 14,
     "metadata": {},
     "output_type": "execute_result"
    }
   ],
   "source": [
    "# 1. channelId를 기준으로 빈도수를 계산, 상위 10개의 channelId를 가져온다. (후에 채널명에 매핑하기 위해).\n",
    "#   - value_counts() 함수는 내림차순 정렬을 해주기에 바로 head()를 통해 상위 10개를 추출할 수 있다.\n",
    "#   - index: value_counts() 함수를 사용하면 'index = channelId', 'value = 빈도수' 가 되기에 상위 10개의 Id를 가져오기위해 사용한다.\n",
    "#   - tolist(): index를 사용하면 index 자료형으로 결과가 출력되기에 list type으로 변환한다.s\n",
    "top10_channel_ids = df['channelId'].value_counts().head(10).index.tolist()\n",
    "top10_channel_ids"
   ]
  },
  {
   "cell_type": "code",
   "execution_count": 20,
   "id": "d780afe6",
   "metadata": {},
   "outputs": [
    {
     "data": {
      "text/plain": [
       "channelId\n",
       "UChbE5OZQ6dRHECsX0tEPEZQ                        장삐쭈\n",
       "UCxXgIeE5hxWxHG6dz9Scg2w    RAIN's Official Channel\n",
       "UCZUPZW5idAxYp-Asj__lVAA                서울시 · Seoul\n",
       "UCT3CumbFIJiW33uq0UI3zlg               고기남자 MeatMan\n",
       "UCdWgRSfttvDucq4ApcCg5Mw                      스브스밥집\n",
       "                                     ...           \n",
       "UCsiuN8Jco3LbbuTyGuqRgKg                        멸치형\n",
       "UCRnEWJKVc5FpC-9Z3CBt2ZQ            키키TV, 전지적 예능 시점\n",
       "UCkMN06eC97XL1qR1bExdwWg                      기용이tv\n",
       "UCp9G3sWsE42Qo9jgnB1ta2Q         INSSAOPPA G [인싸오빠]\n",
       "UCRCK5FCJtomQT3b88jXI_DA                한국닌텐도 공식 채널\n",
       "Name: channelTitle, Length: 1770, dtype: object"
      ]
     },
     "execution_count": 20,
     "metadata": {},
     "output_type": "execute_result"
    }
   ],
   "source": [
    "# 2. channelID에 channelTitle을 매핑\n",
    "#   -> channelId에서 중복되는 범주를 제거한다.\n",
    "#   -> set_index('channelId')\n",
    "#       - channelId를 새로운 index로 하여 데이터프레임을 반환한다.\n",
    "#       - * 주의 *: set_index() 함수는 기존 데이터프레임을 변환하는 것이 아니라 변환된 데이터프레임을 return 한다.\n",
    "#   -> ['channelTitle']\n",
    "#       - channelId가 index가 된 새로운 데이터프레임에서 channelTitle 컬럼만을 필터링한다.\n",
    "#   -> 결과적으로 channelId와 channelTitle 두 컬럼을 갖는 데이터프레임 `id_to_title` 객체를 초기화한다.\n",
    "id_to_title = df.drop_duplicates('channelId').set_index('channelId')['channelTitle']\n",
    "id_to_title"
   ]
  },
  {
   "cell_type": "code",
   "execution_count": 21,
   "id": "b1fa0c76",
   "metadata": {},
   "outputs": [
    {
     "data": {
      "text/plain": [
       "['짤툰',\n",
       " 'SPOTV',\n",
       " '파뿌리',\n",
       " '런닝맨 - 스브스 공식 채널',\n",
       " '엠뚜루마뚜루 : MBC 공식 종합 채널',\n",
       " '장삐쭈',\n",
       " 'BANGTANTV',\n",
       " '채널 십오야',\n",
       " '이과장',\n",
       " '총몇명']"
      ]
     },
     "execution_count": 21,
     "metadata": {},
     "output_type": "execute_result"
    }
   ],
   "source": [
    "# 3. id_to_title 이전에 추출한 상위 10 개의 목록인 top10_channel_ids의 각 요소를 순회하며 매칭되는 값을 결과로 받는다.\n",
    "Ans = [id_to_title[ch_id] for ch_id in top10_channel_ids]\n",
    "Ans"
   ]
  }
 ],
 "metadata": {
  "kernelspec": {
   "display_name": "venv",
   "language": "python",
   "name": "python3"
  },
  "language_info": {
   "codemirror_mode": {
    "name": "ipython",
    "version": 3
   },
   "file_extension": ".py",
   "mimetype": "text/x-python",
   "name": "python",
   "nbconvert_exporter": "python",
   "pygments_lexer": "ipython3",
   "version": "3.12.10"
  }
 },
 "nbformat": 4,
 "nbformat_minor": 5
}
