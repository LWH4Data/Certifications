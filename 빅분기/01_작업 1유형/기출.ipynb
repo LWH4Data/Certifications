{
 "cells": [
  {
   "cell_type": "markdown",
   "id": "6c13fb1d",
   "metadata": {},
   "source": [
    "# 기출 8회 1-3\n",
    "- CO(GT)과 NMHC(GT) 두 컬럼을 min-max normalize를 진행하고 각 컬럼의 모표준편차의 차이의 절댓값을 소숫점 이하 3째 자리까지 구하여라"
   ]
  },
  {
   "cell_type": "code",
   "execution_count": 9,
   "id": "a66846c3",
   "metadata": {},
   "outputs": [
    {
     "name": "stdout",
     "output_type": "stream",
     "text": [
      "0.2658259738758806\n"
     ]
    }
   ],
   "source": [
    "import pandas as pd\n",
    "\n",
    "df = pd.read_csv('https://raw.githubusercontent.com/Datamanim/datarepo/main/krdatacertificate/e8_p1_3.csv')\n",
    "df.head()\n",
    "\n",
    "# min-max normalize 함수 작성\n",
    "def min_max_normalize(series):\n",
    "    return (series - series.min()) / (series.max() - series.min())\n",
    "\n",
    "# df에서 해당하는 컬럼의 min_max_normalize 컬럼을 생성하여 새로운 데이터프레임 생성\n",
    "norm_df = df[['CO(GT)', 'NMHC(GT)']].apply(lambda x: min_max_normalize(x))\n",
    "norm_df\n",
    "\n",
    "# norm_df의 두 컬럼의 모표준편차 계산\n",
    "std_co = norm_df['CO(GT)'].std(ddof = 0)\n",
    "std_nm = norm_df['NMHC(GT)'].std(ddof = 0)\n",
    "\n",
    "# 두 모표준편차의 절대값의 차이를 출력\n",
    "Ans = abs(std_co - std_nm)\n",
    "print(Ans)"
   ]
  },
  {
   "cell_type": "markdown",
   "id": "f6c1ed08",
   "metadata": {},
   "source": [
    "# 기출 7회 1-1\n",
    "- 국어,수학,영어,과학 과목 중 가장 많은 학생들이 응시한 시험을 선택하고 해당과목의 점수를 표준화 했을 때 가장 큰 표준화 점수를 구하여라"
   ]
  },
  {
   "cell_type": "code",
   "execution_count": 36,
   "id": "87917124",
   "metadata": {},
   "outputs": [
    {
     "name": "stdout",
     "output_type": "stream",
     "text": [
      "1.713855688712825\n"
     ]
    }
   ],
   "source": [
    "import pandas as pd\n",
    "\n",
    "df = pd.read_csv('https://raw.githubusercontent.com/Datamanim/datarepo/main/krdatacertificate/e7_p1.csv')\n",
    "# df.head()\n",
    "\n",
    "# 가장 많은 학생이 응시한 과목 찾기\n",
    "# df.info()\n",
    "# 답: 국어\n",
    "\n",
    "# 표준화\n",
    "df['국어(표준화)'] = (df['국어'] - df['국어'].mean()) / df['국어'].std(ddof = 0)\n",
    "\n",
    "# `국어(표준화)`를 기준으로 내림차순 정렬 후 첫 번째 행을 반환\n",
    "temp = df.sort_values('국어(표준화)', ascending = False)['국어(표준화)'].reset_index(drop = True)[0]\n",
    "print(temp)"
   ]
  }
 ],
 "metadata": {
  "kernelspec": {
   "display_name": "venv",
   "language": "python",
   "name": "python3"
  },
  "language_info": {
   "codemirror_mode": {
    "name": "ipython",
    "version": 3
   },
   "file_extension": ".py",
   "mimetype": "text/x-python",
   "name": "python",
   "nbconvert_exporter": "python",
   "pygments_lexer": "ipython3",
   "version": "3.12.10"
  }
 },
 "nbformat": 4,
 "nbformat_minor": 5
}
